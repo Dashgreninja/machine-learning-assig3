{
  "cells": [
    {
      "cell_type": "code",
      "execution_count": 71,
      "metadata": {
        "id": "_5tk_aMWCFd1"
      },
      "outputs": [],
      "source": [
        "#Importing the libraries for the garphs\n",
        "import numpy as np # linear algebra\n",
        "import pandas as pd # data processing, CSV file I/O (e.g. pd.read_csv)\n",
        "import math\n",
        "import matplotlib.pyplot as plt\n",
        "import plotly.express as px\n",
        "import seaborn as sns\n",
        "import plotly.graph_objects as go\n",
        "\n",
        "#importing the libraries for datapeprocessing\n",
        "from sklearn.preprocessing import LabelEncoder,StandardScaler\n",
        "\n",
        "#importing the libraries for splitting the data\n",
        "from sklearn.model_selection import train_test_split\n",
        "\n",
        "#Libraries for model building\n",
        "from sklearn import linear_model\n",
        "from lightgbm import LGBMRegressor\n",
        "\n",
        "#import the libraries for checking the metrics\n",
        "from sklearn.metrics import r2_score,mean_squared_error"
      ]
    },
    {
      "cell_type": "markdown",
      "metadata": {
        "id": "6km8Xx-ICFd2"
      },
      "source": [
        "reading the input files"
      ]
    },
    {
      "cell_type": "code",
      "execution_count": 4,
      "metadata": {
        "_cell_guid": "79c7e3d0-c299-4dcb-8224-4455121ee9b0",
        "_uuid": "d629ff2d2480ee46fbb7e2d37f6b5fab8052498a",
        "id": "iX-uwC8gCFd3"
      },
      "outputs": [],
      "source": [
        "df_train = pd.read_csv(\"airbnb_listing_train.csv.zip\")\n",
        "df_validate = pd.read_csv(\"airbnb_listing_validate.csv\")"
      ]
    },
    {
      "cell_type": "markdown",
      "metadata": {
        "id": "MfoZALQLCFd3"
      },
      "source": [
        "Explanatory Data Analysis ...Knowing about the data"
      ]
    },
    {
      "cell_type": "code",
      "execution_count": 5,
      "metadata": {
        "id": "UMoTAX7ICFd3"
      },
      "outputs": [],
      "source": [
        "def aboutdf (df):\n",
        "    count_null = df.isnull().sum()\n",
        "    df_stats = pd.DataFrame(index = df.columns, data =\n",
        "                           {'datatype': df.dtypes,\n",
        "                            'unique_values': df.nunique(),\n",
        "                            'have_null?': df.isnull().any(),\n",
        "                            'Number of null values' : count_null,\n",
        "                            'percentage of null values' : count_null/df.shape[0]*100 })\n",
        "    return df_stats\n"
      ]
    },
    {
      "cell_type": "code",
      "execution_count": 6,
      "metadata": {
        "colab": {
          "base_uri": "https://localhost:8080/",
          "height": 595
        },
        "id": "9_ayT740CFd3",
        "outputId": "d7c9f482-2e08-46ed-a818-53566f9cd6e7"
      },
      "outputs": [
        {
          "output_type": "execute_result",
          "data": {
            "text/plain": [
              "                               datatype  unique_values  have_null?  \\\n",
              "id                                int64          12901       False   \n",
              "name                             object          12653        True   \n",
              "host_id                           int64          11601       False   \n",
              "host_name                        object           4536        True   \n",
              "neighbourhood_group             float64              0        True   \n",
              "neighbourhood                    object             22       False   \n",
              "latitude                        float64           5227       False   \n",
              "longitude                       float64           7887       False   \n",
              "room_type                        object              4       False   \n",
              "minimum_nights                    int64             56       False   \n",
              "number_of_reviews                 int64            362       False   \n",
              "last_review                      object           1495        True   \n",
              "reviews_per_month               float64            610        True   \n",
              "calculated_host_listings_count    int64             26       False   \n",
              "availability_365                  int64            366       False   \n",
              "price                             int64            400       False   \n",
              "\n",
              "                                Number of null values  \\\n",
              "id                                                  0   \n",
              "name                                               22   \n",
              "host_id                                             0   \n",
              "host_name                                           8   \n",
              "neighbourhood_group                             12901   \n",
              "neighbourhood                                       0   \n",
              "latitude                                            0   \n",
              "longitude                                           0   \n",
              "room_type                                           0   \n",
              "minimum_nights                                      0   \n",
              "number_of_reviews                                   0   \n",
              "last_review                                      1596   \n",
              "reviews_per_month                                1596   \n",
              "calculated_host_listings_count                      0   \n",
              "availability_365                                    0   \n",
              "price                                               0   \n",
              "\n",
              "                                percentage of null values  \n",
              "id                                               0.000000  \n",
              "name                                             0.170529  \n",
              "host_id                                          0.000000  \n",
              "host_name                                        0.062011  \n",
              "neighbourhood_group                            100.000000  \n",
              "neighbourhood                                    0.000000  \n",
              "latitude                                         0.000000  \n",
              "longitude                                        0.000000  \n",
              "room_type                                        0.000000  \n",
              "minimum_nights                                   0.000000  \n",
              "number_of_reviews                                0.000000  \n",
              "last_review                                     12.371134  \n",
              "reviews_per_month                               12.371134  \n",
              "calculated_host_listings_count                   0.000000  \n",
              "availability_365                                 0.000000  \n",
              "price                                            0.000000  "
            ],
            "text/html": [
              "\n",
              "\n",
              "  <div id=\"df-c0b997f6-8b0b-4901-b616-7dd38ef7c86b\">\n",
              "    <div class=\"colab-df-container\">\n",
              "      <div>\n",
              "<style scoped>\n",
              "    .dataframe tbody tr th:only-of-type {\n",
              "        vertical-align: middle;\n",
              "    }\n",
              "\n",
              "    .dataframe tbody tr th {\n",
              "        vertical-align: top;\n",
              "    }\n",
              "\n",
              "    .dataframe thead th {\n",
              "        text-align: right;\n",
              "    }\n",
              "</style>\n",
              "<table border=\"1\" class=\"dataframe\">\n",
              "  <thead>\n",
              "    <tr style=\"text-align: right;\">\n",
              "      <th></th>\n",
              "      <th>datatype</th>\n",
              "      <th>unique_values</th>\n",
              "      <th>have_null?</th>\n",
              "      <th>Number of null values</th>\n",
              "      <th>percentage of null values</th>\n",
              "    </tr>\n",
              "  </thead>\n",
              "  <tbody>\n",
              "    <tr>\n",
              "      <th>id</th>\n",
              "      <td>int64</td>\n",
              "      <td>12901</td>\n",
              "      <td>False</td>\n",
              "      <td>0</td>\n",
              "      <td>0.000000</td>\n",
              "    </tr>\n",
              "    <tr>\n",
              "      <th>name</th>\n",
              "      <td>object</td>\n",
              "      <td>12653</td>\n",
              "      <td>True</td>\n",
              "      <td>22</td>\n",
              "      <td>0.170529</td>\n",
              "    </tr>\n",
              "    <tr>\n",
              "      <th>host_id</th>\n",
              "      <td>int64</td>\n",
              "      <td>11601</td>\n",
              "      <td>False</td>\n",
              "      <td>0</td>\n",
              "      <td>0.000000</td>\n",
              "    </tr>\n",
              "    <tr>\n",
              "      <th>host_name</th>\n",
              "      <td>object</td>\n",
              "      <td>4536</td>\n",
              "      <td>True</td>\n",
              "      <td>8</td>\n",
              "      <td>0.062011</td>\n",
              "    </tr>\n",
              "    <tr>\n",
              "      <th>neighbourhood_group</th>\n",
              "      <td>float64</td>\n",
              "      <td>0</td>\n",
              "      <td>True</td>\n",
              "      <td>12901</td>\n",
              "      <td>100.000000</td>\n",
              "    </tr>\n",
              "    <tr>\n",
              "      <th>neighbourhood</th>\n",
              "      <td>object</td>\n",
              "      <td>22</td>\n",
              "      <td>False</td>\n",
              "      <td>0</td>\n",
              "      <td>0.000000</td>\n",
              "    </tr>\n",
              "    <tr>\n",
              "      <th>latitude</th>\n",
              "      <td>float64</td>\n",
              "      <td>5227</td>\n",
              "      <td>False</td>\n",
              "      <td>0</td>\n",
              "      <td>0.000000</td>\n",
              "    </tr>\n",
              "    <tr>\n",
              "      <th>longitude</th>\n",
              "      <td>float64</td>\n",
              "      <td>7887</td>\n",
              "      <td>False</td>\n",
              "      <td>0</td>\n",
              "      <td>0.000000</td>\n",
              "    </tr>\n",
              "    <tr>\n",
              "      <th>room_type</th>\n",
              "      <td>object</td>\n",
              "      <td>4</td>\n",
              "      <td>False</td>\n",
              "      <td>0</td>\n",
              "      <td>0.000000</td>\n",
              "    </tr>\n",
              "    <tr>\n",
              "      <th>minimum_nights</th>\n",
              "      <td>int64</td>\n",
              "      <td>56</td>\n",
              "      <td>False</td>\n",
              "      <td>0</td>\n",
              "      <td>0.000000</td>\n",
              "    </tr>\n",
              "    <tr>\n",
              "      <th>number_of_reviews</th>\n",
              "      <td>int64</td>\n",
              "      <td>362</td>\n",
              "      <td>False</td>\n",
              "      <td>0</td>\n",
              "      <td>0.000000</td>\n",
              "    </tr>\n",
              "    <tr>\n",
              "      <th>last_review</th>\n",
              "      <td>object</td>\n",
              "      <td>1495</td>\n",
              "      <td>True</td>\n",
              "      <td>1596</td>\n",
              "      <td>12.371134</td>\n",
              "    </tr>\n",
              "    <tr>\n",
              "      <th>reviews_per_month</th>\n",
              "      <td>float64</td>\n",
              "      <td>610</td>\n",
              "      <td>True</td>\n",
              "      <td>1596</td>\n",
              "      <td>12.371134</td>\n",
              "    </tr>\n",
              "    <tr>\n",
              "      <th>calculated_host_listings_count</th>\n",
              "      <td>int64</td>\n",
              "      <td>26</td>\n",
              "      <td>False</td>\n",
              "      <td>0</td>\n",
              "      <td>0.000000</td>\n",
              "    </tr>\n",
              "    <tr>\n",
              "      <th>availability_365</th>\n",
              "      <td>int64</td>\n",
              "      <td>366</td>\n",
              "      <td>False</td>\n",
              "      <td>0</td>\n",
              "      <td>0.000000</td>\n",
              "    </tr>\n",
              "    <tr>\n",
              "      <th>price</th>\n",
              "      <td>int64</td>\n",
              "      <td>400</td>\n",
              "      <td>False</td>\n",
              "      <td>0</td>\n",
              "      <td>0.000000</td>\n",
              "    </tr>\n",
              "  </tbody>\n",
              "</table>\n",
              "</div>\n",
              "      <button class=\"colab-df-convert\" onclick=\"convertToInteractive('df-c0b997f6-8b0b-4901-b616-7dd38ef7c86b')\"\n",
              "              title=\"Convert this dataframe to an interactive table.\"\n",
              "              style=\"display:none;\">\n",
              "\n",
              "  <svg xmlns=\"http://www.w3.org/2000/svg\" height=\"24px\"viewBox=\"0 0 24 24\"\n",
              "       width=\"24px\">\n",
              "    <path d=\"M0 0h24v24H0V0z\" fill=\"none\"/>\n",
              "    <path d=\"M18.56 5.44l.94 2.06.94-2.06 2.06-.94-2.06-.94-.94-2.06-.94 2.06-2.06.94zm-11 1L8.5 8.5l.94-2.06 2.06-.94-2.06-.94L8.5 2.5l-.94 2.06-2.06.94zm10 10l.94 2.06.94-2.06 2.06-.94-2.06-.94-.94-2.06-.94 2.06-2.06.94z\"/><path d=\"M17.41 7.96l-1.37-1.37c-.4-.4-.92-.59-1.43-.59-.52 0-1.04.2-1.43.59L10.3 9.45l-7.72 7.72c-.78.78-.78 2.05 0 2.83L4 21.41c.39.39.9.59 1.41.59.51 0 1.02-.2 1.41-.59l7.78-7.78 2.81-2.81c.8-.78.8-2.07 0-2.86zM5.41 20L4 18.59l7.72-7.72 1.47 1.35L5.41 20z\"/>\n",
              "  </svg>\n",
              "      </button>\n",
              "\n",
              "\n",
              "\n",
              "    <div id=\"df-d806ecfd-3372-40a8-8f2e-2c65773ab5b3\">\n",
              "      <button class=\"colab-df-quickchart\" onclick=\"quickchart('df-d806ecfd-3372-40a8-8f2e-2c65773ab5b3')\"\n",
              "              title=\"Suggest charts.\"\n",
              "              style=\"display:none;\">\n",
              "\n",
              "<svg xmlns=\"http://www.w3.org/2000/svg\" height=\"24px\"viewBox=\"0 0 24 24\"\n",
              "     width=\"24px\">\n",
              "    <g>\n",
              "        <path d=\"M19 3H5c-1.1 0-2 .9-2 2v14c0 1.1.9 2 2 2h14c1.1 0 2-.9 2-2V5c0-1.1-.9-2-2-2zM9 17H7v-7h2v7zm4 0h-2V7h2v10zm4 0h-2v-4h2v4z\"/>\n",
              "    </g>\n",
              "</svg>\n",
              "      </button>\n",
              "    </div>\n",
              "\n",
              "<style>\n",
              "  .colab-df-quickchart {\n",
              "    background-color: #E8F0FE;\n",
              "    border: none;\n",
              "    border-radius: 50%;\n",
              "    cursor: pointer;\n",
              "    display: none;\n",
              "    fill: #1967D2;\n",
              "    height: 32px;\n",
              "    padding: 0 0 0 0;\n",
              "    width: 32px;\n",
              "  }\n",
              "\n",
              "  .colab-df-quickchart:hover {\n",
              "    background-color: #E2EBFA;\n",
              "    box-shadow: 0px 1px 2px rgba(60, 64, 67, 0.3), 0px 1px 3px 1px rgba(60, 64, 67, 0.15);\n",
              "    fill: #174EA6;\n",
              "  }\n",
              "\n",
              "  [theme=dark] .colab-df-quickchart {\n",
              "    background-color: #3B4455;\n",
              "    fill: #D2E3FC;\n",
              "  }\n",
              "\n",
              "  [theme=dark] .colab-df-quickchart:hover {\n",
              "    background-color: #434B5C;\n",
              "    box-shadow: 0px 1px 3px 1px rgba(0, 0, 0, 0.15);\n",
              "    filter: drop-shadow(0px 1px 2px rgba(0, 0, 0, 0.3));\n",
              "    fill: #FFFFFF;\n",
              "  }\n",
              "</style>\n",
              "\n",
              "    <script>\n",
              "      async function quickchart(key) {\n",
              "        const containerElement = document.querySelector('#' + key);\n",
              "        const charts = await google.colab.kernel.invokeFunction(\n",
              "            'suggestCharts', [key], {});\n",
              "      }\n",
              "    </script>\n",
              "\n",
              "\n",
              "      <script>\n",
              "\n",
              "function displayQuickchartButton(domScope) {\n",
              "  let quickchartButtonEl =\n",
              "    domScope.querySelector('#df-d806ecfd-3372-40a8-8f2e-2c65773ab5b3 button.colab-df-quickchart');\n",
              "  quickchartButtonEl.style.display =\n",
              "    google.colab.kernel.accessAllowed ? 'block' : 'none';\n",
              "}\n",
              "\n",
              "        displayQuickchartButton(document);\n",
              "      </script>\n",
              "      <style>\n",
              "    .colab-df-container {\n",
              "      display:flex;\n",
              "      flex-wrap:wrap;\n",
              "      gap: 12px;\n",
              "    }\n",
              "\n",
              "    .colab-df-convert {\n",
              "      background-color: #E8F0FE;\n",
              "      border: none;\n",
              "      border-radius: 50%;\n",
              "      cursor: pointer;\n",
              "      display: none;\n",
              "      fill: #1967D2;\n",
              "      height: 32px;\n",
              "      padding: 0 0 0 0;\n",
              "      width: 32px;\n",
              "    }\n",
              "\n",
              "    .colab-df-convert:hover {\n",
              "      background-color: #E2EBFA;\n",
              "      box-shadow: 0px 1px 2px rgba(60, 64, 67, 0.3), 0px 1px 3px 1px rgba(60, 64, 67, 0.15);\n",
              "      fill: #174EA6;\n",
              "    }\n",
              "\n",
              "    [theme=dark] .colab-df-convert {\n",
              "      background-color: #3B4455;\n",
              "      fill: #D2E3FC;\n",
              "    }\n",
              "\n",
              "    [theme=dark] .colab-df-convert:hover {\n",
              "      background-color: #434B5C;\n",
              "      box-shadow: 0px 1px 3px 1px rgba(0, 0, 0, 0.15);\n",
              "      filter: drop-shadow(0px 1px 2px rgba(0, 0, 0, 0.3));\n",
              "      fill: #FFFFFF;\n",
              "    }\n",
              "  </style>\n",
              "\n",
              "      <script>\n",
              "        const buttonEl =\n",
              "          document.querySelector('#df-c0b997f6-8b0b-4901-b616-7dd38ef7c86b button.colab-df-convert');\n",
              "        buttonEl.style.display =\n",
              "          google.colab.kernel.accessAllowed ? 'block' : 'none';\n",
              "\n",
              "        async function convertToInteractive(key) {\n",
              "          const element = document.querySelector('#df-c0b997f6-8b0b-4901-b616-7dd38ef7c86b');\n",
              "          const dataTable =\n",
              "            await google.colab.kernel.invokeFunction('convertToInteractive',\n",
              "                                                     [key], {});\n",
              "          if (!dataTable) return;\n",
              "\n",
              "          const docLinkHtml = 'Like what you see? Visit the ' +\n",
              "            '<a target=\"_blank\" href=https://colab.research.google.com/notebooks/data_table.ipynb>data table notebook</a>'\n",
              "            + ' to learn more about interactive tables.';\n",
              "          element.innerHTML = '';\n",
              "          dataTable['output_type'] = 'display_data';\n",
              "          await google.colab.output.renderOutput(dataTable, element);\n",
              "          const docLink = document.createElement('div');\n",
              "          docLink.innerHTML = docLinkHtml;\n",
              "          element.appendChild(docLink);\n",
              "        }\n",
              "      </script>\n",
              "    </div>\n",
              "  </div>\n"
            ]
          },
          "metadata": {},
          "execution_count": 6
        }
      ],
      "source": [
        "aboutdf(df_train)"
      ]
    },
    {
      "cell_type": "markdown",
      "metadata": {
        "id": "no0LSyJNCFd3"
      },
      "source": [
        "Dropping the neighbourhood_group column as it has 100 percent null values"
      ]
    },
    {
      "cell_type": "code",
      "execution_count": 7,
      "metadata": {
        "id": "_r4VJJMLCFd4"
      },
      "outputs": [],
      "source": [
        "df_train=df_train.drop(columns='neighbourhood_group',axis=1)"
      ]
    },
    {
      "cell_type": "code",
      "execution_count": 8,
      "metadata": {
        "colab": {
          "base_uri": "https://localhost:8080/"
        },
        "id": "Y3fOkN9uCFd4",
        "outputId": "b6377604-a7c5-48c4-febd-2f6c19e80f8f"
      },
      "outputs": [
        {
          "output_type": "execute_result",
          "data": {
            "text/plain": [
              "0                      Luxury home 100m2+garden in center!\n",
              "1                              East is where your home is!\n",
              "2          Amsterdam Central - LUXURY house in BUSY STREET\n",
              "3                               great appartment down town\n",
              "4            Private room with canal view in peaceful area\n",
              "                               ...                        \n",
              "12896    Quiet stylish private room 15 mins to city  ce...\n",
              "12897    Beautiful, spacious apt. with great views @ IJ...\n",
              "12898                  Great apartment de Pijp/Albert Cuyp\n",
              "12899             Stylish apartment in an amazing location\n",
              "12900                     Amsterdam Apartments First Floor\n",
              "Name: name, Length: 12879, dtype: object"
            ]
          },
          "metadata": {},
          "execution_count": 8
        }
      ],
      "source": [
        "bool_series = pd.notnull(df_train[\"name\"])\n",
        "df_train[bool_series].name\n"
      ]
    },
    {
      "cell_type": "code",
      "execution_count": 9,
      "metadata": {
        "colab": {
          "base_uri": "https://localhost:8080/"
        },
        "id": "YvdPbdhUCFd4",
        "outputId": "2e750c65-b609-4aa1-c9d2-3ab55dd1b244"
      },
      "outputs": [
        {
          "output_type": "execute_result",
          "data": {
            "text/plain": [
              "count         12879\n",
              "unique        12653\n",
              "top       Amsterdam\n",
              "freq             28\n",
              "Name: name, dtype: object"
            ]
          },
          "metadata": {},
          "execution_count": 9
        }
      ],
      "source": [
        "df_train.name.describe()"
      ]
    },
    {
      "cell_type": "markdown",
      "metadata": {
        "id": "dof8LkJJCFd4"
      },
      "source": [
        "There are 12653 unique airbnb apartments/rooms"
      ]
    },
    {
      "cell_type": "code",
      "execution_count": 10,
      "metadata": {
        "colab": {
          "base_uri": "https://localhost:8080/",
          "height": 424
        },
        "id": "-WV3n9YzCFd4",
        "outputId": "50e02ad1-9938-41a8-835e-d6340b64e731"
      },
      "outputs": [
        {
          "output_type": "execute_result",
          "data": {
            "text/plain": [
              "                                                 name  count\n",
              "0                                           Amsterdam     28\n",
              "1                  Spacious apartment near Vondelpark      6\n",
              "2                       Lovely apartment in Amsterdam      5\n",
              "3                     Spacious apartment in Amsterdam      5\n",
              "4      Cosy apartment in the city centre of Amsterdam      4\n",
              "..                                                ...    ...\n",
              "95                                    Home sweet home      2\n",
              "96    Spacious private room in the heart of Amsterdam      2\n",
              "97                      Light appartment in Amsterdam      2\n",
              "98  NEW! Temporary housing in the centre of Amsterdam      2\n",
              "99                    Room in the centre of Amsterdam      2\n",
              "\n",
              "[100 rows x 2 columns]"
            ],
            "text/html": [
              "\n",
              "\n",
              "  <div id=\"df-3b624f13-7ee6-461e-836c-b8db4db9d14c\">\n",
              "    <div class=\"colab-df-container\">\n",
              "      <div>\n",
              "<style scoped>\n",
              "    .dataframe tbody tr th:only-of-type {\n",
              "        vertical-align: middle;\n",
              "    }\n",
              "\n",
              "    .dataframe tbody tr th {\n",
              "        vertical-align: top;\n",
              "    }\n",
              "\n",
              "    .dataframe thead th {\n",
              "        text-align: right;\n",
              "    }\n",
              "</style>\n",
              "<table border=\"1\" class=\"dataframe\">\n",
              "  <thead>\n",
              "    <tr style=\"text-align: right;\">\n",
              "      <th></th>\n",
              "      <th>name</th>\n",
              "      <th>count</th>\n",
              "    </tr>\n",
              "  </thead>\n",
              "  <tbody>\n",
              "    <tr>\n",
              "      <th>0</th>\n",
              "      <td>Amsterdam</td>\n",
              "      <td>28</td>\n",
              "    </tr>\n",
              "    <tr>\n",
              "      <th>1</th>\n",
              "      <td>Spacious apartment near Vondelpark</td>\n",
              "      <td>6</td>\n",
              "    </tr>\n",
              "    <tr>\n",
              "      <th>2</th>\n",
              "      <td>Lovely apartment in Amsterdam</td>\n",
              "      <td>5</td>\n",
              "    </tr>\n",
              "    <tr>\n",
              "      <th>3</th>\n",
              "      <td>Spacious apartment in Amsterdam</td>\n",
              "      <td>5</td>\n",
              "    </tr>\n",
              "    <tr>\n",
              "      <th>4</th>\n",
              "      <td>Cosy apartment in the city centre of Amsterdam</td>\n",
              "      <td>4</td>\n",
              "    </tr>\n",
              "    <tr>\n",
              "      <th>...</th>\n",
              "      <td>...</td>\n",
              "      <td>...</td>\n",
              "    </tr>\n",
              "    <tr>\n",
              "      <th>95</th>\n",
              "      <td>Home sweet home</td>\n",
              "      <td>2</td>\n",
              "    </tr>\n",
              "    <tr>\n",
              "      <th>96</th>\n",
              "      <td>Spacious private room in the heart of Amsterdam</td>\n",
              "      <td>2</td>\n",
              "    </tr>\n",
              "    <tr>\n",
              "      <th>97</th>\n",
              "      <td>Light appartment in Amsterdam</td>\n",
              "      <td>2</td>\n",
              "    </tr>\n",
              "    <tr>\n",
              "      <th>98</th>\n",
              "      <td>NEW! Temporary housing in the centre of Amsterdam</td>\n",
              "      <td>2</td>\n",
              "    </tr>\n",
              "    <tr>\n",
              "      <th>99</th>\n",
              "      <td>Room in the centre of Amsterdam</td>\n",
              "      <td>2</td>\n",
              "    </tr>\n",
              "  </tbody>\n",
              "</table>\n",
              "<p>100 rows × 2 columns</p>\n",
              "</div>\n",
              "      <button class=\"colab-df-convert\" onclick=\"convertToInteractive('df-3b624f13-7ee6-461e-836c-b8db4db9d14c')\"\n",
              "              title=\"Convert this dataframe to an interactive table.\"\n",
              "              style=\"display:none;\">\n",
              "\n",
              "  <svg xmlns=\"http://www.w3.org/2000/svg\" height=\"24px\"viewBox=\"0 0 24 24\"\n",
              "       width=\"24px\">\n",
              "    <path d=\"M0 0h24v24H0V0z\" fill=\"none\"/>\n",
              "    <path d=\"M18.56 5.44l.94 2.06.94-2.06 2.06-.94-2.06-.94-.94-2.06-.94 2.06-2.06.94zm-11 1L8.5 8.5l.94-2.06 2.06-.94-2.06-.94L8.5 2.5l-.94 2.06-2.06.94zm10 10l.94 2.06.94-2.06 2.06-.94-2.06-.94-.94-2.06-.94 2.06-2.06.94z\"/><path d=\"M17.41 7.96l-1.37-1.37c-.4-.4-.92-.59-1.43-.59-.52 0-1.04.2-1.43.59L10.3 9.45l-7.72 7.72c-.78.78-.78 2.05 0 2.83L4 21.41c.39.39.9.59 1.41.59.51 0 1.02-.2 1.41-.59l7.78-7.78 2.81-2.81c.8-.78.8-2.07 0-2.86zM5.41 20L4 18.59l7.72-7.72 1.47 1.35L5.41 20z\"/>\n",
              "  </svg>\n",
              "      </button>\n",
              "\n",
              "\n",
              "\n",
              "    <div id=\"df-61040a8b-8660-4995-9741-44f17637723f\">\n",
              "      <button class=\"colab-df-quickchart\" onclick=\"quickchart('df-61040a8b-8660-4995-9741-44f17637723f')\"\n",
              "              title=\"Suggest charts.\"\n",
              "              style=\"display:none;\">\n",
              "\n",
              "<svg xmlns=\"http://www.w3.org/2000/svg\" height=\"24px\"viewBox=\"0 0 24 24\"\n",
              "     width=\"24px\">\n",
              "    <g>\n",
              "        <path d=\"M19 3H5c-1.1 0-2 .9-2 2v14c0 1.1.9 2 2 2h14c1.1 0 2-.9 2-2V5c0-1.1-.9-2-2-2zM9 17H7v-7h2v7zm4 0h-2V7h2v10zm4 0h-2v-4h2v4z\"/>\n",
              "    </g>\n",
              "</svg>\n",
              "      </button>\n",
              "    </div>\n",
              "\n",
              "<style>\n",
              "  .colab-df-quickchart {\n",
              "    background-color: #E8F0FE;\n",
              "    border: none;\n",
              "    border-radius: 50%;\n",
              "    cursor: pointer;\n",
              "    display: none;\n",
              "    fill: #1967D2;\n",
              "    height: 32px;\n",
              "    padding: 0 0 0 0;\n",
              "    width: 32px;\n",
              "  }\n",
              "\n",
              "  .colab-df-quickchart:hover {\n",
              "    background-color: #E2EBFA;\n",
              "    box-shadow: 0px 1px 2px rgba(60, 64, 67, 0.3), 0px 1px 3px 1px rgba(60, 64, 67, 0.15);\n",
              "    fill: #174EA6;\n",
              "  }\n",
              "\n",
              "  [theme=dark] .colab-df-quickchart {\n",
              "    background-color: #3B4455;\n",
              "    fill: #D2E3FC;\n",
              "  }\n",
              "\n",
              "  [theme=dark] .colab-df-quickchart:hover {\n",
              "    background-color: #434B5C;\n",
              "    box-shadow: 0px 1px 3px 1px rgba(0, 0, 0, 0.15);\n",
              "    filter: drop-shadow(0px 1px 2px rgba(0, 0, 0, 0.3));\n",
              "    fill: #FFFFFF;\n",
              "  }\n",
              "</style>\n",
              "\n",
              "    <script>\n",
              "      async function quickchart(key) {\n",
              "        const containerElement = document.querySelector('#' + key);\n",
              "        const charts = await google.colab.kernel.invokeFunction(\n",
              "            'suggestCharts', [key], {});\n",
              "      }\n",
              "    </script>\n",
              "\n",
              "\n",
              "      <script>\n",
              "\n",
              "function displayQuickchartButton(domScope) {\n",
              "  let quickchartButtonEl =\n",
              "    domScope.querySelector('#df-61040a8b-8660-4995-9741-44f17637723f button.colab-df-quickchart');\n",
              "  quickchartButtonEl.style.display =\n",
              "    google.colab.kernel.accessAllowed ? 'block' : 'none';\n",
              "}\n",
              "\n",
              "        displayQuickchartButton(document);\n",
              "      </script>\n",
              "      <style>\n",
              "    .colab-df-container {\n",
              "      display:flex;\n",
              "      flex-wrap:wrap;\n",
              "      gap: 12px;\n",
              "    }\n",
              "\n",
              "    .colab-df-convert {\n",
              "      background-color: #E8F0FE;\n",
              "      border: none;\n",
              "      border-radius: 50%;\n",
              "      cursor: pointer;\n",
              "      display: none;\n",
              "      fill: #1967D2;\n",
              "      height: 32px;\n",
              "      padding: 0 0 0 0;\n",
              "      width: 32px;\n",
              "    }\n",
              "\n",
              "    .colab-df-convert:hover {\n",
              "      background-color: #E2EBFA;\n",
              "      box-shadow: 0px 1px 2px rgba(60, 64, 67, 0.3), 0px 1px 3px 1px rgba(60, 64, 67, 0.15);\n",
              "      fill: #174EA6;\n",
              "    }\n",
              "\n",
              "    [theme=dark] .colab-df-convert {\n",
              "      background-color: #3B4455;\n",
              "      fill: #D2E3FC;\n",
              "    }\n",
              "\n",
              "    [theme=dark] .colab-df-convert:hover {\n",
              "      background-color: #434B5C;\n",
              "      box-shadow: 0px 1px 3px 1px rgba(0, 0, 0, 0.15);\n",
              "      filter: drop-shadow(0px 1px 2px rgba(0, 0, 0, 0.3));\n",
              "      fill: #FFFFFF;\n",
              "    }\n",
              "  </style>\n",
              "\n",
              "      <script>\n",
              "        const buttonEl =\n",
              "          document.querySelector('#df-3b624f13-7ee6-461e-836c-b8db4db9d14c button.colab-df-convert');\n",
              "        buttonEl.style.display =\n",
              "          google.colab.kernel.accessAllowed ? 'block' : 'none';\n",
              "\n",
              "        async function convertToInteractive(key) {\n",
              "          const element = document.querySelector('#df-3b624f13-7ee6-461e-836c-b8db4db9d14c');\n",
              "          const dataTable =\n",
              "            await google.colab.kernel.invokeFunction('convertToInteractive',\n",
              "                                                     [key], {});\n",
              "          if (!dataTable) return;\n",
              "\n",
              "          const docLinkHtml = 'Like what you see? Visit the ' +\n",
              "            '<a target=\"_blank\" href=https://colab.research.google.com/notebooks/data_table.ipynb>data table notebook</a>'\n",
              "            + ' to learn more about interactive tables.';\n",
              "          element.innerHTML = '';\n",
              "          dataTable['output_type'] = 'display_data';\n",
              "          await google.colab.output.renderOutput(dataTable, element);\n",
              "          const docLink = document.createElement('div');\n",
              "          docLink.innerHTML = docLinkHtml;\n",
              "          element.appendChild(docLink);\n",
              "        }\n",
              "      </script>\n",
              "    </div>\n",
              "  </div>\n"
            ]
          },
          "metadata": {},
          "execution_count": 10
        }
      ],
      "source": [
        "df_train[bool_series].groupby(['name']).size().sort_values(ascending=False).reset_index(name='count').head(100)"
      ]
    },
    {
      "cell_type": "code",
      "execution_count": 11,
      "metadata": {
        "colab": {
          "base_uri": "https://localhost:8080/",
          "height": 537
        },
        "id": "z3oKGRiICFd4",
        "outputId": "dc3095bd-58b4-4fcb-86ed-1c6edf308613"
      },
      "outputs": [
        {
          "output_type": "display_data",
          "data": {
            "text/html": [
              "<html>\n",
              "<head><meta charset=\"utf-8\" /></head>\n",
              "<body>\n",
              "    <div>            <script src=\"https://cdnjs.cloudflare.com/ajax/libs/mathjax/2.7.5/MathJax.js?config=TeX-AMS-MML_SVG\"></script><script type=\"text/javascript\">if (window.MathJax && window.MathJax.Hub && window.MathJax.Hub.Config) {window.MathJax.Hub.Config({SVG: {font: \"STIX-Web\"}});}</script>                <script type=\"text/javascript\">window.PlotlyConfig = {MathJaxConfig: 'local'};</script>\n",
              "        <script charset=\"utf-8\" src=\"https://cdn.plot.ly/plotly-2.24.1.min.js\"></script>                <div id=\"8dc17a22-bb74-470c-8f4c-c2df34d93012\" class=\"plotly-graph-div\" style=\"height:500px; width:1400px;\"></div>            <script type=\"text/javascript\">                                    window.PLOTLYENV=window.PLOTLYENV || {};                                    if (document.getElementById(\"8dc17a22-bb74-470c-8f4c-c2df34d93012\")) {                    Plotly.newPlot(                        \"8dc17a22-bb74-470c-8f4c-c2df34d93012\",                        [{\"alignmentgroup\":\"True\",\"hovertemplate\":\"count=%{x}\\u003cbr\\u003ename=%{y}\\u003cextra\\u003e\\u003c\\u002fextra\\u003e\",\"legendgroup\":\"\",\"marker\":{\"color\":\"#636efa\",\"pattern\":{\"shape\":\"\"}},\"name\":\"\",\"offsetgroup\":\"\",\"orientation\":\"h\",\"showlegend\":false,\"textposition\":\"auto\",\"x\":[28,6,5,5,4,4,4,4,4,4,4,4,4,4,3,3,3,3,3,3,3,3,3,3,3,3,3,3,3,3,3,3,3,3,2,2,2,2,2,2,2,2,2,2,2,2,2,2,2,2,2,2,2,2,2,2,2,2,2,2,2,2,2,2,2,2,2,2,2,2,2,2,2,2,2,2,2,2,2,2,2,2,2,2,2,2,2,2,2,2,2,2,2,2,2,2,2,2,2,2],\"xaxis\":\"x\",\"y\":[\"Amsterdam\",\"Spacious apartment near Vondelpark\",\"Lovely apartment in Amsterdam\",\"Spacious apartment in Amsterdam\",\"Cosy apartment in the city centre of Amsterdam\",\"Cosy apartment near city center\",\"Amsterdam Appartement\",\"Canal View Apartment\",\"Quality stay in an AUTHENTIC FARMHOUSE near Amstel\",\"Spacious apartment with garden\",\"Beautiful apartment in Amsterdam\",\"Lovely apartment near Vondelpark\",\"Hotel in the heart of Amsterdam 2p\",\"Cosy apartment near Vondelpark\",\"Beautiful apartment near Vondelpark\",\"Sunny apartment in Amsterdam West\",\"Lovely apartment in Amsterdam West\",\"Cozy apartment\",\"Family house with garden\",\"Room in Amsterdam\",\"Spacious appartment with garden\",\"Apartment in Amsterdam\",\"Apartment next to Vondelpark\",\"Cityden Museum Square, One bedroom apartment\",\"Cozy apartment in Amsterdam West\",\"Beautiful apartment in city centre\",\"Friends & Couples Getaway in \\u2665 of Old Town\",\"Cozy room in Amsterdam\",\"Spacious family house with garden\",\"Lovely Apartment near Vondelpark\",\"Spacious apartment in city centre\",\"Cosy appartment in Amsterdam\",\"Cosy apartment in Amsterdam West\",\"Cosy apartment in Amsterdam\",\"Lovely apartment near Amstel river\",\"Luxurious Amsterdam apartment\",\"Private room in the city center\",\"Museum District Studio 1\",\"Houseboat in Amsterdam\",\"Cozy apartment located next to the city centre\",\"Nice apartment with roof terrace\",\"Lovely apartment near city centre\",\"Apartment in Amsterdam east\",\"Room in cosy apt\",\"Apartment in Amsterdam Westerpark\",\"Cozy apartment with canal view\",\"Museum District studio 2\",\"Spacious Apartment in Amsterdam\",\"Spacious Apartment close to the Vondelpark\",\"Room in De Pijp\",\"Beautiful Apartment Amsterdam\",\"Unique city centre apartment\",\"Stylish and sunny apartment\",\"2 Bedroom Apartment with Balcony in Center - New\",\"Bright & beautiful appartment close to everything\",\"Bright & Sunny Apartment in Central A'dam (Pijp)\",\"Stylish apartment with canal view!\",\"Great apartment in Amsterdam\",\"Amsterdam Apartment\",\"Lovely bright apartment in popular West area\",\"Spacious apartment near centre\",\"Spacious apartment near city centre\",\"Light and cosy apartment\",\"Brand new renovated apartment city centre\",\"Apartment close to Vondelpark\",\"Cozy apartment in the heart of Amsterdam\",\"Nice appartment in Amsterdam\",\"BEAUTIFUL Roof Terrace apartment!!!\",\"Beautiful house with roofterrace\",\"Spacious apartment with canal view\",\"Apartment in central Amsterdam\",\"Nice apartment near city centre\",\"Spacious light apartment\",\"Neat room in Old-West\",\"Emperor's studio\",\"Little Dutch\",\"Comfortable room in Amsterdam\",\"Artis Zoo Studio\",\"Caesars studio\",\"New apartment in Amsterdam\",\"Cozy Studio Amsterdam\",\"Weesper Studio 1\",\"Cozy Room close to the City Centre\",\"A home away from home\",\"Lovely apartment (2 pers) in Amsterdam East!\",\"Luxurious private suite City center of Amsterdam\",\"Ground floor apartment with garden\",\"Luxury Canal Apartment\",\"Spacious family home with garden\",\"Appartment in Amsterdam\",\"AMAZING Stylish bedroom on waterfront\",\"Luxurious two bedroom apartment\",\"Appartement in Amsterdam\",\"Canal view apartment\",\"Spacious familyhouse + sunny garden\",\"Home sweet home\",\"Spacious private room in the heart of Amsterdam\",\"Light appartment in Amsterdam\",\"NEW! Temporary housing in the centre of Amsterdam\",\"Room in the centre of Amsterdam\"],\"yaxis\":\"y\",\"type\":\"bar\"}],                        {\"template\":{\"data\":{\"histogram2dcontour\":[{\"type\":\"histogram2dcontour\",\"colorbar\":{\"outlinewidth\":0,\"ticks\":\"\"},\"colorscale\":[[0.0,\"#0d0887\"],[0.1111111111111111,\"#46039f\"],[0.2222222222222222,\"#7201a8\"],[0.3333333333333333,\"#9c179e\"],[0.4444444444444444,\"#bd3786\"],[0.5555555555555556,\"#d8576b\"],[0.6666666666666666,\"#ed7953\"],[0.7777777777777778,\"#fb9f3a\"],[0.8888888888888888,\"#fdca26\"],[1.0,\"#f0f921\"]]}],\"choropleth\":[{\"type\":\"choropleth\",\"colorbar\":{\"outlinewidth\":0,\"ticks\":\"\"}}],\"histogram2d\":[{\"type\":\"histogram2d\",\"colorbar\":{\"outlinewidth\":0,\"ticks\":\"\"},\"colorscale\":[[0.0,\"#0d0887\"],[0.1111111111111111,\"#46039f\"],[0.2222222222222222,\"#7201a8\"],[0.3333333333333333,\"#9c179e\"],[0.4444444444444444,\"#bd3786\"],[0.5555555555555556,\"#d8576b\"],[0.6666666666666666,\"#ed7953\"],[0.7777777777777778,\"#fb9f3a\"],[0.8888888888888888,\"#fdca26\"],[1.0,\"#f0f921\"]]}],\"heatmap\":[{\"type\":\"heatmap\",\"colorbar\":{\"outlinewidth\":0,\"ticks\":\"\"},\"colorscale\":[[0.0,\"#0d0887\"],[0.1111111111111111,\"#46039f\"],[0.2222222222222222,\"#7201a8\"],[0.3333333333333333,\"#9c179e\"],[0.4444444444444444,\"#bd3786\"],[0.5555555555555556,\"#d8576b\"],[0.6666666666666666,\"#ed7953\"],[0.7777777777777778,\"#fb9f3a\"],[0.8888888888888888,\"#fdca26\"],[1.0,\"#f0f921\"]]}],\"heatmapgl\":[{\"type\":\"heatmapgl\",\"colorbar\":{\"outlinewidth\":0,\"ticks\":\"\"},\"colorscale\":[[0.0,\"#0d0887\"],[0.1111111111111111,\"#46039f\"],[0.2222222222222222,\"#7201a8\"],[0.3333333333333333,\"#9c179e\"],[0.4444444444444444,\"#bd3786\"],[0.5555555555555556,\"#d8576b\"],[0.6666666666666666,\"#ed7953\"],[0.7777777777777778,\"#fb9f3a\"],[0.8888888888888888,\"#fdca26\"],[1.0,\"#f0f921\"]]}],\"contourcarpet\":[{\"type\":\"contourcarpet\",\"colorbar\":{\"outlinewidth\":0,\"ticks\":\"\"}}],\"contour\":[{\"type\":\"contour\",\"colorbar\":{\"outlinewidth\":0,\"ticks\":\"\"},\"colorscale\":[[0.0,\"#0d0887\"],[0.1111111111111111,\"#46039f\"],[0.2222222222222222,\"#7201a8\"],[0.3333333333333333,\"#9c179e\"],[0.4444444444444444,\"#bd3786\"],[0.5555555555555556,\"#d8576b\"],[0.6666666666666666,\"#ed7953\"],[0.7777777777777778,\"#fb9f3a\"],[0.8888888888888888,\"#fdca26\"],[1.0,\"#f0f921\"]]}],\"surface\":[{\"type\":\"surface\",\"colorbar\":{\"outlinewidth\":0,\"ticks\":\"\"},\"colorscale\":[[0.0,\"#0d0887\"],[0.1111111111111111,\"#46039f\"],[0.2222222222222222,\"#7201a8\"],[0.3333333333333333,\"#9c179e\"],[0.4444444444444444,\"#bd3786\"],[0.5555555555555556,\"#d8576b\"],[0.6666666666666666,\"#ed7953\"],[0.7777777777777778,\"#fb9f3a\"],[0.8888888888888888,\"#fdca26\"],[1.0,\"#f0f921\"]]}],\"mesh3d\":[{\"type\":\"mesh3d\",\"colorbar\":{\"outlinewidth\":0,\"ticks\":\"\"}}],\"scatter\":[{\"fillpattern\":{\"fillmode\":\"overlay\",\"size\":10,\"solidity\":0.2},\"type\":\"scatter\"}],\"parcoords\":[{\"type\":\"parcoords\",\"line\":{\"colorbar\":{\"outlinewidth\":0,\"ticks\":\"\"}}}],\"scatterpolargl\":[{\"type\":\"scatterpolargl\",\"marker\":{\"colorbar\":{\"outlinewidth\":0,\"ticks\":\"\"}}}],\"bar\":[{\"error_x\":{\"color\":\"#2a3f5f\"},\"error_y\":{\"color\":\"#2a3f5f\"},\"marker\":{\"line\":{\"color\":\"#E5ECF6\",\"width\":0.5},\"pattern\":{\"fillmode\":\"overlay\",\"size\":10,\"solidity\":0.2}},\"type\":\"bar\"}],\"scattergeo\":[{\"type\":\"scattergeo\",\"marker\":{\"colorbar\":{\"outlinewidth\":0,\"ticks\":\"\"}}}],\"scatterpolar\":[{\"type\":\"scatterpolar\",\"marker\":{\"colorbar\":{\"outlinewidth\":0,\"ticks\":\"\"}}}],\"histogram\":[{\"marker\":{\"pattern\":{\"fillmode\":\"overlay\",\"size\":10,\"solidity\":0.2}},\"type\":\"histogram\"}],\"scattergl\":[{\"type\":\"scattergl\",\"marker\":{\"colorbar\":{\"outlinewidth\":0,\"ticks\":\"\"}}}],\"scatter3d\":[{\"type\":\"scatter3d\",\"line\":{\"colorbar\":{\"outlinewidth\":0,\"ticks\":\"\"}},\"marker\":{\"colorbar\":{\"outlinewidth\":0,\"ticks\":\"\"}}}],\"scattermapbox\":[{\"type\":\"scattermapbox\",\"marker\":{\"colorbar\":{\"outlinewidth\":0,\"ticks\":\"\"}}}],\"scatterternary\":[{\"type\":\"scatterternary\",\"marker\":{\"colorbar\":{\"outlinewidth\":0,\"ticks\":\"\"}}}],\"scattercarpet\":[{\"type\":\"scattercarpet\",\"marker\":{\"colorbar\":{\"outlinewidth\":0,\"ticks\":\"\"}}}],\"carpet\":[{\"aaxis\":{\"endlinecolor\":\"#2a3f5f\",\"gridcolor\":\"white\",\"linecolor\":\"white\",\"minorgridcolor\":\"white\",\"startlinecolor\":\"#2a3f5f\"},\"baxis\":{\"endlinecolor\":\"#2a3f5f\",\"gridcolor\":\"white\",\"linecolor\":\"white\",\"minorgridcolor\":\"white\",\"startlinecolor\":\"#2a3f5f\"},\"type\":\"carpet\"}],\"table\":[{\"cells\":{\"fill\":{\"color\":\"#EBF0F8\"},\"line\":{\"color\":\"white\"}},\"header\":{\"fill\":{\"color\":\"#C8D4E3\"},\"line\":{\"color\":\"white\"}},\"type\":\"table\"}],\"barpolar\":[{\"marker\":{\"line\":{\"color\":\"#E5ECF6\",\"width\":0.5},\"pattern\":{\"fillmode\":\"overlay\",\"size\":10,\"solidity\":0.2}},\"type\":\"barpolar\"}],\"pie\":[{\"automargin\":true,\"type\":\"pie\"}]},\"layout\":{\"autotypenumbers\":\"strict\",\"colorway\":[\"#636efa\",\"#EF553B\",\"#00cc96\",\"#ab63fa\",\"#FFA15A\",\"#19d3f3\",\"#FF6692\",\"#B6E880\",\"#FF97FF\",\"#FECB52\"],\"font\":{\"color\":\"#2a3f5f\"},\"hovermode\":\"closest\",\"hoverlabel\":{\"align\":\"left\"},\"paper_bgcolor\":\"white\",\"plot_bgcolor\":\"#E5ECF6\",\"polar\":{\"bgcolor\":\"#E5ECF6\",\"angularaxis\":{\"gridcolor\":\"white\",\"linecolor\":\"white\",\"ticks\":\"\"},\"radialaxis\":{\"gridcolor\":\"white\",\"linecolor\":\"white\",\"ticks\":\"\"}},\"ternary\":{\"bgcolor\":\"#E5ECF6\",\"aaxis\":{\"gridcolor\":\"white\",\"linecolor\":\"white\",\"ticks\":\"\"},\"baxis\":{\"gridcolor\":\"white\",\"linecolor\":\"white\",\"ticks\":\"\"},\"caxis\":{\"gridcolor\":\"white\",\"linecolor\":\"white\",\"ticks\":\"\"}},\"coloraxis\":{\"colorbar\":{\"outlinewidth\":0,\"ticks\":\"\"}},\"colorscale\":{\"sequential\":[[0.0,\"#0d0887\"],[0.1111111111111111,\"#46039f\"],[0.2222222222222222,\"#7201a8\"],[0.3333333333333333,\"#9c179e\"],[0.4444444444444444,\"#bd3786\"],[0.5555555555555556,\"#d8576b\"],[0.6666666666666666,\"#ed7953\"],[0.7777777777777778,\"#fb9f3a\"],[0.8888888888888888,\"#fdca26\"],[1.0,\"#f0f921\"]],\"sequentialminus\":[[0.0,\"#0d0887\"],[0.1111111111111111,\"#46039f\"],[0.2222222222222222,\"#7201a8\"],[0.3333333333333333,\"#9c179e\"],[0.4444444444444444,\"#bd3786\"],[0.5555555555555556,\"#d8576b\"],[0.6666666666666666,\"#ed7953\"],[0.7777777777777778,\"#fb9f3a\"],[0.8888888888888888,\"#fdca26\"],[1.0,\"#f0f921\"]],\"diverging\":[[0,\"#8e0152\"],[0.1,\"#c51b7d\"],[0.2,\"#de77ae\"],[0.3,\"#f1b6da\"],[0.4,\"#fde0ef\"],[0.5,\"#f7f7f7\"],[0.6,\"#e6f5d0\"],[0.7,\"#b8e186\"],[0.8,\"#7fbc41\"],[0.9,\"#4d9221\"],[1,\"#276419\"]]},\"xaxis\":{\"gridcolor\":\"white\",\"linecolor\":\"white\",\"ticks\":\"\",\"title\":{\"standoff\":15},\"zerolinecolor\":\"white\",\"automargin\":true,\"zerolinewidth\":2},\"yaxis\":{\"gridcolor\":\"white\",\"linecolor\":\"white\",\"ticks\":\"\",\"title\":{\"standoff\":15},\"zerolinecolor\":\"white\",\"automargin\":true,\"zerolinewidth\":2},\"scene\":{\"xaxis\":{\"backgroundcolor\":\"#E5ECF6\",\"gridcolor\":\"white\",\"linecolor\":\"white\",\"showbackground\":true,\"ticks\":\"\",\"zerolinecolor\":\"white\",\"gridwidth\":2},\"yaxis\":{\"backgroundcolor\":\"#E5ECF6\",\"gridcolor\":\"white\",\"linecolor\":\"white\",\"showbackground\":true,\"ticks\":\"\",\"zerolinecolor\":\"white\",\"gridwidth\":2},\"zaxis\":{\"backgroundcolor\":\"#E5ECF6\",\"gridcolor\":\"white\",\"linecolor\":\"white\",\"showbackground\":true,\"ticks\":\"\",\"zerolinecolor\":\"white\",\"gridwidth\":2}},\"shapedefaults\":{\"line\":{\"color\":\"#2a3f5f\"}},\"annotationdefaults\":{\"arrowcolor\":\"#2a3f5f\",\"arrowhead\":0,\"arrowwidth\":1},\"geo\":{\"bgcolor\":\"white\",\"landcolor\":\"#E5ECF6\",\"subunitcolor\":\"white\",\"showland\":true,\"showlakes\":true,\"lakecolor\":\"white\"},\"title\":{\"x\":0.05},\"mapbox\":{\"style\":\"light\"}}},\"xaxis\":{\"anchor\":\"y\",\"domain\":[0.0,1.0],\"title\":{\"text\":\"count\"},\"range\":[0,30]},\"yaxis\":{\"anchor\":\"x\",\"domain\":[0.0,1.0],\"title\":{\"text\":\"name\"}},\"legend\":{\"tracegroupgap\":0},\"margin\":{\"t\":60},\"barmode\":\"relative\",\"font\":{\"size\":15,\"color\":\"#0f0f0f\",\"family\":\"Courier New, monospace\"},\"autosize\":false,\"height\":500,\"width\":1400},                        {\"responsive\": true}                    ).then(function(){\n",
              "                            \n",
              "var gd = document.getElementById('8dc17a22-bb74-470c-8f4c-c2df34d93012');\n",
              "var x = new MutationObserver(function (mutations, observer) {{\n",
              "        var display = window.getComputedStyle(gd).display;\n",
              "        if (!display || display === 'none') {{\n",
              "            console.log([gd, 'removed!']);\n",
              "            Plotly.purge(gd);\n",
              "            observer.disconnect();\n",
              "        }}\n",
              "}});\n",
              "\n",
              "// Listen for the removal of the full notebook cells\n",
              "var notebookContainer = gd.closest('#notebook-container');\n",
              "if (notebookContainer) {{\n",
              "    x.observe(notebookContainer, {childList: true});\n",
              "}}\n",
              "\n",
              "// Listen for the clearing of the current output cell\n",
              "var outputEl = gd.closest('.output');\n",
              "if (outputEl) {{\n",
              "    x.observe(outputEl, {childList: true});\n",
              "}}\n",
              "\n",
              "                        })                };                            </script>        </div>\n",
              "</body>\n",
              "</html>"
            ]
          },
          "metadata": {}
        }
      ],
      "source": [
        "d=df_train[bool_series].groupby(['name']).size().sort_values(ascending=False).reset_index(name='count').head(100)\n",
        "fig=px.bar(d,\n",
        "                           y='name',\n",
        "                           x='count',\n",
        "                           #size='count',\n",
        "                           #color='name',\n",
        "                           range_x=[0,30]\n",
        "                           )\n",
        "fig.update_layout(autosize=False,\n",
        "                  height=500,\n",
        "                  width=1400,\n",
        "                  font=dict(size=15,color=\"#0f0f0f\",family=\"Courier New, monospace\"),\n",
        "                 )\n",
        "fig.show()"
      ]
    },
    {
      "cell_type": "code",
      "execution_count": 12,
      "metadata": {
        "colab": {
          "base_uri": "https://localhost:8080/"
        },
        "id": "QnsxjcixCFd4",
        "outputId": "19a58c59-58e4-49f9-abf9-3e1b4e72193d"
      },
      "outputs": [
        {
          "output_type": "execute_result",
          "data": {
            "text/plain": [
              "count       12893\n",
              "unique       4536\n",
              "top       Martijn\n",
              "freq           76\n",
              "Name: host_name, dtype: object"
            ]
          },
          "metadata": {},
          "execution_count": 12
        }
      ],
      "source": [
        "df_train.host_name.describe()"
      ]
    },
    {
      "cell_type": "code",
      "execution_count": 13,
      "metadata": {
        "colab": {
          "base_uri": "https://localhost:8080/"
        },
        "id": "2FlN-FyBCFd5",
        "outputId": "9fd69558-3f1f-4074-ccec-d35720eac339"
      },
      "outputs": [
        {
          "output_type": "execute_result",
          "data": {
            "text/plain": [
              "0        Marjolein\n",
              "1              Ana\n",
              "2             Mark\n",
              "3            Ayden\n",
              "4           Alissa\n",
              "           ...    \n",
              "12896     Michelle\n",
              "12897         Rens\n",
              "12898     Francien\n",
              "12899         Olaf\n",
              "12900         City\n",
              "Name: host_name, Length: 12893, dtype: object"
            ]
          },
          "metadata": {},
          "execution_count": 13
        }
      ],
      "source": [
        "bool_series1 = pd.notnull(df_train[\"host_name\"])\n",
        "df_train[bool_series1].host_name\n"
      ]
    },
    {
      "cell_type": "code",
      "execution_count": 14,
      "metadata": {
        "colab": {
          "base_uri": "https://localhost:8080/",
          "height": 424
        },
        "id": "IN-7Cc-uCFd5",
        "outputId": "4e55dfae-cdc3-4c20-c799-8e043bf30358"
      },
      "outputs": [
        {
          "output_type": "execute_result",
          "data": {
            "text/plain": [
              "     host_name  count\n",
              "0      Martijn     76\n",
              "1         Anne     58\n",
              "2       Thomas     53\n",
              "3          Tim     51\n",
              "4      Marieke     51\n",
              "..         ...    ...\n",
              "95        Sara     20\n",
              "96      Steven     20\n",
              "97       Floor     20\n",
              "98      Dennis     20\n",
              "99  Jacqueline     20\n",
              "\n",
              "[100 rows x 2 columns]"
            ],
            "text/html": [
              "\n",
              "\n",
              "  <div id=\"df-c3035d87-8ad0-4f36-a4e4-ec102a39571d\">\n",
              "    <div class=\"colab-df-container\">\n",
              "      <div>\n",
              "<style scoped>\n",
              "    .dataframe tbody tr th:only-of-type {\n",
              "        vertical-align: middle;\n",
              "    }\n",
              "\n",
              "    .dataframe tbody tr th {\n",
              "        vertical-align: top;\n",
              "    }\n",
              "\n",
              "    .dataframe thead th {\n",
              "        text-align: right;\n",
              "    }\n",
              "</style>\n",
              "<table border=\"1\" class=\"dataframe\">\n",
              "  <thead>\n",
              "    <tr style=\"text-align: right;\">\n",
              "      <th></th>\n",
              "      <th>host_name</th>\n",
              "      <th>count</th>\n",
              "    </tr>\n",
              "  </thead>\n",
              "  <tbody>\n",
              "    <tr>\n",
              "      <th>0</th>\n",
              "      <td>Martijn</td>\n",
              "      <td>76</td>\n",
              "    </tr>\n",
              "    <tr>\n",
              "      <th>1</th>\n",
              "      <td>Anne</td>\n",
              "      <td>58</td>\n",
              "    </tr>\n",
              "    <tr>\n",
              "      <th>2</th>\n",
              "      <td>Thomas</td>\n",
              "      <td>53</td>\n",
              "    </tr>\n",
              "    <tr>\n",
              "      <th>3</th>\n",
              "      <td>Tim</td>\n",
              "      <td>51</td>\n",
              "    </tr>\n",
              "    <tr>\n",
              "      <th>4</th>\n",
              "      <td>Marieke</td>\n",
              "      <td>51</td>\n",
              "    </tr>\n",
              "    <tr>\n",
              "      <th>...</th>\n",
              "      <td>...</td>\n",
              "      <td>...</td>\n",
              "    </tr>\n",
              "    <tr>\n",
              "      <th>95</th>\n",
              "      <td>Sara</td>\n",
              "      <td>20</td>\n",
              "    </tr>\n",
              "    <tr>\n",
              "      <th>96</th>\n",
              "      <td>Steven</td>\n",
              "      <td>20</td>\n",
              "    </tr>\n",
              "    <tr>\n",
              "      <th>97</th>\n",
              "      <td>Floor</td>\n",
              "      <td>20</td>\n",
              "    </tr>\n",
              "    <tr>\n",
              "      <th>98</th>\n",
              "      <td>Dennis</td>\n",
              "      <td>20</td>\n",
              "    </tr>\n",
              "    <tr>\n",
              "      <th>99</th>\n",
              "      <td>Jacqueline</td>\n",
              "      <td>20</td>\n",
              "    </tr>\n",
              "  </tbody>\n",
              "</table>\n",
              "<p>100 rows × 2 columns</p>\n",
              "</div>\n",
              "      <button class=\"colab-df-convert\" onclick=\"convertToInteractive('df-c3035d87-8ad0-4f36-a4e4-ec102a39571d')\"\n",
              "              title=\"Convert this dataframe to an interactive table.\"\n",
              "              style=\"display:none;\">\n",
              "\n",
              "  <svg xmlns=\"http://www.w3.org/2000/svg\" height=\"24px\"viewBox=\"0 0 24 24\"\n",
              "       width=\"24px\">\n",
              "    <path d=\"M0 0h24v24H0V0z\" fill=\"none\"/>\n",
              "    <path d=\"M18.56 5.44l.94 2.06.94-2.06 2.06-.94-2.06-.94-.94-2.06-.94 2.06-2.06.94zm-11 1L8.5 8.5l.94-2.06 2.06-.94-2.06-.94L8.5 2.5l-.94 2.06-2.06.94zm10 10l.94 2.06.94-2.06 2.06-.94-2.06-.94-.94-2.06-.94 2.06-2.06.94z\"/><path d=\"M17.41 7.96l-1.37-1.37c-.4-.4-.92-.59-1.43-.59-.52 0-1.04.2-1.43.59L10.3 9.45l-7.72 7.72c-.78.78-.78 2.05 0 2.83L4 21.41c.39.39.9.59 1.41.59.51 0 1.02-.2 1.41-.59l7.78-7.78 2.81-2.81c.8-.78.8-2.07 0-2.86zM5.41 20L4 18.59l7.72-7.72 1.47 1.35L5.41 20z\"/>\n",
              "  </svg>\n",
              "      </button>\n",
              "\n",
              "\n",
              "\n",
              "    <div id=\"df-4be9955e-2e28-4085-877a-89b6c13675bf\">\n",
              "      <button class=\"colab-df-quickchart\" onclick=\"quickchart('df-4be9955e-2e28-4085-877a-89b6c13675bf')\"\n",
              "              title=\"Suggest charts.\"\n",
              "              style=\"display:none;\">\n",
              "\n",
              "<svg xmlns=\"http://www.w3.org/2000/svg\" height=\"24px\"viewBox=\"0 0 24 24\"\n",
              "     width=\"24px\">\n",
              "    <g>\n",
              "        <path d=\"M19 3H5c-1.1 0-2 .9-2 2v14c0 1.1.9 2 2 2h14c1.1 0 2-.9 2-2V5c0-1.1-.9-2-2-2zM9 17H7v-7h2v7zm4 0h-2V7h2v10zm4 0h-2v-4h2v4z\"/>\n",
              "    </g>\n",
              "</svg>\n",
              "      </button>\n",
              "    </div>\n",
              "\n",
              "<style>\n",
              "  .colab-df-quickchart {\n",
              "    background-color: #E8F0FE;\n",
              "    border: none;\n",
              "    border-radius: 50%;\n",
              "    cursor: pointer;\n",
              "    display: none;\n",
              "    fill: #1967D2;\n",
              "    height: 32px;\n",
              "    padding: 0 0 0 0;\n",
              "    width: 32px;\n",
              "  }\n",
              "\n",
              "  .colab-df-quickchart:hover {\n",
              "    background-color: #E2EBFA;\n",
              "    box-shadow: 0px 1px 2px rgba(60, 64, 67, 0.3), 0px 1px 3px 1px rgba(60, 64, 67, 0.15);\n",
              "    fill: #174EA6;\n",
              "  }\n",
              "\n",
              "  [theme=dark] .colab-df-quickchart {\n",
              "    background-color: #3B4455;\n",
              "    fill: #D2E3FC;\n",
              "  }\n",
              "\n",
              "  [theme=dark] .colab-df-quickchart:hover {\n",
              "    background-color: #434B5C;\n",
              "    box-shadow: 0px 1px 3px 1px rgba(0, 0, 0, 0.15);\n",
              "    filter: drop-shadow(0px 1px 2px rgba(0, 0, 0, 0.3));\n",
              "    fill: #FFFFFF;\n",
              "  }\n",
              "</style>\n",
              "\n",
              "    <script>\n",
              "      async function quickchart(key) {\n",
              "        const containerElement = document.querySelector('#' + key);\n",
              "        const charts = await google.colab.kernel.invokeFunction(\n",
              "            'suggestCharts', [key], {});\n",
              "      }\n",
              "    </script>\n",
              "\n",
              "\n",
              "      <script>\n",
              "\n",
              "function displayQuickchartButton(domScope) {\n",
              "  let quickchartButtonEl =\n",
              "    domScope.querySelector('#df-4be9955e-2e28-4085-877a-89b6c13675bf button.colab-df-quickchart');\n",
              "  quickchartButtonEl.style.display =\n",
              "    google.colab.kernel.accessAllowed ? 'block' : 'none';\n",
              "}\n",
              "\n",
              "        displayQuickchartButton(document);\n",
              "      </script>\n",
              "      <style>\n",
              "    .colab-df-container {\n",
              "      display:flex;\n",
              "      flex-wrap:wrap;\n",
              "      gap: 12px;\n",
              "    }\n",
              "\n",
              "    .colab-df-convert {\n",
              "      background-color: #E8F0FE;\n",
              "      border: none;\n",
              "      border-radius: 50%;\n",
              "      cursor: pointer;\n",
              "      display: none;\n",
              "      fill: #1967D2;\n",
              "      height: 32px;\n",
              "      padding: 0 0 0 0;\n",
              "      width: 32px;\n",
              "    }\n",
              "\n",
              "    .colab-df-convert:hover {\n",
              "      background-color: #E2EBFA;\n",
              "      box-shadow: 0px 1px 2px rgba(60, 64, 67, 0.3), 0px 1px 3px 1px rgba(60, 64, 67, 0.15);\n",
              "      fill: #174EA6;\n",
              "    }\n",
              "\n",
              "    [theme=dark] .colab-df-convert {\n",
              "      background-color: #3B4455;\n",
              "      fill: #D2E3FC;\n",
              "    }\n",
              "\n",
              "    [theme=dark] .colab-df-convert:hover {\n",
              "      background-color: #434B5C;\n",
              "      box-shadow: 0px 1px 3px 1px rgba(0, 0, 0, 0.15);\n",
              "      filter: drop-shadow(0px 1px 2px rgba(0, 0, 0, 0.3));\n",
              "      fill: #FFFFFF;\n",
              "    }\n",
              "  </style>\n",
              "\n",
              "      <script>\n",
              "        const buttonEl =\n",
              "          document.querySelector('#df-c3035d87-8ad0-4f36-a4e4-ec102a39571d button.colab-df-convert');\n",
              "        buttonEl.style.display =\n",
              "          google.colab.kernel.accessAllowed ? 'block' : 'none';\n",
              "\n",
              "        async function convertToInteractive(key) {\n",
              "          const element = document.querySelector('#df-c3035d87-8ad0-4f36-a4e4-ec102a39571d');\n",
              "          const dataTable =\n",
              "            await google.colab.kernel.invokeFunction('convertToInteractive',\n",
              "                                                     [key], {});\n",
              "          if (!dataTable) return;\n",
              "\n",
              "          const docLinkHtml = 'Like what you see? Visit the ' +\n",
              "            '<a target=\"_blank\" href=https://colab.research.google.com/notebooks/data_table.ipynb>data table notebook</a>'\n",
              "            + ' to learn more about interactive tables.';\n",
              "          element.innerHTML = '';\n",
              "          dataTable['output_type'] = 'display_data';\n",
              "          await google.colab.output.renderOutput(dataTable, element);\n",
              "          const docLink = document.createElement('div');\n",
              "          docLink.innerHTML = docLinkHtml;\n",
              "          element.appendChild(docLink);\n",
              "        }\n",
              "      </script>\n",
              "    </div>\n",
              "  </div>\n"
            ]
          },
          "metadata": {},
          "execution_count": 14
        }
      ],
      "source": [
        "df_train[bool_series1].groupby(['host_name']).size().sort_values(ascending=False).reset_index(name='count').head(100)\n"
      ]
    },
    {
      "cell_type": "code",
      "execution_count": 15,
      "metadata": {
        "colab": {
          "base_uri": "https://localhost:8080/",
          "height": 537
        },
        "id": "D90AQm4JCFd5",
        "outputId": "e88371cb-94eb-4661-c0ff-44271bfbfccb"
      },
      "outputs": [
        {
          "output_type": "display_data",
          "data": {
            "text/html": [
              "<html>\n",
              "<head><meta charset=\"utf-8\" /></head>\n",
              "<body>\n",
              "    <div>            <script src=\"https://cdnjs.cloudflare.com/ajax/libs/mathjax/2.7.5/MathJax.js?config=TeX-AMS-MML_SVG\"></script><script type=\"text/javascript\">if (window.MathJax && window.MathJax.Hub && window.MathJax.Hub.Config) {window.MathJax.Hub.Config({SVG: {font: \"STIX-Web\"}});}</script>                <script type=\"text/javascript\">window.PlotlyConfig = {MathJaxConfig: 'local'};</script>\n",
              "        <script charset=\"utf-8\" src=\"https://cdn.plot.ly/plotly-2.24.1.min.js\"></script>                <div id=\"13dc3ee0-f4ce-4a6d-acda-39dc681a7a1f\" class=\"plotly-graph-div\" style=\"height:500px; width:1400px;\"></div>            <script type=\"text/javascript\">                                    window.PLOTLYENV=window.PLOTLYENV || {};                                    if (document.getElementById(\"13dc3ee0-f4ce-4a6d-acda-39dc681a7a1f\")) {                    Plotly.newPlot(                        \"13dc3ee0-f4ce-4a6d-acda-39dc681a7a1f\",                        [{\"alignmentgroup\":\"True\",\"hovertemplate\":\"count=%{x}\\u003cbr\\u003ehost_name=%{y}\\u003cextra\\u003e\\u003c\\u002fextra\\u003e\",\"legendgroup\":\"\",\"marker\":{\"color\":\"#636efa\",\"pattern\":{\"shape\":\"\"}},\"name\":\"\",\"offsetgroup\":\"\",\"orientation\":\"h\",\"showlegend\":false,\"textposition\":\"auto\",\"x\":[76,58,53,51,51,51,51,51,49,49,49,49,49,49,48,47,47,45,45,45,43,43,42,42,41,41,38,38,38,37,36,36,35,35,35,34,33,32,32,32,31,31,30,30,29,29,29,29,28,28,27,27,27,27,27,27,27,26,26,26,26,26,26,25,25,25,25,24,24,24,24,24,24,23,23,23,22,22,22,22,22,22,22,22,21,21,21,21,21,21,21,21,21,20,20,20,20,20,20,20],\"xaxis\":\"x\",\"y\":[\"Martijn\",\"Anne\",\"Thomas\",\"Tim\",\"Marieke\",\"Paul\",\"Bas\",\"Michiel\",\"Wendy And Bram\",\"Jasper\",\"Joost\",\"Eva\",\"Suzanne\",\"Jeroen\",\"Sophie\",\"Anna\",\"Laura\",\"Short Stay Group\",\"Peter\",\"Mark\",\"Charlotte\",\"Jan\",\"Ruben\",\"Bart\",\"Maarten\",\"Willem\",\"David\",\"Wouter\",\"Erik\",\"Rob\",\"Esther\",\"Nina\",\"Robert\",\"Pieter\",\"Sandra\",\"Sarah\",\"Frank\",\"Kim\",\"Vincent\",\"Sanne\",\"Saskia\",\"Joris\",\"Nicole\",\"Daan\",\"Linda\",\"Tom\",\"Niels\",\"Monique\",\"Inge\",\"Merel\",\"Alexander\",\"Julia\",\"Caroline\",\"Maaike\",\"Fleur\",\"Stephanie\",\"FantasticStay\",\"Lisa\",\"Barbara\",\"Thijs\",\"Laurens\",\"Ellen\",\"Sander\",\"Daniel\",\"Michael\",\"Alex\",\"Michelle\",\"Koen\",\"Hans\",\"Karin\",\"Anouk\",\"Rick\",\"Judith\",\"Marc\",\"Ruben, Sarah & Lindy\",\"Nienke\",\"Karen\",\"Martin\",\"Lotte\",\"Stefan\",\"Nick\",\"Simon\",\"Claudia\",\"Tessa\",\"Ruchi\",\"Patrick\",\"Eric\",\"Mirjam\",\"Marcel\",\"Martine\",\"Chris\",\"Simone\",\"Maria\",\"Roos\",\"Sjoerd\",\"Sara\",\"Steven\",\"Floor\",\"Dennis\",\"Jacqueline\"],\"yaxis\":\"y\",\"type\":\"bar\"}],                        {\"template\":{\"data\":{\"histogram2dcontour\":[{\"type\":\"histogram2dcontour\",\"colorbar\":{\"outlinewidth\":0,\"ticks\":\"\"},\"colorscale\":[[0.0,\"#0d0887\"],[0.1111111111111111,\"#46039f\"],[0.2222222222222222,\"#7201a8\"],[0.3333333333333333,\"#9c179e\"],[0.4444444444444444,\"#bd3786\"],[0.5555555555555556,\"#d8576b\"],[0.6666666666666666,\"#ed7953\"],[0.7777777777777778,\"#fb9f3a\"],[0.8888888888888888,\"#fdca26\"],[1.0,\"#f0f921\"]]}],\"choropleth\":[{\"type\":\"choropleth\",\"colorbar\":{\"outlinewidth\":0,\"ticks\":\"\"}}],\"histogram2d\":[{\"type\":\"histogram2d\",\"colorbar\":{\"outlinewidth\":0,\"ticks\":\"\"},\"colorscale\":[[0.0,\"#0d0887\"],[0.1111111111111111,\"#46039f\"],[0.2222222222222222,\"#7201a8\"],[0.3333333333333333,\"#9c179e\"],[0.4444444444444444,\"#bd3786\"],[0.5555555555555556,\"#d8576b\"],[0.6666666666666666,\"#ed7953\"],[0.7777777777777778,\"#fb9f3a\"],[0.8888888888888888,\"#fdca26\"],[1.0,\"#f0f921\"]]}],\"heatmap\":[{\"type\":\"heatmap\",\"colorbar\":{\"outlinewidth\":0,\"ticks\":\"\"},\"colorscale\":[[0.0,\"#0d0887\"],[0.1111111111111111,\"#46039f\"],[0.2222222222222222,\"#7201a8\"],[0.3333333333333333,\"#9c179e\"],[0.4444444444444444,\"#bd3786\"],[0.5555555555555556,\"#d8576b\"],[0.6666666666666666,\"#ed7953\"],[0.7777777777777778,\"#fb9f3a\"],[0.8888888888888888,\"#fdca26\"],[1.0,\"#f0f921\"]]}],\"heatmapgl\":[{\"type\":\"heatmapgl\",\"colorbar\":{\"outlinewidth\":0,\"ticks\":\"\"},\"colorscale\":[[0.0,\"#0d0887\"],[0.1111111111111111,\"#46039f\"],[0.2222222222222222,\"#7201a8\"],[0.3333333333333333,\"#9c179e\"],[0.4444444444444444,\"#bd3786\"],[0.5555555555555556,\"#d8576b\"],[0.6666666666666666,\"#ed7953\"],[0.7777777777777778,\"#fb9f3a\"],[0.8888888888888888,\"#fdca26\"],[1.0,\"#f0f921\"]]}],\"contourcarpet\":[{\"type\":\"contourcarpet\",\"colorbar\":{\"outlinewidth\":0,\"ticks\":\"\"}}],\"contour\":[{\"type\":\"contour\",\"colorbar\":{\"outlinewidth\":0,\"ticks\":\"\"},\"colorscale\":[[0.0,\"#0d0887\"],[0.1111111111111111,\"#46039f\"],[0.2222222222222222,\"#7201a8\"],[0.3333333333333333,\"#9c179e\"],[0.4444444444444444,\"#bd3786\"],[0.5555555555555556,\"#d8576b\"],[0.6666666666666666,\"#ed7953\"],[0.7777777777777778,\"#fb9f3a\"],[0.8888888888888888,\"#fdca26\"],[1.0,\"#f0f921\"]]}],\"surface\":[{\"type\":\"surface\",\"colorbar\":{\"outlinewidth\":0,\"ticks\":\"\"},\"colorscale\":[[0.0,\"#0d0887\"],[0.1111111111111111,\"#46039f\"],[0.2222222222222222,\"#7201a8\"],[0.3333333333333333,\"#9c179e\"],[0.4444444444444444,\"#bd3786\"],[0.5555555555555556,\"#d8576b\"],[0.6666666666666666,\"#ed7953\"],[0.7777777777777778,\"#fb9f3a\"],[0.8888888888888888,\"#fdca26\"],[1.0,\"#f0f921\"]]}],\"mesh3d\":[{\"type\":\"mesh3d\",\"colorbar\":{\"outlinewidth\":0,\"ticks\":\"\"}}],\"scatter\":[{\"fillpattern\":{\"fillmode\":\"overlay\",\"size\":10,\"solidity\":0.2},\"type\":\"scatter\"}],\"parcoords\":[{\"type\":\"parcoords\",\"line\":{\"colorbar\":{\"outlinewidth\":0,\"ticks\":\"\"}}}],\"scatterpolargl\":[{\"type\":\"scatterpolargl\",\"marker\":{\"colorbar\":{\"outlinewidth\":0,\"ticks\":\"\"}}}],\"bar\":[{\"error_x\":{\"color\":\"#2a3f5f\"},\"error_y\":{\"color\":\"#2a3f5f\"},\"marker\":{\"line\":{\"color\":\"#E5ECF6\",\"width\":0.5},\"pattern\":{\"fillmode\":\"overlay\",\"size\":10,\"solidity\":0.2}},\"type\":\"bar\"}],\"scattergeo\":[{\"type\":\"scattergeo\",\"marker\":{\"colorbar\":{\"outlinewidth\":0,\"ticks\":\"\"}}}],\"scatterpolar\":[{\"type\":\"scatterpolar\",\"marker\":{\"colorbar\":{\"outlinewidth\":0,\"ticks\":\"\"}}}],\"histogram\":[{\"marker\":{\"pattern\":{\"fillmode\":\"overlay\",\"size\":10,\"solidity\":0.2}},\"type\":\"histogram\"}],\"scattergl\":[{\"type\":\"scattergl\",\"marker\":{\"colorbar\":{\"outlinewidth\":0,\"ticks\":\"\"}}}],\"scatter3d\":[{\"type\":\"scatter3d\",\"line\":{\"colorbar\":{\"outlinewidth\":0,\"ticks\":\"\"}},\"marker\":{\"colorbar\":{\"outlinewidth\":0,\"ticks\":\"\"}}}],\"scattermapbox\":[{\"type\":\"scattermapbox\",\"marker\":{\"colorbar\":{\"outlinewidth\":0,\"ticks\":\"\"}}}],\"scatterternary\":[{\"type\":\"scatterternary\",\"marker\":{\"colorbar\":{\"outlinewidth\":0,\"ticks\":\"\"}}}],\"scattercarpet\":[{\"type\":\"scattercarpet\",\"marker\":{\"colorbar\":{\"outlinewidth\":0,\"ticks\":\"\"}}}],\"carpet\":[{\"aaxis\":{\"endlinecolor\":\"#2a3f5f\",\"gridcolor\":\"white\",\"linecolor\":\"white\",\"minorgridcolor\":\"white\",\"startlinecolor\":\"#2a3f5f\"},\"baxis\":{\"endlinecolor\":\"#2a3f5f\",\"gridcolor\":\"white\",\"linecolor\":\"white\",\"minorgridcolor\":\"white\",\"startlinecolor\":\"#2a3f5f\"},\"type\":\"carpet\"}],\"table\":[{\"cells\":{\"fill\":{\"color\":\"#EBF0F8\"},\"line\":{\"color\":\"white\"}},\"header\":{\"fill\":{\"color\":\"#C8D4E3\"},\"line\":{\"color\":\"white\"}},\"type\":\"table\"}],\"barpolar\":[{\"marker\":{\"line\":{\"color\":\"#E5ECF6\",\"width\":0.5},\"pattern\":{\"fillmode\":\"overlay\",\"size\":10,\"solidity\":0.2}},\"type\":\"barpolar\"}],\"pie\":[{\"automargin\":true,\"type\":\"pie\"}]},\"layout\":{\"autotypenumbers\":\"strict\",\"colorway\":[\"#636efa\",\"#EF553B\",\"#00cc96\",\"#ab63fa\",\"#FFA15A\",\"#19d3f3\",\"#FF6692\",\"#B6E880\",\"#FF97FF\",\"#FECB52\"],\"font\":{\"color\":\"#2a3f5f\"},\"hovermode\":\"closest\",\"hoverlabel\":{\"align\":\"left\"},\"paper_bgcolor\":\"white\",\"plot_bgcolor\":\"#E5ECF6\",\"polar\":{\"bgcolor\":\"#E5ECF6\",\"angularaxis\":{\"gridcolor\":\"white\",\"linecolor\":\"white\",\"ticks\":\"\"},\"radialaxis\":{\"gridcolor\":\"white\",\"linecolor\":\"white\",\"ticks\":\"\"}},\"ternary\":{\"bgcolor\":\"#E5ECF6\",\"aaxis\":{\"gridcolor\":\"white\",\"linecolor\":\"white\",\"ticks\":\"\"},\"baxis\":{\"gridcolor\":\"white\",\"linecolor\":\"white\",\"ticks\":\"\"},\"caxis\":{\"gridcolor\":\"white\",\"linecolor\":\"white\",\"ticks\":\"\"}},\"coloraxis\":{\"colorbar\":{\"outlinewidth\":0,\"ticks\":\"\"}},\"colorscale\":{\"sequential\":[[0.0,\"#0d0887\"],[0.1111111111111111,\"#46039f\"],[0.2222222222222222,\"#7201a8\"],[0.3333333333333333,\"#9c179e\"],[0.4444444444444444,\"#bd3786\"],[0.5555555555555556,\"#d8576b\"],[0.6666666666666666,\"#ed7953\"],[0.7777777777777778,\"#fb9f3a\"],[0.8888888888888888,\"#fdca26\"],[1.0,\"#f0f921\"]],\"sequentialminus\":[[0.0,\"#0d0887\"],[0.1111111111111111,\"#46039f\"],[0.2222222222222222,\"#7201a8\"],[0.3333333333333333,\"#9c179e\"],[0.4444444444444444,\"#bd3786\"],[0.5555555555555556,\"#d8576b\"],[0.6666666666666666,\"#ed7953\"],[0.7777777777777778,\"#fb9f3a\"],[0.8888888888888888,\"#fdca26\"],[1.0,\"#f0f921\"]],\"diverging\":[[0,\"#8e0152\"],[0.1,\"#c51b7d\"],[0.2,\"#de77ae\"],[0.3,\"#f1b6da\"],[0.4,\"#fde0ef\"],[0.5,\"#f7f7f7\"],[0.6,\"#e6f5d0\"],[0.7,\"#b8e186\"],[0.8,\"#7fbc41\"],[0.9,\"#4d9221\"],[1,\"#276419\"]]},\"xaxis\":{\"gridcolor\":\"white\",\"linecolor\":\"white\",\"ticks\":\"\",\"title\":{\"standoff\":15},\"zerolinecolor\":\"white\",\"automargin\":true,\"zerolinewidth\":2},\"yaxis\":{\"gridcolor\":\"white\",\"linecolor\":\"white\",\"ticks\":\"\",\"title\":{\"standoff\":15},\"zerolinecolor\":\"white\",\"automargin\":true,\"zerolinewidth\":2},\"scene\":{\"xaxis\":{\"backgroundcolor\":\"#E5ECF6\",\"gridcolor\":\"white\",\"linecolor\":\"white\",\"showbackground\":true,\"ticks\":\"\",\"zerolinecolor\":\"white\",\"gridwidth\":2},\"yaxis\":{\"backgroundcolor\":\"#E5ECF6\",\"gridcolor\":\"white\",\"linecolor\":\"white\",\"showbackground\":true,\"ticks\":\"\",\"zerolinecolor\":\"white\",\"gridwidth\":2},\"zaxis\":{\"backgroundcolor\":\"#E5ECF6\",\"gridcolor\":\"white\",\"linecolor\":\"white\",\"showbackground\":true,\"ticks\":\"\",\"zerolinecolor\":\"white\",\"gridwidth\":2}},\"shapedefaults\":{\"line\":{\"color\":\"#2a3f5f\"}},\"annotationdefaults\":{\"arrowcolor\":\"#2a3f5f\",\"arrowhead\":0,\"arrowwidth\":1},\"geo\":{\"bgcolor\":\"white\",\"landcolor\":\"#E5ECF6\",\"subunitcolor\":\"white\",\"showland\":true,\"showlakes\":true,\"lakecolor\":\"white\"},\"title\":{\"x\":0.05},\"mapbox\":{\"style\":\"light\"}}},\"xaxis\":{\"anchor\":\"y\",\"domain\":[0.0,1.0],\"title\":{\"text\":\"count\"},\"range\":[0,80]},\"yaxis\":{\"anchor\":\"x\",\"domain\":[0.0,1.0],\"title\":{\"text\":\"host_name\"}},\"legend\":{\"tracegroupgap\":0},\"margin\":{\"t\":60},\"barmode\":\"relative\",\"font\":{\"size\":15,\"color\":\"#0f0f0f\",\"family\":\"Courier New, monospace\"},\"autosize\":false,\"height\":500,\"width\":1400},                        {\"responsive\": true}                    ).then(function(){\n",
              "                            \n",
              "var gd = document.getElementById('13dc3ee0-f4ce-4a6d-acda-39dc681a7a1f');\n",
              "var x = new MutationObserver(function (mutations, observer) {{\n",
              "        var display = window.getComputedStyle(gd).display;\n",
              "        if (!display || display === 'none') {{\n",
              "            console.log([gd, 'removed!']);\n",
              "            Plotly.purge(gd);\n",
              "            observer.disconnect();\n",
              "        }}\n",
              "}});\n",
              "\n",
              "// Listen for the removal of the full notebook cells\n",
              "var notebookContainer = gd.closest('#notebook-container');\n",
              "if (notebookContainer) {{\n",
              "    x.observe(notebookContainer, {childList: true});\n",
              "}}\n",
              "\n",
              "// Listen for the clearing of the current output cell\n",
              "var outputEl = gd.closest('.output');\n",
              "if (outputEl) {{\n",
              "    x.observe(outputEl, {childList: true});\n",
              "}}\n",
              "\n",
              "                        })                };                            </script>        </div>\n",
              "</body>\n",
              "</html>"
            ]
          },
          "metadata": {}
        }
      ],
      "source": [
        "d=df_train[bool_series1].groupby(['host_name']).size().sort_values(ascending=False).reset_index(name='count').head(100)\n",
        "fig=px.bar(d,\n",
        "                           y='host_name',\n",
        "                           x='count',\n",
        "                           #size='count',\n",
        "                           #color='name',\n",
        "                           range_x=[0,80]\n",
        "                           )\n",
        "fig.update_layout(autosize=False,\n",
        "                  height=500,\n",
        "                  width=1400,\n",
        "                  font=dict(size=15,color=\"#0f0f0f\",family=\"Courier New, monospace\"),\n",
        "                 )\n",
        "fig.show()"
      ]
    },
    {
      "cell_type": "markdown",
      "metadata": {
        "id": "0TI-vUyECFd5"
      },
      "source": [
        "As you can see in the graph above Martijn has hosted 76 times ..."
      ]
    },
    {
      "cell_type": "markdown",
      "metadata": {
        "id": "MQlNXoQpCFd5"
      },
      "source": [
        "Now lets check about neighbourhood"
      ]
    },
    {
      "cell_type": "code",
      "execution_count": 16,
      "metadata": {
        "colab": {
          "base_uri": "https://localhost:8080/"
        },
        "id": "NZn1P7woCFd5",
        "outputId": "77d21e4f-335d-465f-c731-11928dbd1bec"
      },
      "outputs": [
        {
          "output_type": "execute_result",
          "data": {
            "text/plain": [
              "count                      12901\n",
              "unique                        22\n",
              "top       De Baarsjes - Oud-West\n",
              "freq                        2209\n",
              "Name: neighbourhood, dtype: object"
            ]
          },
          "metadata": {},
          "execution_count": 16
        }
      ],
      "source": [
        "df_train.neighbourhood.describe()"
      ]
    },
    {
      "cell_type": "code",
      "execution_count": 17,
      "metadata": {
        "colab": {
          "base_uri": "https://localhost:8080/",
          "height": 739
        },
        "id": "Fe3VwMHuCFd5",
        "outputId": "7400d97b-c20f-4367-ac65-92a4f6b1aa69"
      },
      "outputs": [
        {
          "output_type": "execute_result",
          "data": {
            "text/plain": [
              "                             neighbourhood  count\n",
              "0                   De Baarsjes - Oud-West   2209\n",
              "1                  De Pijp - Rivierenbuurt   1600\n",
              "2                             Centrum-West   1429\n",
              "3                             Centrum-Oost   1097\n",
              "4                               Westerpark    958\n",
              "5                                     Zuid    924\n",
              "6                                 Oud-Oost    831\n",
              "7                            Bos en Lommer    730\n",
              "8   Oostelijk Havengebied - Indische Buurt    644\n",
              "9                          Watergraafsmeer    381\n",
              "10                               Oud-Noord    376\n",
              "11                IJburg - Zeeburgereiland    321\n",
              "12                             Slotervaart    269\n",
              "13                              Noord-West    257\n",
              "14                              Noord-Oost    171\n",
              "15                  Buitenveldert - Zuidas    155\n",
              "16                 Geuzenveld - Slotermeer    144\n",
              "17                  De Aker - Nieuw Sloten     88\n",
              "18                                  Osdorp     83\n",
              "19                   Gaasperdam - Driemond     80\n",
              "20                         Bijlmer-Centrum     78\n",
              "21                            Bijlmer-Oost     76"
            ],
            "text/html": [
              "\n",
              "\n",
              "  <div id=\"df-b9afbbd0-3aeb-4295-9baa-eebaeef74f8b\">\n",
              "    <div class=\"colab-df-container\">\n",
              "      <div>\n",
              "<style scoped>\n",
              "    .dataframe tbody tr th:only-of-type {\n",
              "        vertical-align: middle;\n",
              "    }\n",
              "\n",
              "    .dataframe tbody tr th {\n",
              "        vertical-align: top;\n",
              "    }\n",
              "\n",
              "    .dataframe thead th {\n",
              "        text-align: right;\n",
              "    }\n",
              "</style>\n",
              "<table border=\"1\" class=\"dataframe\">\n",
              "  <thead>\n",
              "    <tr style=\"text-align: right;\">\n",
              "      <th></th>\n",
              "      <th>neighbourhood</th>\n",
              "      <th>count</th>\n",
              "    </tr>\n",
              "  </thead>\n",
              "  <tbody>\n",
              "    <tr>\n",
              "      <th>0</th>\n",
              "      <td>De Baarsjes - Oud-West</td>\n",
              "      <td>2209</td>\n",
              "    </tr>\n",
              "    <tr>\n",
              "      <th>1</th>\n",
              "      <td>De Pijp - Rivierenbuurt</td>\n",
              "      <td>1600</td>\n",
              "    </tr>\n",
              "    <tr>\n",
              "      <th>2</th>\n",
              "      <td>Centrum-West</td>\n",
              "      <td>1429</td>\n",
              "    </tr>\n",
              "    <tr>\n",
              "      <th>3</th>\n",
              "      <td>Centrum-Oost</td>\n",
              "      <td>1097</td>\n",
              "    </tr>\n",
              "    <tr>\n",
              "      <th>4</th>\n",
              "      <td>Westerpark</td>\n",
              "      <td>958</td>\n",
              "    </tr>\n",
              "    <tr>\n",
              "      <th>5</th>\n",
              "      <td>Zuid</td>\n",
              "      <td>924</td>\n",
              "    </tr>\n",
              "    <tr>\n",
              "      <th>6</th>\n",
              "      <td>Oud-Oost</td>\n",
              "      <td>831</td>\n",
              "    </tr>\n",
              "    <tr>\n",
              "      <th>7</th>\n",
              "      <td>Bos en Lommer</td>\n",
              "      <td>730</td>\n",
              "    </tr>\n",
              "    <tr>\n",
              "      <th>8</th>\n",
              "      <td>Oostelijk Havengebied - Indische Buurt</td>\n",
              "      <td>644</td>\n",
              "    </tr>\n",
              "    <tr>\n",
              "      <th>9</th>\n",
              "      <td>Watergraafsmeer</td>\n",
              "      <td>381</td>\n",
              "    </tr>\n",
              "    <tr>\n",
              "      <th>10</th>\n",
              "      <td>Oud-Noord</td>\n",
              "      <td>376</td>\n",
              "    </tr>\n",
              "    <tr>\n",
              "      <th>11</th>\n",
              "      <td>IJburg - Zeeburgereiland</td>\n",
              "      <td>321</td>\n",
              "    </tr>\n",
              "    <tr>\n",
              "      <th>12</th>\n",
              "      <td>Slotervaart</td>\n",
              "      <td>269</td>\n",
              "    </tr>\n",
              "    <tr>\n",
              "      <th>13</th>\n",
              "      <td>Noord-West</td>\n",
              "      <td>257</td>\n",
              "    </tr>\n",
              "    <tr>\n",
              "      <th>14</th>\n",
              "      <td>Noord-Oost</td>\n",
              "      <td>171</td>\n",
              "    </tr>\n",
              "    <tr>\n",
              "      <th>15</th>\n",
              "      <td>Buitenveldert - Zuidas</td>\n",
              "      <td>155</td>\n",
              "    </tr>\n",
              "    <tr>\n",
              "      <th>16</th>\n",
              "      <td>Geuzenveld - Slotermeer</td>\n",
              "      <td>144</td>\n",
              "    </tr>\n",
              "    <tr>\n",
              "      <th>17</th>\n",
              "      <td>De Aker - Nieuw Sloten</td>\n",
              "      <td>88</td>\n",
              "    </tr>\n",
              "    <tr>\n",
              "      <th>18</th>\n",
              "      <td>Osdorp</td>\n",
              "      <td>83</td>\n",
              "    </tr>\n",
              "    <tr>\n",
              "      <th>19</th>\n",
              "      <td>Gaasperdam - Driemond</td>\n",
              "      <td>80</td>\n",
              "    </tr>\n",
              "    <tr>\n",
              "      <th>20</th>\n",
              "      <td>Bijlmer-Centrum</td>\n",
              "      <td>78</td>\n",
              "    </tr>\n",
              "    <tr>\n",
              "      <th>21</th>\n",
              "      <td>Bijlmer-Oost</td>\n",
              "      <td>76</td>\n",
              "    </tr>\n",
              "  </tbody>\n",
              "</table>\n",
              "</div>\n",
              "      <button class=\"colab-df-convert\" onclick=\"convertToInteractive('df-b9afbbd0-3aeb-4295-9baa-eebaeef74f8b')\"\n",
              "              title=\"Convert this dataframe to an interactive table.\"\n",
              "              style=\"display:none;\">\n",
              "\n",
              "  <svg xmlns=\"http://www.w3.org/2000/svg\" height=\"24px\"viewBox=\"0 0 24 24\"\n",
              "       width=\"24px\">\n",
              "    <path d=\"M0 0h24v24H0V0z\" fill=\"none\"/>\n",
              "    <path d=\"M18.56 5.44l.94 2.06.94-2.06 2.06-.94-2.06-.94-.94-2.06-.94 2.06-2.06.94zm-11 1L8.5 8.5l.94-2.06 2.06-.94-2.06-.94L8.5 2.5l-.94 2.06-2.06.94zm10 10l.94 2.06.94-2.06 2.06-.94-2.06-.94-.94-2.06-.94 2.06-2.06.94z\"/><path d=\"M17.41 7.96l-1.37-1.37c-.4-.4-.92-.59-1.43-.59-.52 0-1.04.2-1.43.59L10.3 9.45l-7.72 7.72c-.78.78-.78 2.05 0 2.83L4 21.41c.39.39.9.59 1.41.59.51 0 1.02-.2 1.41-.59l7.78-7.78 2.81-2.81c.8-.78.8-2.07 0-2.86zM5.41 20L4 18.59l7.72-7.72 1.47 1.35L5.41 20z\"/>\n",
              "  </svg>\n",
              "      </button>\n",
              "\n",
              "\n",
              "\n",
              "    <div id=\"df-5241aae5-75ff-40c8-953d-d2ba720a2aa8\">\n",
              "      <button class=\"colab-df-quickchart\" onclick=\"quickchart('df-5241aae5-75ff-40c8-953d-d2ba720a2aa8')\"\n",
              "              title=\"Suggest charts.\"\n",
              "              style=\"display:none;\">\n",
              "\n",
              "<svg xmlns=\"http://www.w3.org/2000/svg\" height=\"24px\"viewBox=\"0 0 24 24\"\n",
              "     width=\"24px\">\n",
              "    <g>\n",
              "        <path d=\"M19 3H5c-1.1 0-2 .9-2 2v14c0 1.1.9 2 2 2h14c1.1 0 2-.9 2-2V5c0-1.1-.9-2-2-2zM9 17H7v-7h2v7zm4 0h-2V7h2v10zm4 0h-2v-4h2v4z\"/>\n",
              "    </g>\n",
              "</svg>\n",
              "      </button>\n",
              "    </div>\n",
              "\n",
              "<style>\n",
              "  .colab-df-quickchart {\n",
              "    background-color: #E8F0FE;\n",
              "    border: none;\n",
              "    border-radius: 50%;\n",
              "    cursor: pointer;\n",
              "    display: none;\n",
              "    fill: #1967D2;\n",
              "    height: 32px;\n",
              "    padding: 0 0 0 0;\n",
              "    width: 32px;\n",
              "  }\n",
              "\n",
              "  .colab-df-quickchart:hover {\n",
              "    background-color: #E2EBFA;\n",
              "    box-shadow: 0px 1px 2px rgba(60, 64, 67, 0.3), 0px 1px 3px 1px rgba(60, 64, 67, 0.15);\n",
              "    fill: #174EA6;\n",
              "  }\n",
              "\n",
              "  [theme=dark] .colab-df-quickchart {\n",
              "    background-color: #3B4455;\n",
              "    fill: #D2E3FC;\n",
              "  }\n",
              "\n",
              "  [theme=dark] .colab-df-quickchart:hover {\n",
              "    background-color: #434B5C;\n",
              "    box-shadow: 0px 1px 3px 1px rgba(0, 0, 0, 0.15);\n",
              "    filter: drop-shadow(0px 1px 2px rgba(0, 0, 0, 0.3));\n",
              "    fill: #FFFFFF;\n",
              "  }\n",
              "</style>\n",
              "\n",
              "    <script>\n",
              "      async function quickchart(key) {\n",
              "        const containerElement = document.querySelector('#' + key);\n",
              "        const charts = await google.colab.kernel.invokeFunction(\n",
              "            'suggestCharts', [key], {});\n",
              "      }\n",
              "    </script>\n",
              "\n",
              "\n",
              "      <script>\n",
              "\n",
              "function displayQuickchartButton(domScope) {\n",
              "  let quickchartButtonEl =\n",
              "    domScope.querySelector('#df-5241aae5-75ff-40c8-953d-d2ba720a2aa8 button.colab-df-quickchart');\n",
              "  quickchartButtonEl.style.display =\n",
              "    google.colab.kernel.accessAllowed ? 'block' : 'none';\n",
              "}\n",
              "\n",
              "        displayQuickchartButton(document);\n",
              "      </script>\n",
              "      <style>\n",
              "    .colab-df-container {\n",
              "      display:flex;\n",
              "      flex-wrap:wrap;\n",
              "      gap: 12px;\n",
              "    }\n",
              "\n",
              "    .colab-df-convert {\n",
              "      background-color: #E8F0FE;\n",
              "      border: none;\n",
              "      border-radius: 50%;\n",
              "      cursor: pointer;\n",
              "      display: none;\n",
              "      fill: #1967D2;\n",
              "      height: 32px;\n",
              "      padding: 0 0 0 0;\n",
              "      width: 32px;\n",
              "    }\n",
              "\n",
              "    .colab-df-convert:hover {\n",
              "      background-color: #E2EBFA;\n",
              "      box-shadow: 0px 1px 2px rgba(60, 64, 67, 0.3), 0px 1px 3px 1px rgba(60, 64, 67, 0.15);\n",
              "      fill: #174EA6;\n",
              "    }\n",
              "\n",
              "    [theme=dark] .colab-df-convert {\n",
              "      background-color: #3B4455;\n",
              "      fill: #D2E3FC;\n",
              "    }\n",
              "\n",
              "    [theme=dark] .colab-df-convert:hover {\n",
              "      background-color: #434B5C;\n",
              "      box-shadow: 0px 1px 3px 1px rgba(0, 0, 0, 0.15);\n",
              "      filter: drop-shadow(0px 1px 2px rgba(0, 0, 0, 0.3));\n",
              "      fill: #FFFFFF;\n",
              "    }\n",
              "  </style>\n",
              "\n",
              "      <script>\n",
              "        const buttonEl =\n",
              "          document.querySelector('#df-b9afbbd0-3aeb-4295-9baa-eebaeef74f8b button.colab-df-convert');\n",
              "        buttonEl.style.display =\n",
              "          google.colab.kernel.accessAllowed ? 'block' : 'none';\n",
              "\n",
              "        async function convertToInteractive(key) {\n",
              "          const element = document.querySelector('#df-b9afbbd0-3aeb-4295-9baa-eebaeef74f8b');\n",
              "          const dataTable =\n",
              "            await google.colab.kernel.invokeFunction('convertToInteractive',\n",
              "                                                     [key], {});\n",
              "          if (!dataTable) return;\n",
              "\n",
              "          const docLinkHtml = 'Like what you see? Visit the ' +\n",
              "            '<a target=\"_blank\" href=https://colab.research.google.com/notebooks/data_table.ipynb>data table notebook</a>'\n",
              "            + ' to learn more about interactive tables.';\n",
              "          element.innerHTML = '';\n",
              "          dataTable['output_type'] = 'display_data';\n",
              "          await google.colab.output.renderOutput(dataTable, element);\n",
              "          const docLink = document.createElement('div');\n",
              "          docLink.innerHTML = docLinkHtml;\n",
              "          element.appendChild(docLink);\n",
              "        }\n",
              "      </script>\n",
              "    </div>\n",
              "  </div>\n"
            ]
          },
          "metadata": {},
          "execution_count": 17
        }
      ],
      "source": [
        "df_train.groupby(['neighbourhood']).size().sort_values(ascending=False).reset_index(name='count')"
      ]
    },
    {
      "cell_type": "code",
      "execution_count": 18,
      "metadata": {
        "colab": {
          "base_uri": "https://localhost:8080/",
          "height": 537
        },
        "id": "WFi7uW8eCFd5",
        "outputId": "80f51291-3bef-4796-d2ce-1eab4f3c83b6"
      },
      "outputs": [
        {
          "output_type": "display_data",
          "data": {
            "text/html": [
              "<html>\n",
              "<head><meta charset=\"utf-8\" /></head>\n",
              "<body>\n",
              "    <div>            <script src=\"https://cdnjs.cloudflare.com/ajax/libs/mathjax/2.7.5/MathJax.js?config=TeX-AMS-MML_SVG\"></script><script type=\"text/javascript\">if (window.MathJax && window.MathJax.Hub && window.MathJax.Hub.Config) {window.MathJax.Hub.Config({SVG: {font: \"STIX-Web\"}});}</script>                <script type=\"text/javascript\">window.PlotlyConfig = {MathJaxConfig: 'local'};</script>\n",
              "        <script charset=\"utf-8\" src=\"https://cdn.plot.ly/plotly-2.24.1.min.js\"></script>                <div id=\"4b6afcaf-bd17-4f94-b441-74e9f7798c94\" class=\"plotly-graph-div\" style=\"height:500px; width:1400px;\"></div>            <script type=\"text/javascript\">                                    window.PLOTLYENV=window.PLOTLYENV || {};                                    if (document.getElementById(\"4b6afcaf-bd17-4f94-b441-74e9f7798c94\")) {                    Plotly.newPlot(                        \"4b6afcaf-bd17-4f94-b441-74e9f7798c94\",                        [{\"alignmentgroup\":\"True\",\"hovertemplate\":\"count=%{x}\\u003cbr\\u003eneighbourhood=%{y}\\u003cextra\\u003e\\u003c\\u002fextra\\u003e\",\"legendgroup\":\"\",\"marker\":{\"color\":\"#636efa\",\"pattern\":{\"shape\":\"\"}},\"name\":\"\",\"offsetgroup\":\"\",\"orientation\":\"h\",\"showlegend\":false,\"textposition\":\"auto\",\"x\":[2209,1600,1429,1097,958,924,831,730,644,381,376,321,269,257,171,155,144,88,83,80,78,76],\"xaxis\":\"x\",\"y\":[\"De Baarsjes - Oud-West\",\"De Pijp - Rivierenbuurt\",\"Centrum-West\",\"Centrum-Oost\",\"Westerpark\",\"Zuid\",\"Oud-Oost\",\"Bos en Lommer\",\"Oostelijk Havengebied - Indische Buurt\",\"Watergraafsmeer\",\"Oud-Noord\",\"IJburg - Zeeburgereiland\",\"Slotervaart\",\"Noord-West\",\"Noord-Oost\",\"Buitenveldert - Zuidas\",\"Geuzenveld - Slotermeer\",\"De Aker - Nieuw Sloten\",\"Osdorp\",\"Gaasperdam - Driemond\",\"Bijlmer-Centrum\",\"Bijlmer-Oost\"],\"yaxis\":\"y\",\"type\":\"bar\"}],                        {\"template\":{\"data\":{\"histogram2dcontour\":[{\"type\":\"histogram2dcontour\",\"colorbar\":{\"outlinewidth\":0,\"ticks\":\"\"},\"colorscale\":[[0.0,\"#0d0887\"],[0.1111111111111111,\"#46039f\"],[0.2222222222222222,\"#7201a8\"],[0.3333333333333333,\"#9c179e\"],[0.4444444444444444,\"#bd3786\"],[0.5555555555555556,\"#d8576b\"],[0.6666666666666666,\"#ed7953\"],[0.7777777777777778,\"#fb9f3a\"],[0.8888888888888888,\"#fdca26\"],[1.0,\"#f0f921\"]]}],\"choropleth\":[{\"type\":\"choropleth\",\"colorbar\":{\"outlinewidth\":0,\"ticks\":\"\"}}],\"histogram2d\":[{\"type\":\"histogram2d\",\"colorbar\":{\"outlinewidth\":0,\"ticks\":\"\"},\"colorscale\":[[0.0,\"#0d0887\"],[0.1111111111111111,\"#46039f\"],[0.2222222222222222,\"#7201a8\"],[0.3333333333333333,\"#9c179e\"],[0.4444444444444444,\"#bd3786\"],[0.5555555555555556,\"#d8576b\"],[0.6666666666666666,\"#ed7953\"],[0.7777777777777778,\"#fb9f3a\"],[0.8888888888888888,\"#fdca26\"],[1.0,\"#f0f921\"]]}],\"heatmap\":[{\"type\":\"heatmap\",\"colorbar\":{\"outlinewidth\":0,\"ticks\":\"\"},\"colorscale\":[[0.0,\"#0d0887\"],[0.1111111111111111,\"#46039f\"],[0.2222222222222222,\"#7201a8\"],[0.3333333333333333,\"#9c179e\"],[0.4444444444444444,\"#bd3786\"],[0.5555555555555556,\"#d8576b\"],[0.6666666666666666,\"#ed7953\"],[0.7777777777777778,\"#fb9f3a\"],[0.8888888888888888,\"#fdca26\"],[1.0,\"#f0f921\"]]}],\"heatmapgl\":[{\"type\":\"heatmapgl\",\"colorbar\":{\"outlinewidth\":0,\"ticks\":\"\"},\"colorscale\":[[0.0,\"#0d0887\"],[0.1111111111111111,\"#46039f\"],[0.2222222222222222,\"#7201a8\"],[0.3333333333333333,\"#9c179e\"],[0.4444444444444444,\"#bd3786\"],[0.5555555555555556,\"#d8576b\"],[0.6666666666666666,\"#ed7953\"],[0.7777777777777778,\"#fb9f3a\"],[0.8888888888888888,\"#fdca26\"],[1.0,\"#f0f921\"]]}],\"contourcarpet\":[{\"type\":\"contourcarpet\",\"colorbar\":{\"outlinewidth\":0,\"ticks\":\"\"}}],\"contour\":[{\"type\":\"contour\",\"colorbar\":{\"outlinewidth\":0,\"ticks\":\"\"},\"colorscale\":[[0.0,\"#0d0887\"],[0.1111111111111111,\"#46039f\"],[0.2222222222222222,\"#7201a8\"],[0.3333333333333333,\"#9c179e\"],[0.4444444444444444,\"#bd3786\"],[0.5555555555555556,\"#d8576b\"],[0.6666666666666666,\"#ed7953\"],[0.7777777777777778,\"#fb9f3a\"],[0.8888888888888888,\"#fdca26\"],[1.0,\"#f0f921\"]]}],\"surface\":[{\"type\":\"surface\",\"colorbar\":{\"outlinewidth\":0,\"ticks\":\"\"},\"colorscale\":[[0.0,\"#0d0887\"],[0.1111111111111111,\"#46039f\"],[0.2222222222222222,\"#7201a8\"],[0.3333333333333333,\"#9c179e\"],[0.4444444444444444,\"#bd3786\"],[0.5555555555555556,\"#d8576b\"],[0.6666666666666666,\"#ed7953\"],[0.7777777777777778,\"#fb9f3a\"],[0.8888888888888888,\"#fdca26\"],[1.0,\"#f0f921\"]]}],\"mesh3d\":[{\"type\":\"mesh3d\",\"colorbar\":{\"outlinewidth\":0,\"ticks\":\"\"}}],\"scatter\":[{\"fillpattern\":{\"fillmode\":\"overlay\",\"size\":10,\"solidity\":0.2},\"type\":\"scatter\"}],\"parcoords\":[{\"type\":\"parcoords\",\"line\":{\"colorbar\":{\"outlinewidth\":0,\"ticks\":\"\"}}}],\"scatterpolargl\":[{\"type\":\"scatterpolargl\",\"marker\":{\"colorbar\":{\"outlinewidth\":0,\"ticks\":\"\"}}}],\"bar\":[{\"error_x\":{\"color\":\"#2a3f5f\"},\"error_y\":{\"color\":\"#2a3f5f\"},\"marker\":{\"line\":{\"color\":\"#E5ECF6\",\"width\":0.5},\"pattern\":{\"fillmode\":\"overlay\",\"size\":10,\"solidity\":0.2}},\"type\":\"bar\"}],\"scattergeo\":[{\"type\":\"scattergeo\",\"marker\":{\"colorbar\":{\"outlinewidth\":0,\"ticks\":\"\"}}}],\"scatterpolar\":[{\"type\":\"scatterpolar\",\"marker\":{\"colorbar\":{\"outlinewidth\":0,\"ticks\":\"\"}}}],\"histogram\":[{\"marker\":{\"pattern\":{\"fillmode\":\"overlay\",\"size\":10,\"solidity\":0.2}},\"type\":\"histogram\"}],\"scattergl\":[{\"type\":\"scattergl\",\"marker\":{\"colorbar\":{\"outlinewidth\":0,\"ticks\":\"\"}}}],\"scatter3d\":[{\"type\":\"scatter3d\",\"line\":{\"colorbar\":{\"outlinewidth\":0,\"ticks\":\"\"}},\"marker\":{\"colorbar\":{\"outlinewidth\":0,\"ticks\":\"\"}}}],\"scattermapbox\":[{\"type\":\"scattermapbox\",\"marker\":{\"colorbar\":{\"outlinewidth\":0,\"ticks\":\"\"}}}],\"scatterternary\":[{\"type\":\"scatterternary\",\"marker\":{\"colorbar\":{\"outlinewidth\":0,\"ticks\":\"\"}}}],\"scattercarpet\":[{\"type\":\"scattercarpet\",\"marker\":{\"colorbar\":{\"outlinewidth\":0,\"ticks\":\"\"}}}],\"carpet\":[{\"aaxis\":{\"endlinecolor\":\"#2a3f5f\",\"gridcolor\":\"white\",\"linecolor\":\"white\",\"minorgridcolor\":\"white\",\"startlinecolor\":\"#2a3f5f\"},\"baxis\":{\"endlinecolor\":\"#2a3f5f\",\"gridcolor\":\"white\",\"linecolor\":\"white\",\"minorgridcolor\":\"white\",\"startlinecolor\":\"#2a3f5f\"},\"type\":\"carpet\"}],\"table\":[{\"cells\":{\"fill\":{\"color\":\"#EBF0F8\"},\"line\":{\"color\":\"white\"}},\"header\":{\"fill\":{\"color\":\"#C8D4E3\"},\"line\":{\"color\":\"white\"}},\"type\":\"table\"}],\"barpolar\":[{\"marker\":{\"line\":{\"color\":\"#E5ECF6\",\"width\":0.5},\"pattern\":{\"fillmode\":\"overlay\",\"size\":10,\"solidity\":0.2}},\"type\":\"barpolar\"}],\"pie\":[{\"automargin\":true,\"type\":\"pie\"}]},\"layout\":{\"autotypenumbers\":\"strict\",\"colorway\":[\"#636efa\",\"#EF553B\",\"#00cc96\",\"#ab63fa\",\"#FFA15A\",\"#19d3f3\",\"#FF6692\",\"#B6E880\",\"#FF97FF\",\"#FECB52\"],\"font\":{\"color\":\"#2a3f5f\"},\"hovermode\":\"closest\",\"hoverlabel\":{\"align\":\"left\"},\"paper_bgcolor\":\"white\",\"plot_bgcolor\":\"#E5ECF6\",\"polar\":{\"bgcolor\":\"#E5ECF6\",\"angularaxis\":{\"gridcolor\":\"white\",\"linecolor\":\"white\",\"ticks\":\"\"},\"radialaxis\":{\"gridcolor\":\"white\",\"linecolor\":\"white\",\"ticks\":\"\"}},\"ternary\":{\"bgcolor\":\"#E5ECF6\",\"aaxis\":{\"gridcolor\":\"white\",\"linecolor\":\"white\",\"ticks\":\"\"},\"baxis\":{\"gridcolor\":\"white\",\"linecolor\":\"white\",\"ticks\":\"\"},\"caxis\":{\"gridcolor\":\"white\",\"linecolor\":\"white\",\"ticks\":\"\"}},\"coloraxis\":{\"colorbar\":{\"outlinewidth\":0,\"ticks\":\"\"}},\"colorscale\":{\"sequential\":[[0.0,\"#0d0887\"],[0.1111111111111111,\"#46039f\"],[0.2222222222222222,\"#7201a8\"],[0.3333333333333333,\"#9c179e\"],[0.4444444444444444,\"#bd3786\"],[0.5555555555555556,\"#d8576b\"],[0.6666666666666666,\"#ed7953\"],[0.7777777777777778,\"#fb9f3a\"],[0.8888888888888888,\"#fdca26\"],[1.0,\"#f0f921\"]],\"sequentialminus\":[[0.0,\"#0d0887\"],[0.1111111111111111,\"#46039f\"],[0.2222222222222222,\"#7201a8\"],[0.3333333333333333,\"#9c179e\"],[0.4444444444444444,\"#bd3786\"],[0.5555555555555556,\"#d8576b\"],[0.6666666666666666,\"#ed7953\"],[0.7777777777777778,\"#fb9f3a\"],[0.8888888888888888,\"#fdca26\"],[1.0,\"#f0f921\"]],\"diverging\":[[0,\"#8e0152\"],[0.1,\"#c51b7d\"],[0.2,\"#de77ae\"],[0.3,\"#f1b6da\"],[0.4,\"#fde0ef\"],[0.5,\"#f7f7f7\"],[0.6,\"#e6f5d0\"],[0.7,\"#b8e186\"],[0.8,\"#7fbc41\"],[0.9,\"#4d9221\"],[1,\"#276419\"]]},\"xaxis\":{\"gridcolor\":\"white\",\"linecolor\":\"white\",\"ticks\":\"\",\"title\":{\"standoff\":15},\"zerolinecolor\":\"white\",\"automargin\":true,\"zerolinewidth\":2},\"yaxis\":{\"gridcolor\":\"white\",\"linecolor\":\"white\",\"ticks\":\"\",\"title\":{\"standoff\":15},\"zerolinecolor\":\"white\",\"automargin\":true,\"zerolinewidth\":2},\"scene\":{\"xaxis\":{\"backgroundcolor\":\"#E5ECF6\",\"gridcolor\":\"white\",\"linecolor\":\"white\",\"showbackground\":true,\"ticks\":\"\",\"zerolinecolor\":\"white\",\"gridwidth\":2},\"yaxis\":{\"backgroundcolor\":\"#E5ECF6\",\"gridcolor\":\"white\",\"linecolor\":\"white\",\"showbackground\":true,\"ticks\":\"\",\"zerolinecolor\":\"white\",\"gridwidth\":2},\"zaxis\":{\"backgroundcolor\":\"#E5ECF6\",\"gridcolor\":\"white\",\"linecolor\":\"white\",\"showbackground\":true,\"ticks\":\"\",\"zerolinecolor\":\"white\",\"gridwidth\":2}},\"shapedefaults\":{\"line\":{\"color\":\"#2a3f5f\"}},\"annotationdefaults\":{\"arrowcolor\":\"#2a3f5f\",\"arrowhead\":0,\"arrowwidth\":1},\"geo\":{\"bgcolor\":\"white\",\"landcolor\":\"#E5ECF6\",\"subunitcolor\":\"white\",\"showland\":true,\"showlakes\":true,\"lakecolor\":\"white\"},\"title\":{\"x\":0.05},\"mapbox\":{\"style\":\"light\"}}},\"xaxis\":{\"anchor\":\"y\",\"domain\":[0.0,1.0],\"title\":{\"text\":\"count\"},\"range\":[0,2500]},\"yaxis\":{\"anchor\":\"x\",\"domain\":[0.0,1.0],\"title\":{\"text\":\"neighbourhood\"}},\"legend\":{\"tracegroupgap\":0},\"margin\":{\"t\":60},\"barmode\":\"relative\",\"font\":{\"size\":15,\"color\":\"#0f0f0f\",\"family\":\"Courier New, monospace\"},\"autosize\":false,\"height\":500,\"width\":1400},                        {\"responsive\": true}                    ).then(function(){\n",
              "                            \n",
              "var gd = document.getElementById('4b6afcaf-bd17-4f94-b441-74e9f7798c94');\n",
              "var x = new MutationObserver(function (mutations, observer) {{\n",
              "        var display = window.getComputedStyle(gd).display;\n",
              "        if (!display || display === 'none') {{\n",
              "            console.log([gd, 'removed!']);\n",
              "            Plotly.purge(gd);\n",
              "            observer.disconnect();\n",
              "        }}\n",
              "}});\n",
              "\n",
              "// Listen for the removal of the full notebook cells\n",
              "var notebookContainer = gd.closest('#notebook-container');\n",
              "if (notebookContainer) {{\n",
              "    x.observe(notebookContainer, {childList: true});\n",
              "}}\n",
              "\n",
              "// Listen for the clearing of the current output cell\n",
              "var outputEl = gd.closest('.output');\n",
              "if (outputEl) {{\n",
              "    x.observe(outputEl, {childList: true});\n",
              "}}\n",
              "\n",
              "                        })                };                            </script>        </div>\n",
              "</body>\n",
              "</html>"
            ]
          },
          "metadata": {}
        }
      ],
      "source": [
        "d=df_train.groupby(['neighbourhood']).size().sort_values(ascending=False).reset_index(name='count')\n",
        "fig=px.bar(d,\n",
        "                           y='neighbourhood',\n",
        "                           x='count',\n",
        "                           #size='count',\n",
        "                           #color='name',\n",
        "                           range_x=[0,2500]\n",
        "                           )\n",
        "fig.update_layout(autosize=False,\n",
        "                  height=500,\n",
        "                  width=1400,\n",
        "                  font=dict(size=15,color=\"#0f0f0f\",family=\"Courier New, monospace\"),\n",
        "                 )\n",
        "fig.show()"
      ]
    },
    {
      "cell_type": "markdown",
      "metadata": {
        "id": "kzJ6nzJ4CFd6"
      },
      "source": [
        "De Baarsjes - Oud-West is the most selected neigbourhood by the airbnd customers."
      ]
    },
    {
      "cell_type": "markdown",
      "metadata": {
        "id": "CI-LtTFmCFd6"
      },
      "source": [
        "lets know check about the room_type details"
      ]
    },
    {
      "cell_type": "code",
      "execution_count": 19,
      "metadata": {
        "colab": {
          "base_uri": "https://localhost:8080/"
        },
        "id": "pHqIG12lCFd6",
        "outputId": "07e989ff-bd42-4190-9a99-18ede434baa1"
      },
      "outputs": [
        {
          "output_type": "execute_result",
          "data": {
            "text/plain": [
              "<bound method Series.unique of 0        Entire home/apt\n",
              "1        Entire home/apt\n",
              "2        Entire home/apt\n",
              "3        Entire home/apt\n",
              "4           Private room\n",
              "              ...       \n",
              "12896    Entire home/apt\n",
              "12897    Entire home/apt\n",
              "12898    Entire home/apt\n",
              "12899    Entire home/apt\n",
              "12900         Hotel room\n",
              "Name: room_type, Length: 12901, dtype: object>"
            ]
          },
          "metadata": {},
          "execution_count": 19
        }
      ],
      "source": [
        "df_train.room_type.unique"
      ]
    },
    {
      "cell_type": "code",
      "execution_count": 20,
      "metadata": {
        "colab": {
          "base_uri": "https://localhost:8080/",
          "height": 537
        },
        "id": "LoR1x3BfCFd6",
        "outputId": "67cc5e62-c8cc-49f8-e832-7788e4dfb647"
      },
      "outputs": [
        {
          "output_type": "display_data",
          "data": {
            "text/html": [
              "<html>\n",
              "<head><meta charset=\"utf-8\" /></head>\n",
              "<body>\n",
              "    <div>            <script src=\"https://cdnjs.cloudflare.com/ajax/libs/mathjax/2.7.5/MathJax.js?config=TeX-AMS-MML_SVG\"></script><script type=\"text/javascript\">if (window.MathJax && window.MathJax.Hub && window.MathJax.Hub.Config) {window.MathJax.Hub.Config({SVG: {font: \"STIX-Web\"}});}</script>                <script type=\"text/javascript\">window.PlotlyConfig = {MathJaxConfig: 'local'};</script>\n",
              "        <script charset=\"utf-8\" src=\"https://cdn.plot.ly/plotly-2.24.1.min.js\"></script>                <div id=\"41e87cae-9378-45a0-b4d4-fd9892753951\" class=\"plotly-graph-div\" style=\"height:500px; width:1400px;\"></div>            <script type=\"text/javascript\">                                    window.PLOTLYENV=window.PLOTLYENV || {};                                    if (document.getElementById(\"41e87cae-9378-45a0-b4d4-fd9892753951\")) {                    Plotly.newPlot(                        \"41e87cae-9378-45a0-b4d4-fd9892753951\",                        [{\"alignmentgroup\":\"True\",\"hovertemplate\":\"count=%{x}\\u003cbr\\u003eroom_type=%{y}\\u003cextra\\u003e\\u003c\\u002fextra\\u003e\",\"legendgroup\":\"\",\"marker\":{\"color\":\"#636efa\",\"pattern\":{\"shape\":\"\"}},\"name\":\"\",\"offsetgroup\":\"\",\"orientation\":\"h\",\"showlegend\":false,\"textposition\":\"auto\",\"x\":[10064,2622,174,41],\"xaxis\":\"x\",\"y\":[\"Entire home\\u002fapt\",\"Private room\",\"Hotel room\",\"Shared room\"],\"yaxis\":\"y\",\"type\":\"bar\"}],                        {\"template\":{\"data\":{\"histogram2dcontour\":[{\"type\":\"histogram2dcontour\",\"colorbar\":{\"outlinewidth\":0,\"ticks\":\"\"},\"colorscale\":[[0.0,\"#0d0887\"],[0.1111111111111111,\"#46039f\"],[0.2222222222222222,\"#7201a8\"],[0.3333333333333333,\"#9c179e\"],[0.4444444444444444,\"#bd3786\"],[0.5555555555555556,\"#d8576b\"],[0.6666666666666666,\"#ed7953\"],[0.7777777777777778,\"#fb9f3a\"],[0.8888888888888888,\"#fdca26\"],[1.0,\"#f0f921\"]]}],\"choropleth\":[{\"type\":\"choropleth\",\"colorbar\":{\"outlinewidth\":0,\"ticks\":\"\"}}],\"histogram2d\":[{\"type\":\"histogram2d\",\"colorbar\":{\"outlinewidth\":0,\"ticks\":\"\"},\"colorscale\":[[0.0,\"#0d0887\"],[0.1111111111111111,\"#46039f\"],[0.2222222222222222,\"#7201a8\"],[0.3333333333333333,\"#9c179e\"],[0.4444444444444444,\"#bd3786\"],[0.5555555555555556,\"#d8576b\"],[0.6666666666666666,\"#ed7953\"],[0.7777777777777778,\"#fb9f3a\"],[0.8888888888888888,\"#fdca26\"],[1.0,\"#f0f921\"]]}],\"heatmap\":[{\"type\":\"heatmap\",\"colorbar\":{\"outlinewidth\":0,\"ticks\":\"\"},\"colorscale\":[[0.0,\"#0d0887\"],[0.1111111111111111,\"#46039f\"],[0.2222222222222222,\"#7201a8\"],[0.3333333333333333,\"#9c179e\"],[0.4444444444444444,\"#bd3786\"],[0.5555555555555556,\"#d8576b\"],[0.6666666666666666,\"#ed7953\"],[0.7777777777777778,\"#fb9f3a\"],[0.8888888888888888,\"#fdca26\"],[1.0,\"#f0f921\"]]}],\"heatmapgl\":[{\"type\":\"heatmapgl\",\"colorbar\":{\"outlinewidth\":0,\"ticks\":\"\"},\"colorscale\":[[0.0,\"#0d0887\"],[0.1111111111111111,\"#46039f\"],[0.2222222222222222,\"#7201a8\"],[0.3333333333333333,\"#9c179e\"],[0.4444444444444444,\"#bd3786\"],[0.5555555555555556,\"#d8576b\"],[0.6666666666666666,\"#ed7953\"],[0.7777777777777778,\"#fb9f3a\"],[0.8888888888888888,\"#fdca26\"],[1.0,\"#f0f921\"]]}],\"contourcarpet\":[{\"type\":\"contourcarpet\",\"colorbar\":{\"outlinewidth\":0,\"ticks\":\"\"}}],\"contour\":[{\"type\":\"contour\",\"colorbar\":{\"outlinewidth\":0,\"ticks\":\"\"},\"colorscale\":[[0.0,\"#0d0887\"],[0.1111111111111111,\"#46039f\"],[0.2222222222222222,\"#7201a8\"],[0.3333333333333333,\"#9c179e\"],[0.4444444444444444,\"#bd3786\"],[0.5555555555555556,\"#d8576b\"],[0.6666666666666666,\"#ed7953\"],[0.7777777777777778,\"#fb9f3a\"],[0.8888888888888888,\"#fdca26\"],[1.0,\"#f0f921\"]]}],\"surface\":[{\"type\":\"surface\",\"colorbar\":{\"outlinewidth\":0,\"ticks\":\"\"},\"colorscale\":[[0.0,\"#0d0887\"],[0.1111111111111111,\"#46039f\"],[0.2222222222222222,\"#7201a8\"],[0.3333333333333333,\"#9c179e\"],[0.4444444444444444,\"#bd3786\"],[0.5555555555555556,\"#d8576b\"],[0.6666666666666666,\"#ed7953\"],[0.7777777777777778,\"#fb9f3a\"],[0.8888888888888888,\"#fdca26\"],[1.0,\"#f0f921\"]]}],\"mesh3d\":[{\"type\":\"mesh3d\",\"colorbar\":{\"outlinewidth\":0,\"ticks\":\"\"}}],\"scatter\":[{\"fillpattern\":{\"fillmode\":\"overlay\",\"size\":10,\"solidity\":0.2},\"type\":\"scatter\"}],\"parcoords\":[{\"type\":\"parcoords\",\"line\":{\"colorbar\":{\"outlinewidth\":0,\"ticks\":\"\"}}}],\"scatterpolargl\":[{\"type\":\"scatterpolargl\",\"marker\":{\"colorbar\":{\"outlinewidth\":0,\"ticks\":\"\"}}}],\"bar\":[{\"error_x\":{\"color\":\"#2a3f5f\"},\"error_y\":{\"color\":\"#2a3f5f\"},\"marker\":{\"line\":{\"color\":\"#E5ECF6\",\"width\":0.5},\"pattern\":{\"fillmode\":\"overlay\",\"size\":10,\"solidity\":0.2}},\"type\":\"bar\"}],\"scattergeo\":[{\"type\":\"scattergeo\",\"marker\":{\"colorbar\":{\"outlinewidth\":0,\"ticks\":\"\"}}}],\"scatterpolar\":[{\"type\":\"scatterpolar\",\"marker\":{\"colorbar\":{\"outlinewidth\":0,\"ticks\":\"\"}}}],\"histogram\":[{\"marker\":{\"pattern\":{\"fillmode\":\"overlay\",\"size\":10,\"solidity\":0.2}},\"type\":\"histogram\"}],\"scattergl\":[{\"type\":\"scattergl\",\"marker\":{\"colorbar\":{\"outlinewidth\":0,\"ticks\":\"\"}}}],\"scatter3d\":[{\"type\":\"scatter3d\",\"line\":{\"colorbar\":{\"outlinewidth\":0,\"ticks\":\"\"}},\"marker\":{\"colorbar\":{\"outlinewidth\":0,\"ticks\":\"\"}}}],\"scattermapbox\":[{\"type\":\"scattermapbox\",\"marker\":{\"colorbar\":{\"outlinewidth\":0,\"ticks\":\"\"}}}],\"scatterternary\":[{\"type\":\"scatterternary\",\"marker\":{\"colorbar\":{\"outlinewidth\":0,\"ticks\":\"\"}}}],\"scattercarpet\":[{\"type\":\"scattercarpet\",\"marker\":{\"colorbar\":{\"outlinewidth\":0,\"ticks\":\"\"}}}],\"carpet\":[{\"aaxis\":{\"endlinecolor\":\"#2a3f5f\",\"gridcolor\":\"white\",\"linecolor\":\"white\",\"minorgridcolor\":\"white\",\"startlinecolor\":\"#2a3f5f\"},\"baxis\":{\"endlinecolor\":\"#2a3f5f\",\"gridcolor\":\"white\",\"linecolor\":\"white\",\"minorgridcolor\":\"white\",\"startlinecolor\":\"#2a3f5f\"},\"type\":\"carpet\"}],\"table\":[{\"cells\":{\"fill\":{\"color\":\"#EBF0F8\"},\"line\":{\"color\":\"white\"}},\"header\":{\"fill\":{\"color\":\"#C8D4E3\"},\"line\":{\"color\":\"white\"}},\"type\":\"table\"}],\"barpolar\":[{\"marker\":{\"line\":{\"color\":\"#E5ECF6\",\"width\":0.5},\"pattern\":{\"fillmode\":\"overlay\",\"size\":10,\"solidity\":0.2}},\"type\":\"barpolar\"}],\"pie\":[{\"automargin\":true,\"type\":\"pie\"}]},\"layout\":{\"autotypenumbers\":\"strict\",\"colorway\":[\"#636efa\",\"#EF553B\",\"#00cc96\",\"#ab63fa\",\"#FFA15A\",\"#19d3f3\",\"#FF6692\",\"#B6E880\",\"#FF97FF\",\"#FECB52\"],\"font\":{\"color\":\"#2a3f5f\"},\"hovermode\":\"closest\",\"hoverlabel\":{\"align\":\"left\"},\"paper_bgcolor\":\"white\",\"plot_bgcolor\":\"#E5ECF6\",\"polar\":{\"bgcolor\":\"#E5ECF6\",\"angularaxis\":{\"gridcolor\":\"white\",\"linecolor\":\"white\",\"ticks\":\"\"},\"radialaxis\":{\"gridcolor\":\"white\",\"linecolor\":\"white\",\"ticks\":\"\"}},\"ternary\":{\"bgcolor\":\"#E5ECF6\",\"aaxis\":{\"gridcolor\":\"white\",\"linecolor\":\"white\",\"ticks\":\"\"},\"baxis\":{\"gridcolor\":\"white\",\"linecolor\":\"white\",\"ticks\":\"\"},\"caxis\":{\"gridcolor\":\"white\",\"linecolor\":\"white\",\"ticks\":\"\"}},\"coloraxis\":{\"colorbar\":{\"outlinewidth\":0,\"ticks\":\"\"}},\"colorscale\":{\"sequential\":[[0.0,\"#0d0887\"],[0.1111111111111111,\"#46039f\"],[0.2222222222222222,\"#7201a8\"],[0.3333333333333333,\"#9c179e\"],[0.4444444444444444,\"#bd3786\"],[0.5555555555555556,\"#d8576b\"],[0.6666666666666666,\"#ed7953\"],[0.7777777777777778,\"#fb9f3a\"],[0.8888888888888888,\"#fdca26\"],[1.0,\"#f0f921\"]],\"sequentialminus\":[[0.0,\"#0d0887\"],[0.1111111111111111,\"#46039f\"],[0.2222222222222222,\"#7201a8\"],[0.3333333333333333,\"#9c179e\"],[0.4444444444444444,\"#bd3786\"],[0.5555555555555556,\"#d8576b\"],[0.6666666666666666,\"#ed7953\"],[0.7777777777777778,\"#fb9f3a\"],[0.8888888888888888,\"#fdca26\"],[1.0,\"#f0f921\"]],\"diverging\":[[0,\"#8e0152\"],[0.1,\"#c51b7d\"],[0.2,\"#de77ae\"],[0.3,\"#f1b6da\"],[0.4,\"#fde0ef\"],[0.5,\"#f7f7f7\"],[0.6,\"#e6f5d0\"],[0.7,\"#b8e186\"],[0.8,\"#7fbc41\"],[0.9,\"#4d9221\"],[1,\"#276419\"]]},\"xaxis\":{\"gridcolor\":\"white\",\"linecolor\":\"white\",\"ticks\":\"\",\"title\":{\"standoff\":15},\"zerolinecolor\":\"white\",\"automargin\":true,\"zerolinewidth\":2},\"yaxis\":{\"gridcolor\":\"white\",\"linecolor\":\"white\",\"ticks\":\"\",\"title\":{\"standoff\":15},\"zerolinecolor\":\"white\",\"automargin\":true,\"zerolinewidth\":2},\"scene\":{\"xaxis\":{\"backgroundcolor\":\"#E5ECF6\",\"gridcolor\":\"white\",\"linecolor\":\"white\",\"showbackground\":true,\"ticks\":\"\",\"zerolinecolor\":\"white\",\"gridwidth\":2},\"yaxis\":{\"backgroundcolor\":\"#E5ECF6\",\"gridcolor\":\"white\",\"linecolor\":\"white\",\"showbackground\":true,\"ticks\":\"\",\"zerolinecolor\":\"white\",\"gridwidth\":2},\"zaxis\":{\"backgroundcolor\":\"#E5ECF6\",\"gridcolor\":\"white\",\"linecolor\":\"white\",\"showbackground\":true,\"ticks\":\"\",\"zerolinecolor\":\"white\",\"gridwidth\":2}},\"shapedefaults\":{\"line\":{\"color\":\"#2a3f5f\"}},\"annotationdefaults\":{\"arrowcolor\":\"#2a3f5f\",\"arrowhead\":0,\"arrowwidth\":1},\"geo\":{\"bgcolor\":\"white\",\"landcolor\":\"#E5ECF6\",\"subunitcolor\":\"white\",\"showland\":true,\"showlakes\":true,\"lakecolor\":\"white\"},\"title\":{\"x\":0.05},\"mapbox\":{\"style\":\"light\"}}},\"xaxis\":{\"anchor\":\"y\",\"domain\":[0.0,1.0],\"title\":{\"text\":\"count\"}},\"yaxis\":{\"anchor\":\"x\",\"domain\":[0.0,1.0],\"title\":{\"text\":\"room_type\"}},\"legend\":{\"tracegroupgap\":0},\"margin\":{\"t\":60},\"barmode\":\"relative\",\"font\":{\"size\":15,\"color\":\"#0f0f0f\",\"family\":\"Courier New, monospace\"},\"autosize\":false,\"height\":500,\"width\":1400},                        {\"responsive\": true}                    ).then(function(){\n",
              "                            \n",
              "var gd = document.getElementById('41e87cae-9378-45a0-b4d4-fd9892753951');\n",
              "var x = new MutationObserver(function (mutations, observer) {{\n",
              "        var display = window.getComputedStyle(gd).display;\n",
              "        if (!display || display === 'none') {{\n",
              "            console.log([gd, 'removed!']);\n",
              "            Plotly.purge(gd);\n",
              "            observer.disconnect();\n",
              "        }}\n",
              "}});\n",
              "\n",
              "// Listen for the removal of the full notebook cells\n",
              "var notebookContainer = gd.closest('#notebook-container');\n",
              "if (notebookContainer) {{\n",
              "    x.observe(notebookContainer, {childList: true});\n",
              "}}\n",
              "\n",
              "// Listen for the clearing of the current output cell\n",
              "var outputEl = gd.closest('.output');\n",
              "if (outputEl) {{\n",
              "    x.observe(outputEl, {childList: true});\n",
              "}}\n",
              "\n",
              "                        })                };                            </script>        </div>\n",
              "</body>\n",
              "</html>"
            ]
          },
          "metadata": {}
        }
      ],
      "source": [
        "d=df_train.groupby(['room_type']).size().sort_values(ascending=False).reset_index(name='count')\n",
        "fig=px.bar(d,\n",
        "                           y='room_type',\n",
        "                           x='count',\n",
        "                           #size='count',\n",
        "                           #color='name',\n",
        "                           #range_y=[0,5]\n",
        "                           )\n",
        "fig.update_layout(autosize=False,\n",
        "                  height=500,\n",
        "                  width=1400,\n",
        "                  font=dict(size=15,color=\"#0f0f0f\",family=\"Courier New, monospace\"),\n",
        "                 )\n",
        "fig.show()"
      ]
    },
    {
      "cell_type": "markdown",
      "metadata": {
        "id": "DeCepKOTCFd6"
      },
      "source": [
        "Looks like the customers prefer the enite home very few customers  prefered shared rooms."
      ]
    },
    {
      "cell_type": "markdown",
      "metadata": {
        "id": "YxlND21HCFd6"
      },
      "source": [
        "lets now check about the minimum number of nights  the customer want to book"
      ]
    },
    {
      "cell_type": "code",
      "execution_count": 21,
      "metadata": {
        "colab": {
          "base_uri": "https://localhost:8080/"
        },
        "id": "JoBYKPaLCFd6",
        "outputId": "b4d3d35b-6ec9-483d-be55-32b1479b6326"
      },
      "outputs": [
        {
          "output_type": "execute_result",
          "data": {
            "text/plain": [
              "count    12901.000000\n",
              "mean         3.542516\n",
              "std         15.154077\n",
              "min          1.000000\n",
              "25%          2.000000\n",
              "50%          2.000000\n",
              "75%          3.000000\n",
              "max       1001.000000\n",
              "Name: minimum_nights, dtype: float64"
            ]
          },
          "metadata": {},
          "execution_count": 21
        }
      ],
      "source": [
        "df_train.minimum_nights.describe()"
      ]
    },
    {
      "cell_type": "markdown",
      "metadata": {
        "id": "rjhX5K3VCFd6"
      },
      "source": [
        "Looks like customers prefer booking for minimum one day and maximum 1001 days. on an average customers pefer booking for 3 days.\n"
      ]
    },
    {
      "cell_type": "code",
      "execution_count": 22,
      "metadata": {
        "colab": {
          "base_uri": "https://localhost:8080/",
          "height": 537
        },
        "id": "3N4tfaasCFd6",
        "outputId": "290accb2-ddcb-40e5-f220-1ba33ee4628e"
      },
      "outputs": [
        {
          "output_type": "display_data",
          "data": {
            "text/html": [
              "<html>\n",
              "<head><meta charset=\"utf-8\" /></head>\n",
              "<body>\n",
              "    <div>            <script src=\"https://cdnjs.cloudflare.com/ajax/libs/mathjax/2.7.5/MathJax.js?config=TeX-AMS-MML_SVG\"></script><script type=\"text/javascript\">if (window.MathJax && window.MathJax.Hub && window.MathJax.Hub.Config) {window.MathJax.Hub.Config({SVG: {font: \"STIX-Web\"}});}</script>                <script type=\"text/javascript\">window.PlotlyConfig = {MathJaxConfig: 'local'};</script>\n",
              "        <script charset=\"utf-8\" src=\"https://cdn.plot.ly/plotly-2.24.1.min.js\"></script>                <div id=\"3218685d-c959-4e67-91f5-30353abd47df\" class=\"plotly-graph-div\" style=\"height:500px; width:1400px;\"></div>            <script type=\"text/javascript\">                                    window.PLOTLYENV=window.PLOTLYENV || {};                                    if (document.getElementById(\"3218685d-c959-4e67-91f5-30353abd47df\")) {                    Plotly.newPlot(                        \"3218685d-c959-4e67-91f5-30353abd47df\",                        [{\"hovertemplate\":\"minimum_nights=%{marker.color}\\u003cbr\\u003ecount=%{y}\\u003cextra\\u003e\\u003c\\u002fextra\\u003e\",\"legendgroup\":\"\",\"marker\":{\"color\":[2,3,1,4,5,7,6,14,10,30,20,21,8,9,60,12,15,28,25,90,11,13,23,18,180,59,50,45,120,150,365,42,16,26,40,19,999,300,240,222,200,186,181,17,22,38,100,99,95,24,89,70,27,31,37,1001],\"coloraxis\":\"coloraxis\",\"size\":[2,3,1,4,5,7,6,14,10,30,20,21,8,9,60,12,15,28,25,90,11,13,23,18,180,59,50,45,120,150,365,42,16,26,40,19,999,300,240,222,200,186,181,17,22,38,100,99,95,24,89,70,27,31,37,1001],\"sizemode\":\"area\",\"sizeref\":2.5025,\"symbol\":\"circle\"},\"mode\":\"markers\",\"name\":\"\",\"orientation\":\"v\",\"showlegend\":false,\"x\":[2,3,1,4,5,7,6,14,10,30,20,21,8,9,60,12,15,28,25,90,11,13,23,18,180,59,50,45,120,150,365,42,16,26,40,19,999,300,240,222,200,186,181,17,22,38,100,99,95,24,89,70,27,31,37,1001],\"xaxis\":\"x\",\"y\":[4968,3191,2138,1051,641,374,156,71,61,53,29,24,23,13,13,8,8,7,7,5,4,4,3,3,3,3,3,3,2,2,2,2,2,2,1,1,1,1,1,1,1,1,1,1,1,1,1,1,1,1,1,1,1,1,1,1],\"yaxis\":\"y\",\"type\":\"scatter\"}],                        {\"template\":{\"data\":{\"histogram2dcontour\":[{\"type\":\"histogram2dcontour\",\"colorbar\":{\"outlinewidth\":0,\"ticks\":\"\"},\"colorscale\":[[0.0,\"#0d0887\"],[0.1111111111111111,\"#46039f\"],[0.2222222222222222,\"#7201a8\"],[0.3333333333333333,\"#9c179e\"],[0.4444444444444444,\"#bd3786\"],[0.5555555555555556,\"#d8576b\"],[0.6666666666666666,\"#ed7953\"],[0.7777777777777778,\"#fb9f3a\"],[0.8888888888888888,\"#fdca26\"],[1.0,\"#f0f921\"]]}],\"choropleth\":[{\"type\":\"choropleth\",\"colorbar\":{\"outlinewidth\":0,\"ticks\":\"\"}}],\"histogram2d\":[{\"type\":\"histogram2d\",\"colorbar\":{\"outlinewidth\":0,\"ticks\":\"\"},\"colorscale\":[[0.0,\"#0d0887\"],[0.1111111111111111,\"#46039f\"],[0.2222222222222222,\"#7201a8\"],[0.3333333333333333,\"#9c179e\"],[0.4444444444444444,\"#bd3786\"],[0.5555555555555556,\"#d8576b\"],[0.6666666666666666,\"#ed7953\"],[0.7777777777777778,\"#fb9f3a\"],[0.8888888888888888,\"#fdca26\"],[1.0,\"#f0f921\"]]}],\"heatmap\":[{\"type\":\"heatmap\",\"colorbar\":{\"outlinewidth\":0,\"ticks\":\"\"},\"colorscale\":[[0.0,\"#0d0887\"],[0.1111111111111111,\"#46039f\"],[0.2222222222222222,\"#7201a8\"],[0.3333333333333333,\"#9c179e\"],[0.4444444444444444,\"#bd3786\"],[0.5555555555555556,\"#d8576b\"],[0.6666666666666666,\"#ed7953\"],[0.7777777777777778,\"#fb9f3a\"],[0.8888888888888888,\"#fdca26\"],[1.0,\"#f0f921\"]]}],\"heatmapgl\":[{\"type\":\"heatmapgl\",\"colorbar\":{\"outlinewidth\":0,\"ticks\":\"\"},\"colorscale\":[[0.0,\"#0d0887\"],[0.1111111111111111,\"#46039f\"],[0.2222222222222222,\"#7201a8\"],[0.3333333333333333,\"#9c179e\"],[0.4444444444444444,\"#bd3786\"],[0.5555555555555556,\"#d8576b\"],[0.6666666666666666,\"#ed7953\"],[0.7777777777777778,\"#fb9f3a\"],[0.8888888888888888,\"#fdca26\"],[1.0,\"#f0f921\"]]}],\"contourcarpet\":[{\"type\":\"contourcarpet\",\"colorbar\":{\"outlinewidth\":0,\"ticks\":\"\"}}],\"contour\":[{\"type\":\"contour\",\"colorbar\":{\"outlinewidth\":0,\"ticks\":\"\"},\"colorscale\":[[0.0,\"#0d0887\"],[0.1111111111111111,\"#46039f\"],[0.2222222222222222,\"#7201a8\"],[0.3333333333333333,\"#9c179e\"],[0.4444444444444444,\"#bd3786\"],[0.5555555555555556,\"#d8576b\"],[0.6666666666666666,\"#ed7953\"],[0.7777777777777778,\"#fb9f3a\"],[0.8888888888888888,\"#fdca26\"],[1.0,\"#f0f921\"]]}],\"surface\":[{\"type\":\"surface\",\"colorbar\":{\"outlinewidth\":0,\"ticks\":\"\"},\"colorscale\":[[0.0,\"#0d0887\"],[0.1111111111111111,\"#46039f\"],[0.2222222222222222,\"#7201a8\"],[0.3333333333333333,\"#9c179e\"],[0.4444444444444444,\"#bd3786\"],[0.5555555555555556,\"#d8576b\"],[0.6666666666666666,\"#ed7953\"],[0.7777777777777778,\"#fb9f3a\"],[0.8888888888888888,\"#fdca26\"],[1.0,\"#f0f921\"]]}],\"mesh3d\":[{\"type\":\"mesh3d\",\"colorbar\":{\"outlinewidth\":0,\"ticks\":\"\"}}],\"scatter\":[{\"fillpattern\":{\"fillmode\":\"overlay\",\"size\":10,\"solidity\":0.2},\"type\":\"scatter\"}],\"parcoords\":[{\"type\":\"parcoords\",\"line\":{\"colorbar\":{\"outlinewidth\":0,\"ticks\":\"\"}}}],\"scatterpolargl\":[{\"type\":\"scatterpolargl\",\"marker\":{\"colorbar\":{\"outlinewidth\":0,\"ticks\":\"\"}}}],\"bar\":[{\"error_x\":{\"color\":\"#2a3f5f\"},\"error_y\":{\"color\":\"#2a3f5f\"},\"marker\":{\"line\":{\"color\":\"#E5ECF6\",\"width\":0.5},\"pattern\":{\"fillmode\":\"overlay\",\"size\":10,\"solidity\":0.2}},\"type\":\"bar\"}],\"scattergeo\":[{\"type\":\"scattergeo\",\"marker\":{\"colorbar\":{\"outlinewidth\":0,\"ticks\":\"\"}}}],\"scatterpolar\":[{\"type\":\"scatterpolar\",\"marker\":{\"colorbar\":{\"outlinewidth\":0,\"ticks\":\"\"}}}],\"histogram\":[{\"marker\":{\"pattern\":{\"fillmode\":\"overlay\",\"size\":10,\"solidity\":0.2}},\"type\":\"histogram\"}],\"scattergl\":[{\"type\":\"scattergl\",\"marker\":{\"colorbar\":{\"outlinewidth\":0,\"ticks\":\"\"}}}],\"scatter3d\":[{\"type\":\"scatter3d\",\"line\":{\"colorbar\":{\"outlinewidth\":0,\"ticks\":\"\"}},\"marker\":{\"colorbar\":{\"outlinewidth\":0,\"ticks\":\"\"}}}],\"scattermapbox\":[{\"type\":\"scattermapbox\",\"marker\":{\"colorbar\":{\"outlinewidth\":0,\"ticks\":\"\"}}}],\"scatterternary\":[{\"type\":\"scatterternary\",\"marker\":{\"colorbar\":{\"outlinewidth\":0,\"ticks\":\"\"}}}],\"scattercarpet\":[{\"type\":\"scattercarpet\",\"marker\":{\"colorbar\":{\"outlinewidth\":0,\"ticks\":\"\"}}}],\"carpet\":[{\"aaxis\":{\"endlinecolor\":\"#2a3f5f\",\"gridcolor\":\"white\",\"linecolor\":\"white\",\"minorgridcolor\":\"white\",\"startlinecolor\":\"#2a3f5f\"},\"baxis\":{\"endlinecolor\":\"#2a3f5f\",\"gridcolor\":\"white\",\"linecolor\":\"white\",\"minorgridcolor\":\"white\",\"startlinecolor\":\"#2a3f5f\"},\"type\":\"carpet\"}],\"table\":[{\"cells\":{\"fill\":{\"color\":\"#EBF0F8\"},\"line\":{\"color\":\"white\"}},\"header\":{\"fill\":{\"color\":\"#C8D4E3\"},\"line\":{\"color\":\"white\"}},\"type\":\"table\"}],\"barpolar\":[{\"marker\":{\"line\":{\"color\":\"#E5ECF6\",\"width\":0.5},\"pattern\":{\"fillmode\":\"overlay\",\"size\":10,\"solidity\":0.2}},\"type\":\"barpolar\"}],\"pie\":[{\"automargin\":true,\"type\":\"pie\"}]},\"layout\":{\"autotypenumbers\":\"strict\",\"colorway\":[\"#636efa\",\"#EF553B\",\"#00cc96\",\"#ab63fa\",\"#FFA15A\",\"#19d3f3\",\"#FF6692\",\"#B6E880\",\"#FF97FF\",\"#FECB52\"],\"font\":{\"color\":\"#2a3f5f\"},\"hovermode\":\"closest\",\"hoverlabel\":{\"align\":\"left\"},\"paper_bgcolor\":\"white\",\"plot_bgcolor\":\"#E5ECF6\",\"polar\":{\"bgcolor\":\"#E5ECF6\",\"angularaxis\":{\"gridcolor\":\"white\",\"linecolor\":\"white\",\"ticks\":\"\"},\"radialaxis\":{\"gridcolor\":\"white\",\"linecolor\":\"white\",\"ticks\":\"\"}},\"ternary\":{\"bgcolor\":\"#E5ECF6\",\"aaxis\":{\"gridcolor\":\"white\",\"linecolor\":\"white\",\"ticks\":\"\"},\"baxis\":{\"gridcolor\":\"white\",\"linecolor\":\"white\",\"ticks\":\"\"},\"caxis\":{\"gridcolor\":\"white\",\"linecolor\":\"white\",\"ticks\":\"\"}},\"coloraxis\":{\"colorbar\":{\"outlinewidth\":0,\"ticks\":\"\"}},\"colorscale\":{\"sequential\":[[0.0,\"#0d0887\"],[0.1111111111111111,\"#46039f\"],[0.2222222222222222,\"#7201a8\"],[0.3333333333333333,\"#9c179e\"],[0.4444444444444444,\"#bd3786\"],[0.5555555555555556,\"#d8576b\"],[0.6666666666666666,\"#ed7953\"],[0.7777777777777778,\"#fb9f3a\"],[0.8888888888888888,\"#fdca26\"],[1.0,\"#f0f921\"]],\"sequentialminus\":[[0.0,\"#0d0887\"],[0.1111111111111111,\"#46039f\"],[0.2222222222222222,\"#7201a8\"],[0.3333333333333333,\"#9c179e\"],[0.4444444444444444,\"#bd3786\"],[0.5555555555555556,\"#d8576b\"],[0.6666666666666666,\"#ed7953\"],[0.7777777777777778,\"#fb9f3a\"],[0.8888888888888888,\"#fdca26\"],[1.0,\"#f0f921\"]],\"diverging\":[[0,\"#8e0152\"],[0.1,\"#c51b7d\"],[0.2,\"#de77ae\"],[0.3,\"#f1b6da\"],[0.4,\"#fde0ef\"],[0.5,\"#f7f7f7\"],[0.6,\"#e6f5d0\"],[0.7,\"#b8e186\"],[0.8,\"#7fbc41\"],[0.9,\"#4d9221\"],[1,\"#276419\"]]},\"xaxis\":{\"gridcolor\":\"white\",\"linecolor\":\"white\",\"ticks\":\"\",\"title\":{\"standoff\":15},\"zerolinecolor\":\"white\",\"automargin\":true,\"zerolinewidth\":2},\"yaxis\":{\"gridcolor\":\"white\",\"linecolor\":\"white\",\"ticks\":\"\",\"title\":{\"standoff\":15},\"zerolinecolor\":\"white\",\"automargin\":true,\"zerolinewidth\":2},\"scene\":{\"xaxis\":{\"backgroundcolor\":\"#E5ECF6\",\"gridcolor\":\"white\",\"linecolor\":\"white\",\"showbackground\":true,\"ticks\":\"\",\"zerolinecolor\":\"white\",\"gridwidth\":2},\"yaxis\":{\"backgroundcolor\":\"#E5ECF6\",\"gridcolor\":\"white\",\"linecolor\":\"white\",\"showbackground\":true,\"ticks\":\"\",\"zerolinecolor\":\"white\",\"gridwidth\":2},\"zaxis\":{\"backgroundcolor\":\"#E5ECF6\",\"gridcolor\":\"white\",\"linecolor\":\"white\",\"showbackground\":true,\"ticks\":\"\",\"zerolinecolor\":\"white\",\"gridwidth\":2}},\"shapedefaults\":{\"line\":{\"color\":\"#2a3f5f\"}},\"annotationdefaults\":{\"arrowcolor\":\"#2a3f5f\",\"arrowhead\":0,\"arrowwidth\":1},\"geo\":{\"bgcolor\":\"white\",\"landcolor\":\"#E5ECF6\",\"subunitcolor\":\"white\",\"showland\":true,\"showlakes\":true,\"lakecolor\":\"white\"},\"title\":{\"x\":0.05},\"mapbox\":{\"style\":\"light\"}}},\"xaxis\":{\"anchor\":\"y\",\"domain\":[0.0,1.0],\"title\":{\"text\":\"minimum_nights\"},\"range\":[0,1005]},\"yaxis\":{\"anchor\":\"x\",\"domain\":[0.0,1.0],\"title\":{\"text\":\"count\"},\"range\":[0,80]},\"coloraxis\":{\"colorbar\":{\"title\":{\"text\":\"minimum_nights\"}},\"colorscale\":[[0.0,\"#0d0887\"],[0.1111111111111111,\"#46039f\"],[0.2222222222222222,\"#7201a8\"],[0.3333333333333333,\"#9c179e\"],[0.4444444444444444,\"#bd3786\"],[0.5555555555555556,\"#d8576b\"],[0.6666666666666666,\"#ed7953\"],[0.7777777777777778,\"#fb9f3a\"],[0.8888888888888888,\"#fdca26\"],[1.0,\"#f0f921\"]]},\"legend\":{\"tracegroupgap\":0,\"itemsizing\":\"constant\"},\"margin\":{\"t\":60},\"font\":{\"size\":15,\"color\":\"#0f0f0f\",\"family\":\"Courier New, monospace\"},\"autosize\":false,\"height\":500,\"width\":1400},                        {\"responsive\": true}                    ).then(function(){\n",
              "                            \n",
              "var gd = document.getElementById('3218685d-c959-4e67-91f5-30353abd47df');\n",
              "var x = new MutationObserver(function (mutations, observer) {{\n",
              "        var display = window.getComputedStyle(gd).display;\n",
              "        if (!display || display === 'none') {{\n",
              "            console.log([gd, 'removed!']);\n",
              "            Plotly.purge(gd);\n",
              "            observer.disconnect();\n",
              "        }}\n",
              "}});\n",
              "\n",
              "// Listen for the removal of the full notebook cells\n",
              "var notebookContainer = gd.closest('#notebook-container');\n",
              "if (notebookContainer) {{\n",
              "    x.observe(notebookContainer, {childList: true});\n",
              "}}\n",
              "\n",
              "// Listen for the clearing of the current output cell\n",
              "var outputEl = gd.closest('.output');\n",
              "if (outputEl) {{\n",
              "    x.observe(outputEl, {childList: true});\n",
              "}}\n",
              "\n",
              "                        })                };                            </script>        </div>\n",
              "</body>\n",
              "</html>"
            ]
          },
          "metadata": {}
        }
      ],
      "source": [
        "d=df_train.groupby(['minimum_nights']).size().sort_values(ascending=False).reset_index(name='count').head(100)\n",
        "fig=px.scatter(d,\n",
        "                           x='minimum_nights',\n",
        "                           y='count',\n",
        "                           size='minimum_nights',\n",
        "                           color='minimum_nights',\n",
        "                           range_x=[0,1005],\n",
        "                           range_y=[0,80]\n",
        "                           )\n",
        "fig.update_layout(autosize=False,\n",
        "                  height=500,\n",
        "                  width=1400,\n",
        "                  font=dict(size=15,color=\"#0f0f0f\",family=\"Courier New, monospace\"),\n",
        "                 )\n",
        "fig.show()"
      ]
    },
    {
      "cell_type": "markdown",
      "metadata": {
        "id": "siSSyX4wCFd6"
      },
      "source": [
        "know lets check about number_of_reviews"
      ]
    },
    {
      "cell_type": "code",
      "execution_count": 23,
      "metadata": {
        "colab": {
          "base_uri": "https://localhost:8080/"
        },
        "id": "iA53-ldQCFd6",
        "outputId": "fd7a5b32-eefe-4c52-fbd9-9131e7f94e67"
      },
      "outputs": [
        {
          "output_type": "execute_result",
          "data": {
            "text/plain": [
              "count    12901.000000\n",
              "mean        24.803194\n",
              "std         53.406134\n",
              "min          0.000000\n",
              "25%          2.000000\n",
              "50%          9.000000\n",
              "75%         24.000000\n",
              "max        843.000000\n",
              "Name: number_of_reviews, dtype: float64"
            ]
          },
          "metadata": {},
          "execution_count": 23
        }
      ],
      "source": [
        "df_train.number_of_reviews.describe()"
      ]
    },
    {
      "cell_type": "markdown",
      "metadata": {
        "id": "fG8D7AyWCFd6"
      },
      "source": [
        "Above we can see there are average of 24 reviews and a maximum of 843 reviews ...lets look deeper"
      ]
    },
    {
      "cell_type": "code",
      "execution_count": 24,
      "metadata": {
        "colab": {
          "base_uri": "https://localhost:8080/",
          "height": 424
        },
        "id": "j0wHncp-CFd7",
        "outputId": "d2ce9aab-9244-4a3a-aaaa-b481d6374ac4"
      },
      "outputs": [
        {
          "output_type": "execute_result",
          "data": {
            "text/plain": [
              "     number_of_reviews  count\n",
              "0                    0   1596\n",
              "1                    1    928\n",
              "2                    2    761\n",
              "3                    3    661\n",
              "4                    4    590\n",
              "..                 ...    ...\n",
              "357                116      1\n",
              "358                312      1\n",
              "359                311      1\n",
              "360                306      1\n",
              "361                843      1\n",
              "\n",
              "[362 rows x 2 columns]"
            ],
            "text/html": [
              "\n",
              "\n",
              "  <div id=\"df-9a76033d-49ed-4afe-9676-67f0bd1b94d1\">\n",
              "    <div class=\"colab-df-container\">\n",
              "      <div>\n",
              "<style scoped>\n",
              "    .dataframe tbody tr th:only-of-type {\n",
              "        vertical-align: middle;\n",
              "    }\n",
              "\n",
              "    .dataframe tbody tr th {\n",
              "        vertical-align: top;\n",
              "    }\n",
              "\n",
              "    .dataframe thead th {\n",
              "        text-align: right;\n",
              "    }\n",
              "</style>\n",
              "<table border=\"1\" class=\"dataframe\">\n",
              "  <thead>\n",
              "    <tr style=\"text-align: right;\">\n",
              "      <th></th>\n",
              "      <th>number_of_reviews</th>\n",
              "      <th>count</th>\n",
              "    </tr>\n",
              "  </thead>\n",
              "  <tbody>\n",
              "    <tr>\n",
              "      <th>0</th>\n",
              "      <td>0</td>\n",
              "      <td>1596</td>\n",
              "    </tr>\n",
              "    <tr>\n",
              "      <th>1</th>\n",
              "      <td>1</td>\n",
              "      <td>928</td>\n",
              "    </tr>\n",
              "    <tr>\n",
              "      <th>2</th>\n",
              "      <td>2</td>\n",
              "      <td>761</td>\n",
              "    </tr>\n",
              "    <tr>\n",
              "      <th>3</th>\n",
              "      <td>3</td>\n",
              "      <td>661</td>\n",
              "    </tr>\n",
              "    <tr>\n",
              "      <th>4</th>\n",
              "      <td>4</td>\n",
              "      <td>590</td>\n",
              "    </tr>\n",
              "    <tr>\n",
              "      <th>...</th>\n",
              "      <td>...</td>\n",
              "      <td>...</td>\n",
              "    </tr>\n",
              "    <tr>\n",
              "      <th>357</th>\n",
              "      <td>116</td>\n",
              "      <td>1</td>\n",
              "    </tr>\n",
              "    <tr>\n",
              "      <th>358</th>\n",
              "      <td>312</td>\n",
              "      <td>1</td>\n",
              "    </tr>\n",
              "    <tr>\n",
              "      <th>359</th>\n",
              "      <td>311</td>\n",
              "      <td>1</td>\n",
              "    </tr>\n",
              "    <tr>\n",
              "      <th>360</th>\n",
              "      <td>306</td>\n",
              "      <td>1</td>\n",
              "    </tr>\n",
              "    <tr>\n",
              "      <th>361</th>\n",
              "      <td>843</td>\n",
              "      <td>1</td>\n",
              "    </tr>\n",
              "  </tbody>\n",
              "</table>\n",
              "<p>362 rows × 2 columns</p>\n",
              "</div>\n",
              "      <button class=\"colab-df-convert\" onclick=\"convertToInteractive('df-9a76033d-49ed-4afe-9676-67f0bd1b94d1')\"\n",
              "              title=\"Convert this dataframe to an interactive table.\"\n",
              "              style=\"display:none;\">\n",
              "\n",
              "  <svg xmlns=\"http://www.w3.org/2000/svg\" height=\"24px\"viewBox=\"0 0 24 24\"\n",
              "       width=\"24px\">\n",
              "    <path d=\"M0 0h24v24H0V0z\" fill=\"none\"/>\n",
              "    <path d=\"M18.56 5.44l.94 2.06.94-2.06 2.06-.94-2.06-.94-.94-2.06-.94 2.06-2.06.94zm-11 1L8.5 8.5l.94-2.06 2.06-.94-2.06-.94L8.5 2.5l-.94 2.06-2.06.94zm10 10l.94 2.06.94-2.06 2.06-.94-2.06-.94-.94-2.06-.94 2.06-2.06.94z\"/><path d=\"M17.41 7.96l-1.37-1.37c-.4-.4-.92-.59-1.43-.59-.52 0-1.04.2-1.43.59L10.3 9.45l-7.72 7.72c-.78.78-.78 2.05 0 2.83L4 21.41c.39.39.9.59 1.41.59.51 0 1.02-.2 1.41-.59l7.78-7.78 2.81-2.81c.8-.78.8-2.07 0-2.86zM5.41 20L4 18.59l7.72-7.72 1.47 1.35L5.41 20z\"/>\n",
              "  </svg>\n",
              "      </button>\n",
              "\n",
              "\n",
              "\n",
              "    <div id=\"df-6231907a-c0e0-4e8f-b1f0-d64e50a02615\">\n",
              "      <button class=\"colab-df-quickchart\" onclick=\"quickchart('df-6231907a-c0e0-4e8f-b1f0-d64e50a02615')\"\n",
              "              title=\"Suggest charts.\"\n",
              "              style=\"display:none;\">\n",
              "\n",
              "<svg xmlns=\"http://www.w3.org/2000/svg\" height=\"24px\"viewBox=\"0 0 24 24\"\n",
              "     width=\"24px\">\n",
              "    <g>\n",
              "        <path d=\"M19 3H5c-1.1 0-2 .9-2 2v14c0 1.1.9 2 2 2h14c1.1 0 2-.9 2-2V5c0-1.1-.9-2-2-2zM9 17H7v-7h2v7zm4 0h-2V7h2v10zm4 0h-2v-4h2v4z\"/>\n",
              "    </g>\n",
              "</svg>\n",
              "      </button>\n",
              "    </div>\n",
              "\n",
              "<style>\n",
              "  .colab-df-quickchart {\n",
              "    background-color: #E8F0FE;\n",
              "    border: none;\n",
              "    border-radius: 50%;\n",
              "    cursor: pointer;\n",
              "    display: none;\n",
              "    fill: #1967D2;\n",
              "    height: 32px;\n",
              "    padding: 0 0 0 0;\n",
              "    width: 32px;\n",
              "  }\n",
              "\n",
              "  .colab-df-quickchart:hover {\n",
              "    background-color: #E2EBFA;\n",
              "    box-shadow: 0px 1px 2px rgba(60, 64, 67, 0.3), 0px 1px 3px 1px rgba(60, 64, 67, 0.15);\n",
              "    fill: #174EA6;\n",
              "  }\n",
              "\n",
              "  [theme=dark] .colab-df-quickchart {\n",
              "    background-color: #3B4455;\n",
              "    fill: #D2E3FC;\n",
              "  }\n",
              "\n",
              "  [theme=dark] .colab-df-quickchart:hover {\n",
              "    background-color: #434B5C;\n",
              "    box-shadow: 0px 1px 3px 1px rgba(0, 0, 0, 0.15);\n",
              "    filter: drop-shadow(0px 1px 2px rgba(0, 0, 0, 0.3));\n",
              "    fill: #FFFFFF;\n",
              "  }\n",
              "</style>\n",
              "\n",
              "    <script>\n",
              "      async function quickchart(key) {\n",
              "        const containerElement = document.querySelector('#' + key);\n",
              "        const charts = await google.colab.kernel.invokeFunction(\n",
              "            'suggestCharts', [key], {});\n",
              "      }\n",
              "    </script>\n",
              "\n",
              "\n",
              "      <script>\n",
              "\n",
              "function displayQuickchartButton(domScope) {\n",
              "  let quickchartButtonEl =\n",
              "    domScope.querySelector('#df-6231907a-c0e0-4e8f-b1f0-d64e50a02615 button.colab-df-quickchart');\n",
              "  quickchartButtonEl.style.display =\n",
              "    google.colab.kernel.accessAllowed ? 'block' : 'none';\n",
              "}\n",
              "\n",
              "        displayQuickchartButton(document);\n",
              "      </script>\n",
              "      <style>\n",
              "    .colab-df-container {\n",
              "      display:flex;\n",
              "      flex-wrap:wrap;\n",
              "      gap: 12px;\n",
              "    }\n",
              "\n",
              "    .colab-df-convert {\n",
              "      background-color: #E8F0FE;\n",
              "      border: none;\n",
              "      border-radius: 50%;\n",
              "      cursor: pointer;\n",
              "      display: none;\n",
              "      fill: #1967D2;\n",
              "      height: 32px;\n",
              "      padding: 0 0 0 0;\n",
              "      width: 32px;\n",
              "    }\n",
              "\n",
              "    .colab-df-convert:hover {\n",
              "      background-color: #E2EBFA;\n",
              "      box-shadow: 0px 1px 2px rgba(60, 64, 67, 0.3), 0px 1px 3px 1px rgba(60, 64, 67, 0.15);\n",
              "      fill: #174EA6;\n",
              "    }\n",
              "\n",
              "    [theme=dark] .colab-df-convert {\n",
              "      background-color: #3B4455;\n",
              "      fill: #D2E3FC;\n",
              "    }\n",
              "\n",
              "    [theme=dark] .colab-df-convert:hover {\n",
              "      background-color: #434B5C;\n",
              "      box-shadow: 0px 1px 3px 1px rgba(0, 0, 0, 0.15);\n",
              "      filter: drop-shadow(0px 1px 2px rgba(0, 0, 0, 0.3));\n",
              "      fill: #FFFFFF;\n",
              "    }\n",
              "  </style>\n",
              "\n",
              "      <script>\n",
              "        const buttonEl =\n",
              "          document.querySelector('#df-9a76033d-49ed-4afe-9676-67f0bd1b94d1 button.colab-df-convert');\n",
              "        buttonEl.style.display =\n",
              "          google.colab.kernel.accessAllowed ? 'block' : 'none';\n",
              "\n",
              "        async function convertToInteractive(key) {\n",
              "          const element = document.querySelector('#df-9a76033d-49ed-4afe-9676-67f0bd1b94d1');\n",
              "          const dataTable =\n",
              "            await google.colab.kernel.invokeFunction('convertToInteractive',\n",
              "                                                     [key], {});\n",
              "          if (!dataTable) return;\n",
              "\n",
              "          const docLinkHtml = 'Like what you see? Visit the ' +\n",
              "            '<a target=\"_blank\" href=https://colab.research.google.com/notebooks/data_table.ipynb>data table notebook</a>'\n",
              "            + ' to learn more about interactive tables.';\n",
              "          element.innerHTML = '';\n",
              "          dataTable['output_type'] = 'display_data';\n",
              "          await google.colab.output.renderOutput(dataTable, element);\n",
              "          const docLink = document.createElement('div');\n",
              "          docLink.innerHTML = docLinkHtml;\n",
              "          element.appendChild(docLink);\n",
              "        }\n",
              "      </script>\n",
              "    </div>\n",
              "  </div>\n"
            ]
          },
          "metadata": {},
          "execution_count": 24
        }
      ],
      "source": [
        "df_train.groupby(['number_of_reviews']).size().sort_values(ascending=False).reset_index(name='count')"
      ]
    },
    {
      "cell_type": "code",
      "execution_count": 25,
      "metadata": {
        "colab": {
          "base_uri": "https://localhost:8080/",
          "height": 537
        },
        "id": "OWogdW2dCFd7",
        "outputId": "25304fdf-52fb-4d4e-dd80-a67fa59efd9a"
      },
      "outputs": [
        {
          "output_type": "display_data",
          "data": {
            "text/html": [
              "<html>\n",
              "<head><meta charset=\"utf-8\" /></head>\n",
              "<body>\n",
              "    <div>            <script src=\"https://cdnjs.cloudflare.com/ajax/libs/mathjax/2.7.5/MathJax.js?config=TeX-AMS-MML_SVG\"></script><script type=\"text/javascript\">if (window.MathJax && window.MathJax.Hub && window.MathJax.Hub.Config) {window.MathJax.Hub.Config({SVG: {font: \"STIX-Web\"}});}</script>                <script type=\"text/javascript\">window.PlotlyConfig = {MathJaxConfig: 'local'};</script>\n",
              "        <script charset=\"utf-8\" src=\"https://cdn.plot.ly/plotly-2.24.1.min.js\"></script>                <div id=\"b3d12ab1-c474-4fbf-b4df-42d89f5e77e2\" class=\"plotly-graph-div\" style=\"height:500px; width:1400px;\"></div>            <script type=\"text/javascript\">                                    window.PLOTLYENV=window.PLOTLYENV || {};                                    if (document.getElementById(\"b3d12ab1-c474-4fbf-b4df-42d89f5e77e2\")) {                    Plotly.newPlot(                        \"b3d12ab1-c474-4fbf-b4df-42d89f5e77e2\",                        [{\"hovertemplate\":\"number_of_reviews=%{marker.color}\\u003cbr\\u003ecount=%{marker.size}\\u003cextra\\u003e\\u003c\\u002fextra\\u003e\",\"legendgroup\":\"\",\"marker\":{\"color\":[0,1,2,3,4,5,6,7,10,8,9,11,12,13,16,15,14,17,19,18,20,21,23,24,26,27,22,29,28,25,31,36,30,32,33,38,34,37,40,35,39,42,43,41,48,44,47,49,45,52,50,51,55,53,61,46,58,56,59,60,54,68,76,67,66,63,70,57,89,64,69,73,82,62,93,65,78,80,81,75,74,95,85,87,97,101,88,103,91,77,84,71,90,92,79,112,86,96,94,102,170,108,99,72,100,126,128,114,137,150,123,119,106,158,131,160,164,125,154,134,118,105,152,130,146,233,143,219,98,238,129,127,109,151,153,184,110,185,196,174,198,107,216,197,111,199,171,166,298,141,83,113,115,317,133,144,192,193,200,307,187,279,282,273,324,245,182,202,296,207,272,210,213,265,262,232,234,256,255,263,183,124,157,135,165,138,159,142,132,156,179,248,254,147,145,274,258,139,264,246,244,267,268,243,257,181,275,149,596,553,414,408,390,375,367,349,340,331,323,309,117,304,180,120,292,122,280,239,299,237,161,162,163,208,204,167,201,168,169,172,173,188,175,190,191,176,215,177,155,235,221,236,224,229,225,410,411,698,421,558,424,409,674,434,435,430,401,756,406,440,392,391,388,386,383,382,377,376,439,659,444,178,515,511,572,508,501,492,488,485,574,479,475,471,468,467,373,590,459,186,628,458,455,450,646,463,348,372,217,285,284,283,206,281,278,277,276,211,214,271,266,121,218,222,259,226,227,228,252,251,249,230,148,290,300,369,336,364,362,359,358,356,354,194,241,347,343,195,330,302,329,328,327,325,104,321,319,116,312,311,306,843],\"coloraxis\":\"coloraxis\",\"size\":[1596,928,761,661,590,519,490,433,394,383,362,332,294,233,220,218,217,175,173,157,149,141,140,127,118,110,109,102,98,97,90,77,76,75,75,63,61,58,57,57,55,54,54,53,41,40,35,34,34,31,31,30,30,29,28,27,26,25,25,25,24,21,20,20,19,19,18,18,18,17,16,14,14,14,14,14,14,13,13,13,13,12,12,12,11,11,11,11,11,11,11,11,10,10,10,9,9,9,9,8,8,8,8,7,7,7,7,7,7,7,7,7,7,6,6,6,6,6,6,6,6,6,5,5,5,5,5,5,5,5,5,5,4,4,4,4,4,4,4,4,4,4,4,4,4,4,4,4,4,4,4,4,4,4,4,4,3,3,3,3,3,3,3,3,3,3,3,3,3,3,3,3,3,3,3,3,3,3,3,3,3,3,3,3,3,3,3,3,3,3,3,2,2,2,2,2,2,2,2,2,2,2,2,2,2,2,2,2,2,2,2,2,2,2,2,2,2,2,2,2,2,2,2,2,2,2,2,2,2,2,2,2,2,2,2,2,2,2,2,2,2,2,2,2,2,2,2,2,2,2,2,2,2,2,2,1,1,1,1,1,1,1,1,1,1,1,1,1,1,1,1,1,1,1,1,1,1,1,1,1,1,1,1,1,1,1,1,1,1,1,1,1,1,1,1,1,1,1,1,1,1,1,1,1,1,1,1,1,1,1,1,1,1,1,1,1,1,1,1,1,1,1,1,1,1,1,1,1,1,1,1,1,1,1,1,1,1,1,1,1,1,1,1,1,1,1,1,1,1,1,1,1,1,1,1,1,1,1,1,1,1,1],\"sizemode\":\"area\",\"sizeref\":3.99,\"symbol\":\"circle\"},\"mode\":\"markers\",\"name\":\"\",\"orientation\":\"v\",\"showlegend\":false,\"x\":[0,1,2,3,4,5,6,7,10,8,9,11,12,13,16,15,14,17,19,18,20,21,23,24,26,27,22,29,28,25,31,36,30,32,33,38,34,37,40,35,39,42,43,41,48,44,47,49,45,52,50,51,55,53,61,46,58,56,59,60,54,68,76,67,66,63,70,57,89,64,69,73,82,62,93,65,78,80,81,75,74,95,85,87,97,101,88,103,91,77,84,71,90,92,79,112,86,96,94,102,170,108,99,72,100,126,128,114,137,150,123,119,106,158,131,160,164,125,154,134,118,105,152,130,146,233,143,219,98,238,129,127,109,151,153,184,110,185,196,174,198,107,216,197,111,199,171,166,298,141,83,113,115,317,133,144,192,193,200,307,187,279,282,273,324,245,182,202,296,207,272,210,213,265,262,232,234,256,255,263,183,124,157,135,165,138,159,142,132,156,179,248,254,147,145,274,258,139,264,246,244,267,268,243,257,181,275,149,596,553,414,408,390,375,367,349,340,331,323,309,117,304,180,120,292,122,280,239,299,237,161,162,163,208,204,167,201,168,169,172,173,188,175,190,191,176,215,177,155,235,221,236,224,229,225,410,411,698,421,558,424,409,674,434,435,430,401,756,406,440,392,391,388,386,383,382,377,376,439,659,444,178,515,511,572,508,501,492,488,485,574,479,475,471,468,467,373,590,459,186,628,458,455,450,646,463,348,372,217,285,284,283,206,281,278,277,276,211,214,271,266,121,218,222,259,226,227,228,252,251,249,230,148,290,300,369,336,364,362,359,358,356,354,194,241,347,343,195,330,302,329,328,327,325,104,321,319,116,312,311,306,843],\"xaxis\":\"x\",\"y\":[1596,928,761,661,590,519,490,433,394,383,362,332,294,233,220,218,217,175,173,157,149,141,140,127,118,110,109,102,98,97,90,77,76,75,75,63,61,58,57,57,55,54,54,53,41,40,35,34,34,31,31,30,30,29,28,27,26,25,25,25,24,21,20,20,19,19,18,18,18,17,16,14,14,14,14,14,14,13,13,13,13,12,12,12,11,11,11,11,11,11,11,11,10,10,10,9,9,9,9,8,8,8,8,7,7,7,7,7,7,7,7,7,7,6,6,6,6,6,6,6,6,6,5,5,5,5,5,5,5,5,5,5,4,4,4,4,4,4,4,4,4,4,4,4,4,4,4,4,4,4,4,4,4,4,4,4,3,3,3,3,3,3,3,3,3,3,3,3,3,3,3,3,3,3,3,3,3,3,3,3,3,3,3,3,3,3,3,3,3,3,3,2,2,2,2,2,2,2,2,2,2,2,2,2,2,2,2,2,2,2,2,2,2,2,2,2,2,2,2,2,2,2,2,2,2,2,2,2,2,2,2,2,2,2,2,2,2,2,2,2,2,2,2,2,2,2,2,2,2,2,2,2,2,2,2,1,1,1,1,1,1,1,1,1,1,1,1,1,1,1,1,1,1,1,1,1,1,1,1,1,1,1,1,1,1,1,1,1,1,1,1,1,1,1,1,1,1,1,1,1,1,1,1,1,1,1,1,1,1,1,1,1,1,1,1,1,1,1,1,1,1,1,1,1,1,1,1,1,1,1,1,1,1,1,1,1,1,1,1,1,1,1,1,1,1,1,1,1,1,1,1,1,1,1,1,1,1,1,1,1,1,1],\"yaxis\":\"y\",\"type\":\"scatter\"}],                        {\"template\":{\"data\":{\"histogram2dcontour\":[{\"type\":\"histogram2dcontour\",\"colorbar\":{\"outlinewidth\":0,\"ticks\":\"\"},\"colorscale\":[[0.0,\"#0d0887\"],[0.1111111111111111,\"#46039f\"],[0.2222222222222222,\"#7201a8\"],[0.3333333333333333,\"#9c179e\"],[0.4444444444444444,\"#bd3786\"],[0.5555555555555556,\"#d8576b\"],[0.6666666666666666,\"#ed7953\"],[0.7777777777777778,\"#fb9f3a\"],[0.8888888888888888,\"#fdca26\"],[1.0,\"#f0f921\"]]}],\"choropleth\":[{\"type\":\"choropleth\",\"colorbar\":{\"outlinewidth\":0,\"ticks\":\"\"}}],\"histogram2d\":[{\"type\":\"histogram2d\",\"colorbar\":{\"outlinewidth\":0,\"ticks\":\"\"},\"colorscale\":[[0.0,\"#0d0887\"],[0.1111111111111111,\"#46039f\"],[0.2222222222222222,\"#7201a8\"],[0.3333333333333333,\"#9c179e\"],[0.4444444444444444,\"#bd3786\"],[0.5555555555555556,\"#d8576b\"],[0.6666666666666666,\"#ed7953\"],[0.7777777777777778,\"#fb9f3a\"],[0.8888888888888888,\"#fdca26\"],[1.0,\"#f0f921\"]]}],\"heatmap\":[{\"type\":\"heatmap\",\"colorbar\":{\"outlinewidth\":0,\"ticks\":\"\"},\"colorscale\":[[0.0,\"#0d0887\"],[0.1111111111111111,\"#46039f\"],[0.2222222222222222,\"#7201a8\"],[0.3333333333333333,\"#9c179e\"],[0.4444444444444444,\"#bd3786\"],[0.5555555555555556,\"#d8576b\"],[0.6666666666666666,\"#ed7953\"],[0.7777777777777778,\"#fb9f3a\"],[0.8888888888888888,\"#fdca26\"],[1.0,\"#f0f921\"]]}],\"heatmapgl\":[{\"type\":\"heatmapgl\",\"colorbar\":{\"outlinewidth\":0,\"ticks\":\"\"},\"colorscale\":[[0.0,\"#0d0887\"],[0.1111111111111111,\"#46039f\"],[0.2222222222222222,\"#7201a8\"],[0.3333333333333333,\"#9c179e\"],[0.4444444444444444,\"#bd3786\"],[0.5555555555555556,\"#d8576b\"],[0.6666666666666666,\"#ed7953\"],[0.7777777777777778,\"#fb9f3a\"],[0.8888888888888888,\"#fdca26\"],[1.0,\"#f0f921\"]]}],\"contourcarpet\":[{\"type\":\"contourcarpet\",\"colorbar\":{\"outlinewidth\":0,\"ticks\":\"\"}}],\"contour\":[{\"type\":\"contour\",\"colorbar\":{\"outlinewidth\":0,\"ticks\":\"\"},\"colorscale\":[[0.0,\"#0d0887\"],[0.1111111111111111,\"#46039f\"],[0.2222222222222222,\"#7201a8\"],[0.3333333333333333,\"#9c179e\"],[0.4444444444444444,\"#bd3786\"],[0.5555555555555556,\"#d8576b\"],[0.6666666666666666,\"#ed7953\"],[0.7777777777777778,\"#fb9f3a\"],[0.8888888888888888,\"#fdca26\"],[1.0,\"#f0f921\"]]}],\"surface\":[{\"type\":\"surface\",\"colorbar\":{\"outlinewidth\":0,\"ticks\":\"\"},\"colorscale\":[[0.0,\"#0d0887\"],[0.1111111111111111,\"#46039f\"],[0.2222222222222222,\"#7201a8\"],[0.3333333333333333,\"#9c179e\"],[0.4444444444444444,\"#bd3786\"],[0.5555555555555556,\"#d8576b\"],[0.6666666666666666,\"#ed7953\"],[0.7777777777777778,\"#fb9f3a\"],[0.8888888888888888,\"#fdca26\"],[1.0,\"#f0f921\"]]}],\"mesh3d\":[{\"type\":\"mesh3d\",\"colorbar\":{\"outlinewidth\":0,\"ticks\":\"\"}}],\"scatter\":[{\"fillpattern\":{\"fillmode\":\"overlay\",\"size\":10,\"solidity\":0.2},\"type\":\"scatter\"}],\"parcoords\":[{\"type\":\"parcoords\",\"line\":{\"colorbar\":{\"outlinewidth\":0,\"ticks\":\"\"}}}],\"scatterpolargl\":[{\"type\":\"scatterpolargl\",\"marker\":{\"colorbar\":{\"outlinewidth\":0,\"ticks\":\"\"}}}],\"bar\":[{\"error_x\":{\"color\":\"#2a3f5f\"},\"error_y\":{\"color\":\"#2a3f5f\"},\"marker\":{\"line\":{\"color\":\"#E5ECF6\",\"width\":0.5},\"pattern\":{\"fillmode\":\"overlay\",\"size\":10,\"solidity\":0.2}},\"type\":\"bar\"}],\"scattergeo\":[{\"type\":\"scattergeo\",\"marker\":{\"colorbar\":{\"outlinewidth\":0,\"ticks\":\"\"}}}],\"scatterpolar\":[{\"type\":\"scatterpolar\",\"marker\":{\"colorbar\":{\"outlinewidth\":0,\"ticks\":\"\"}}}],\"histogram\":[{\"marker\":{\"pattern\":{\"fillmode\":\"overlay\",\"size\":10,\"solidity\":0.2}},\"type\":\"histogram\"}],\"scattergl\":[{\"type\":\"scattergl\",\"marker\":{\"colorbar\":{\"outlinewidth\":0,\"ticks\":\"\"}}}],\"scatter3d\":[{\"type\":\"scatter3d\",\"line\":{\"colorbar\":{\"outlinewidth\":0,\"ticks\":\"\"}},\"marker\":{\"colorbar\":{\"outlinewidth\":0,\"ticks\":\"\"}}}],\"scattermapbox\":[{\"type\":\"scattermapbox\",\"marker\":{\"colorbar\":{\"outlinewidth\":0,\"ticks\":\"\"}}}],\"scatterternary\":[{\"type\":\"scatterternary\",\"marker\":{\"colorbar\":{\"outlinewidth\":0,\"ticks\":\"\"}}}],\"scattercarpet\":[{\"type\":\"scattercarpet\",\"marker\":{\"colorbar\":{\"outlinewidth\":0,\"ticks\":\"\"}}}],\"carpet\":[{\"aaxis\":{\"endlinecolor\":\"#2a3f5f\",\"gridcolor\":\"white\",\"linecolor\":\"white\",\"minorgridcolor\":\"white\",\"startlinecolor\":\"#2a3f5f\"},\"baxis\":{\"endlinecolor\":\"#2a3f5f\",\"gridcolor\":\"white\",\"linecolor\":\"white\",\"minorgridcolor\":\"white\",\"startlinecolor\":\"#2a3f5f\"},\"type\":\"carpet\"}],\"table\":[{\"cells\":{\"fill\":{\"color\":\"#EBF0F8\"},\"line\":{\"color\":\"white\"}},\"header\":{\"fill\":{\"color\":\"#C8D4E3\"},\"line\":{\"color\":\"white\"}},\"type\":\"table\"}],\"barpolar\":[{\"marker\":{\"line\":{\"color\":\"#E5ECF6\",\"width\":0.5},\"pattern\":{\"fillmode\":\"overlay\",\"size\":10,\"solidity\":0.2}},\"type\":\"barpolar\"}],\"pie\":[{\"automargin\":true,\"type\":\"pie\"}]},\"layout\":{\"autotypenumbers\":\"strict\",\"colorway\":[\"#636efa\",\"#EF553B\",\"#00cc96\",\"#ab63fa\",\"#FFA15A\",\"#19d3f3\",\"#FF6692\",\"#B6E880\",\"#FF97FF\",\"#FECB52\"],\"font\":{\"color\":\"#2a3f5f\"},\"hovermode\":\"closest\",\"hoverlabel\":{\"align\":\"left\"},\"paper_bgcolor\":\"white\",\"plot_bgcolor\":\"#E5ECF6\",\"polar\":{\"bgcolor\":\"#E5ECF6\",\"angularaxis\":{\"gridcolor\":\"white\",\"linecolor\":\"white\",\"ticks\":\"\"},\"radialaxis\":{\"gridcolor\":\"white\",\"linecolor\":\"white\",\"ticks\":\"\"}},\"ternary\":{\"bgcolor\":\"#E5ECF6\",\"aaxis\":{\"gridcolor\":\"white\",\"linecolor\":\"white\",\"ticks\":\"\"},\"baxis\":{\"gridcolor\":\"white\",\"linecolor\":\"white\",\"ticks\":\"\"},\"caxis\":{\"gridcolor\":\"white\",\"linecolor\":\"white\",\"ticks\":\"\"}},\"coloraxis\":{\"colorbar\":{\"outlinewidth\":0,\"ticks\":\"\"}},\"colorscale\":{\"sequential\":[[0.0,\"#0d0887\"],[0.1111111111111111,\"#46039f\"],[0.2222222222222222,\"#7201a8\"],[0.3333333333333333,\"#9c179e\"],[0.4444444444444444,\"#bd3786\"],[0.5555555555555556,\"#d8576b\"],[0.6666666666666666,\"#ed7953\"],[0.7777777777777778,\"#fb9f3a\"],[0.8888888888888888,\"#fdca26\"],[1.0,\"#f0f921\"]],\"sequentialminus\":[[0.0,\"#0d0887\"],[0.1111111111111111,\"#46039f\"],[0.2222222222222222,\"#7201a8\"],[0.3333333333333333,\"#9c179e\"],[0.4444444444444444,\"#bd3786\"],[0.5555555555555556,\"#d8576b\"],[0.6666666666666666,\"#ed7953\"],[0.7777777777777778,\"#fb9f3a\"],[0.8888888888888888,\"#fdca26\"],[1.0,\"#f0f921\"]],\"diverging\":[[0,\"#8e0152\"],[0.1,\"#c51b7d\"],[0.2,\"#de77ae\"],[0.3,\"#f1b6da\"],[0.4,\"#fde0ef\"],[0.5,\"#f7f7f7\"],[0.6,\"#e6f5d0\"],[0.7,\"#b8e186\"],[0.8,\"#7fbc41\"],[0.9,\"#4d9221\"],[1,\"#276419\"]]},\"xaxis\":{\"gridcolor\":\"white\",\"linecolor\":\"white\",\"ticks\":\"\",\"title\":{\"standoff\":15},\"zerolinecolor\":\"white\",\"automargin\":true,\"zerolinewidth\":2},\"yaxis\":{\"gridcolor\":\"white\",\"linecolor\":\"white\",\"ticks\":\"\",\"title\":{\"standoff\":15},\"zerolinecolor\":\"white\",\"automargin\":true,\"zerolinewidth\":2},\"scene\":{\"xaxis\":{\"backgroundcolor\":\"#E5ECF6\",\"gridcolor\":\"white\",\"linecolor\":\"white\",\"showbackground\":true,\"ticks\":\"\",\"zerolinecolor\":\"white\",\"gridwidth\":2},\"yaxis\":{\"backgroundcolor\":\"#E5ECF6\",\"gridcolor\":\"white\",\"linecolor\":\"white\",\"showbackground\":true,\"ticks\":\"\",\"zerolinecolor\":\"white\",\"gridwidth\":2},\"zaxis\":{\"backgroundcolor\":\"#E5ECF6\",\"gridcolor\":\"white\",\"linecolor\":\"white\",\"showbackground\":true,\"ticks\":\"\",\"zerolinecolor\":\"white\",\"gridwidth\":2}},\"shapedefaults\":{\"line\":{\"color\":\"#2a3f5f\"}},\"annotationdefaults\":{\"arrowcolor\":\"#2a3f5f\",\"arrowhead\":0,\"arrowwidth\":1},\"geo\":{\"bgcolor\":\"white\",\"landcolor\":\"#E5ECF6\",\"subunitcolor\":\"white\",\"showland\":true,\"showlakes\":true,\"lakecolor\":\"white\"},\"title\":{\"x\":0.05},\"mapbox\":{\"style\":\"light\"}}},\"xaxis\":{\"anchor\":\"y\",\"domain\":[0.0,1.0],\"title\":{\"text\":\"number_of_reviews\"},\"range\":[0,900]},\"yaxis\":{\"anchor\":\"x\",\"domain\":[0.0,1.0],\"title\":{\"text\":\"count\"},\"range\":[0,1700]},\"coloraxis\":{\"colorbar\":{\"title\":{\"text\":\"number_of_reviews\"}},\"colorscale\":[[0.0,\"#0d0887\"],[0.1111111111111111,\"#46039f\"],[0.2222222222222222,\"#7201a8\"],[0.3333333333333333,\"#9c179e\"],[0.4444444444444444,\"#bd3786\"],[0.5555555555555556,\"#d8576b\"],[0.6666666666666666,\"#ed7953\"],[0.7777777777777778,\"#fb9f3a\"],[0.8888888888888888,\"#fdca26\"],[1.0,\"#f0f921\"]]},\"legend\":{\"tracegroupgap\":0,\"itemsizing\":\"constant\"},\"margin\":{\"t\":60},\"font\":{\"size\":15,\"color\":\"#0f0f0f\",\"family\":\"Courier New, monospace\"},\"autosize\":false,\"height\":500,\"width\":1400},                        {\"responsive\": true}                    ).then(function(){\n",
              "                            \n",
              "var gd = document.getElementById('b3d12ab1-c474-4fbf-b4df-42d89f5e77e2');\n",
              "var x = new MutationObserver(function (mutations, observer) {{\n",
              "        var display = window.getComputedStyle(gd).display;\n",
              "        if (!display || display === 'none') {{\n",
              "            console.log([gd, 'removed!']);\n",
              "            Plotly.purge(gd);\n",
              "            observer.disconnect();\n",
              "        }}\n",
              "}});\n",
              "\n",
              "// Listen for the removal of the full notebook cells\n",
              "var notebookContainer = gd.closest('#notebook-container');\n",
              "if (notebookContainer) {{\n",
              "    x.observe(notebookContainer, {childList: true});\n",
              "}}\n",
              "\n",
              "// Listen for the clearing of the current output cell\n",
              "var outputEl = gd.closest('.output');\n",
              "if (outputEl) {{\n",
              "    x.observe(outputEl, {childList: true});\n",
              "}}\n",
              "\n",
              "                        })                };                            </script>        </div>\n",
              "</body>\n",
              "</html>"
            ]
          },
          "metadata": {}
        }
      ],
      "source": [
        "d=df_train.groupby(['number_of_reviews']).size().sort_values(ascending=False).reset_index(name='count')\n",
        "fig=px.scatter(d,\n",
        "                           x='number_of_reviews',\n",
        "                           y='count',\n",
        "                           size='count',\n",
        "                           color='number_of_reviews',\n",
        "                           range_y=[0,1700],\n",
        "                           range_x=[0,900]\n",
        "                           )\n",
        "fig.update_layout(autosize=False,\n",
        "                  height=500,\n",
        "                  width=1400,\n",
        "                  font=dict(size=15,color=\"#0f0f0f\",family=\"Courier New, monospace\"),\n",
        "                 )\n",
        "fig.show()"
      ]
    },
    {
      "cell_type": "markdown",
      "metadata": {
        "id": "9Ed2jOS5CFd7"
      },
      "source": [
        "lets check for the last_review column details"
      ]
    },
    {
      "cell_type": "code",
      "execution_count": 26,
      "metadata": {
        "colab": {
          "base_uri": "https://localhost:8080/"
        },
        "id": "xl_dYkpZCFd7",
        "outputId": "1aea2121-d425-4d73-8e29-fc6cabf24ba9"
      },
      "outputs": [
        {
          "output_type": "execute_result",
          "data": {
            "text/plain": [
              "count          11305\n",
              "unique          1495\n",
              "top       08-03-2020\n",
              "freq             269\n",
              "Name: last_review, dtype: object"
            ]
          },
          "metadata": {},
          "execution_count": 26
        }
      ],
      "source": [
        "df_train.last_review.describe()"
      ]
    },
    {
      "cell_type": "code",
      "execution_count": 27,
      "metadata": {
        "colab": {
          "base_uri": "https://localhost:8080/"
        },
        "id": "GC1LpH_gCFd7",
        "outputId": "29ebbadf-1c3a-4c31-fd59-f2e349ca6208"
      },
      "outputs": [
        {
          "output_type": "execute_result",
          "data": {
            "text/plain": [
              "0        15-02-2020\n",
              "1        19-06-2019\n",
              "2        16-03-2020\n",
              "3        17-02-2020\n",
              "4        26-02-2020\n",
              "            ...    \n",
              "12896    13-09-2017\n",
              "12897    25-02-2020\n",
              "12898    07-10-2018\n",
              "12899    28-04-2019\n",
              "12900    17-02-2020\n",
              "Name: last_review, Length: 12901, dtype: object"
            ]
          },
          "metadata": {},
          "execution_count": 27
        }
      ],
      "source": [
        "df_train.last_review"
      ]
    },
    {
      "cell_type": "code",
      "execution_count": 28,
      "metadata": {
        "colab": {
          "base_uri": "https://localhost:8080/",
          "height": 537
        },
        "id": "1_8aHSVzCFd7",
        "outputId": "fb6d3fd9-9c28-4073-ec29-a20862437864"
      },
      "outputs": [
        {
          "output_type": "display_data",
          "data": {
            "text/html": [
              "<html>\n",
              "<head><meta charset=\"utf-8\" /></head>\n",
              "<body>\n",
              "    <div>            <script src=\"https://cdnjs.cloudflare.com/ajax/libs/mathjax/2.7.5/MathJax.js?config=TeX-AMS-MML_SVG\"></script><script type=\"text/javascript\">if (window.MathJax && window.MathJax.Hub && window.MathJax.Hub.Config) {window.MathJax.Hub.Config({SVG: {font: \"STIX-Web\"}});}</script>                <script type=\"text/javascript\">window.PlotlyConfig = {MathJaxConfig: 'local'};</script>\n",
              "        <script charset=\"utf-8\" src=\"https://cdn.plot.ly/plotly-2.24.1.min.js\"></script>                <div id=\"34f7a54e-560e-4e1c-ae87-d678ac4b960e\" class=\"plotly-graph-div\" style=\"height:500px; width:1400px;\"></div>            <script type=\"text/javascript\">                                    window.PLOTLYENV=window.PLOTLYENV || {};                                    if (document.getElementById(\"34f7a54e-560e-4e1c-ae87-d678ac4b960e\")) {                    Plotly.newPlot(                        \"34f7a54e-560e-4e1c-ae87-d678ac4b960e\",                        [{\"hovertemplate\":\"last_review=%{x}\\u003cbr\\u003ecount=%{marker.size}\\u003cextra\\u003e\\u003c\\u002fextra\\u003e\",\"legendgroup\":\"08-03-2020\",\"marker\":{\"color\":\"#636efa\",\"size\":[269],\"sizemode\":\"area\",\"sizeref\":0.6725,\"symbol\":\"circle\"},\"mode\":\"markers\",\"name\":\"08-03-2020\",\"orientation\":\"v\",\"showlegend\":true,\"x\":[\"08-03-2020\"],\"xaxis\":\"x\",\"y\":[269],\"yaxis\":\"y\",\"type\":\"scatter\"},{\"hovertemplate\":\"last_review=%{x}\\u003cbr\\u003ecount=%{marker.size}\\u003cextra\\u003e\\u003c\\u002fextra\\u003e\",\"legendgroup\":\"02-01-2020\",\"marker\":{\"color\":\"#EF553B\",\"size\":[223],\"sizemode\":\"area\",\"sizeref\":0.6725,\"symbol\":\"circle\"},\"mode\":\"markers\",\"name\":\"02-01-2020\",\"orientation\":\"v\",\"showlegend\":true,\"x\":[\"02-01-2020\"],\"xaxis\":\"x\",\"y\":[223],\"yaxis\":\"y\",\"type\":\"scatter\"},{\"hovertemplate\":\"last_review=%{x}\\u003cbr\\u003ecount=%{marker.size}\\u003cextra\\u003e\\u003c\\u002fextra\\u003e\",\"legendgroup\":\"15-03-2020\",\"marker\":{\"color\":\"#00cc96\",\"size\":[223],\"sizemode\":\"area\",\"sizeref\":0.6725,\"symbol\":\"circle\"},\"mode\":\"markers\",\"name\":\"15-03-2020\",\"orientation\":\"v\",\"showlegend\":true,\"x\":[\"15-03-2020\"],\"xaxis\":\"x\",\"y\":[223],\"yaxis\":\"y\",\"type\":\"scatter\"},{\"hovertemplate\":\"last_review=%{x}\\u003cbr\\u003ecount=%{marker.size}\\u003cextra\\u003e\\u003c\\u002fextra\\u003e\",\"legendgroup\":\"01-01-2020\",\"marker\":{\"color\":\"#ab63fa\",\"size\":[179],\"sizemode\":\"area\",\"sizeref\":0.6725,\"symbol\":\"circle\"},\"mode\":\"markers\",\"name\":\"01-01-2020\",\"orientation\":\"v\",\"showlegend\":true,\"x\":[\"01-01-2020\"],\"xaxis\":\"x\",\"y\":[179],\"yaxis\":\"y\",\"type\":\"scatter\"},{\"hovertemplate\":\"last_review=%{x}\\u003cbr\\u003ecount=%{marker.size}\\u003cextra\\u003e\\u003c\\u002fextra\\u003e\",\"legendgroup\":\"16-02-2020\",\"marker\":{\"color\":\"#FFA15A\",\"size\":[159],\"sizemode\":\"area\",\"sizeref\":0.6725,\"symbol\":\"circle\"},\"mode\":\"markers\",\"name\":\"16-02-2020\",\"orientation\":\"v\",\"showlegend\":true,\"x\":[\"16-02-2020\"],\"xaxis\":\"x\",\"y\":[159],\"yaxis\":\"y\",\"type\":\"scatter\"},{\"hovertemplate\":\"last_review=%{x}\\u003cbr\\u003ecount=%{marker.size}\\u003cextra\\u003e\\u003c\\u002fextra\\u003e\",\"legendgroup\":\"09-03-2020\",\"marker\":{\"color\":\"#19d3f3\",\"size\":[131],\"sizemode\":\"area\",\"sizeref\":0.6725,\"symbol\":\"circle\"},\"mode\":\"markers\",\"name\":\"09-03-2020\",\"orientation\":\"v\",\"showlegend\":true,\"x\":[\"09-03-2020\"],\"xaxis\":\"x\",\"y\":[131],\"yaxis\":\"y\",\"type\":\"scatter\"},{\"hovertemplate\":\"last_review=%{x}\\u003cbr\\u003ecount=%{marker.size}\\u003cextra\\u003e\\u003c\\u002fextra\\u003e\",\"legendgroup\":\"03-01-2020\",\"marker\":{\"color\":\"#FF6692\",\"size\":[127],\"sizemode\":\"area\",\"sizeref\":0.6725,\"symbol\":\"circle\"},\"mode\":\"markers\",\"name\":\"03-01-2020\",\"orientation\":\"v\",\"showlegend\":true,\"x\":[\"03-01-2020\"],\"xaxis\":\"x\",\"y\":[127],\"yaxis\":\"y\",\"type\":\"scatter\"},{\"hovertemplate\":\"last_review=%{x}\\u003cbr\\u003ecount=%{marker.size}\\u003cextra\\u003e\\u003c\\u002fextra\\u003e\",\"legendgroup\":\"20-10-2019\",\"marker\":{\"color\":\"#B6E880\",\"size\":[123],\"sizemode\":\"area\",\"sizeref\":0.6725,\"symbol\":\"circle\"},\"mode\":\"markers\",\"name\":\"20-10-2019\",\"orientation\":\"v\",\"showlegend\":true,\"x\":[\"20-10-2019\"],\"xaxis\":\"x\",\"y\":[123],\"yaxis\":\"y\",\"type\":\"scatter\"},{\"hovertemplate\":\"last_review=%{x}\\u003cbr\\u003ecount=%{marker.size}\\u003cextra\\u003e\\u003c\\u002fextra\\u003e\",\"legendgroup\":\"23-02-2020\",\"marker\":{\"color\":\"#FF97FF\",\"size\":[117],\"sizemode\":\"area\",\"sizeref\":0.6725,\"symbol\":\"circle\"},\"mode\":\"markers\",\"name\":\"23-02-2020\",\"orientation\":\"v\",\"showlegend\":true,\"x\":[\"23-02-2020\"],\"xaxis\":\"x\",\"y\":[117],\"yaxis\":\"y\",\"type\":\"scatter\"},{\"hovertemplate\":\"last_review=%{x}\\u003cbr\\u003ecount=%{marker.size}\\u003cextra\\u003e\\u003c\\u002fextra\\u003e\",\"legendgroup\":\"16-03-2020\",\"marker\":{\"color\":\"#FECB52\",\"size\":[111],\"sizemode\":\"area\",\"sizeref\":0.6725,\"symbol\":\"circle\"},\"mode\":\"markers\",\"name\":\"16-03-2020\",\"orientation\":\"v\",\"showlegend\":true,\"x\":[\"16-03-2020\"],\"xaxis\":\"x\",\"y\":[111],\"yaxis\":\"y\",\"type\":\"scatter\"},{\"hovertemplate\":\"last_review=%{x}\\u003cbr\\u003ecount=%{marker.size}\\u003cextra\\u003e\\u003c\\u002fextra\\u003e\",\"legendgroup\":\"01-03-2020\",\"marker\":{\"color\":\"#636efa\",\"size\":[106],\"sizemode\":\"area\",\"sizeref\":0.6725,\"symbol\":\"circle\"},\"mode\":\"markers\",\"name\":\"01-03-2020\",\"orientation\":\"v\",\"showlegend\":true,\"x\":[\"01-03-2020\"],\"xaxis\":\"x\",\"y\":[106],\"yaxis\":\"y\",\"type\":\"scatter\"},{\"hovertemplate\":\"last_review=%{x}\\u003cbr\\u003ecount=%{marker.size}\\u003cextra\\u003e\\u003c\\u002fextra\\u003e\",\"legendgroup\":\"21-10-2019\",\"marker\":{\"color\":\"#EF553B\",\"size\":[87],\"sizemode\":\"area\",\"sizeref\":0.6725,\"symbol\":\"circle\"},\"mode\":\"markers\",\"name\":\"21-10-2019\",\"orientation\":\"v\",\"showlegend\":true,\"x\":[\"21-10-2019\"],\"xaxis\":\"x\",\"y\":[87],\"yaxis\":\"y\",\"type\":\"scatter\"},{\"hovertemplate\":\"last_review=%{x}\\u003cbr\\u003ecount=%{marker.size}\\u003cextra\\u003e\\u003c\\u002fextra\\u003e\",\"legendgroup\":\"17-02-2020\",\"marker\":{\"color\":\"#00cc96\",\"size\":[84],\"sizemode\":\"area\",\"sizeref\":0.6725,\"symbol\":\"circle\"},\"mode\":\"markers\",\"name\":\"17-02-2020\",\"orientation\":\"v\",\"showlegend\":true,\"x\":[\"17-02-2020\"],\"xaxis\":\"x\",\"y\":[84],\"yaxis\":\"y\",\"type\":\"scatter\"},{\"hovertemplate\":\"last_review=%{x}\\u003cbr\\u003ecount=%{marker.size}\\u003cextra\\u003e\\u003c\\u002fextra\\u003e\",\"legendgroup\":\"30-12-2019\",\"marker\":{\"color\":\"#ab63fa\",\"size\":[75],\"sizemode\":\"area\",\"sizeref\":0.6725,\"symbol\":\"circle\"},\"mode\":\"markers\",\"name\":\"30-12-2019\",\"orientation\":\"v\",\"showlegend\":true,\"x\":[\"30-12-2019\"],\"xaxis\":\"x\",\"y\":[75],\"yaxis\":\"y\",\"type\":\"scatter\"},{\"hovertemplate\":\"last_review=%{x}\\u003cbr\\u003ecount=%{marker.size}\\u003cextra\\u003e\\u003c\\u002fextra\\u003e\",\"legendgroup\":\"14-03-2020\",\"marker\":{\"color\":\"#FFA15A\",\"size\":[75],\"sizemode\":\"area\",\"sizeref\":0.6725,\"symbol\":\"circle\"},\"mode\":\"markers\",\"name\":\"14-03-2020\",\"orientation\":\"v\",\"showlegend\":true,\"x\":[\"14-03-2020\"],\"xaxis\":\"x\",\"y\":[75],\"yaxis\":\"y\",\"type\":\"scatter\"},{\"hovertemplate\":\"last_review=%{x}\\u003cbr\\u003ecount=%{marker.size}\\u003cextra\\u003e\\u003c\\u002fextra\\u003e\",\"legendgroup\":\"05-01-2020\",\"marker\":{\"color\":\"#19d3f3\",\"size\":[70],\"sizemode\":\"area\",\"sizeref\":0.6725,\"symbol\":\"circle\"},\"mode\":\"markers\",\"name\":\"05-01-2020\",\"orientation\":\"v\",\"showlegend\":true,\"x\":[\"05-01-2020\"],\"xaxis\":\"x\",\"y\":[70],\"yaxis\":\"y\",\"type\":\"scatter\"},{\"hovertemplate\":\"last_review=%{x}\\u003cbr\\u003ecount=%{marker.size}\\u003cextra\\u003e\\u003c\\u002fextra\\u003e\",\"legendgroup\":\"24-02-2020\",\"marker\":{\"color\":\"#FF6692\",\"size\":[68],\"sizemode\":\"area\",\"sizeref\":0.6725,\"symbol\":\"circle\"},\"mode\":\"markers\",\"name\":\"24-02-2020\",\"orientation\":\"v\",\"showlegend\":true,\"x\":[\"24-02-2020\"],\"xaxis\":\"x\",\"y\":[68],\"yaxis\":\"y\",\"type\":\"scatter\"},{\"hovertemplate\":\"last_review=%{x}\\u003cbr\\u003ecount=%{marker.size}\\u003cextra\\u003e\\u003c\\u002fextra\\u003e\",\"legendgroup\":\"02-03-2020\",\"marker\":{\"color\":\"#B6E880\",\"size\":[67],\"sizemode\":\"area\",\"sizeref\":0.6725,\"symbol\":\"circle\"},\"mode\":\"markers\",\"name\":\"02-03-2020\",\"orientation\":\"v\",\"showlegend\":true,\"x\":[\"02-03-2020\"],\"xaxis\":\"x\",\"y\":[67],\"yaxis\":\"y\",\"type\":\"scatter\"},{\"hovertemplate\":\"last_review=%{x}\\u003cbr\\u003ecount=%{marker.size}\\u003cextra\\u003e\\u003c\\u002fextra\\u003e\",\"legendgroup\":\"15-02-2020\",\"marker\":{\"color\":\"#FF97FF\",\"size\":[63],\"sizemode\":\"area\",\"sizeref\":0.6725,\"symbol\":\"circle\"},\"mode\":\"markers\",\"name\":\"15-02-2020\",\"orientation\":\"v\",\"showlegend\":true,\"x\":[\"15-02-2020\"],\"xaxis\":\"x\",\"y\":[63],\"yaxis\":\"y\",\"type\":\"scatter\"},{\"hovertemplate\":\"last_review=%{x}\\u003cbr\\u003ecount=%{marker.size}\\u003cextra\\u003e\\u003c\\u002fextra\\u003e\",\"legendgroup\":\"04-01-2020\",\"marker\":{\"color\":\"#FECB52\",\"size\":[63],\"sizemode\":\"area\",\"sizeref\":0.6725,\"symbol\":\"circle\"},\"mode\":\"markers\",\"name\":\"04-01-2020\",\"orientation\":\"v\",\"showlegend\":true,\"x\":[\"04-01-2020\"],\"xaxis\":\"x\",\"y\":[63],\"yaxis\":\"y\",\"type\":\"scatter\"},{\"hovertemplate\":\"last_review=%{x}\\u003cbr\\u003ecount=%{marker.size}\\u003cextra\\u003e\\u003c\\u002fextra\\u003e\",\"legendgroup\":\"15-09-2019\",\"marker\":{\"color\":\"#636efa\",\"size\":[61],\"sizemode\":\"area\",\"sizeref\":0.6725,\"symbol\":\"circle\"},\"mode\":\"markers\",\"name\":\"15-09-2019\",\"orientation\":\"v\",\"showlegend\":true,\"x\":[\"15-09-2019\"],\"xaxis\":\"x\",\"y\":[61],\"yaxis\":\"y\",\"type\":\"scatter\"},{\"hovertemplate\":\"last_review=%{x}\\u003cbr\\u003ecount=%{marker.size}\\u003cextra\\u003e\\u003c\\u002fextra\\u003e\",\"legendgroup\":\"03-11-2019\",\"marker\":{\"color\":\"#EF553B\",\"size\":[61],\"sizemode\":\"area\",\"sizeref\":0.6725,\"symbol\":\"circle\"},\"mode\":\"markers\",\"name\":\"03-11-2019\",\"orientation\":\"v\",\"showlegend\":true,\"x\":[\"03-11-2019\"],\"xaxis\":\"x\",\"y\":[61],\"yaxis\":\"y\",\"type\":\"scatter\"},{\"hovertemplate\":\"last_review=%{x}\\u003cbr\\u003ecount=%{marker.size}\\u003cextra\\u003e\\u003c\\u002fextra\\u003e\",\"legendgroup\":\"10-03-2020\",\"marker\":{\"color\":\"#00cc96\",\"size\":[57],\"sizemode\":\"area\",\"sizeref\":0.6725,\"symbol\":\"circle\"},\"mode\":\"markers\",\"name\":\"10-03-2020\",\"orientation\":\"v\",\"showlegend\":true,\"x\":[\"10-03-2020\"],\"xaxis\":\"x\",\"y\":[57],\"yaxis\":\"y\",\"type\":\"scatter\"},{\"hovertemplate\":\"last_review=%{x}\\u003cbr\\u003ecount=%{marker.size}\\u003cextra\\u003e\\u003c\\u002fextra\\u003e\",\"legendgroup\":\"07-03-2020\",\"marker\":{\"color\":\"#ab63fa\",\"size\":[54],\"sizemode\":\"area\",\"sizeref\":0.6725,\"symbol\":\"circle\"},\"mode\":\"markers\",\"name\":\"07-03-2020\",\"orientation\":\"v\",\"showlegend\":true,\"x\":[\"07-03-2020\"],\"xaxis\":\"x\",\"y\":[54],\"yaxis\":\"y\",\"type\":\"scatter\"},{\"hovertemplate\":\"last_review=%{x}\\u003cbr\\u003ecount=%{marker.size}\\u003cextra\\u003e\\u003c\\u002fextra\\u003e\",\"legendgroup\":\"13-03-2020\",\"marker\":{\"color\":\"#FFA15A\",\"size\":[51],\"sizemode\":\"area\",\"sizeref\":0.6725,\"symbol\":\"circle\"},\"mode\":\"markers\",\"name\":\"13-03-2020\",\"orientation\":\"v\",\"showlegend\":true,\"x\":[\"13-03-2020\"],\"xaxis\":\"x\",\"y\":[51],\"yaxis\":\"y\",\"type\":\"scatter\"},{\"hovertemplate\":\"last_review=%{x}\\u003cbr\\u003ecount=%{marker.size}\\u003cextra\\u003e\\u003c\\u002fextra\\u003e\",\"legendgroup\":\"27-10-2019\",\"marker\":{\"color\":\"#19d3f3\",\"size\":[49],\"sizemode\":\"area\",\"sizeref\":0.6725,\"symbol\":\"circle\"},\"mode\":\"markers\",\"name\":\"27-10-2019\",\"orientation\":\"v\",\"showlegend\":true,\"x\":[\"27-10-2019\"],\"xaxis\":\"x\",\"y\":[49],\"yaxis\":\"y\",\"type\":\"scatter\"},{\"hovertemplate\":\"last_review=%{x}\\u003cbr\\u003ecount=%{marker.size}\\u003cextra\\u003e\\u003c\\u002fextra\\u003e\",\"legendgroup\":\"29-12-2019\",\"marker\":{\"color\":\"#FF6692\",\"size\":[46],\"sizemode\":\"area\",\"sizeref\":0.6725,\"symbol\":\"circle\"},\"mode\":\"markers\",\"name\":\"29-12-2019\",\"orientation\":\"v\",\"showlegend\":true,\"x\":[\"29-12-2019\"],\"xaxis\":\"x\",\"y\":[46],\"yaxis\":\"y\",\"type\":\"scatter\"},{\"hovertemplate\":\"last_review=%{x}\\u003cbr\\u003ecount=%{marker.size}\\u003cextra\\u003e\\u003c\\u002fextra\\u003e\",\"legendgroup\":\"22-09-2019\",\"marker\":{\"color\":\"#B6E880\",\"size\":[46],\"sizemode\":\"area\",\"sizeref\":0.6725,\"symbol\":\"circle\"},\"mode\":\"markers\",\"name\":\"22-09-2019\",\"orientation\":\"v\",\"showlegend\":true,\"x\":[\"22-09-2019\"],\"xaxis\":\"x\",\"y\":[46],\"yaxis\":\"y\",\"type\":\"scatter\"},{\"hovertemplate\":\"last_review=%{x}\\u003cbr\\u003ecount=%{marker.size}\\u003cextra\\u003e\\u003c\\u002fextra\\u003e\",\"legendgroup\":\"25-08-2019\",\"marker\":{\"color\":\"#FF97FF\",\"size\":[46],\"sizemode\":\"area\",\"sizeref\":0.6725,\"symbol\":\"circle\"},\"mode\":\"markers\",\"name\":\"25-08-2019\",\"orientation\":\"v\",\"showlegend\":true,\"x\":[\"25-08-2019\"],\"xaxis\":\"x\",\"y\":[46],\"yaxis\":\"y\",\"type\":\"scatter\"},{\"hovertemplate\":\"last_review=%{x}\\u003cbr\\u003ecount=%{marker.size}\\u003cextra\\u003e\\u003c\\u002fextra\\u003e\",\"legendgroup\":\"11-03-2020\",\"marker\":{\"color\":\"#FECB52\",\"size\":[46],\"sizemode\":\"area\",\"sizeref\":0.6725,\"symbol\":\"circle\"},\"mode\":\"markers\",\"name\":\"11-03-2020\",\"orientation\":\"v\",\"showlegend\":true,\"x\":[\"11-03-2020\"],\"xaxis\":\"x\",\"y\":[46],\"yaxis\":\"y\",\"type\":\"scatter\"},{\"hovertemplate\":\"last_review=%{x}\\u003cbr\\u003ecount=%{marker.size}\\u003cextra\\u003e\\u003c\\u002fextra\\u003e\",\"legendgroup\":\"16-09-2019\",\"marker\":{\"color\":\"#636efa\",\"size\":[46],\"sizemode\":\"area\",\"sizeref\":0.6725,\"symbol\":\"circle\"},\"mode\":\"markers\",\"name\":\"16-09-2019\",\"orientation\":\"v\",\"showlegend\":true,\"x\":[\"16-09-2019\"],\"xaxis\":\"x\",\"y\":[46],\"yaxis\":\"y\",\"type\":\"scatter\"},{\"hovertemplate\":\"last_review=%{x}\\u003cbr\\u003ecount=%{marker.size}\\u003cextra\\u003e\\u003c\\u002fextra\\u003e\",\"legendgroup\":\"14-02-2020\",\"marker\":{\"color\":\"#EF553B\",\"size\":[46],\"sizemode\":\"area\",\"sizeref\":0.6725,\"symbol\":\"circle\"},\"mode\":\"markers\",\"name\":\"14-02-2020\",\"orientation\":\"v\",\"showlegend\":true,\"x\":[\"14-02-2020\"],\"xaxis\":\"x\",\"y\":[46],\"yaxis\":\"y\",\"type\":\"scatter\"},{\"hovertemplate\":\"last_review=%{x}\\u003cbr\\u003ecount=%{marker.size}\\u003cextra\\u003e\\u003c\\u002fextra\\u003e\",\"legendgroup\":\"10-11-2019\",\"marker\":{\"color\":\"#00cc96\",\"size\":[45],\"sizemode\":\"area\",\"sizeref\":0.6725,\"symbol\":\"circle\"},\"mode\":\"markers\",\"name\":\"10-11-2019\",\"orientation\":\"v\",\"showlegend\":true,\"x\":[\"10-11-2019\"],\"xaxis\":\"x\",\"y\":[45],\"yaxis\":\"y\",\"type\":\"scatter\"},{\"hovertemplate\":\"last_review=%{x}\\u003cbr\\u003ecount=%{marker.size}\\u003cextra\\u003e\\u003c\\u002fextra\\u003e\",\"legendgroup\":\"02-01-2019\",\"marker\":{\"color\":\"#ab63fa\",\"size\":[45],\"sizemode\":\"area\",\"sizeref\":0.6725,\"symbol\":\"circle\"},\"mode\":\"markers\",\"name\":\"02-01-2019\",\"orientation\":\"v\",\"showlegend\":true,\"x\":[\"02-01-2019\"],\"xaxis\":\"x\",\"y\":[45],\"yaxis\":\"y\",\"type\":\"scatter\"},{\"hovertemplate\":\"last_review=%{x}\\u003cbr\\u003ecount=%{marker.size}\\u003cextra\\u003e\\u003c\\u002fextra\\u003e\",\"legendgroup\":\"29-09-2019\",\"marker\":{\"color\":\"#FFA15A\",\"size\":[43],\"sizemode\":\"area\",\"sizeref\":0.6725,\"symbol\":\"circle\"},\"mode\":\"markers\",\"name\":\"29-09-2019\",\"orientation\":\"v\",\"showlegend\":true,\"x\":[\"29-09-2019\"],\"xaxis\":\"x\",\"y\":[43],\"yaxis\":\"y\",\"type\":\"scatter\"},{\"hovertemplate\":\"last_review=%{x}\\u003cbr\\u003ecount=%{marker.size}\\u003cextra\\u003e\\u003c\\u002fextra\\u003e\",\"legendgroup\":\"09-02-2020\",\"marker\":{\"color\":\"#19d3f3\",\"size\":[43],\"sizemode\":\"area\",\"sizeref\":0.6725,\"symbol\":\"circle\"},\"mode\":\"markers\",\"name\":\"09-02-2020\",\"orientation\":\"v\",\"showlegend\":true,\"x\":[\"09-02-2020\"],\"xaxis\":\"x\",\"y\":[43],\"yaxis\":\"y\",\"type\":\"scatter\"},{\"hovertemplate\":\"last_review=%{x}\\u003cbr\\u003ecount=%{marker.size}\\u003cextra\\u003e\\u003c\\u002fextra\\u003e\",\"legendgroup\":\"11-08-2019\",\"marker\":{\"color\":\"#FF6692\",\"size\":[42],\"sizemode\":\"area\",\"sizeref\":0.6725,\"symbol\":\"circle\"},\"mode\":\"markers\",\"name\":\"11-08-2019\",\"orientation\":\"v\",\"showlegend\":true,\"x\":[\"11-08-2019\"],\"xaxis\":\"x\",\"y\":[42],\"yaxis\":\"y\",\"type\":\"scatter\"},{\"hovertemplate\":\"last_review=%{x}\\u003cbr\\u003ecount=%{marker.size}\\u003cextra\\u003e\\u003c\\u002fextra\\u003e\",\"legendgroup\":\"06-10-2019\",\"marker\":{\"color\":\"#B6E880\",\"size\":[41],\"sizemode\":\"area\",\"sizeref\":0.6725,\"symbol\":\"circle\"},\"mode\":\"markers\",\"name\":\"06-10-2019\",\"orientation\":\"v\",\"showlegend\":true,\"x\":[\"06-10-2019\"],\"xaxis\":\"x\",\"y\":[41],\"yaxis\":\"y\",\"type\":\"scatter\"},{\"hovertemplate\":\"last_review=%{x}\\u003cbr\\u003ecount=%{marker.size}\\u003cextra\\u003e\\u003c\\u002fextra\\u003e\",\"legendgroup\":\"05-08-2019\",\"marker\":{\"color\":\"#FF97FF\",\"size\":[40],\"sizemode\":\"area\",\"sizeref\":0.6725,\"symbol\":\"circle\"},\"mode\":\"markers\",\"name\":\"05-08-2019\",\"orientation\":\"v\",\"showlegend\":true,\"x\":[\"05-08-2019\"],\"xaxis\":\"x\",\"y\":[40],\"yaxis\":\"y\",\"type\":\"scatter\"},{\"hovertemplate\":\"last_review=%{x}\\u003cbr\\u003ecount=%{marker.size}\\u003cextra\\u003e\\u003c\\u002fextra\\u003e\",\"legendgroup\":\"01-12-2019\",\"marker\":{\"color\":\"#FECB52\",\"size\":[40],\"sizemode\":\"area\",\"sizeref\":0.6725,\"symbol\":\"circle\"},\"mode\":\"markers\",\"name\":\"01-12-2019\",\"orientation\":\"v\",\"showlegend\":true,\"x\":[\"01-12-2019\"],\"xaxis\":\"x\",\"y\":[40],\"yaxis\":\"y\",\"type\":\"scatter\"},{\"hovertemplate\":\"last_review=%{x}\\u003cbr\\u003ecount=%{marker.size}\\u003cextra\\u003e\\u003c\\u002fextra\\u003e\",\"legendgroup\":\"31-12-2019\",\"marker\":{\"color\":\"#636efa\",\"size\":[40],\"sizemode\":\"area\",\"sizeref\":0.6725,\"symbol\":\"circle\"},\"mode\":\"markers\",\"name\":\"31-12-2019\",\"orientation\":\"v\",\"showlegend\":true,\"x\":[\"31-12-2019\"],\"xaxis\":\"x\",\"y\":[40],\"yaxis\":\"y\",\"type\":\"scatter\"},{\"hovertemplate\":\"last_review=%{x}\\u003cbr\\u003ecount=%{marker.size}\\u003cextra\\u003e\\u003c\\u002fextra\\u003e\",\"legendgroup\":\"12-03-2020\",\"marker\":{\"color\":\"#EF553B\",\"size\":[40],\"sizemode\":\"area\",\"sizeref\":0.6725,\"symbol\":\"circle\"},\"mode\":\"markers\",\"name\":\"12-03-2020\",\"orientation\":\"v\",\"showlegend\":true,\"x\":[\"12-03-2020\"],\"xaxis\":\"x\",\"y\":[40],\"yaxis\":\"y\",\"type\":\"scatter\"},{\"hovertemplate\":\"last_review=%{x}\\u003cbr\\u003ecount=%{marker.size}\\u003cextra\\u003e\\u003c\\u002fextra\\u003e\",\"legendgroup\":\"01-01-2019\",\"marker\":{\"color\":\"#00cc96\",\"size\":[39],\"sizemode\":\"area\",\"sizeref\":0.6725,\"symbol\":\"circle\"},\"mode\":\"markers\",\"name\":\"01-01-2019\",\"orientation\":\"v\",\"showlegend\":true,\"x\":[\"01-01-2019\"],\"xaxis\":\"x\",\"y\":[39],\"yaxis\":\"y\",\"type\":\"scatter\"},{\"hovertemplate\":\"last_review=%{x}\\u003cbr\\u003ecount=%{marker.size}\\u003cextra\\u003e\\u003c\\u002fextra\\u003e\",\"legendgroup\":\"25-02-2020\",\"marker\":{\"color\":\"#ab63fa\",\"size\":[39],\"sizemode\":\"area\",\"sizeref\":0.6725,\"symbol\":\"circle\"},\"mode\":\"markers\",\"name\":\"25-02-2020\",\"orientation\":\"v\",\"showlegend\":true,\"x\":[\"25-02-2020\"],\"xaxis\":\"x\",\"y\":[39],\"yaxis\":\"y\",\"type\":\"scatter\"},{\"hovertemplate\":\"last_review=%{x}\\u003cbr\\u003ecount=%{marker.size}\\u003cextra\\u003e\\u003c\\u002fextra\\u003e\",\"legendgroup\":\"26-01-2020\",\"marker\":{\"color\":\"#FFA15A\",\"size\":[38],\"sizemode\":\"area\",\"sizeref\":0.6725,\"symbol\":\"circle\"},\"mode\":\"markers\",\"name\":\"26-01-2020\",\"orientation\":\"v\",\"showlegend\":true,\"x\":[\"26-01-2020\"],\"xaxis\":\"x\",\"y\":[38],\"yaxis\":\"y\",\"type\":\"scatter\"},{\"hovertemplate\":\"last_review=%{x}\\u003cbr\\u003ecount=%{marker.size}\\u003cextra\\u003e\\u003c\\u002fextra\\u003e\",\"legendgroup\":\"22-10-2019\",\"marker\":{\"color\":\"#19d3f3\",\"size\":[38],\"sizemode\":\"area\",\"sizeref\":0.6725,\"symbol\":\"circle\"},\"mode\":\"markers\",\"name\":\"22-10-2019\",\"orientation\":\"v\",\"showlegend\":true,\"x\":[\"22-10-2019\"],\"xaxis\":\"x\",\"y\":[38],\"yaxis\":\"y\",\"type\":\"scatter\"},{\"hovertemplate\":\"last_review=%{x}\\u003cbr\\u003ecount=%{marker.size}\\u003cextra\\u003e\\u003c\\u002fextra\\u003e\",\"legendgroup\":\"17-03-2020\",\"marker\":{\"color\":\"#FF6692\",\"size\":[37],\"sizemode\":\"area\",\"sizeref\":0.6725,\"symbol\":\"circle\"},\"mode\":\"markers\",\"name\":\"17-03-2020\",\"orientation\":\"v\",\"showlegend\":true,\"x\":[\"17-03-2020\"],\"xaxis\":\"x\",\"y\":[37],\"yaxis\":\"y\",\"type\":\"scatter\"},{\"hovertemplate\":\"last_review=%{x}\\u003cbr\\u003ecount=%{marker.size}\\u003cextra\\u003e\\u003c\\u002fextra\\u003e\",\"legendgroup\":\"13-02-2020\",\"marker\":{\"color\":\"#B6E880\",\"size\":[36],\"sizemode\":\"area\",\"sizeref\":0.6725,\"symbol\":\"circle\"},\"mode\":\"markers\",\"name\":\"13-02-2020\",\"orientation\":\"v\",\"showlegend\":true,\"x\":[\"13-02-2020\"],\"xaxis\":\"x\",\"y\":[36],\"yaxis\":\"y\",\"type\":\"scatter\"},{\"hovertemplate\":\"last_review=%{x}\\u003cbr\\u003ecount=%{marker.size}\\u003cextra\\u003e\\u003c\\u002fextra\\u003e\",\"legendgroup\":\"29-02-2020\",\"marker\":{\"color\":\"#FF97FF\",\"size\":[36],\"sizemode\":\"area\",\"sizeref\":0.6725,\"symbol\":\"circle\"},\"mode\":\"markers\",\"name\":\"29-02-2020\",\"orientation\":\"v\",\"showlegend\":true,\"x\":[\"29-02-2020\"],\"xaxis\":\"x\",\"y\":[36],\"yaxis\":\"y\",\"type\":\"scatter\"},{\"hovertemplate\":\"last_review=%{x}\\u003cbr\\u003ecount=%{marker.size}\\u003cextra\\u003e\\u003c\\u002fextra\\u003e\",\"legendgroup\":\"18-08-2019\",\"marker\":{\"color\":\"#FECB52\",\"size\":[36],\"sizemode\":\"area\",\"sizeref\":0.6725,\"symbol\":\"circle\"},\"mode\":\"markers\",\"name\":\"18-08-2019\",\"orientation\":\"v\",\"showlegend\":true,\"x\":[\"18-08-2019\"],\"xaxis\":\"x\",\"y\":[36],\"yaxis\":\"y\",\"type\":\"scatter\"},{\"hovertemplate\":\"last_review=%{x}\\u003cbr\\u003ecount=%{marker.size}\\u003cextra\\u003e\\u003c\\u002fextra\\u003e\",\"legendgroup\":\"06-03-2020\",\"marker\":{\"color\":\"#636efa\",\"size\":[35],\"sizemode\":\"area\",\"sizeref\":0.6725,\"symbol\":\"circle\"},\"mode\":\"markers\",\"name\":\"06-03-2020\",\"orientation\":\"v\",\"showlegend\":true,\"x\":[\"06-03-2020\"],\"xaxis\":\"x\",\"y\":[35],\"yaxis\":\"y\",\"type\":\"scatter\"},{\"hovertemplate\":\"last_review=%{x}\\u003cbr\\u003ecount=%{marker.size}\\u003cextra\\u003e\\u003c\\u002fextra\\u003e\",\"legendgroup\":\"24-11-2019\",\"marker\":{\"color\":\"#EF553B\",\"size\":[35],\"sizemode\":\"area\",\"sizeref\":0.6725,\"symbol\":\"circle\"},\"mode\":\"markers\",\"name\":\"24-11-2019\",\"orientation\":\"v\",\"showlegend\":true,\"x\":[\"24-11-2019\"],\"xaxis\":\"x\",\"y\":[35],\"yaxis\":\"y\",\"type\":\"scatter\"},{\"hovertemplate\":\"last_review=%{x}\\u003cbr\\u003ecount=%{marker.size}\\u003cextra\\u003e\\u003c\\u002fextra\\u003e\",\"legendgroup\":\"04-08-2019\",\"marker\":{\"color\":\"#00cc96\",\"size\":[34],\"sizemode\":\"area\",\"sizeref\":0.6725,\"symbol\":\"circle\"},\"mode\":\"markers\",\"name\":\"04-08-2019\",\"orientation\":\"v\",\"showlegend\":true,\"x\":[\"04-08-2019\"],\"xaxis\":\"x\",\"y\":[34],\"yaxis\":\"y\",\"type\":\"scatter\"},{\"hovertemplate\":\"last_review=%{x}\\u003cbr\\u003ecount=%{marker.size}\\u003cextra\\u003e\\u003c\\u002fextra\\u003e\",\"legendgroup\":\"02-02-2020\",\"marker\":{\"color\":\"#ab63fa\",\"size\":[33],\"sizemode\":\"area\",\"sizeref\":0.6725,\"symbol\":\"circle\"},\"mode\":\"markers\",\"name\":\"02-02-2020\",\"orientation\":\"v\",\"showlegend\":true,\"x\":[\"02-02-2020\"],\"xaxis\":\"x\",\"y\":[33],\"yaxis\":\"y\",\"type\":\"scatter\"},{\"hovertemplate\":\"last_review=%{x}\\u003cbr\\u003ecount=%{marker.size}\\u003cextra\\u003e\\u003c\\u002fextra\\u003e\",\"legendgroup\":\"02-06-2019\",\"marker\":{\"color\":\"#FFA15A\",\"size\":[32],\"sizemode\":\"area\",\"sizeref\":0.6725,\"symbol\":\"circle\"},\"mode\":\"markers\",\"name\":\"02-06-2019\",\"orientation\":\"v\",\"showlegend\":true,\"x\":[\"02-06-2019\"],\"xaxis\":\"x\",\"y\":[32],\"yaxis\":\"y\",\"type\":\"scatter\"},{\"hovertemplate\":\"last_review=%{x}\\u003cbr\\u003ecount=%{marker.size}\\u003cextra\\u003e\\u003c\\u002fextra\\u003e\",\"legendgroup\":\"18-02-2020\",\"marker\":{\"color\":\"#19d3f3\",\"size\":[31],\"sizemode\":\"area\",\"sizeref\":0.6725,\"symbol\":\"circle\"},\"mode\":\"markers\",\"name\":\"18-02-2020\",\"orientation\":\"v\",\"showlegend\":true,\"x\":[\"18-02-2020\"],\"xaxis\":\"x\",\"y\":[31],\"yaxis\":\"y\",\"type\":\"scatter\"},{\"hovertemplate\":\"last_review=%{x}\\u003cbr\\u003ecount=%{marker.size}\\u003cextra\\u003e\\u003c\\u002fextra\\u003e\",\"legendgroup\":\"08-12-2019\",\"marker\":{\"color\":\"#FF6692\",\"size\":[30],\"sizemode\":\"area\",\"sizeref\":0.6725,\"symbol\":\"circle\"},\"mode\":\"markers\",\"name\":\"08-12-2019\",\"orientation\":\"v\",\"showlegend\":true,\"x\":[\"08-12-2019\"],\"xaxis\":\"x\",\"y\":[30],\"yaxis\":\"y\",\"type\":\"scatter\"},{\"hovertemplate\":\"last_review=%{x}\\u003cbr\\u003ecount=%{marker.size}\\u003cextra\\u003e\\u003c\\u002fextra\\u003e\",\"legendgroup\":\"01-01-2018\",\"marker\":{\"color\":\"#B6E880\",\"size\":[29],\"sizemode\":\"area\",\"sizeref\":0.6725,\"symbol\":\"circle\"},\"mode\":\"markers\",\"name\":\"01-01-2018\",\"orientation\":\"v\",\"showlegend\":true,\"x\":[\"01-01-2018\"],\"xaxis\":\"x\",\"y\":[29],\"yaxis\":\"y\",\"type\":\"scatter\"},{\"hovertemplate\":\"last_review=%{x}\\u003cbr\\u003ecount=%{marker.size}\\u003cextra\\u003e\\u003c\\u002fextra\\u003e\",\"legendgroup\":\"30-06-2019\",\"marker\":{\"color\":\"#FF97FF\",\"size\":[29],\"sizemode\":\"area\",\"sizeref\":0.6725,\"symbol\":\"circle\"},\"mode\":\"markers\",\"name\":\"30-06-2019\",\"orientation\":\"v\",\"showlegend\":true,\"x\":[\"30-06-2019\"],\"xaxis\":\"x\",\"y\":[29],\"yaxis\":\"y\",\"type\":\"scatter\"},{\"hovertemplate\":\"last_review=%{x}\\u003cbr\\u003ecount=%{marker.size}\\u003cextra\\u003e\\u003c\\u002fextra\\u003e\",\"legendgroup\":\"18-03-2020\",\"marker\":{\"color\":\"#FECB52\",\"size\":[29],\"sizemode\":\"area\",\"sizeref\":0.6725,\"symbol\":\"circle\"},\"mode\":\"markers\",\"name\":\"18-03-2020\",\"orientation\":\"v\",\"showlegend\":true,\"x\":[\"18-03-2020\"],\"xaxis\":\"x\",\"y\":[29],\"yaxis\":\"y\",\"type\":\"scatter\"},{\"hovertemplate\":\"last_review=%{x}\\u003cbr\\u003ecount=%{marker.size}\\u003cextra\\u003e\\u003c\\u002fextra\\u003e\",\"legendgroup\":\"12-08-2019\",\"marker\":{\"color\":\"#636efa\",\"size\":[29],\"sizemode\":\"area\",\"sizeref\":0.6725,\"symbol\":\"circle\"},\"mode\":\"markers\",\"name\":\"12-08-2019\",\"orientation\":\"v\",\"showlegend\":true,\"x\":[\"12-08-2019\"],\"xaxis\":\"x\",\"y\":[29],\"yaxis\":\"y\",\"type\":\"scatter\"},{\"hovertemplate\":\"last_review=%{x}\\u003cbr\\u003ecount=%{marker.size}\\u003cextra\\u003e\\u003c\\u002fextra\\u003e\",\"legendgroup\":\"26-02-2020\",\"marker\":{\"color\":\"#EF553B\",\"size\":[28],\"sizemode\":\"area\",\"sizeref\":0.6725,\"symbol\":\"circle\"},\"mode\":\"markers\",\"name\":\"26-02-2020\",\"orientation\":\"v\",\"showlegend\":true,\"x\":[\"26-02-2020\"],\"xaxis\":\"x\",\"y\":[28],\"yaxis\":\"y\",\"type\":\"scatter\"},{\"hovertemplate\":\"last_review=%{x}\\u003cbr\\u003ecount=%{marker.size}\\u003cextra\\u003e\\u003c\\u002fextra\\u003e\",\"legendgroup\":\"19-01-2020\",\"marker\":{\"color\":\"#00cc96\",\"size\":[28],\"sizemode\":\"area\",\"sizeref\":0.6725,\"symbol\":\"circle\"},\"mode\":\"markers\",\"name\":\"19-01-2020\",\"orientation\":\"v\",\"showlegend\":true,\"x\":[\"19-01-2020\"],\"xaxis\":\"x\",\"y\":[28],\"yaxis\":\"y\",\"type\":\"scatter\"},{\"hovertemplate\":\"last_review=%{x}\\u003cbr\\u003ecount=%{marker.size}\\u003cextra\\u003e\\u003c\\u002fextra\\u003e\",\"legendgroup\":\"10-08-2019\",\"marker\":{\"color\":\"#ab63fa\",\"size\":[28],\"sizemode\":\"area\",\"sizeref\":0.6725,\"symbol\":\"circle\"},\"mode\":\"markers\",\"name\":\"10-08-2019\",\"orientation\":\"v\",\"showlegend\":true,\"x\":[\"10-08-2019\"],\"xaxis\":\"x\",\"y\":[28],\"yaxis\":\"y\",\"type\":\"scatter\"},{\"hovertemplate\":\"last_review=%{x}\\u003cbr\\u003ecount=%{marker.size}\\u003cextra\\u003e\\u003c\\u002fextra\\u003e\",\"legendgroup\":\"28-07-2019\",\"marker\":{\"color\":\"#FFA15A\",\"size\":[28],\"sizemode\":\"area\",\"sizeref\":0.6725,\"symbol\":\"circle\"},\"mode\":\"markers\",\"name\":\"28-07-2019\",\"orientation\":\"v\",\"showlegend\":true,\"x\":[\"28-07-2019\"],\"xaxis\":\"x\",\"y\":[28],\"yaxis\":\"y\",\"type\":\"scatter\"},{\"hovertemplate\":\"last_review=%{x}\\u003cbr\\u003ecount=%{marker.size}\\u003cextra\\u003e\\u003c\\u002fextra\\u003e\",\"legendgroup\":\"05-05-2019\",\"marker\":{\"color\":\"#19d3f3\",\"size\":[27],\"sizemode\":\"area\",\"sizeref\":0.6725,\"symbol\":\"circle\"},\"mode\":\"markers\",\"name\":\"05-05-2019\",\"orientation\":\"v\",\"showlegend\":true,\"x\":[\"05-05-2019\"],\"xaxis\":\"x\",\"y\":[27],\"yaxis\":\"y\",\"type\":\"scatter\"},{\"hovertemplate\":\"last_review=%{x}\\u003cbr\\u003ecount=%{marker.size}\\u003cextra\\u003e\\u003c\\u002fextra\\u003e\",\"legendgroup\":\"10-06-2019\",\"marker\":{\"color\":\"#FF6692\",\"size\":[27],\"sizemode\":\"area\",\"sizeref\":0.6725,\"symbol\":\"circle\"},\"mode\":\"markers\",\"name\":\"10-06-2019\",\"orientation\":\"v\",\"showlegend\":true,\"x\":[\"10-06-2019\"],\"xaxis\":\"x\",\"y\":[27],\"yaxis\":\"y\",\"type\":\"scatter\"},{\"hovertemplate\":\"last_review=%{x}\\u003cbr\\u003ecount=%{marker.size}\\u003cextra\\u003e\\u003c\\u002fextra\\u003e\",\"legendgroup\":\"17-11-2019\",\"marker\":{\"color\":\"#B6E880\",\"size\":[27],\"sizemode\":\"area\",\"sizeref\":0.6725,\"symbol\":\"circle\"},\"mode\":\"markers\",\"name\":\"17-11-2019\",\"orientation\":\"v\",\"showlegend\":true,\"x\":[\"17-11-2019\"],\"xaxis\":\"x\",\"y\":[27],\"yaxis\":\"y\",\"type\":\"scatter\"},{\"hovertemplate\":\"last_review=%{x}\\u003cbr\\u003ecount=%{marker.size}\\u003cextra\\u003e\\u003c\\u002fextra\\u003e\",\"legendgroup\":\"22-04-2019\",\"marker\":{\"color\":\"#FF97FF\",\"size\":[26],\"sizemode\":\"area\",\"sizeref\":0.6725,\"symbol\":\"circle\"},\"mode\":\"markers\",\"name\":\"22-04-2019\",\"orientation\":\"v\",\"showlegend\":true,\"x\":[\"22-04-2019\"],\"xaxis\":\"x\",\"y\":[26],\"yaxis\":\"y\",\"type\":\"scatter\"},{\"hovertemplate\":\"last_review=%{x}\\u003cbr\\u003ecount=%{marker.size}\\u003cextra\\u003e\\u003c\\u002fextra\\u003e\",\"legendgroup\":\"22-02-2020\",\"marker\":{\"color\":\"#FECB52\",\"size\":[26],\"sizemode\":\"area\",\"sizeref\":0.6725,\"symbol\":\"circle\"},\"mode\":\"markers\",\"name\":\"22-02-2020\",\"orientation\":\"v\",\"showlegend\":true,\"x\":[\"22-02-2020\"],\"xaxis\":\"x\",\"y\":[26],\"yaxis\":\"y\",\"type\":\"scatter\"},{\"hovertemplate\":\"last_review=%{x}\\u003cbr\\u003ecount=%{marker.size}\\u003cextra\\u003e\\u003c\\u002fextra\\u003e\",\"legendgroup\":\"06-08-2019\",\"marker\":{\"color\":\"#636efa\",\"size\":[26],\"sizemode\":\"area\",\"sizeref\":0.6725,\"symbol\":\"circle\"},\"mode\":\"markers\",\"name\":\"06-08-2019\",\"orientation\":\"v\",\"showlegend\":true,\"x\":[\"06-08-2019\"],\"xaxis\":\"x\",\"y\":[26],\"yaxis\":\"y\",\"type\":\"scatter\"},{\"hovertemplate\":\"last_review=%{x}\\u003cbr\\u003ecount=%{marker.size}\\u003cextra\\u003e\\u003c\\u002fextra\\u003e\",\"legendgroup\":\"30-09-2019\",\"marker\":{\"color\":\"#EF553B\",\"size\":[26],\"sizemode\":\"area\",\"sizeref\":0.6725,\"symbol\":\"circle\"},\"mode\":\"markers\",\"name\":\"30-09-2019\",\"orientation\":\"v\",\"showlegend\":true,\"x\":[\"30-09-2019\"],\"xaxis\":\"x\",\"y\":[26],\"yaxis\":\"y\",\"type\":\"scatter\"},{\"hovertemplate\":\"last_review=%{x}\\u003cbr\\u003ecount=%{marker.size}\\u003cextra\\u003e\\u003c\\u002fextra\\u003e\",\"legendgroup\":\"17-08-2019\",\"marker\":{\"color\":\"#00cc96\",\"size\":[26],\"sizemode\":\"area\",\"sizeref\":0.6725,\"symbol\":\"circle\"},\"mode\":\"markers\",\"name\":\"17-08-2019\",\"orientation\":\"v\",\"showlegend\":true,\"x\":[\"17-08-2019\"],\"xaxis\":\"x\",\"y\":[26],\"yaxis\":\"y\",\"type\":\"scatter\"},{\"hovertemplate\":\"last_review=%{x}\\u003cbr\\u003ecount=%{marker.size}\\u003cextra\\u003e\\u003c\\u002fextra\\u003e\",\"legendgroup\":\"28-04-2019\",\"marker\":{\"color\":\"#ab63fa\",\"size\":[25],\"sizemode\":\"area\",\"sizeref\":0.6725,\"symbol\":\"circle\"},\"mode\":\"markers\",\"name\":\"28-04-2019\",\"orientation\":\"v\",\"showlegend\":true,\"x\":[\"28-04-2019\"],\"xaxis\":\"x\",\"y\":[25],\"yaxis\":\"y\",\"type\":\"scatter\"},{\"hovertemplate\":\"last_review=%{x}\\u003cbr\\u003ecount=%{marker.size}\\u003cextra\\u003e\\u003c\\u002fextra\\u003e\",\"legendgroup\":\"27-12-2019\",\"marker\":{\"color\":\"#FFA15A\",\"size\":[25],\"sizemode\":\"area\",\"sizeref\":0.6725,\"symbol\":\"circle\"},\"mode\":\"markers\",\"name\":\"27-12-2019\",\"orientation\":\"v\",\"showlegend\":true,\"x\":[\"27-12-2019\"],\"xaxis\":\"x\",\"y\":[25],\"yaxis\":\"y\",\"type\":\"scatter\"},{\"hovertemplate\":\"last_review=%{x}\\u003cbr\\u003ecount=%{marker.size}\\u003cextra\\u003e\\u003c\\u002fextra\\u003e\",\"legendgroup\":\"17-09-2019\",\"marker\":{\"color\":\"#19d3f3\",\"size\":[25],\"sizemode\":\"area\",\"sizeref\":0.6725,\"symbol\":\"circle\"},\"mode\":\"markers\",\"name\":\"17-09-2019\",\"orientation\":\"v\",\"showlegend\":true,\"x\":[\"17-09-2019\"],\"xaxis\":\"x\",\"y\":[25],\"yaxis\":\"y\",\"type\":\"scatter\"},{\"hovertemplate\":\"last_review=%{x}\\u003cbr\\u003ecount=%{marker.size}\\u003cextra\\u003e\\u003c\\u002fextra\\u003e\",\"legendgroup\":\"21-02-2020\",\"marker\":{\"color\":\"#FF6692\",\"size\":[25],\"sizemode\":\"area\",\"sizeref\":0.6725,\"symbol\":\"circle\"},\"mode\":\"markers\",\"name\":\"21-02-2020\",\"orientation\":\"v\",\"showlegend\":true,\"x\":[\"21-02-2020\"],\"xaxis\":\"x\",\"y\":[25],\"yaxis\":\"y\",\"type\":\"scatter\"},{\"hovertemplate\":\"last_review=%{x}\\u003cbr\\u003ecount=%{marker.size}\\u003cextra\\u003e\\u003c\\u002fextra\\u003e\",\"legendgroup\":\"04-03-2020\",\"marker\":{\"color\":\"#B6E880\",\"size\":[24],\"sizemode\":\"area\",\"sizeref\":0.6725,\"symbol\":\"circle\"},\"mode\":\"markers\",\"name\":\"04-03-2020\",\"orientation\":\"v\",\"showlegend\":true,\"x\":[\"04-03-2020\"],\"xaxis\":\"x\",\"y\":[24],\"yaxis\":\"y\",\"type\":\"scatter\"},{\"hovertemplate\":\"last_review=%{x}\\u003cbr\\u003ecount=%{marker.size}\\u003cextra\\u003e\\u003c\\u002fextra\\u003e\",\"legendgroup\":\"26-10-2019\",\"marker\":{\"color\":\"#FF97FF\",\"size\":[24],\"sizemode\":\"area\",\"sizeref\":0.6725,\"symbol\":\"circle\"},\"mode\":\"markers\",\"name\":\"26-10-2019\",\"orientation\":\"v\",\"showlegend\":true,\"x\":[\"26-10-2019\"],\"xaxis\":\"x\",\"y\":[24],\"yaxis\":\"y\",\"type\":\"scatter\"},{\"hovertemplate\":\"last_review=%{x}\\u003cbr\\u003ecount=%{marker.size}\\u003cextra\\u003e\\u003c\\u002fextra\\u003e\",\"legendgroup\":\"07-10-2019\",\"marker\":{\"color\":\"#FECB52\",\"size\":[24],\"sizemode\":\"area\",\"sizeref\":0.6725,\"symbol\":\"circle\"},\"mode\":\"markers\",\"name\":\"07-10-2019\",\"orientation\":\"v\",\"showlegend\":true,\"x\":[\"07-10-2019\"],\"xaxis\":\"x\",\"y\":[24],\"yaxis\":\"y\",\"type\":\"scatter\"},{\"hovertemplate\":\"last_review=%{x}\\u003cbr\\u003ecount=%{marker.size}\\u003cextra\\u003e\\u003c\\u002fextra\\u003e\",\"legendgroup\":\"28-10-2019\",\"marker\":{\"color\":\"#636efa\",\"size\":[24],\"sizemode\":\"area\",\"sizeref\":0.6725,\"symbol\":\"circle\"},\"mode\":\"markers\",\"name\":\"28-10-2019\",\"orientation\":\"v\",\"showlegend\":true,\"x\":[\"28-10-2019\"],\"xaxis\":\"x\",\"y\":[24],\"yaxis\":\"y\",\"type\":\"scatter\"},{\"hovertemplate\":\"last_review=%{x}\\u003cbr\\u003ecount=%{marker.size}\\u003cextra\\u003e\\u003c\\u002fextra\\u003e\",\"legendgroup\":\"16-06-2019\",\"marker\":{\"color\":\"#EF553B\",\"size\":[24],\"sizemode\":\"area\",\"sizeref\":0.6725,\"symbol\":\"circle\"},\"mode\":\"markers\",\"name\":\"16-06-2019\",\"orientation\":\"v\",\"showlegend\":true,\"x\":[\"16-06-2019\"],\"xaxis\":\"x\",\"y\":[24],\"yaxis\":\"y\",\"type\":\"scatter\"},{\"hovertemplate\":\"last_review=%{x}\\u003cbr\\u003ecount=%{marker.size}\\u003cextra\\u003e\\u003c\\u002fextra\\u003e\",\"legendgroup\":\"22-10-2018\",\"marker\":{\"color\":\"#00cc96\",\"size\":[24],\"sizemode\":\"area\",\"sizeref\":0.6725,\"symbol\":\"circle\"},\"mode\":\"markers\",\"name\":\"22-10-2018\",\"orientation\":\"v\",\"showlegend\":true,\"x\":[\"22-10-2018\"],\"xaxis\":\"x\",\"y\":[24],\"yaxis\":\"y\",\"type\":\"scatter\"},{\"hovertemplate\":\"last_review=%{x}\\u003cbr\\u003ecount=%{marker.size}\\u003cextra\\u003e\\u003c\\u002fextra\\u003e\",\"legendgroup\":\"14-07-2019\",\"marker\":{\"color\":\"#ab63fa\",\"size\":[23],\"sizemode\":\"area\",\"sizeref\":0.6725,\"symbol\":\"circle\"},\"mode\":\"markers\",\"name\":\"14-07-2019\",\"orientation\":\"v\",\"showlegend\":true,\"x\":[\"14-07-2019\"],\"xaxis\":\"x\",\"y\":[23],\"yaxis\":\"y\",\"type\":\"scatter\"},{\"hovertemplate\":\"last_review=%{x}\\u003cbr\\u003ecount=%{marker.size}\\u003cextra\\u003e\\u003c\\u002fextra\\u003e\",\"legendgroup\":\"13-10-2019\",\"marker\":{\"color\":\"#FFA15A\",\"size\":[23],\"sizemode\":\"area\",\"sizeref\":0.6725,\"symbol\":\"circle\"},\"mode\":\"markers\",\"name\":\"13-10-2019\",\"orientation\":\"v\",\"showlegend\":true,\"x\":[\"13-10-2019\"],\"xaxis\":\"x\",\"y\":[23],\"yaxis\":\"y\",\"type\":\"scatter\"},{\"hovertemplate\":\"last_review=%{x}\\u003cbr\\u003ecount=%{marker.size}\\u003cextra\\u003e\\u003c\\u002fextra\\u003e\",\"legendgroup\":\"15-12-2019\",\"marker\":{\"color\":\"#19d3f3\",\"size\":[23],\"sizemode\":\"area\",\"sizeref\":0.6725,\"symbol\":\"circle\"},\"mode\":\"markers\",\"name\":\"15-12-2019\",\"orientation\":\"v\",\"showlegend\":true,\"x\":[\"15-12-2019\"],\"xaxis\":\"x\",\"y\":[23],\"yaxis\":\"y\",\"type\":\"scatter\"},{\"hovertemplate\":\"last_review=%{x}\\u003cbr\\u003ecount=%{marker.size}\\u003cextra\\u003e\\u003c\\u002fextra\\u003e\",\"legendgroup\":\"05-03-2020\",\"marker\":{\"color\":\"#FF6692\",\"size\":[23],\"sizemode\":\"area\",\"sizeref\":0.6725,\"symbol\":\"circle\"},\"mode\":\"markers\",\"name\":\"05-03-2020\",\"orientation\":\"v\",\"showlegend\":true,\"x\":[\"05-03-2020\"],\"xaxis\":\"x\",\"y\":[23],\"yaxis\":\"y\",\"type\":\"scatter\"},{\"hovertemplate\":\"last_review=%{x}\\u003cbr\\u003ecount=%{marker.size}\\u003cextra\\u003e\\u003c\\u002fextra\\u003e\",\"legendgroup\":\"28-12-2019\",\"marker\":{\"color\":\"#B6E880\",\"size\":[23],\"sizemode\":\"area\",\"sizeref\":0.6725,\"symbol\":\"circle\"},\"mode\":\"markers\",\"name\":\"28-12-2019\",\"orientation\":\"v\",\"showlegend\":true,\"x\":[\"28-12-2019\"],\"xaxis\":\"x\",\"y\":[23],\"yaxis\":\"y\",\"type\":\"scatter\"},{\"hovertemplate\":\"last_review=%{x}\\u003cbr\\u003ecount=%{marker.size}\\u003cextra\\u003e\\u003c\\u002fextra\\u003e\",\"legendgroup\":\"27-01-2020\",\"marker\":{\"color\":\"#FF97FF\",\"size\":[22],\"sizemode\":\"area\",\"sizeref\":0.6725,\"symbol\":\"circle\"},\"mode\":\"markers\",\"name\":\"27-01-2020\",\"orientation\":\"v\",\"showlegend\":true,\"x\":[\"27-01-2020\"],\"xaxis\":\"x\",\"y\":[22],\"yaxis\":\"y\",\"type\":\"scatter\"},{\"hovertemplate\":\"last_review=%{x}\\u003cbr\\u003ecount=%{marker.size}\\u003cextra\\u003e\\u003c\\u002fextra\\u003e\",\"legendgroup\":\"08-09-2019\",\"marker\":{\"color\":\"#FECB52\",\"size\":[22],\"sizemode\":\"area\",\"sizeref\":0.6725,\"symbol\":\"circle\"},\"mode\":\"markers\",\"name\":\"08-09-2019\",\"orientation\":\"v\",\"showlegend\":true,\"x\":[\"08-09-2019\"],\"xaxis\":\"x\",\"y\":[22],\"yaxis\":\"y\",\"type\":\"scatter\"},{\"hovertemplate\":\"last_review=%{x}\\u003cbr\\u003ecount=%{marker.size}\\u003cextra\\u003e\\u003c\\u002fextra\\u003e\",\"legendgroup\":\"02-01-2018\",\"marker\":{\"color\":\"#636efa\",\"size\":[22],\"sizemode\":\"area\",\"sizeref\":0.6725,\"symbol\":\"circle\"},\"mode\":\"markers\",\"name\":\"02-01-2018\",\"orientation\":\"v\",\"showlegend\":true,\"x\":[\"02-01-2018\"],\"xaxis\":\"x\",\"y\":[22],\"yaxis\":\"y\",\"type\":\"scatter\"},{\"hovertemplate\":\"last_review=%{x}\\u003cbr\\u003ecount=%{marker.size}\\u003cextra\\u003e\\u003c\\u002fextra\\u003e\",\"legendgroup\":\"18-09-2019\",\"marker\":{\"color\":\"#EF553B\",\"size\":[22],\"sizemode\":\"area\",\"sizeref\":0.6725,\"symbol\":\"circle\"},\"mode\":\"markers\",\"name\":\"18-09-2019\",\"orientation\":\"v\",\"showlegend\":true,\"x\":[\"18-09-2019\"],\"xaxis\":\"x\",\"y\":[22],\"yaxis\":\"y\",\"type\":\"scatter\"},{\"hovertemplate\":\"last_review=%{x}\\u003cbr\\u003ecount=%{marker.size}\\u003cextra\\u003e\\u003c\\u002fextra\\u003e\",\"legendgroup\":\"28-02-2020\",\"marker\":{\"color\":\"#00cc96\",\"size\":[22],\"sizemode\":\"area\",\"sizeref\":0.6725,\"symbol\":\"circle\"},\"mode\":\"markers\",\"name\":\"28-02-2020\",\"orientation\":\"v\",\"showlegend\":true,\"x\":[\"28-02-2020\"],\"xaxis\":\"x\",\"y\":[22],\"yaxis\":\"y\",\"type\":\"scatter\"},{\"hovertemplate\":\"last_review=%{x}\\u003cbr\\u003ecount=%{marker.size}\\u003cextra\\u003e\\u003c\\u002fextra\\u003e\",\"legendgroup\":\"13-08-2019\",\"marker\":{\"color\":\"#ab63fa\",\"size\":[22],\"sizemode\":\"area\",\"sizeref\":0.6725,\"symbol\":\"circle\"},\"mode\":\"markers\",\"name\":\"13-08-2019\",\"orientation\":\"v\",\"showlegend\":true,\"x\":[\"13-08-2019\"],\"xaxis\":\"x\",\"y\":[22],\"yaxis\":\"y\",\"type\":\"scatter\"},{\"hovertemplate\":\"last_review=%{x}\\u003cbr\\u003ecount=%{marker.size}\\u003cextra\\u003e\\u003c\\u002fextra\\u003e\",\"legendgroup\":\"19-08-2019\",\"marker\":{\"color\":\"#FFA15A\",\"size\":[22],\"sizemode\":\"area\",\"sizeref\":0.6725,\"symbol\":\"circle\"},\"mode\":\"markers\",\"name\":\"19-08-2019\",\"orientation\":\"v\",\"showlegend\":true,\"x\":[\"19-08-2019\"],\"xaxis\":\"x\",\"y\":[22],\"yaxis\":\"y\",\"type\":\"scatter\"},{\"hovertemplate\":\"last_review=%{x}\\u003cbr\\u003ecount=%{marker.size}\\u003cextra\\u003e\\u003c\\u002fextra\\u003e\",\"legendgroup\":\"19-03-2020\",\"marker\":{\"color\":\"#19d3f3\",\"size\":[22],\"sizemode\":\"area\",\"sizeref\":0.6725,\"symbol\":\"circle\"},\"mode\":\"markers\",\"name\":\"19-03-2020\",\"orientation\":\"v\",\"showlegend\":true,\"x\":[\"19-03-2020\"],\"xaxis\":\"x\",\"y\":[22],\"yaxis\":\"y\",\"type\":\"scatter\"},{\"hovertemplate\":\"last_review=%{x}\\u003cbr\\u003ecount=%{marker.size}\\u003cextra\\u003e\\u003c\\u002fextra\\u003e\",\"legendgroup\":\"16-08-2019\",\"marker\":{\"color\":\"#FF6692\",\"size\":[22],\"sizemode\":\"area\",\"sizeref\":0.6725,\"symbol\":\"circle\"},\"mode\":\"markers\",\"name\":\"16-08-2019\",\"orientation\":\"v\",\"showlegend\":true,\"x\":[\"16-08-2019\"],\"xaxis\":\"x\",\"y\":[22],\"yaxis\":\"y\",\"type\":\"scatter\"},{\"hovertemplate\":\"last_review=%{x}\\u003cbr\\u003ecount=%{marker.size}\\u003cextra\\u003e\\u003c\\u002fextra\\u003e\",\"legendgroup\":\"12-01-2020\",\"marker\":{\"color\":\"#B6E880\",\"size\":[21],\"sizemode\":\"area\",\"sizeref\":0.6725,\"symbol\":\"circle\"},\"mode\":\"markers\",\"name\":\"12-01-2020\",\"orientation\":\"v\",\"showlegend\":true,\"x\":[\"12-01-2020\"],\"xaxis\":\"x\",\"y\":[21],\"yaxis\":\"y\",\"type\":\"scatter\"},{\"hovertemplate\":\"last_review=%{x}\\u003cbr\\u003ecount=%{marker.size}\\u003cextra\\u003e\\u003c\\u002fextra\\u003e\",\"legendgroup\":\"27-02-2020\",\"marker\":{\"color\":\"#FF97FF\",\"size\":[21],\"sizemode\":\"area\",\"sizeref\":0.6725,\"symbol\":\"circle\"},\"mode\":\"markers\",\"name\":\"27-02-2020\",\"orientation\":\"v\",\"showlegend\":true,\"x\":[\"27-02-2020\"],\"xaxis\":\"x\",\"y\":[21],\"yaxis\":\"y\",\"type\":\"scatter\"},{\"hovertemplate\":\"last_review=%{x}\\u003cbr\\u003ecount=%{marker.size}\\u003cextra\\u003e\\u003c\\u002fextra\\u003e\",\"legendgroup\":\"03-03-2020\",\"marker\":{\"color\":\"#FECB52\",\"size\":[21],\"sizemode\":\"area\",\"sizeref\":0.6725,\"symbol\":\"circle\"},\"mode\":\"markers\",\"name\":\"03-03-2020\",\"orientation\":\"v\",\"showlegend\":true,\"x\":[\"03-03-2020\"],\"xaxis\":\"x\",\"y\":[21],\"yaxis\":\"y\",\"type\":\"scatter\"}],                        {\"template\":{\"data\":{\"histogram2dcontour\":[{\"type\":\"histogram2dcontour\",\"colorbar\":{\"outlinewidth\":0,\"ticks\":\"\"},\"colorscale\":[[0.0,\"#0d0887\"],[0.1111111111111111,\"#46039f\"],[0.2222222222222222,\"#7201a8\"],[0.3333333333333333,\"#9c179e\"],[0.4444444444444444,\"#bd3786\"],[0.5555555555555556,\"#d8576b\"],[0.6666666666666666,\"#ed7953\"],[0.7777777777777778,\"#fb9f3a\"],[0.8888888888888888,\"#fdca26\"],[1.0,\"#f0f921\"]]}],\"choropleth\":[{\"type\":\"choropleth\",\"colorbar\":{\"outlinewidth\":0,\"ticks\":\"\"}}],\"histogram2d\":[{\"type\":\"histogram2d\",\"colorbar\":{\"outlinewidth\":0,\"ticks\":\"\"},\"colorscale\":[[0.0,\"#0d0887\"],[0.1111111111111111,\"#46039f\"],[0.2222222222222222,\"#7201a8\"],[0.3333333333333333,\"#9c179e\"],[0.4444444444444444,\"#bd3786\"],[0.5555555555555556,\"#d8576b\"],[0.6666666666666666,\"#ed7953\"],[0.7777777777777778,\"#fb9f3a\"],[0.8888888888888888,\"#fdca26\"],[1.0,\"#f0f921\"]]}],\"heatmap\":[{\"type\":\"heatmap\",\"colorbar\":{\"outlinewidth\":0,\"ticks\":\"\"},\"colorscale\":[[0.0,\"#0d0887\"],[0.1111111111111111,\"#46039f\"],[0.2222222222222222,\"#7201a8\"],[0.3333333333333333,\"#9c179e\"],[0.4444444444444444,\"#bd3786\"],[0.5555555555555556,\"#d8576b\"],[0.6666666666666666,\"#ed7953\"],[0.7777777777777778,\"#fb9f3a\"],[0.8888888888888888,\"#fdca26\"],[1.0,\"#f0f921\"]]}],\"heatmapgl\":[{\"type\":\"heatmapgl\",\"colorbar\":{\"outlinewidth\":0,\"ticks\":\"\"},\"colorscale\":[[0.0,\"#0d0887\"],[0.1111111111111111,\"#46039f\"],[0.2222222222222222,\"#7201a8\"],[0.3333333333333333,\"#9c179e\"],[0.4444444444444444,\"#bd3786\"],[0.5555555555555556,\"#d8576b\"],[0.6666666666666666,\"#ed7953\"],[0.7777777777777778,\"#fb9f3a\"],[0.8888888888888888,\"#fdca26\"],[1.0,\"#f0f921\"]]}],\"contourcarpet\":[{\"type\":\"contourcarpet\",\"colorbar\":{\"outlinewidth\":0,\"ticks\":\"\"}}],\"contour\":[{\"type\":\"contour\",\"colorbar\":{\"outlinewidth\":0,\"ticks\":\"\"},\"colorscale\":[[0.0,\"#0d0887\"],[0.1111111111111111,\"#46039f\"],[0.2222222222222222,\"#7201a8\"],[0.3333333333333333,\"#9c179e\"],[0.4444444444444444,\"#bd3786\"],[0.5555555555555556,\"#d8576b\"],[0.6666666666666666,\"#ed7953\"],[0.7777777777777778,\"#fb9f3a\"],[0.8888888888888888,\"#fdca26\"],[1.0,\"#f0f921\"]]}],\"surface\":[{\"type\":\"surface\",\"colorbar\":{\"outlinewidth\":0,\"ticks\":\"\"},\"colorscale\":[[0.0,\"#0d0887\"],[0.1111111111111111,\"#46039f\"],[0.2222222222222222,\"#7201a8\"],[0.3333333333333333,\"#9c179e\"],[0.4444444444444444,\"#bd3786\"],[0.5555555555555556,\"#d8576b\"],[0.6666666666666666,\"#ed7953\"],[0.7777777777777778,\"#fb9f3a\"],[0.8888888888888888,\"#fdca26\"],[1.0,\"#f0f921\"]]}],\"mesh3d\":[{\"type\":\"mesh3d\",\"colorbar\":{\"outlinewidth\":0,\"ticks\":\"\"}}],\"scatter\":[{\"fillpattern\":{\"fillmode\":\"overlay\",\"size\":10,\"solidity\":0.2},\"type\":\"scatter\"}],\"parcoords\":[{\"type\":\"parcoords\",\"line\":{\"colorbar\":{\"outlinewidth\":0,\"ticks\":\"\"}}}],\"scatterpolargl\":[{\"type\":\"scatterpolargl\",\"marker\":{\"colorbar\":{\"outlinewidth\":0,\"ticks\":\"\"}}}],\"bar\":[{\"error_x\":{\"color\":\"#2a3f5f\"},\"error_y\":{\"color\":\"#2a3f5f\"},\"marker\":{\"line\":{\"color\":\"#E5ECF6\",\"width\":0.5},\"pattern\":{\"fillmode\":\"overlay\",\"size\":10,\"solidity\":0.2}},\"type\":\"bar\"}],\"scattergeo\":[{\"type\":\"scattergeo\",\"marker\":{\"colorbar\":{\"outlinewidth\":0,\"ticks\":\"\"}}}],\"scatterpolar\":[{\"type\":\"scatterpolar\",\"marker\":{\"colorbar\":{\"outlinewidth\":0,\"ticks\":\"\"}}}],\"histogram\":[{\"marker\":{\"pattern\":{\"fillmode\":\"overlay\",\"size\":10,\"solidity\":0.2}},\"type\":\"histogram\"}],\"scattergl\":[{\"type\":\"scattergl\",\"marker\":{\"colorbar\":{\"outlinewidth\":0,\"ticks\":\"\"}}}],\"scatter3d\":[{\"type\":\"scatter3d\",\"line\":{\"colorbar\":{\"outlinewidth\":0,\"ticks\":\"\"}},\"marker\":{\"colorbar\":{\"outlinewidth\":0,\"ticks\":\"\"}}}],\"scattermapbox\":[{\"type\":\"scattermapbox\",\"marker\":{\"colorbar\":{\"outlinewidth\":0,\"ticks\":\"\"}}}],\"scatterternary\":[{\"type\":\"scatterternary\",\"marker\":{\"colorbar\":{\"outlinewidth\":0,\"ticks\":\"\"}}}],\"scattercarpet\":[{\"type\":\"scattercarpet\",\"marker\":{\"colorbar\":{\"outlinewidth\":0,\"ticks\":\"\"}}}],\"carpet\":[{\"aaxis\":{\"endlinecolor\":\"#2a3f5f\",\"gridcolor\":\"white\",\"linecolor\":\"white\",\"minorgridcolor\":\"white\",\"startlinecolor\":\"#2a3f5f\"},\"baxis\":{\"endlinecolor\":\"#2a3f5f\",\"gridcolor\":\"white\",\"linecolor\":\"white\",\"minorgridcolor\":\"white\",\"startlinecolor\":\"#2a3f5f\"},\"type\":\"carpet\"}],\"table\":[{\"cells\":{\"fill\":{\"color\":\"#EBF0F8\"},\"line\":{\"color\":\"white\"}},\"header\":{\"fill\":{\"color\":\"#C8D4E3\"},\"line\":{\"color\":\"white\"}},\"type\":\"table\"}],\"barpolar\":[{\"marker\":{\"line\":{\"color\":\"#E5ECF6\",\"width\":0.5},\"pattern\":{\"fillmode\":\"overlay\",\"size\":10,\"solidity\":0.2}},\"type\":\"barpolar\"}],\"pie\":[{\"automargin\":true,\"type\":\"pie\"}]},\"layout\":{\"autotypenumbers\":\"strict\",\"colorway\":[\"#636efa\",\"#EF553B\",\"#00cc96\",\"#ab63fa\",\"#FFA15A\",\"#19d3f3\",\"#FF6692\",\"#B6E880\",\"#FF97FF\",\"#FECB52\"],\"font\":{\"color\":\"#2a3f5f\"},\"hovermode\":\"closest\",\"hoverlabel\":{\"align\":\"left\"},\"paper_bgcolor\":\"white\",\"plot_bgcolor\":\"#E5ECF6\",\"polar\":{\"bgcolor\":\"#E5ECF6\",\"angularaxis\":{\"gridcolor\":\"white\",\"linecolor\":\"white\",\"ticks\":\"\"},\"radialaxis\":{\"gridcolor\":\"white\",\"linecolor\":\"white\",\"ticks\":\"\"}},\"ternary\":{\"bgcolor\":\"#E5ECF6\",\"aaxis\":{\"gridcolor\":\"white\",\"linecolor\":\"white\",\"ticks\":\"\"},\"baxis\":{\"gridcolor\":\"white\",\"linecolor\":\"white\",\"ticks\":\"\"},\"caxis\":{\"gridcolor\":\"white\",\"linecolor\":\"white\",\"ticks\":\"\"}},\"coloraxis\":{\"colorbar\":{\"outlinewidth\":0,\"ticks\":\"\"}},\"colorscale\":{\"sequential\":[[0.0,\"#0d0887\"],[0.1111111111111111,\"#46039f\"],[0.2222222222222222,\"#7201a8\"],[0.3333333333333333,\"#9c179e\"],[0.4444444444444444,\"#bd3786\"],[0.5555555555555556,\"#d8576b\"],[0.6666666666666666,\"#ed7953\"],[0.7777777777777778,\"#fb9f3a\"],[0.8888888888888888,\"#fdca26\"],[1.0,\"#f0f921\"]],\"sequentialminus\":[[0.0,\"#0d0887\"],[0.1111111111111111,\"#46039f\"],[0.2222222222222222,\"#7201a8\"],[0.3333333333333333,\"#9c179e\"],[0.4444444444444444,\"#bd3786\"],[0.5555555555555556,\"#d8576b\"],[0.6666666666666666,\"#ed7953\"],[0.7777777777777778,\"#fb9f3a\"],[0.8888888888888888,\"#fdca26\"],[1.0,\"#f0f921\"]],\"diverging\":[[0,\"#8e0152\"],[0.1,\"#c51b7d\"],[0.2,\"#de77ae\"],[0.3,\"#f1b6da\"],[0.4,\"#fde0ef\"],[0.5,\"#f7f7f7\"],[0.6,\"#e6f5d0\"],[0.7,\"#b8e186\"],[0.8,\"#7fbc41\"],[0.9,\"#4d9221\"],[1,\"#276419\"]]},\"xaxis\":{\"gridcolor\":\"white\",\"linecolor\":\"white\",\"ticks\":\"\",\"title\":{\"standoff\":15},\"zerolinecolor\":\"white\",\"automargin\":true,\"zerolinewidth\":2},\"yaxis\":{\"gridcolor\":\"white\",\"linecolor\":\"white\",\"ticks\":\"\",\"title\":{\"standoff\":15},\"zerolinecolor\":\"white\",\"automargin\":true,\"zerolinewidth\":2},\"scene\":{\"xaxis\":{\"backgroundcolor\":\"#E5ECF6\",\"gridcolor\":\"white\",\"linecolor\":\"white\",\"showbackground\":true,\"ticks\":\"\",\"zerolinecolor\":\"white\",\"gridwidth\":2},\"yaxis\":{\"backgroundcolor\":\"#E5ECF6\",\"gridcolor\":\"white\",\"linecolor\":\"white\",\"showbackground\":true,\"ticks\":\"\",\"zerolinecolor\":\"white\",\"gridwidth\":2},\"zaxis\":{\"backgroundcolor\":\"#E5ECF6\",\"gridcolor\":\"white\",\"linecolor\":\"white\",\"showbackground\":true,\"ticks\":\"\",\"zerolinecolor\":\"white\",\"gridwidth\":2}},\"shapedefaults\":{\"line\":{\"color\":\"#2a3f5f\"}},\"annotationdefaults\":{\"arrowcolor\":\"#2a3f5f\",\"arrowhead\":0,\"arrowwidth\":1},\"geo\":{\"bgcolor\":\"white\",\"landcolor\":\"#E5ECF6\",\"subunitcolor\":\"white\",\"showland\":true,\"showlakes\":true,\"lakecolor\":\"white\"},\"title\":{\"x\":0.05},\"mapbox\":{\"style\":\"light\"}}},\"xaxis\":{\"anchor\":\"y\",\"domain\":[0.0,1.0],\"title\":{\"text\":\"last_review\"},\"categoryorder\":\"array\",\"categoryarray\":[\"08-03-2020\",\"02-01-2020\",\"15-03-2020\",\"01-01-2020\",\"16-02-2020\",\"09-03-2020\",\"03-01-2020\",\"20-10-2019\",\"23-02-2020\",\"16-03-2020\",\"01-03-2020\",\"21-10-2019\",\"17-02-2020\",\"30-12-2019\",\"14-03-2020\",\"05-01-2020\",\"24-02-2020\",\"02-03-2020\",\"15-02-2020\",\"04-01-2020\",\"15-09-2019\",\"03-11-2019\",\"10-03-2020\",\"07-03-2020\",\"13-03-2020\",\"27-10-2019\",\"29-12-2019\",\"22-09-2019\",\"25-08-2019\",\"11-03-2020\",\"16-09-2019\",\"14-02-2020\",\"10-11-2019\",\"02-01-2019\",\"29-09-2019\",\"09-02-2020\",\"11-08-2019\",\"06-10-2019\",\"05-08-2019\",\"01-12-2019\",\"31-12-2019\",\"12-03-2020\",\"01-01-2019\",\"25-02-2020\",\"26-01-2020\",\"22-10-2019\",\"17-03-2020\",\"13-02-2020\",\"29-02-2020\",\"18-08-2019\",\"06-03-2020\",\"24-11-2019\",\"04-08-2019\",\"02-02-2020\",\"02-06-2019\",\"18-02-2020\",\"08-12-2019\",\"01-01-2018\",\"30-06-2019\",\"18-03-2020\",\"12-08-2019\",\"26-02-2020\",\"19-01-2020\",\"10-08-2019\",\"28-07-2019\",\"05-05-2019\",\"10-06-2019\",\"17-11-2019\",\"22-04-2019\",\"22-02-2020\",\"06-08-2019\",\"30-09-2019\",\"17-08-2019\",\"28-04-2019\",\"27-12-2019\",\"17-09-2019\",\"21-02-2020\",\"04-03-2020\",\"26-10-2019\",\"07-10-2019\",\"28-10-2019\",\"16-06-2019\",\"22-10-2018\",\"14-07-2019\",\"13-10-2019\",\"15-12-2019\",\"05-03-2020\",\"28-12-2019\",\"27-01-2020\",\"08-09-2019\",\"02-01-2018\",\"18-09-2019\",\"28-02-2020\",\"13-08-2019\",\"19-08-2019\",\"19-03-2020\",\"16-08-2019\",\"12-01-2020\",\"27-02-2020\",\"03-03-2020\"]},\"yaxis\":{\"anchor\":\"x\",\"domain\":[0.0,1.0],\"title\":{\"text\":\"count\"},\"range\":[0,300]},\"legend\":{\"title\":{\"text\":\"last_review\"},\"tracegroupgap\":0,\"itemsizing\":\"constant\"},\"margin\":{\"t\":60},\"font\":{\"size\":15,\"color\":\"#0f0f0f\",\"family\":\"Courier New, monospace\"},\"autosize\":false,\"height\":500,\"width\":1400},                        {\"responsive\": true}                    ).then(function(){\n",
              "                            \n",
              "var gd = document.getElementById('34f7a54e-560e-4e1c-ae87-d678ac4b960e');\n",
              "var x = new MutationObserver(function (mutations, observer) {{\n",
              "        var display = window.getComputedStyle(gd).display;\n",
              "        if (!display || display === 'none') {{\n",
              "            console.log([gd, 'removed!']);\n",
              "            Plotly.purge(gd);\n",
              "            observer.disconnect();\n",
              "        }}\n",
              "}});\n",
              "\n",
              "// Listen for the removal of the full notebook cells\n",
              "var notebookContainer = gd.closest('#notebook-container');\n",
              "if (notebookContainer) {{\n",
              "    x.observe(notebookContainer, {childList: true});\n",
              "}}\n",
              "\n",
              "// Listen for the clearing of the current output cell\n",
              "var outputEl = gd.closest('.output');\n",
              "if (outputEl) {{\n",
              "    x.observe(outputEl, {childList: true});\n",
              "}}\n",
              "\n",
              "                        })                };                            </script>        </div>\n",
              "</body>\n",
              "</html>"
            ]
          },
          "metadata": {}
        }
      ],
      "source": [
        "d=df_train.groupby(['last_review']).size().sort_values(ascending=False).reset_index(name='count').head(100)\n",
        "fig=px.scatter(d,\n",
        "                           x='last_review',\n",
        "                           y='count',\n",
        "                           size='count',\n",
        "                           color='last_review',\n",
        "                           range_y=[0,300],\n",
        "                           #range_x=[0,900]\n",
        "                           )\n",
        "fig.update_layout(autosize=False,\n",
        "                  height=500,\n",
        "                  width=1400,\n",
        "                  font=dict(size=15,color=\"#0f0f0f\",family=\"Courier New, monospace\"),\n",
        "                 )\n",
        "fig.show()"
      ]
    },
    {
      "cell_type": "markdown",
      "metadata": {
        "id": "t1Gv_7qyCFd7"
      },
      "source": [
        "lets check about reviews_per_month column"
      ]
    },
    {
      "cell_type": "code",
      "execution_count": 29,
      "metadata": {
        "colab": {
          "base_uri": "https://localhost:8080/"
        },
        "id": "a_g25QS9CFd7",
        "outputId": "61be8716-4557-4835-98d2-5b962e8ca9c7"
      },
      "outputs": [
        {
          "output_type": "execute_result",
          "data": {
            "text/plain": [
              "count    11305.000000\n",
              "mean         0.748501\n",
              "std          1.260791\n",
              "min          0.010000\n",
              "25%          0.180000\n",
              "50%          0.380000\n",
              "75%          0.770000\n",
              "max         50.000000\n",
              "Name: reviews_per_month, dtype: float64"
            ]
          },
          "metadata": {},
          "execution_count": 29
        }
      ],
      "source": [
        "df_train.reviews_per_month.describe()"
      ]
    },
    {
      "cell_type": "markdown",
      "metadata": {
        "id": "cLqiOuBRCFd8"
      },
      "source": [
        "so per month atleast onew review they will recieve and maximun of 70 reviews."
      ]
    },
    {
      "cell_type": "markdown",
      "metadata": {
        "id": "OG5vpiVICFd8"
      },
      "source": [
        "plot a graph showing with host_name has got the number of reviews per month."
      ]
    },
    {
      "cell_type": "markdown",
      "metadata": {
        "id": "FjIxFNlYCFd8"
      },
      "source": [
        "lets check about the  calculated_host_listings_count coulmn"
      ]
    },
    {
      "cell_type": "code",
      "execution_count": 30,
      "metadata": {
        "colab": {
          "base_uri": "https://localhost:8080/"
        },
        "id": "djj_HcMsCFd8",
        "outputId": "2055500e-a374-43be-9722-ae412afd7957"
      },
      "outputs": [
        {
          "output_type": "execute_result",
          "data": {
            "text/plain": [
              "count    12901.000000\n",
              "mean         2.136501\n",
              "std          6.001838\n",
              "min          1.000000\n",
              "25%          1.000000\n",
              "50%          1.000000\n",
              "75%          1.000000\n",
              "max         78.000000\n",
              "Name: calculated_host_listings_count, dtype: float64"
            ]
          },
          "metadata": {},
          "execution_count": 30
        }
      ],
      "source": [
        "df_train.calculated_host_listings_count.describe()"
      ]
    },
    {
      "cell_type": "markdown",
      "metadata": {
        "id": "qScDf9oUCFd8"
      },
      "source": [
        "calulcated host listing is The count of the listing that each host has,\n",
        "may be number homes or apartments..."
      ]
    },
    {
      "cell_type": "markdown",
      "metadata": {
        "id": "AvSTriglCFd8"
      },
      "source": [
        "lets check the availability_365 column"
      ]
    },
    {
      "cell_type": "code",
      "execution_count": 31,
      "metadata": {
        "colab": {
          "base_uri": "https://localhost:8080/"
        },
        "id": "j6uTSxDfCFd8",
        "outputId": "f56949fd-f2fe-4af0-bcc2-b264328289db"
      },
      "outputs": [
        {
          "output_type": "execute_result",
          "data": {
            "text/plain": [
              "count    12901.000000\n",
              "mean        61.392295\n",
              "std        107.988329\n",
              "min          0.000000\n",
              "25%          0.000000\n",
              "50%          0.000000\n",
              "75%         87.000000\n",
              "max        365.000000\n",
              "Name: availability_365, dtype: float64"
            ]
          },
          "metadata": {},
          "execution_count": 31
        }
      ],
      "source": [
        "df_train.availability_365.describe()"
      ]
    },
    {
      "cell_type": "markdown",
      "metadata": {
        "id": "0COOwzDgCFd8"
      },
      "source": [
        "So the availability of rooms  on an average is 61 days and maximum of 365."
      ]
    },
    {
      "cell_type": "code",
      "execution_count": 32,
      "metadata": {
        "colab": {
          "base_uri": "https://localhost:8080/",
          "height": 537
        },
        "id": "95eeqlyyCFd8",
        "outputId": "eb070f8a-82ef-4d75-f3d9-61a672c2a880"
      },
      "outputs": [
        {
          "output_type": "display_data",
          "data": {
            "text/html": [
              "<html>\n",
              "<head><meta charset=\"utf-8\" /></head>\n",
              "<body>\n",
              "    <div>            <script src=\"https://cdnjs.cloudflare.com/ajax/libs/mathjax/2.7.5/MathJax.js?config=TeX-AMS-MML_SVG\"></script><script type=\"text/javascript\">if (window.MathJax && window.MathJax.Hub && window.MathJax.Hub.Config) {window.MathJax.Hub.Config({SVG: {font: \"STIX-Web\"}});}</script>                <script type=\"text/javascript\">window.PlotlyConfig = {MathJaxConfig: 'local'};</script>\n",
              "        <script charset=\"utf-8\" src=\"https://cdn.plot.ly/plotly-2.24.1.min.js\"></script>                <div id=\"8f5090e5-dfdb-4bce-ba35-32ec1b4ea6a5\" class=\"plotly-graph-div\" style=\"height:500px; width:1400px;\"></div>            <script type=\"text/javascript\">                                    window.PLOTLYENV=window.PLOTLYENV || {};                                    if (document.getElementById(\"8f5090e5-dfdb-4bce-ba35-32ec1b4ea6a5\")) {                    Plotly.newPlot(                        \"8f5090e5-dfdb-4bce-ba35-32ec1b4ea6a5\",                        [{\"hovertemplate\":\"availability_365=%{marker.color}\\u003cbr\\u003ecount=%{y}\\u003cextra\\u003e\\u003c\\u002fextra\\u003e\",\"legendgroup\":\"\",\"marker\":{\"color\":[0,365,90,89,160,364,1,88,179,7,69,9,180,87,38,21,6,363,8,14,129,3,5,362,16,358,4,15,83,13,11,22,10,12,177,161,2,17,20,178,159,36,19,70,344,360,39,51,357,174,32,67,82,97,221,340,171,23,31,28,30,353,40,252,348,18,24,29,27,173,361,25,37,350,47,341,176,347,85,270,68,172,44,62,140,86,26,168,50,356,48,52,72,170,359,158,343,96,49,205,81,35,332,42,309,166,128,325,107,60,354,54,77,73,269,336,169,339,307,65,163,164,76,45,112,57,263,135,330,33,334,313,282,351,126,191,342,326,314,84,98,175,165,266,182,157,150,201,346,250,64,352,101,355,80,78,75,71,66,105,41,43,55,58,204,328,53,283,284,203,298,59,197,199,108,61,200,327,349,338,151,317,155,156,144,162,335,333,113,122,345,312,181,127,288,145,56,268,267,324,103,256,255,34,295,290,142,111,137,202,120,130,186,198,132,300,167,131,192,257,251,253,301,260,308,318,297,235,285,310,183,215,79,100,212,110,143,188,193,187,63,148,220,273,337,119,321,278,281,124,271,133,121,287,134,219,138,207,331,299,195,189,149,323,289,320,262,243,93,102,104,91,106,240,92,265,304,246,245,94,302,329,190,305,294,311,74,46,234,316,152,233,322,296,293,224,123,116,117,264,114,222,275,259,277,279,206,225,254,226,99,95,247,147,115,146,125,118,136,139,141,184,319,211,154,230,227,306,153,232,276,239,291,214,213,229,274,261,244,208,238,303,237,185,242,223,248,249,241,272,258,218,280,286,210,194,315,231,109,228,217,216,209,292,196,236],\"coloraxis\":\"coloraxis\",\"size\":[0,365,90,89,160,364,1,88,179,7,69,9,180,87,38,21,6,363,8,14,129,3,5,362,16,358,4,15,83,13,11,22,10,12,177,161,2,17,20,178,159,36,19,70,344,360,39,51,357,174,32,67,82,97,221,340,171,23,31,28,30,353,40,252,348,18,24,29,27,173,361,25,37,350,47,341,176,347,85,270,68,172,44,62,140,86,26,168,50,356,48,52,72,170,359,158,343,96,49,205,81,35,332,42,309,166,128,325,107,60,354,54,77,73,269,336,169,339,307,65,163,164,76,45,112,57,263,135,330,33,334,313,282,351,126,191,342,326,314,84,98,175,165,266,182,157,150,201,346,250,64,352,101,355,80,78,75,71,66,105,41,43,55,58,204,328,53,283,284,203,298,59,197,199,108,61,200,327,349,338,151,317,155,156,144,162,335,333,113,122,345,312,181,127,288,145,56,268,267,324,103,256,255,34,295,290,142,111,137,202,120,130,186,198,132,300,167,131,192,257,251,253,301,260,308,318,297,235,285,310,183,215,79,100,212,110,143,188,193,187,63,148,220,273,337,119,321,278,281,124,271,133,121,287,134,219,138,207,331,299,195,189,149,323,289,320,262,243,93,102,104,91,106,240,92,265,304,246,245,94,302,329,190,305,294,311,74,46,234,316,152,233,322,296,293,224,123,116,117,264,114,222,275,259,277,279,206,225,254,226,99,95,247,147,115,146,125,118,136,139,141,184,319,211,154,230,227,306,153,232,276,239,291,214,213,229,274,261,244,208,238,303,237,185,242,223,248,249,241,272,258,218,280,286,210,194,315,231,109,228,217,216,209,292,196,236],\"sizemode\":\"area\",\"sizeref\":0.9125,\"symbol\":\"circle\"},\"mode\":\"markers\",\"name\":\"\",\"orientation\":\"v\",\"showlegend\":false,\"x\":[0,365,90,89,160,364,1,88,179,7,69,9,180,87,38,21,6,363,8,14,129,3,5,362,16,358,4,15,83,13,11,22,10,12,177,161,2,17,20,178,159,36,19,70,344,360,39,51,357,174,32,67,82,97,221,340,171,23,31,28,30,353,40,252,348,18,24,29,27,173,361,25,37,350,47,341,176,347,85,270,68,172,44,62,140,86,26,168,50,356,48,52,72,170,359,158,343,96,49,205,81,35,332,42,309,166,128,325,107,60,354,54,77,73,269,336,169,339,307,65,163,164,76,45,112,57,263,135,330,33,334,313,282,351,126,191,342,326,314,84,98,175,165,266,182,157,150,201,346,250,64,352,101,355,80,78,75,71,66,105,41,43,55,58,204,328,53,283,284,203,298,59,197,199,108,61,200,327,349,338,151,317,155,156,144,162,335,333,113,122,345,312,181,127,288,145,56,268,267,324,103,256,255,34,295,290,142,111,137,202,120,130,186,198,132,300,167,131,192,257,251,253,301,260,308,318,297,235,285,310,183,215,79,100,212,110,143,188,193,187,63,148,220,273,337,119,321,278,281,124,271,133,121,287,134,219,138,207,331,299,195,189,149,323,289,320,262,243,93,102,104,91,106,240,92,265,304,246,245,94,302,329,190,305,294,311,74,46,234,316,152,233,322,296,293,224,123,116,117,264,114,222,275,259,277,279,206,225,254,226,99,95,247,147,115,146,125,118,136,139,141,184,319,211,154,230,227,306,153,232,276,239,291,214,213,229,274,261,244,208,238,303,237,185,242,223,248,249,241,272,258,218,280,286,210,194,315,231,109,228,217,216,209,292,196,236],\"xaxis\":\"x\",\"y\":[7781,188,128,120,118,94,70,68,65,64,54,50,50,49,47,45,44,44,44,43,43,42,42,41,41,41,40,39,39,38,37,37,35,33,33,31,31,31,30,30,29,28,26,25,24,23,22,22,22,21,21,20,20,20,20,20,20,20,20,20,19,19,19,19,19,19,19,18,18,18,18,18,18,18,18,17,17,17,17,16,16,16,16,16,16,16,16,16,16,15,15,15,15,15,14,14,14,14,14,14,14,14,14,14,14,13,13,13,13,13,13,13,13,13,12,12,12,12,12,12,12,12,12,12,12,11,11,11,11,11,11,11,11,11,11,11,11,11,11,11,11,11,10,10,10,10,10,10,10,10,10,10,10,10,10,10,10,10,10,10,10,10,10,10,9,9,9,9,9,9,9,9,9,9,9,9,9,9,9,9,9,9,9,9,9,9,9,9,9,9,9,8,8,8,8,8,8,8,8,8,8,8,8,8,8,8,8,8,8,8,8,8,8,8,8,8,8,8,8,7,7,7,7,7,7,7,7,7,7,7,7,7,7,7,7,7,7,7,7,7,7,7,7,6,6,6,6,6,6,6,6,6,6,6,6,6,6,6,6,6,6,6,6,6,6,6,6,6,6,6,6,6,6,6,6,5,5,5,5,5,5,5,5,5,5,5,5,5,5,5,5,5,5,5,5,5,5,5,5,5,5,5,5,5,5,5,5,5,5,5,5,5,5,4,4,4,4,4,4,4,4,4,4,4,4,4,4,4,4,4,4,4,4,4,4,3,3,3,3,3,3,3,3,3,2,2,2,2,2,2,2,2,2,2,2,2,2,2,1,1,1,1,1,1,1,1],\"yaxis\":\"y\",\"type\":\"scatter\"}],                        {\"template\":{\"data\":{\"histogram2dcontour\":[{\"type\":\"histogram2dcontour\",\"colorbar\":{\"outlinewidth\":0,\"ticks\":\"\"},\"colorscale\":[[0.0,\"#0d0887\"],[0.1111111111111111,\"#46039f\"],[0.2222222222222222,\"#7201a8\"],[0.3333333333333333,\"#9c179e\"],[0.4444444444444444,\"#bd3786\"],[0.5555555555555556,\"#d8576b\"],[0.6666666666666666,\"#ed7953\"],[0.7777777777777778,\"#fb9f3a\"],[0.8888888888888888,\"#fdca26\"],[1.0,\"#f0f921\"]]}],\"choropleth\":[{\"type\":\"choropleth\",\"colorbar\":{\"outlinewidth\":0,\"ticks\":\"\"}}],\"histogram2d\":[{\"type\":\"histogram2d\",\"colorbar\":{\"outlinewidth\":0,\"ticks\":\"\"},\"colorscale\":[[0.0,\"#0d0887\"],[0.1111111111111111,\"#46039f\"],[0.2222222222222222,\"#7201a8\"],[0.3333333333333333,\"#9c179e\"],[0.4444444444444444,\"#bd3786\"],[0.5555555555555556,\"#d8576b\"],[0.6666666666666666,\"#ed7953\"],[0.7777777777777778,\"#fb9f3a\"],[0.8888888888888888,\"#fdca26\"],[1.0,\"#f0f921\"]]}],\"heatmap\":[{\"type\":\"heatmap\",\"colorbar\":{\"outlinewidth\":0,\"ticks\":\"\"},\"colorscale\":[[0.0,\"#0d0887\"],[0.1111111111111111,\"#46039f\"],[0.2222222222222222,\"#7201a8\"],[0.3333333333333333,\"#9c179e\"],[0.4444444444444444,\"#bd3786\"],[0.5555555555555556,\"#d8576b\"],[0.6666666666666666,\"#ed7953\"],[0.7777777777777778,\"#fb9f3a\"],[0.8888888888888888,\"#fdca26\"],[1.0,\"#f0f921\"]]}],\"heatmapgl\":[{\"type\":\"heatmapgl\",\"colorbar\":{\"outlinewidth\":0,\"ticks\":\"\"},\"colorscale\":[[0.0,\"#0d0887\"],[0.1111111111111111,\"#46039f\"],[0.2222222222222222,\"#7201a8\"],[0.3333333333333333,\"#9c179e\"],[0.4444444444444444,\"#bd3786\"],[0.5555555555555556,\"#d8576b\"],[0.6666666666666666,\"#ed7953\"],[0.7777777777777778,\"#fb9f3a\"],[0.8888888888888888,\"#fdca26\"],[1.0,\"#f0f921\"]]}],\"contourcarpet\":[{\"type\":\"contourcarpet\",\"colorbar\":{\"outlinewidth\":0,\"ticks\":\"\"}}],\"contour\":[{\"type\":\"contour\",\"colorbar\":{\"outlinewidth\":0,\"ticks\":\"\"},\"colorscale\":[[0.0,\"#0d0887\"],[0.1111111111111111,\"#46039f\"],[0.2222222222222222,\"#7201a8\"],[0.3333333333333333,\"#9c179e\"],[0.4444444444444444,\"#bd3786\"],[0.5555555555555556,\"#d8576b\"],[0.6666666666666666,\"#ed7953\"],[0.7777777777777778,\"#fb9f3a\"],[0.8888888888888888,\"#fdca26\"],[1.0,\"#f0f921\"]]}],\"surface\":[{\"type\":\"surface\",\"colorbar\":{\"outlinewidth\":0,\"ticks\":\"\"},\"colorscale\":[[0.0,\"#0d0887\"],[0.1111111111111111,\"#46039f\"],[0.2222222222222222,\"#7201a8\"],[0.3333333333333333,\"#9c179e\"],[0.4444444444444444,\"#bd3786\"],[0.5555555555555556,\"#d8576b\"],[0.6666666666666666,\"#ed7953\"],[0.7777777777777778,\"#fb9f3a\"],[0.8888888888888888,\"#fdca26\"],[1.0,\"#f0f921\"]]}],\"mesh3d\":[{\"type\":\"mesh3d\",\"colorbar\":{\"outlinewidth\":0,\"ticks\":\"\"}}],\"scatter\":[{\"fillpattern\":{\"fillmode\":\"overlay\",\"size\":10,\"solidity\":0.2},\"type\":\"scatter\"}],\"parcoords\":[{\"type\":\"parcoords\",\"line\":{\"colorbar\":{\"outlinewidth\":0,\"ticks\":\"\"}}}],\"scatterpolargl\":[{\"type\":\"scatterpolargl\",\"marker\":{\"colorbar\":{\"outlinewidth\":0,\"ticks\":\"\"}}}],\"bar\":[{\"error_x\":{\"color\":\"#2a3f5f\"},\"error_y\":{\"color\":\"#2a3f5f\"},\"marker\":{\"line\":{\"color\":\"#E5ECF6\",\"width\":0.5},\"pattern\":{\"fillmode\":\"overlay\",\"size\":10,\"solidity\":0.2}},\"type\":\"bar\"}],\"scattergeo\":[{\"type\":\"scattergeo\",\"marker\":{\"colorbar\":{\"outlinewidth\":0,\"ticks\":\"\"}}}],\"scatterpolar\":[{\"type\":\"scatterpolar\",\"marker\":{\"colorbar\":{\"outlinewidth\":0,\"ticks\":\"\"}}}],\"histogram\":[{\"marker\":{\"pattern\":{\"fillmode\":\"overlay\",\"size\":10,\"solidity\":0.2}},\"type\":\"histogram\"}],\"scattergl\":[{\"type\":\"scattergl\",\"marker\":{\"colorbar\":{\"outlinewidth\":0,\"ticks\":\"\"}}}],\"scatter3d\":[{\"type\":\"scatter3d\",\"line\":{\"colorbar\":{\"outlinewidth\":0,\"ticks\":\"\"}},\"marker\":{\"colorbar\":{\"outlinewidth\":0,\"ticks\":\"\"}}}],\"scattermapbox\":[{\"type\":\"scattermapbox\",\"marker\":{\"colorbar\":{\"outlinewidth\":0,\"ticks\":\"\"}}}],\"scatterternary\":[{\"type\":\"scatterternary\",\"marker\":{\"colorbar\":{\"outlinewidth\":0,\"ticks\":\"\"}}}],\"scattercarpet\":[{\"type\":\"scattercarpet\",\"marker\":{\"colorbar\":{\"outlinewidth\":0,\"ticks\":\"\"}}}],\"carpet\":[{\"aaxis\":{\"endlinecolor\":\"#2a3f5f\",\"gridcolor\":\"white\",\"linecolor\":\"white\",\"minorgridcolor\":\"white\",\"startlinecolor\":\"#2a3f5f\"},\"baxis\":{\"endlinecolor\":\"#2a3f5f\",\"gridcolor\":\"white\",\"linecolor\":\"white\",\"minorgridcolor\":\"white\",\"startlinecolor\":\"#2a3f5f\"},\"type\":\"carpet\"}],\"table\":[{\"cells\":{\"fill\":{\"color\":\"#EBF0F8\"},\"line\":{\"color\":\"white\"}},\"header\":{\"fill\":{\"color\":\"#C8D4E3\"},\"line\":{\"color\":\"white\"}},\"type\":\"table\"}],\"barpolar\":[{\"marker\":{\"line\":{\"color\":\"#E5ECF6\",\"width\":0.5},\"pattern\":{\"fillmode\":\"overlay\",\"size\":10,\"solidity\":0.2}},\"type\":\"barpolar\"}],\"pie\":[{\"automargin\":true,\"type\":\"pie\"}]},\"layout\":{\"autotypenumbers\":\"strict\",\"colorway\":[\"#636efa\",\"#EF553B\",\"#00cc96\",\"#ab63fa\",\"#FFA15A\",\"#19d3f3\",\"#FF6692\",\"#B6E880\",\"#FF97FF\",\"#FECB52\"],\"font\":{\"color\":\"#2a3f5f\"},\"hovermode\":\"closest\",\"hoverlabel\":{\"align\":\"left\"},\"paper_bgcolor\":\"white\",\"plot_bgcolor\":\"#E5ECF6\",\"polar\":{\"bgcolor\":\"#E5ECF6\",\"angularaxis\":{\"gridcolor\":\"white\",\"linecolor\":\"white\",\"ticks\":\"\"},\"radialaxis\":{\"gridcolor\":\"white\",\"linecolor\":\"white\",\"ticks\":\"\"}},\"ternary\":{\"bgcolor\":\"#E5ECF6\",\"aaxis\":{\"gridcolor\":\"white\",\"linecolor\":\"white\",\"ticks\":\"\"},\"baxis\":{\"gridcolor\":\"white\",\"linecolor\":\"white\",\"ticks\":\"\"},\"caxis\":{\"gridcolor\":\"white\",\"linecolor\":\"white\",\"ticks\":\"\"}},\"coloraxis\":{\"colorbar\":{\"outlinewidth\":0,\"ticks\":\"\"}},\"colorscale\":{\"sequential\":[[0.0,\"#0d0887\"],[0.1111111111111111,\"#46039f\"],[0.2222222222222222,\"#7201a8\"],[0.3333333333333333,\"#9c179e\"],[0.4444444444444444,\"#bd3786\"],[0.5555555555555556,\"#d8576b\"],[0.6666666666666666,\"#ed7953\"],[0.7777777777777778,\"#fb9f3a\"],[0.8888888888888888,\"#fdca26\"],[1.0,\"#f0f921\"]],\"sequentialminus\":[[0.0,\"#0d0887\"],[0.1111111111111111,\"#46039f\"],[0.2222222222222222,\"#7201a8\"],[0.3333333333333333,\"#9c179e\"],[0.4444444444444444,\"#bd3786\"],[0.5555555555555556,\"#d8576b\"],[0.6666666666666666,\"#ed7953\"],[0.7777777777777778,\"#fb9f3a\"],[0.8888888888888888,\"#fdca26\"],[1.0,\"#f0f921\"]],\"diverging\":[[0,\"#8e0152\"],[0.1,\"#c51b7d\"],[0.2,\"#de77ae\"],[0.3,\"#f1b6da\"],[0.4,\"#fde0ef\"],[0.5,\"#f7f7f7\"],[0.6,\"#e6f5d0\"],[0.7,\"#b8e186\"],[0.8,\"#7fbc41\"],[0.9,\"#4d9221\"],[1,\"#276419\"]]},\"xaxis\":{\"gridcolor\":\"white\",\"linecolor\":\"white\",\"ticks\":\"\",\"title\":{\"standoff\":15},\"zerolinecolor\":\"white\",\"automargin\":true,\"zerolinewidth\":2},\"yaxis\":{\"gridcolor\":\"white\",\"linecolor\":\"white\",\"ticks\":\"\",\"title\":{\"standoff\":15},\"zerolinecolor\":\"white\",\"automargin\":true,\"zerolinewidth\":2},\"scene\":{\"xaxis\":{\"backgroundcolor\":\"#E5ECF6\",\"gridcolor\":\"white\",\"linecolor\":\"white\",\"showbackground\":true,\"ticks\":\"\",\"zerolinecolor\":\"white\",\"gridwidth\":2},\"yaxis\":{\"backgroundcolor\":\"#E5ECF6\",\"gridcolor\":\"white\",\"linecolor\":\"white\",\"showbackground\":true,\"ticks\":\"\",\"zerolinecolor\":\"white\",\"gridwidth\":2},\"zaxis\":{\"backgroundcolor\":\"#E5ECF6\",\"gridcolor\":\"white\",\"linecolor\":\"white\",\"showbackground\":true,\"ticks\":\"\",\"zerolinecolor\":\"white\",\"gridwidth\":2}},\"shapedefaults\":{\"line\":{\"color\":\"#2a3f5f\"}},\"annotationdefaults\":{\"arrowcolor\":\"#2a3f5f\",\"arrowhead\":0,\"arrowwidth\":1},\"geo\":{\"bgcolor\":\"white\",\"landcolor\":\"#E5ECF6\",\"subunitcolor\":\"white\",\"showland\":true,\"showlakes\":true,\"lakecolor\":\"white\"},\"title\":{\"x\":0.05},\"mapbox\":{\"style\":\"light\"}}},\"xaxis\":{\"anchor\":\"y\",\"domain\":[0.0,1.0],\"title\":{\"text\":\"availability_365\"}},\"yaxis\":{\"anchor\":\"x\",\"domain\":[0.0,1.0],\"title\":{\"text\":\"count\"},\"range\":[0,200]},\"coloraxis\":{\"colorbar\":{\"title\":{\"text\":\"availability_365\"}},\"colorscale\":[[0.0,\"#0d0887\"],[0.1111111111111111,\"#46039f\"],[0.2222222222222222,\"#7201a8\"],[0.3333333333333333,\"#9c179e\"],[0.4444444444444444,\"#bd3786\"],[0.5555555555555556,\"#d8576b\"],[0.6666666666666666,\"#ed7953\"],[0.7777777777777778,\"#fb9f3a\"],[0.8888888888888888,\"#fdca26\"],[1.0,\"#f0f921\"]]},\"legend\":{\"tracegroupgap\":0,\"itemsizing\":\"constant\"},\"margin\":{\"t\":60},\"font\":{\"size\":15,\"color\":\"#0f0f0f\",\"family\":\"Courier New, monospace\"},\"autosize\":false,\"height\":500,\"width\":1400},                        {\"responsive\": true}                    ).then(function(){\n",
              "                            \n",
              "var gd = document.getElementById('8f5090e5-dfdb-4bce-ba35-32ec1b4ea6a5');\n",
              "var x = new MutationObserver(function (mutations, observer) {{\n",
              "        var display = window.getComputedStyle(gd).display;\n",
              "        if (!display || display === 'none') {{\n",
              "            console.log([gd, 'removed!']);\n",
              "            Plotly.purge(gd);\n",
              "            observer.disconnect();\n",
              "        }}\n",
              "}});\n",
              "\n",
              "// Listen for the removal of the full notebook cells\n",
              "var notebookContainer = gd.closest('#notebook-container');\n",
              "if (notebookContainer) {{\n",
              "    x.observe(notebookContainer, {childList: true});\n",
              "}}\n",
              "\n",
              "// Listen for the clearing of the current output cell\n",
              "var outputEl = gd.closest('.output');\n",
              "if (outputEl) {{\n",
              "    x.observe(outputEl, {childList: true});\n",
              "}}\n",
              "\n",
              "                        })                };                            </script>        </div>\n",
              "</body>\n",
              "</html>"
            ]
          },
          "metadata": {}
        }
      ],
      "source": [
        "d=df_train.groupby(['availability_365']).size().sort_values(ascending=False).reset_index(name='count')\n",
        "fig=px.scatter(d,\n",
        "                           x='availability_365',\n",
        "                           y='count',\n",
        "                           size='availability_365',\n",
        "                           color='availability_365',\n",
        "                           range_y=[0,200],\n",
        "                           #range_x=[0,900]\n",
        "                           )\n",
        "fig.update_layout(autosize=False,\n",
        "                  height=500,\n",
        "                  width=1400,\n",
        "                  font=dict(size=15,color=\"#0f0f0f\",family=\"Courier New, monospace\"),\n",
        "                 )\n",
        "fig.show()"
      ]
    },
    {
      "cell_type": "markdown",
      "metadata": {
        "id": "K5lmoj0ECFd9"
      },
      "source": [
        "Now finally we will learn about the target variable  price.As it is given price is in USD"
      ]
    },
    {
      "cell_type": "code",
      "execution_count": 33,
      "metadata": {
        "colab": {
          "base_uri": "https://localhost:8080/"
        },
        "id": "a642VZYiCFd9",
        "outputId": "f4159c82-7140-4a9d-ed49-73a278ec7ee8"
      },
      "outputs": [
        {
          "output_type": "execute_result",
          "data": {
            "text/plain": [
              "count    12901.000000\n",
              "mean       166.959538\n",
              "std        234.794630\n",
              "min          6.000000\n",
              "25%         99.000000\n",
              "50%        135.000000\n",
              "75%        190.000000\n",
              "max       9000.000000\n",
              "Name: price, dtype: float64"
            ]
          },
          "metadata": {},
          "execution_count": 33
        }
      ],
      "source": [
        "df_train.price.describe()"
      ]
    },
    {
      "cell_type": "markdown",
      "metadata": {
        "id": "tSR8tRxyCFd9"
      },
      "source": [
        "so price  ranges from  minimum of 6 USD to maximum of 9000 USD and the average price of 170 USD .."
      ]
    },
    {
      "cell_type": "code",
      "execution_count": 34,
      "metadata": {
        "colab": {
          "base_uri": "https://localhost:8080/",
          "height": 424
        },
        "id": "oW7y5bwRCFd9",
        "outputId": "97d46766-7f43-47cf-f9fa-a847f899bb2e"
      },
      "outputs": [
        {
          "output_type": "execute_result",
          "data": {
            "text/plain": [
              "                                                 name       host_name  price\n",
              "12839             Center, Large&Sunny Room,Pvt Bathrm           David   9000\n",
              "6023                          Moie kamer in Amsterdam            Mery   7550\n",
              "10029                    Hotel Estheréa, Classic Room  Hotel Estheréa   7000\n",
              "12885                     Hotel Estheréa, Deluxe Room  Hotel Estheréa   7000\n",
              "1657                      Hotel Estheréa, Triple Room  Hotel Estheréa   7000\n",
              "...                                               ...             ...    ...\n",
              "5427           1 Bed in 10 Bedded Girls Dorm En-suite      ClinkNOORD     20\n",
              "7810                            Minimalist White Room         Daniela     19\n",
              "480    Appartement in het veelzijdige Amsterdam-Noord             Han     12\n",
              "1887                 Beautiful calm room in Amsterdam           Herry     10\n",
              "9351                                                C          Nimesh      6\n",
              "\n",
              "[12901 rows x 3 columns]"
            ],
            "text/html": [
              "\n",
              "\n",
              "  <div id=\"df-d9db276a-387d-4fc5-b724-cbe1646d7ad9\">\n",
              "    <div class=\"colab-df-container\">\n",
              "      <div>\n",
              "<style scoped>\n",
              "    .dataframe tbody tr th:only-of-type {\n",
              "        vertical-align: middle;\n",
              "    }\n",
              "\n",
              "    .dataframe tbody tr th {\n",
              "        vertical-align: top;\n",
              "    }\n",
              "\n",
              "    .dataframe thead th {\n",
              "        text-align: right;\n",
              "    }\n",
              "</style>\n",
              "<table border=\"1\" class=\"dataframe\">\n",
              "  <thead>\n",
              "    <tr style=\"text-align: right;\">\n",
              "      <th></th>\n",
              "      <th>name</th>\n",
              "      <th>host_name</th>\n",
              "      <th>price</th>\n",
              "    </tr>\n",
              "  </thead>\n",
              "  <tbody>\n",
              "    <tr>\n",
              "      <th>12839</th>\n",
              "      <td>Center, Large&amp;Sunny Room,Pvt Bathrm</td>\n",
              "      <td>David</td>\n",
              "      <td>9000</td>\n",
              "    </tr>\n",
              "    <tr>\n",
              "      <th>6023</th>\n",
              "      <td>Moie kamer in Amsterdam</td>\n",
              "      <td>Mery</td>\n",
              "      <td>7550</td>\n",
              "    </tr>\n",
              "    <tr>\n",
              "      <th>10029</th>\n",
              "      <td>Hotel Estheréa, Classic Room</td>\n",
              "      <td>Hotel Estheréa</td>\n",
              "      <td>7000</td>\n",
              "    </tr>\n",
              "    <tr>\n",
              "      <th>12885</th>\n",
              "      <td>Hotel Estheréa, Deluxe Room</td>\n",
              "      <td>Hotel Estheréa</td>\n",
              "      <td>7000</td>\n",
              "    </tr>\n",
              "    <tr>\n",
              "      <th>1657</th>\n",
              "      <td>Hotel Estheréa, Triple Room</td>\n",
              "      <td>Hotel Estheréa</td>\n",
              "      <td>7000</td>\n",
              "    </tr>\n",
              "    <tr>\n",
              "      <th>...</th>\n",
              "      <td>...</td>\n",
              "      <td>...</td>\n",
              "      <td>...</td>\n",
              "    </tr>\n",
              "    <tr>\n",
              "      <th>5427</th>\n",
              "      <td>1 Bed in 10 Bedded Girls Dorm En-suite</td>\n",
              "      <td>ClinkNOORD</td>\n",
              "      <td>20</td>\n",
              "    </tr>\n",
              "    <tr>\n",
              "      <th>7810</th>\n",
              "      <td>Minimalist White Room</td>\n",
              "      <td>Daniela</td>\n",
              "      <td>19</td>\n",
              "    </tr>\n",
              "    <tr>\n",
              "      <th>480</th>\n",
              "      <td>Appartement in het veelzijdige Amsterdam-Noord</td>\n",
              "      <td>Han</td>\n",
              "      <td>12</td>\n",
              "    </tr>\n",
              "    <tr>\n",
              "      <th>1887</th>\n",
              "      <td>Beautiful calm room in Amsterdam</td>\n",
              "      <td>Herry</td>\n",
              "      <td>10</td>\n",
              "    </tr>\n",
              "    <tr>\n",
              "      <th>9351</th>\n",
              "      <td>C</td>\n",
              "      <td>Nimesh</td>\n",
              "      <td>6</td>\n",
              "    </tr>\n",
              "  </tbody>\n",
              "</table>\n",
              "<p>12901 rows × 3 columns</p>\n",
              "</div>\n",
              "      <button class=\"colab-df-convert\" onclick=\"convertToInteractive('df-d9db276a-387d-4fc5-b724-cbe1646d7ad9')\"\n",
              "              title=\"Convert this dataframe to an interactive table.\"\n",
              "              style=\"display:none;\">\n",
              "\n",
              "  <svg xmlns=\"http://www.w3.org/2000/svg\" height=\"24px\"viewBox=\"0 0 24 24\"\n",
              "       width=\"24px\">\n",
              "    <path d=\"M0 0h24v24H0V0z\" fill=\"none\"/>\n",
              "    <path d=\"M18.56 5.44l.94 2.06.94-2.06 2.06-.94-2.06-.94-.94-2.06-.94 2.06-2.06.94zm-11 1L8.5 8.5l.94-2.06 2.06-.94-2.06-.94L8.5 2.5l-.94 2.06-2.06.94zm10 10l.94 2.06.94-2.06 2.06-.94-2.06-.94-.94-2.06-.94 2.06-2.06.94z\"/><path d=\"M17.41 7.96l-1.37-1.37c-.4-.4-.92-.59-1.43-.59-.52 0-1.04.2-1.43.59L10.3 9.45l-7.72 7.72c-.78.78-.78 2.05 0 2.83L4 21.41c.39.39.9.59 1.41.59.51 0 1.02-.2 1.41-.59l7.78-7.78 2.81-2.81c.8-.78.8-2.07 0-2.86zM5.41 20L4 18.59l7.72-7.72 1.47 1.35L5.41 20z\"/>\n",
              "  </svg>\n",
              "      </button>\n",
              "\n",
              "\n",
              "\n",
              "    <div id=\"df-395002f3-171b-4438-a1ec-23f37b1c0b7a\">\n",
              "      <button class=\"colab-df-quickchart\" onclick=\"quickchart('df-395002f3-171b-4438-a1ec-23f37b1c0b7a')\"\n",
              "              title=\"Suggest charts.\"\n",
              "              style=\"display:none;\">\n",
              "\n",
              "<svg xmlns=\"http://www.w3.org/2000/svg\" height=\"24px\"viewBox=\"0 0 24 24\"\n",
              "     width=\"24px\">\n",
              "    <g>\n",
              "        <path d=\"M19 3H5c-1.1 0-2 .9-2 2v14c0 1.1.9 2 2 2h14c1.1 0 2-.9 2-2V5c0-1.1-.9-2-2-2zM9 17H7v-7h2v7zm4 0h-2V7h2v10zm4 0h-2v-4h2v4z\"/>\n",
              "    </g>\n",
              "</svg>\n",
              "      </button>\n",
              "    </div>\n",
              "\n",
              "<style>\n",
              "  .colab-df-quickchart {\n",
              "    background-color: #E8F0FE;\n",
              "    border: none;\n",
              "    border-radius: 50%;\n",
              "    cursor: pointer;\n",
              "    display: none;\n",
              "    fill: #1967D2;\n",
              "    height: 32px;\n",
              "    padding: 0 0 0 0;\n",
              "    width: 32px;\n",
              "  }\n",
              "\n",
              "  .colab-df-quickchart:hover {\n",
              "    background-color: #E2EBFA;\n",
              "    box-shadow: 0px 1px 2px rgba(60, 64, 67, 0.3), 0px 1px 3px 1px rgba(60, 64, 67, 0.15);\n",
              "    fill: #174EA6;\n",
              "  }\n",
              "\n",
              "  [theme=dark] .colab-df-quickchart {\n",
              "    background-color: #3B4455;\n",
              "    fill: #D2E3FC;\n",
              "  }\n",
              "\n",
              "  [theme=dark] .colab-df-quickchart:hover {\n",
              "    background-color: #434B5C;\n",
              "    box-shadow: 0px 1px 3px 1px rgba(0, 0, 0, 0.15);\n",
              "    filter: drop-shadow(0px 1px 2px rgba(0, 0, 0, 0.3));\n",
              "    fill: #FFFFFF;\n",
              "  }\n",
              "</style>\n",
              "\n",
              "    <script>\n",
              "      async function quickchart(key) {\n",
              "        const containerElement = document.querySelector('#' + key);\n",
              "        const charts = await google.colab.kernel.invokeFunction(\n",
              "            'suggestCharts', [key], {});\n",
              "      }\n",
              "    </script>\n",
              "\n",
              "\n",
              "      <script>\n",
              "\n",
              "function displayQuickchartButton(domScope) {\n",
              "  let quickchartButtonEl =\n",
              "    domScope.querySelector('#df-395002f3-171b-4438-a1ec-23f37b1c0b7a button.colab-df-quickchart');\n",
              "  quickchartButtonEl.style.display =\n",
              "    google.colab.kernel.accessAllowed ? 'block' : 'none';\n",
              "}\n",
              "\n",
              "        displayQuickchartButton(document);\n",
              "      </script>\n",
              "      <style>\n",
              "    .colab-df-container {\n",
              "      display:flex;\n",
              "      flex-wrap:wrap;\n",
              "      gap: 12px;\n",
              "    }\n",
              "\n",
              "    .colab-df-convert {\n",
              "      background-color: #E8F0FE;\n",
              "      border: none;\n",
              "      border-radius: 50%;\n",
              "      cursor: pointer;\n",
              "      display: none;\n",
              "      fill: #1967D2;\n",
              "      height: 32px;\n",
              "      padding: 0 0 0 0;\n",
              "      width: 32px;\n",
              "    }\n",
              "\n",
              "    .colab-df-convert:hover {\n",
              "      background-color: #E2EBFA;\n",
              "      box-shadow: 0px 1px 2px rgba(60, 64, 67, 0.3), 0px 1px 3px 1px rgba(60, 64, 67, 0.15);\n",
              "      fill: #174EA6;\n",
              "    }\n",
              "\n",
              "    [theme=dark] .colab-df-convert {\n",
              "      background-color: #3B4455;\n",
              "      fill: #D2E3FC;\n",
              "    }\n",
              "\n",
              "    [theme=dark] .colab-df-convert:hover {\n",
              "      background-color: #434B5C;\n",
              "      box-shadow: 0px 1px 3px 1px rgba(0, 0, 0, 0.15);\n",
              "      filter: drop-shadow(0px 1px 2px rgba(0, 0, 0, 0.3));\n",
              "      fill: #FFFFFF;\n",
              "    }\n",
              "  </style>\n",
              "\n",
              "      <script>\n",
              "        const buttonEl =\n",
              "          document.querySelector('#df-d9db276a-387d-4fc5-b724-cbe1646d7ad9 button.colab-df-convert');\n",
              "        buttonEl.style.display =\n",
              "          google.colab.kernel.accessAllowed ? 'block' : 'none';\n",
              "\n",
              "        async function convertToInteractive(key) {\n",
              "          const element = document.querySelector('#df-d9db276a-387d-4fc5-b724-cbe1646d7ad9');\n",
              "          const dataTable =\n",
              "            await google.colab.kernel.invokeFunction('convertToInteractive',\n",
              "                                                     [key], {});\n",
              "          if (!dataTable) return;\n",
              "\n",
              "          const docLinkHtml = 'Like what you see? Visit the ' +\n",
              "            '<a target=\"_blank\" href=https://colab.research.google.com/notebooks/data_table.ipynb>data table notebook</a>'\n",
              "            + ' to learn more about interactive tables.';\n",
              "          element.innerHTML = '';\n",
              "          dataTable['output_type'] = 'display_data';\n",
              "          await google.colab.output.renderOutput(dataTable, element);\n",
              "          const docLink = document.createElement('div');\n",
              "          docLink.innerHTML = docLinkHtml;\n",
              "          element.appendChild(docLink);\n",
              "        }\n",
              "      </script>\n",
              "    </div>\n",
              "  </div>\n"
            ]
          },
          "metadata": {},
          "execution_count": 34
        }
      ],
      "source": [
        "df_train[['name','host_name','price']].sort_values(by='price',ascending=False)"
      ]
    },
    {
      "cell_type": "code",
      "execution_count": 35,
      "metadata": {
        "colab": {
          "base_uri": "https://localhost:8080/",
          "height": 537
        },
        "id": "tXzVan4xCFd9",
        "outputId": "b4429a48-84ae-4bef-a93d-07fb307a8d71"
      },
      "outputs": [
        {
          "output_type": "display_data",
          "data": {
            "text/html": [
              "<html>\n",
              "<head><meta charset=\"utf-8\" /></head>\n",
              "<body>\n",
              "    <div>            <script src=\"https://cdnjs.cloudflare.com/ajax/libs/mathjax/2.7.5/MathJax.js?config=TeX-AMS-MML_SVG\"></script><script type=\"text/javascript\">if (window.MathJax && window.MathJax.Hub && window.MathJax.Hub.Config) {window.MathJax.Hub.Config({SVG: {font: \"STIX-Web\"}});}</script>                <script type=\"text/javascript\">window.PlotlyConfig = {MathJaxConfig: 'local'};</script>\n",
              "        <script charset=\"utf-8\" src=\"https://cdn.plot.ly/plotly-2.24.1.min.js\"></script>                <div id=\"756b5faa-e416-4e3e-8949-80715b68d697\" class=\"plotly-graph-div\" style=\"height:500px; width:1400px;\"></div>            <script type=\"text/javascript\">                                    window.PLOTLYENV=window.PLOTLYENV || {};                                    if (document.getElementById(\"756b5faa-e416-4e3e-8949-80715b68d697\")) {                    Plotly.newPlot(                        \"756b5faa-e416-4e3e-8949-80715b68d697\",                        [{\"hovertemplate\":\"host_name=David\\u003cbr\\u003ename=%{x}\\u003cbr\\u003eprice=%{marker.size}\\u003cextra\\u003e\\u003c\\u002fextra\\u003e\",\"legendgroup\":\"David\",\"marker\":{\"color\":\"#636efa\",\"size\":[9000,3000],\"sizemode\":\"area\",\"sizeref\":22.5,\"symbol\":\"circle\"},\"mode\":\"markers\",\"name\":\"David\",\"orientation\":\"v\",\"showlegend\":true,\"x\":[\"Center, Large&Sunny Room,Pvt Bathrm\",\"No available\"],\"xaxis\":\"x\",\"y\":[9000,3000],\"yaxis\":\"y\",\"type\":\"scatter\"},{\"hovertemplate\":\"host_name=Mery\\u003cbr\\u003ename=%{x}\\u003cbr\\u003eprice=%{marker.size}\\u003cextra\\u003e\\u003c\\u002fextra\\u003e\",\"legendgroup\":\"Mery\",\"marker\":{\"color\":\"#EF553B\",\"size\":[7550],\"sizemode\":\"area\",\"sizeref\":22.5,\"symbol\":\"circle\"},\"mode\":\"markers\",\"name\":\"Mery\",\"orientation\":\"v\",\"showlegend\":true,\"x\":[\"Moie kamer in Amsterdam\"],\"xaxis\":\"x\",\"y\":[7550],\"yaxis\":\"y\",\"type\":\"scatter\"},{\"hovertemplate\":\"host_name=Hotel Esther\\u00e9a\\u003cbr\\u003ename=%{x}\\u003cbr\\u003eprice=%{marker.size}\\u003cextra\\u003e\\u003c\\u002fextra\\u003e\",\"legendgroup\":\"Hotel Esther\\u00e9a\",\"marker\":{\"color\":\"#00cc96\",\"size\":[7000,7000,7000,7000],\"sizemode\":\"area\",\"sizeref\":22.5,\"symbol\":\"circle\"},\"mode\":\"markers\",\"name\":\"Hotel Esther\\u00e9a\",\"orientation\":\"v\",\"showlegend\":true,\"x\":[\"Hotel Esther\\u00e9a, Classic Room\",\"Hotel Esther\\u00e9a, Deluxe Room\",\"Hotel Esther\\u00e9a, Triple Room\",\"Hotel Esther\\u00e9a, Deluxe Canal View Room\"],\"xaxis\":\"x\",\"y\":[7000,7000,7000,7000],\"yaxis\":\"y\",\"type\":\"scatter\"},{\"hovertemplate\":\"host_name=Luxury Suites\\u003cbr\\u003ename=%{x}\\u003cbr\\u003eprice=%{marker.size}\\u003cextra\\u003e\\u003c\\u002fextra\\u003e\",\"legendgroup\":\"Luxury Suites\",\"marker\":{\"color\":\"#ab63fa\",\"size\":[6477,6477,6477],\"sizemode\":\"area\",\"sizeref\":22.5,\"symbol\":\"circle\"},\"mode\":\"markers\",\"name\":\"Luxury Suites\",\"orientation\":\"v\",\"showlegend\":true,\"x\":[\"Luxury Suites Amsterdam, Luxury Suite\",\"Luxury Suites Amsterdam, Royal Suite\",\"Luxury Suites Amsterdam, Luxury Suite Patio\"],\"xaxis\":\"x\",\"y\":[6477,6477,6477],\"yaxis\":\"y\",\"type\":\"scatter\"},{\"hovertemplate\":\"host_name=Wendy And Bram\\u003cbr\\u003ename=%{x}\\u003cbr\\u003eprice=%{marker.size}\\u003cextra\\u003e\\u003c\\u002fextra\\u003e\",\"legendgroup\":\"Wendy And Bram\",\"marker\":{\"color\":\"#FFA15A\",\"size\":[5555],\"sizemode\":\"area\",\"sizeref\":22.5,\"symbol\":\"circle\"},\"mode\":\"markers\",\"name\":\"Wendy And Bram\",\"orientation\":\"v\",\"showlegend\":true,\"x\":[\"Beautiful Modern Apartment With Stunning View\"],\"xaxis\":\"x\",\"y\":[5555],\"yaxis\":\"y\",\"type\":\"scatter\"},{\"hovertemplate\":\"host_name=Anubisdelvalle\\u003cbr\\u003ename=%{x}\\u003cbr\\u003eprice=%{marker.size}\\u003cextra\\u003e\\u003c\\u002fextra\\u003e\",\"legendgroup\":\"Anubisdelvalle\",\"marker\":{\"color\":\"#19d3f3\",\"size\":[5040],\"sizemode\":\"area\",\"sizeref\":22.5,\"symbol\":\"circle\"},\"mode\":\"markers\",\"name\":\"Anubisdelvalle\",\"orientation\":\"v\",\"showlegend\":true,\"x\":[\"Lovely place\"],\"xaxis\":\"x\",\"y\":[5040],\"yaxis\":\"y\",\"type\":\"scatter\"},{\"hovertemplate\":\"host_name=Marianne\\u003cbr\\u003ename=%{x}\\u003cbr\\u003eprice=%{marker.size}\\u003cextra\\u003e\\u003c\\u002fextra\\u003e\",\"legendgroup\":\"Marianne\",\"marker\":{\"color\":\"#FF6692\",\"size\":[5000],\"sizemode\":\"area\",\"sizeref\":22.5,\"symbol\":\"circle\"},\"mode\":\"markers\",\"name\":\"Marianne\",\"orientation\":\"v\",\"showlegend\":true,\"x\":[\"diervriendelijk appartementje aan rand Amsterdam\"],\"xaxis\":\"x\",\"y\":[5000],\"yaxis\":\"y\",\"type\":\"scatter\"},{\"hovertemplate\":\"host_name=Faralda\\u003cbr\\u003ename=%{x}\\u003cbr\\u003eprice=%{marker.size}\\u003cextra\\u003e\\u003c\\u002fextra\\u003e\",\"legendgroup\":\"Faralda\",\"marker\":{\"color\":\"#B6E880\",\"size\":[4500,1285],\"sizemode\":\"area\",\"sizeref\":22.5,\"symbol\":\"circle\"},\"mode\":\"markers\",\"name\":\"Faralda\",\"orientation\":\"v\",\"showlegend\":true,\"x\":[\"Private 50m high crane with 3 design suites and...\",\"2. Luxury Suite in a Crane! Private with 360view!\"],\"xaxis\":\"x\",\"y\":[4500,1285],\"yaxis\":\"y\",\"type\":\"scatter\"},{\"hovertemplate\":\"host_name=Alice\\u003cbr\\u003ename=%{x}\\u003cbr\\u003eprice=%{marker.size}\\u003cextra\\u003e\\u003c\\u002fextra\\u003e\",\"legendgroup\":\"Alice\",\"marker\":{\"color\":\"#FF97FF\",\"size\":[2500],\"sizemode\":\"area\",\"sizeref\":22.5,\"symbol\":\"circle\"},\"mode\":\"markers\",\"name\":\"Alice\",\"orientation\":\"v\",\"showlegend\":true,\"x\":[\"Verhuurd\"],\"xaxis\":\"x\",\"y\":[2500],\"yaxis\":\"y\",\"type\":\"scatter\"},{\"hovertemplate\":\"host_name=Simone\\u003cbr\\u003ename=%{x}\\u003cbr\\u003eprice=%{marker.size}\\u003cextra\\u003e\\u003c\\u002fextra\\u003e\",\"legendgroup\":\"Simone\",\"marker\":{\"color\":\"#FECB52\",\"size\":[2500],\"sizemode\":\"area\",\"sizeref\":22.5,\"symbol\":\"circle\"},\"mode\":\"markers\",\"name\":\"Simone\",\"orientation\":\"v\",\"showlegend\":true,\"x\":[\"Apartment, 4 beds, family, garden, children\"],\"xaxis\":\"x\",\"y\":[2500],\"yaxis\":\"y\",\"type\":\"scatter\"},{\"hovertemplate\":\"host_name=Alexandra\\u003cbr\\u003ename=%{x}\\u003cbr\\u003eprice=%{marker.size}\\u003cextra\\u003e\\u003c\\u002fextra\\u003e\",\"legendgroup\":\"Alexandra\",\"marker\":{\"color\":\"#636efa\",\"size\":[2000],\"sizemode\":\"area\",\"sizeref\":22.5,\"symbol\":\"circle\"},\"mode\":\"markers\",\"name\":\"Alexandra\",\"orientation\":\"v\",\"showlegend\":true,\"x\":[\"Keizers House\"],\"xaxis\":\"x\",\"y\":[2000],\"yaxis\":\"y\",\"type\":\"scatter\"},{\"hovertemplate\":\"host_name=Anke & Robert\\u003cbr\\u003ename=%{x}\\u003cbr\\u003eprice=%{marker.size}\\u003cextra\\u003e\\u003c\\u002fextra\\u003e\",\"legendgroup\":\"Anke & Robert\",\"marker\":{\"color\":\"#EF553B\",\"size\":[1750],\"sizemode\":\"area\",\"sizeref\":22.5,\"symbol\":\"circle\"},\"mode\":\"markers\",\"name\":\"Anke & Robert\",\"orientation\":\"v\",\"showlegend\":true,\"x\":[\"* Live like a King @ Prinsengracht\"],\"xaxis\":\"x\",\"y\":[1750],\"yaxis\":\"y\",\"type\":\"scatter\"},{\"hovertemplate\":\"host_name=Tineke\\u003cbr\\u003ename=%{x}\\u003cbr\\u003eprice=%{marker.size}\\u003cextra\\u003e\\u003c\\u002fextra\\u003e\",\"legendgroup\":\"Tineke\",\"marker\":{\"color\":\"#00cc96\",\"size\":[1580],\"sizemode\":\"area\",\"sizeref\":22.5,\"symbol\":\"circle\"},\"mode\":\"markers\",\"name\":\"Tineke\",\"orientation\":\"v\",\"showlegend\":true,\"x\":[\"Penthouse with 253 m\\u00b2 - recently renovated\"],\"xaxis\":\"x\",\"y\":[1580],\"yaxis\":\"y\",\"type\":\"scatter\"},{\"hovertemplate\":\"host_name=Jmo\\u003cbr\\u003ename=%{x}\\u003cbr\\u003eprice=%{marker.size}\\u003cextra\\u003e\\u003c\\u002fextra\\u003e\",\"legendgroup\":\"Jmo\",\"marker\":{\"color\":\"#ab63fa\",\"size\":[1300],\"sizemode\":\"area\",\"sizeref\":22.5,\"symbol\":\"circle\"},\"mode\":\"markers\",\"name\":\"Jmo\",\"orientation\":\"v\",\"showlegend\":true,\"x\":[\"AmsterdamTogether- Double Apartment\"],\"xaxis\":\"x\",\"y\":[1300],\"yaxis\":\"y\",\"type\":\"scatter\"},{\"hovertemplate\":\"host_name=Diana\\u003cbr\\u003ename=%{x}\\u003cbr\\u003eprice=%{marker.size}\\u003cextra\\u003e\\u003c\\u002fextra\\u003e\",\"legendgroup\":\"Diana\",\"marker\":{\"color\":\"#FFA15A\",\"size\":[1300],\"sizemode\":\"area\",\"sizeref\":22.5,\"symbol\":\"circle\"},\"mode\":\"markers\",\"name\":\"Diana\",\"orientation\":\"v\",\"showlegend\":true,\"x\":[\"Amsterdam apartment for maximum 12p\"],\"xaxis\":\"x\",\"y\":[1300],\"yaxis\":\"y\",\"type\":\"scatter\"},{\"hovertemplate\":\"host_name=Akul\\u003cbr\\u003ename=%{x}\\u003cbr\\u003eprice=%{marker.size}\\u003cextra\\u003e\\u003c\\u002fextra\\u003e\",\"legendgroup\":\"Akul\",\"marker\":{\"color\":\"#19d3f3\",\"size\":[1250],\"sizemode\":\"area\",\"sizeref\":22.5,\"symbol\":\"circle\"},\"mode\":\"markers\",\"name\":\"Akul\",\"orientation\":\"v\",\"showlegend\":true,\"x\":[\"DELIGHTFUL VIEWS ACROSS THE CANAL-WESTERPARK\"],\"xaxis\":\"x\",\"y\":[1250],\"yaxis\":\"y\",\"type\":\"scatter\"},{\"hovertemplate\":\"host_name=Brechtje\\u003cbr\\u003ename=%{x}\\u003cbr\\u003eprice=%{marker.size}\\u003cextra\\u003e\\u003c\\u002fextra\\u003e\",\"legendgroup\":\"Brechtje\",\"marker\":{\"color\":\"#FF6692\",\"size\":[1230],\"sizemode\":\"area\",\"sizeref\":22.5,\"symbol\":\"circle\"},\"mode\":\"markers\",\"name\":\"Brechtje\",\"orientation\":\"v\",\"showlegend\":true,\"x\":[\"Bright Beauty Apartment in de Pijp (sleeps 4)\"],\"xaxis\":\"x\",\"y\":[1230],\"yaxis\":\"y\",\"type\":\"scatter\"},{\"hovertemplate\":\"host_name=JanDirk\\u003cbr\\u003ename=%{x}\\u003cbr\\u003eprice=%{marker.size}\\u003cextra\\u003e\\u003c\\u002fextra\\u003e\",\"legendgroup\":\"JanDirk\",\"marker\":{\"color\":\"#B6E880\",\"size\":[1200],\"sizemode\":\"area\",\"sizeref\":22.5,\"symbol\":\"circle\"},\"mode\":\"markers\",\"name\":\"JanDirk\",\"orientation\":\"v\",\"showlegend\":true,\"x\":[\"Apartment in city centre JORDAAN\"],\"xaxis\":\"x\",\"y\":[1200],\"yaxis\":\"y\",\"type\":\"scatter\"},{\"hovertemplate\":\"host_name=SWEETS Hotel\\u003cbr\\u003ename=%{x}\\u003cbr\\u003eprice=%{marker.size}\\u003cextra\\u003e\\u003c\\u002fextra\\u003e\",\"legendgroup\":\"SWEETS Hotel\",\"marker\":{\"color\":\"#FF97FF\",\"size\":[1200],\"sizemode\":\"area\",\"sizeref\":22.5,\"symbol\":\"circle\"},\"mode\":\"markers\",\"name\":\"SWEETS Hotel\",\"orientation\":\"v\",\"showlegend\":true,\"x\":[\"Private island in the heart of Amsterdam\"],\"xaxis\":\"x\",\"y\":[1200],\"yaxis\":\"y\",\"type\":\"scatter\"},{\"hovertemplate\":\"host_name=Willem\\u003cbr\\u003ename=%{x}\\u003cbr\\u003eprice=%{marker.size}\\u003cextra\\u003e\\u003c\\u002fextra\\u003e\",\"legendgroup\":\"Willem\",\"marker\":{\"color\":\"#FECB52\",\"size\":[1150,1000],\"sizemode\":\"area\",\"sizeref\":22.5,\"symbol\":\"circle\"},\"mode\":\"markers\",\"name\":\"Willem\",\"orientation\":\"v\",\"showlegend\":true,\"x\":[\"Spacious apartment in Amsterdam\",\"Authentic warehouse appartment in center of Adam!!\"],\"xaxis\":\"x\",\"y\":[1150,1000],\"yaxis\":\"y\",\"type\":\"scatter\"},{\"hovertemplate\":\"host_name=Hoxton Amsterdam\\u003cbr\\u003ename=%{x}\\u003cbr\\u003eprice=%{marker.size}\\u003cextra\\u003e\\u003c\\u002fextra\\u003e\",\"legendgroup\":\"Hoxton Amsterdam\",\"marker\":{\"color\":\"#636efa\",\"size\":[1000,1000],\"sizemode\":\"area\",\"sizeref\":22.5,\"symbol\":\"circle\"},\"mode\":\"markers\",\"name\":\"Hoxton Amsterdam\",\"orientation\":\"v\",\"showlegend\":true,\"x\":[\"Hoxton Amsterdam, Roomy Room\",\"Hoxton Amsterdam, Cosy Room\"],\"xaxis\":\"x\",\"y\":[1000,1000],\"yaxis\":\"y\",\"type\":\"scatter\"},{\"hovertemplate\":\"host_name=St Christophers At The Winston\\u003cbr\\u003ename=%{x}\\u003cbr\\u003eprice=%{marker.size}\\u003cextra\\u003e\\u003c\\u002fextra\\u003e\",\"legendgroup\":\"St Christophers At The Winston\",\"marker\":{\"color\":\"#EF553B\",\"size\":[1000,1000,1000,1000,1000,1000,1000],\"sizemode\":\"area\",\"sizeref\":22.5,\"symbol\":\"circle\"},\"mode\":\"markers\",\"name\":\"St Christophers At The Winston\",\"orientation\":\"v\",\"showlegend\":true,\"x\":[\"Small Double Ensuite\",\"Bed in 10 POD Dorm Ensuite\",\"Bed in 8 Bed Dorm Ensuite\",\"Bed in 5 Bed Dorm Ensuite\",\"Private Single Ensuite\",\"Bed in 6 POD Dorm Ensuite\",\"Small Twin Ensuite\"],\"xaxis\":\"x\",\"y\":[1000,1000,1000,1000,1000,1000,1000],\"yaxis\":\"y\",\"type\":\"scatter\"},{\"hovertemplate\":\"host_name=The Flying Pig Uptown\\u003cbr\\u003ename=%{x}\\u003cbr\\u003eprice=%{marker.size}\\u003cextra\\u003e\\u003c\\u002fextra\\u003e\",\"legendgroup\":\"The Flying Pig Uptown\",\"marker\":{\"color\":\"#00cc96\",\"size\":[1000,1000],\"sizemode\":\"area\",\"sizeref\":22.5,\"symbol\":\"circle\"},\"mode\":\"markers\",\"name\":\"The Flying Pig Uptown\",\"orientation\":\"v\",\"showlegend\":true,\"x\":[\"Bed in 8 Bed Dorm\",\"Bed in 6 Bed Dorm\"],\"xaxis\":\"x\",\"y\":[1000,1000],\"yaxis\":\"y\",\"type\":\"scatter\"},{\"hovertemplate\":\"host_name=CityHub\\u003cbr\\u003ename=%{x}\\u003cbr\\u003eprice=%{marker.size}\\u003cextra\\u003e\\u003c\\u002fextra\\u003e\",\"legendgroup\":\"CityHub\",\"marker\":{\"color\":\"#ab63fa\",\"size\":[1000],\"sizemode\":\"area\",\"sizeref\":22.5,\"symbol\":\"circle\"},\"mode\":\"markers\",\"name\":\"CityHub\",\"orientation\":\"v\",\"showlegend\":true,\"x\":[\"Sleep in a Hub!\"],\"xaxis\":\"x\",\"y\":[1000],\"yaxis\":\"y\",\"type\":\"scatter\"},{\"hovertemplate\":\"host_name=The Arcade Hotel\\u003cbr\\u003ename=%{x}\\u003cbr\\u003eprice=%{marker.size}\\u003cextra\\u003e\\u003c\\u002fextra\\u003e\",\"legendgroup\":\"The Arcade Hotel\",\"marker\":{\"color\":\"#FFA15A\",\"size\":[1000],\"sizemode\":\"area\",\"sizeref\":22.5,\"symbol\":\"circle\"},\"mode\":\"markers\",\"name\":\"The Arcade Hotel\",\"orientation\":\"v\",\"showlegend\":true,\"x\":[\"VIP Suite - Lust for Life\"],\"xaxis\":\"x\",\"y\":[1000],\"yaxis\":\"y\",\"type\":\"scatter\"},{\"hovertemplate\":\"host_name=Sharif\\u003cbr\\u003ename=%{x}\\u003cbr\\u003eprice=%{marker.size}\\u003cextra\\u003e\\u003c\\u002fextra\\u003e\",\"legendgroup\":\"Sharif\",\"marker\":{\"color\":\"#19d3f3\",\"size\":[1000],\"sizemode\":\"area\",\"sizeref\":22.5,\"symbol\":\"circle\"},\"mode\":\"markers\",\"name\":\"Sharif\",\"orientation\":\"v\",\"showlegend\":true,\"x\":[\"Unique 200m2 loft in the city center of Amsterdam\"],\"xaxis\":\"x\",\"y\":[1000],\"yaxis\":\"y\",\"type\":\"scatter\"},{\"hovertemplate\":\"host_name=Oleg\\u003cbr\\u003ename=%{x}\\u003cbr\\u003eprice=%{marker.size}\\u003cextra\\u003e\\u003c\\u002fextra\\u003e\",\"legendgroup\":\"Oleg\",\"marker\":{\"color\":\"#FF6692\",\"size\":[1000],\"sizemode\":\"area\",\"sizeref\":22.5,\"symbol\":\"circle\"},\"mode\":\"markers\",\"name\":\"Oleg\",\"orientation\":\"v\",\"showlegend\":true,\"x\":[\"Lovely and Luxurious Apartment in Perfect Location\"],\"xaxis\":\"x\",\"y\":[1000],\"yaxis\":\"y\",\"type\":\"scatter\"},{\"hovertemplate\":\"host_name=Maarten\\u003cbr\\u003ename=%{x}\\u003cbr\\u003eprice=%{marker.size}\\u003cextra\\u003e\\u003c\\u002fextra\\u003e\",\"legendgroup\":\"Maarten\",\"marker\":{\"color\":\"#B6E880\",\"size\":[1000],\"sizemode\":\"area\",\"sizeref\":22.5,\"symbol\":\"circle\"},\"mode\":\"markers\",\"name\":\"Maarten\",\"orientation\":\"v\",\"showlegend\":true,\"x\":[\"Beautiful  studio in traditional canal house\"],\"xaxis\":\"x\",\"y\":[1000],\"yaxis\":\"y\",\"type\":\"scatter\"},{\"hovertemplate\":\"host_name=Jolijn\\u003cbr\\u003ename=%{x}\\u003cbr\\u003eprice=%{marker.size}\\u003cextra\\u003e\\u003c\\u002fextra\\u003e\",\"legendgroup\":\"Jolijn\",\"marker\":{\"color\":\"#FF97FF\",\"size\":[1000],\"sizemode\":\"area\",\"sizeref\":22.5,\"symbol\":\"circle\"},\"mode\":\"markers\",\"name\":\"Jolijn\",\"orientation\":\"v\",\"showlegend\":true,\"x\":[\"Architects family home near Jordaan\"],\"xaxis\":\"x\",\"y\":[1000],\"yaxis\":\"y\",\"type\":\"scatter\"},{\"hovertemplate\":\"host_name=The Flying Pig Downtown\\u003cbr\\u003ename=%{x}\\u003cbr\\u003eprice=%{marker.size}\\u003cextra\\u003e\\u003c\\u002fextra\\u003e\",\"legendgroup\":\"The Flying Pig Downtown\",\"marker\":{\"color\":\"#FECB52\",\"size\":[1000,1000,1000],\"sizemode\":\"area\",\"sizeref\":22.5,\"symbol\":\"circle\"},\"mode\":\"markers\",\"name\":\"The Flying Pig Downtown\",\"orientation\":\"v\",\"showlegend\":true,\"x\":[\"Bed in 6 Bed Dorm Ensuite\",\"Private Double Ensuite\",\"Bed in 4 Bed Dorm Ensuite\"],\"xaxis\":\"x\",\"y\":[1000,1000,1000],\"yaxis\":\"y\",\"type\":\"scatter\"},{\"hovertemplate\":\"host_name=Judith\\u003cbr\\u003ename=%{x}\\u003cbr\\u003eprice=%{marker.size}\\u003cextra\\u003e\\u003c\\u002fextra\\u003e\",\"legendgroup\":\"Judith\",\"marker\":{\"color\":\"#636efa\",\"size\":[1000],\"sizemode\":\"area\",\"sizeref\":22.5,\"symbol\":\"circle\"},\"mode\":\"markers\",\"name\":\"Judith\",\"orientation\":\"v\",\"showlegend\":true,\"x\":[\"UNIQUE CANAL HOUSE DOWNTOWN AMSTERDAM (300sqm)\"],\"xaxis\":\"x\",\"y\":[1000],\"yaxis\":\"y\",\"type\":\"scatter\"},{\"hovertemplate\":\"host_name=Sophie\\u003cbr\\u003ename=%{x}\\u003cbr\\u003eprice=%{marker.size}\\u003cextra\\u003e\\u003c\\u002fextra\\u003e\",\"legendgroup\":\"Sophie\",\"marker\":{\"color\":\"#EF553B\",\"size\":[999],\"sizemode\":\"area\",\"sizeref\":22.5,\"symbol\":\"circle\"},\"mode\":\"markers\",\"name\":\"Sophie\",\"orientation\":\"v\",\"showlegend\":true,\"x\":[\"Spacious Studio Apartment with Gym and Sauna\"],\"xaxis\":\"x\",\"y\":[999],\"yaxis\":\"y\",\"type\":\"scatter\"}],                        {\"template\":{\"data\":{\"histogram2dcontour\":[{\"type\":\"histogram2dcontour\",\"colorbar\":{\"outlinewidth\":0,\"ticks\":\"\"},\"colorscale\":[[0.0,\"#0d0887\"],[0.1111111111111111,\"#46039f\"],[0.2222222222222222,\"#7201a8\"],[0.3333333333333333,\"#9c179e\"],[0.4444444444444444,\"#bd3786\"],[0.5555555555555556,\"#d8576b\"],[0.6666666666666666,\"#ed7953\"],[0.7777777777777778,\"#fb9f3a\"],[0.8888888888888888,\"#fdca26\"],[1.0,\"#f0f921\"]]}],\"choropleth\":[{\"type\":\"choropleth\",\"colorbar\":{\"outlinewidth\":0,\"ticks\":\"\"}}],\"histogram2d\":[{\"type\":\"histogram2d\",\"colorbar\":{\"outlinewidth\":0,\"ticks\":\"\"},\"colorscale\":[[0.0,\"#0d0887\"],[0.1111111111111111,\"#46039f\"],[0.2222222222222222,\"#7201a8\"],[0.3333333333333333,\"#9c179e\"],[0.4444444444444444,\"#bd3786\"],[0.5555555555555556,\"#d8576b\"],[0.6666666666666666,\"#ed7953\"],[0.7777777777777778,\"#fb9f3a\"],[0.8888888888888888,\"#fdca26\"],[1.0,\"#f0f921\"]]}],\"heatmap\":[{\"type\":\"heatmap\",\"colorbar\":{\"outlinewidth\":0,\"ticks\":\"\"},\"colorscale\":[[0.0,\"#0d0887\"],[0.1111111111111111,\"#46039f\"],[0.2222222222222222,\"#7201a8\"],[0.3333333333333333,\"#9c179e\"],[0.4444444444444444,\"#bd3786\"],[0.5555555555555556,\"#d8576b\"],[0.6666666666666666,\"#ed7953\"],[0.7777777777777778,\"#fb9f3a\"],[0.8888888888888888,\"#fdca26\"],[1.0,\"#f0f921\"]]}],\"heatmapgl\":[{\"type\":\"heatmapgl\",\"colorbar\":{\"outlinewidth\":0,\"ticks\":\"\"},\"colorscale\":[[0.0,\"#0d0887\"],[0.1111111111111111,\"#46039f\"],[0.2222222222222222,\"#7201a8\"],[0.3333333333333333,\"#9c179e\"],[0.4444444444444444,\"#bd3786\"],[0.5555555555555556,\"#d8576b\"],[0.6666666666666666,\"#ed7953\"],[0.7777777777777778,\"#fb9f3a\"],[0.8888888888888888,\"#fdca26\"],[1.0,\"#f0f921\"]]}],\"contourcarpet\":[{\"type\":\"contourcarpet\",\"colorbar\":{\"outlinewidth\":0,\"ticks\":\"\"}}],\"contour\":[{\"type\":\"contour\",\"colorbar\":{\"outlinewidth\":0,\"ticks\":\"\"},\"colorscale\":[[0.0,\"#0d0887\"],[0.1111111111111111,\"#46039f\"],[0.2222222222222222,\"#7201a8\"],[0.3333333333333333,\"#9c179e\"],[0.4444444444444444,\"#bd3786\"],[0.5555555555555556,\"#d8576b\"],[0.6666666666666666,\"#ed7953\"],[0.7777777777777778,\"#fb9f3a\"],[0.8888888888888888,\"#fdca26\"],[1.0,\"#f0f921\"]]}],\"surface\":[{\"type\":\"surface\",\"colorbar\":{\"outlinewidth\":0,\"ticks\":\"\"},\"colorscale\":[[0.0,\"#0d0887\"],[0.1111111111111111,\"#46039f\"],[0.2222222222222222,\"#7201a8\"],[0.3333333333333333,\"#9c179e\"],[0.4444444444444444,\"#bd3786\"],[0.5555555555555556,\"#d8576b\"],[0.6666666666666666,\"#ed7953\"],[0.7777777777777778,\"#fb9f3a\"],[0.8888888888888888,\"#fdca26\"],[1.0,\"#f0f921\"]]}],\"mesh3d\":[{\"type\":\"mesh3d\",\"colorbar\":{\"outlinewidth\":0,\"ticks\":\"\"}}],\"scatter\":[{\"fillpattern\":{\"fillmode\":\"overlay\",\"size\":10,\"solidity\":0.2},\"type\":\"scatter\"}],\"parcoords\":[{\"type\":\"parcoords\",\"line\":{\"colorbar\":{\"outlinewidth\":0,\"ticks\":\"\"}}}],\"scatterpolargl\":[{\"type\":\"scatterpolargl\",\"marker\":{\"colorbar\":{\"outlinewidth\":0,\"ticks\":\"\"}}}],\"bar\":[{\"error_x\":{\"color\":\"#2a3f5f\"},\"error_y\":{\"color\":\"#2a3f5f\"},\"marker\":{\"line\":{\"color\":\"#E5ECF6\",\"width\":0.5},\"pattern\":{\"fillmode\":\"overlay\",\"size\":10,\"solidity\":0.2}},\"type\":\"bar\"}],\"scattergeo\":[{\"type\":\"scattergeo\",\"marker\":{\"colorbar\":{\"outlinewidth\":0,\"ticks\":\"\"}}}],\"scatterpolar\":[{\"type\":\"scatterpolar\",\"marker\":{\"colorbar\":{\"outlinewidth\":0,\"ticks\":\"\"}}}],\"histogram\":[{\"marker\":{\"pattern\":{\"fillmode\":\"overlay\",\"size\":10,\"solidity\":0.2}},\"type\":\"histogram\"}],\"scattergl\":[{\"type\":\"scattergl\",\"marker\":{\"colorbar\":{\"outlinewidth\":0,\"ticks\":\"\"}}}],\"scatter3d\":[{\"type\":\"scatter3d\",\"line\":{\"colorbar\":{\"outlinewidth\":0,\"ticks\":\"\"}},\"marker\":{\"colorbar\":{\"outlinewidth\":0,\"ticks\":\"\"}}}],\"scattermapbox\":[{\"type\":\"scattermapbox\",\"marker\":{\"colorbar\":{\"outlinewidth\":0,\"ticks\":\"\"}}}],\"scatterternary\":[{\"type\":\"scatterternary\",\"marker\":{\"colorbar\":{\"outlinewidth\":0,\"ticks\":\"\"}}}],\"scattercarpet\":[{\"type\":\"scattercarpet\",\"marker\":{\"colorbar\":{\"outlinewidth\":0,\"ticks\":\"\"}}}],\"carpet\":[{\"aaxis\":{\"endlinecolor\":\"#2a3f5f\",\"gridcolor\":\"white\",\"linecolor\":\"white\",\"minorgridcolor\":\"white\",\"startlinecolor\":\"#2a3f5f\"},\"baxis\":{\"endlinecolor\":\"#2a3f5f\",\"gridcolor\":\"white\",\"linecolor\":\"white\",\"minorgridcolor\":\"white\",\"startlinecolor\":\"#2a3f5f\"},\"type\":\"carpet\"}],\"table\":[{\"cells\":{\"fill\":{\"color\":\"#EBF0F8\"},\"line\":{\"color\":\"white\"}},\"header\":{\"fill\":{\"color\":\"#C8D4E3\"},\"line\":{\"color\":\"white\"}},\"type\":\"table\"}],\"barpolar\":[{\"marker\":{\"line\":{\"color\":\"#E5ECF6\",\"width\":0.5},\"pattern\":{\"fillmode\":\"overlay\",\"size\":10,\"solidity\":0.2}},\"type\":\"barpolar\"}],\"pie\":[{\"automargin\":true,\"type\":\"pie\"}]},\"layout\":{\"autotypenumbers\":\"strict\",\"colorway\":[\"#636efa\",\"#EF553B\",\"#00cc96\",\"#ab63fa\",\"#FFA15A\",\"#19d3f3\",\"#FF6692\",\"#B6E880\",\"#FF97FF\",\"#FECB52\"],\"font\":{\"color\":\"#2a3f5f\"},\"hovermode\":\"closest\",\"hoverlabel\":{\"align\":\"left\"},\"paper_bgcolor\":\"white\",\"plot_bgcolor\":\"#E5ECF6\",\"polar\":{\"bgcolor\":\"#E5ECF6\",\"angularaxis\":{\"gridcolor\":\"white\",\"linecolor\":\"white\",\"ticks\":\"\"},\"radialaxis\":{\"gridcolor\":\"white\",\"linecolor\":\"white\",\"ticks\":\"\"}},\"ternary\":{\"bgcolor\":\"#E5ECF6\",\"aaxis\":{\"gridcolor\":\"white\",\"linecolor\":\"white\",\"ticks\":\"\"},\"baxis\":{\"gridcolor\":\"white\",\"linecolor\":\"white\",\"ticks\":\"\"},\"caxis\":{\"gridcolor\":\"white\",\"linecolor\":\"white\",\"ticks\":\"\"}},\"coloraxis\":{\"colorbar\":{\"outlinewidth\":0,\"ticks\":\"\"}},\"colorscale\":{\"sequential\":[[0.0,\"#0d0887\"],[0.1111111111111111,\"#46039f\"],[0.2222222222222222,\"#7201a8\"],[0.3333333333333333,\"#9c179e\"],[0.4444444444444444,\"#bd3786\"],[0.5555555555555556,\"#d8576b\"],[0.6666666666666666,\"#ed7953\"],[0.7777777777777778,\"#fb9f3a\"],[0.8888888888888888,\"#fdca26\"],[1.0,\"#f0f921\"]],\"sequentialminus\":[[0.0,\"#0d0887\"],[0.1111111111111111,\"#46039f\"],[0.2222222222222222,\"#7201a8\"],[0.3333333333333333,\"#9c179e\"],[0.4444444444444444,\"#bd3786\"],[0.5555555555555556,\"#d8576b\"],[0.6666666666666666,\"#ed7953\"],[0.7777777777777778,\"#fb9f3a\"],[0.8888888888888888,\"#fdca26\"],[1.0,\"#f0f921\"]],\"diverging\":[[0,\"#8e0152\"],[0.1,\"#c51b7d\"],[0.2,\"#de77ae\"],[0.3,\"#f1b6da\"],[0.4,\"#fde0ef\"],[0.5,\"#f7f7f7\"],[0.6,\"#e6f5d0\"],[0.7,\"#b8e186\"],[0.8,\"#7fbc41\"],[0.9,\"#4d9221\"],[1,\"#276419\"]]},\"xaxis\":{\"gridcolor\":\"white\",\"linecolor\":\"white\",\"ticks\":\"\",\"title\":{\"standoff\":15},\"zerolinecolor\":\"white\",\"automargin\":true,\"zerolinewidth\":2},\"yaxis\":{\"gridcolor\":\"white\",\"linecolor\":\"white\",\"ticks\":\"\",\"title\":{\"standoff\":15},\"zerolinecolor\":\"white\",\"automargin\":true,\"zerolinewidth\":2},\"scene\":{\"xaxis\":{\"backgroundcolor\":\"#E5ECF6\",\"gridcolor\":\"white\",\"linecolor\":\"white\",\"showbackground\":true,\"ticks\":\"\",\"zerolinecolor\":\"white\",\"gridwidth\":2},\"yaxis\":{\"backgroundcolor\":\"#E5ECF6\",\"gridcolor\":\"white\",\"linecolor\":\"white\",\"showbackground\":true,\"ticks\":\"\",\"zerolinecolor\":\"white\",\"gridwidth\":2},\"zaxis\":{\"backgroundcolor\":\"#E5ECF6\",\"gridcolor\":\"white\",\"linecolor\":\"white\",\"showbackground\":true,\"ticks\":\"\",\"zerolinecolor\":\"white\",\"gridwidth\":2}},\"shapedefaults\":{\"line\":{\"color\":\"#2a3f5f\"}},\"annotationdefaults\":{\"arrowcolor\":\"#2a3f5f\",\"arrowhead\":0,\"arrowwidth\":1},\"geo\":{\"bgcolor\":\"white\",\"landcolor\":\"#E5ECF6\",\"subunitcolor\":\"white\",\"showland\":true,\"showlakes\":true,\"lakecolor\":\"white\"},\"title\":{\"x\":0.05},\"mapbox\":{\"style\":\"light\"}}},\"xaxis\":{\"anchor\":\"y\",\"domain\":[0.0,1.0],\"title\":{\"text\":\"name\"}},\"yaxis\":{\"anchor\":\"x\",\"domain\":[0.0,1.0],\"title\":{\"text\":\"price\"}},\"legend\":{\"title\":{\"text\":\"host_name\"},\"tracegroupgap\":0,\"itemsizing\":\"constant\"},\"margin\":{\"t\":60},\"font\":{\"size\":15,\"color\":\"#0f0f0f\",\"family\":\"Courier New, monospace\"},\"autosize\":false,\"height\":500,\"width\":1400},                        {\"responsive\": true}                    ).then(function(){\n",
              "                            \n",
              "var gd = document.getElementById('756b5faa-e416-4e3e-8949-80715b68d697');\n",
              "var x = new MutationObserver(function (mutations, observer) {{\n",
              "        var display = window.getComputedStyle(gd).display;\n",
              "        if (!display || display === 'none') {{\n",
              "            console.log([gd, 'removed!']);\n",
              "            Plotly.purge(gd);\n",
              "            observer.disconnect();\n",
              "        }}\n",
              "}});\n",
              "\n",
              "// Listen for the removal of the full notebook cells\n",
              "var notebookContainer = gd.closest('#notebook-container');\n",
              "if (notebookContainer) {{\n",
              "    x.observe(notebookContainer, {childList: true});\n",
              "}}\n",
              "\n",
              "// Listen for the clearing of the current output cell\n",
              "var outputEl = gd.closest('.output');\n",
              "if (outputEl) {{\n",
              "    x.observe(outputEl, {childList: true});\n",
              "}}\n",
              "\n",
              "                        })                };                            </script>        </div>\n",
              "</body>\n",
              "</html>"
            ]
          },
          "metadata": {}
        }
      ],
      "source": [
        "d=df_train[['name','host_name','price']].sort_values(by='price',ascending=False).head(50)\n",
        "fig=px.scatter(d,\n",
        "                           x='name',\n",
        "                           y='price',\n",
        "                           size='price',\n",
        "                           color='host_name',\n",
        "                           #range_y=[0,200],\n",
        "                           #range_x=[0,900]\n",
        "                           )\n",
        "fig.update_layout(autosize=False,\n",
        "                  height=500,\n",
        "                  width=1400,\n",
        "                  font=dict(size=15,color=\"#0f0f0f\",family=\"Courier New, monospace\"),\n",
        "                 )\n",
        "fig.show()"
      ]
    },
    {
      "cell_type": "markdown",
      "metadata": {
        "id": "mBFKurz5CFd9"
      },
      "source": [
        "so in the above graph you can see some of the costliest apartments."
      ]
    },
    {
      "cell_type": "markdown",
      "metadata": {
        "id": "sxwzzNjGCFd9"
      },
      "source": [
        "Now as we got to know about the columns now we should clean the data,"
      ]
    },
    {
      "cell_type": "markdown",
      "metadata": {
        "id": "OJpZ0J2xCFd9"
      },
      "source": [
        "Lets check the corelation"
      ]
    },
    {
      "cell_type": "code",
      "execution_count": 36,
      "metadata": {
        "colab": {
          "base_uri": "https://localhost:8080/",
          "height": 873
        },
        "id": "C1DxWU0tCFd9",
        "outputId": "fb617969-7e54-418a-a83d-4b0396afef82"
      },
      "outputs": [
        {
          "output_type": "stream",
          "name": "stderr",
          "text": [
            "<ipython-input-36-52f75420237e>:2: FutureWarning:\n",
            "\n",
            "The default value of numeric_only in DataFrame.corr is deprecated. In a future version, it will default to False. Select only valid columns or specify the value of numeric_only to silence this warning.\n",
            "\n"
          ]
        },
        {
          "output_type": "execute_result",
          "data": {
            "text/plain": [
              "<Axes: >"
            ]
          },
          "metadata": {},
          "execution_count": 36
        },
        {
          "output_type": "display_data",
          "data": {
            "text/plain": [
              "<Figure size 1200x800 with 2 Axes>"
            ],
            "image/png": "[encoded data removed]"
          },
          "metadata": {}
        }
      ],
      "source": [
        "plt.figure(figsize=(12,8))\n",
        "sns.heatmap(df_train.corr(),cmap='bwr',annot=True)"
      ]
    },
    {
      "cell_type": "markdown",
      "metadata": {
        "id": "AxTIuUvwCFd9"
      },
      "source": [
        "Data Cleaning"
      ]
    },
    {
      "cell_type": "markdown",
      "metadata": {
        "id": "ANSN4WUcCFd9"
      },
      "source": [
        "1.We will check if we have duplicates  rows in the data set given."
      ]
    },
    {
      "cell_type": "code",
      "execution_count": 37,
      "metadata": {
        "colab": {
          "base_uri": "https://localhost:8080/"
        },
        "id": "Tzo58N4qCFd-",
        "outputId": "36b76cc3-43af-4a6c-d7de-e9e10e27d996"
      },
      "outputs": [
        {
          "output_type": "stream",
          "name": "stderr",
          "text": [
            "<ipython-input-37-1a4a81c0b08a>:1: UserWarning:\n",
            "\n",
            "Pandas doesn't allow columns to be created via a new attribute name - see https://pandas.pydata.org/pandas-docs/stable/indexing.html#attribute-access\n",
            "\n"
          ]
        }
      ],
      "source": [
        "df_train.cp=df_train.copy()"
      ]
    },
    {
      "cell_type": "code",
      "execution_count": 38,
      "metadata": {
        "colab": {
          "base_uri": "https://localhost:8080/"
        },
        "id": "nzV1UzKLCFd-",
        "outputId": "e4dae99b-268d-45cf-b871-9dda68afdf94"
      },
      "outputs": [
        {
          "output_type": "execute_result",
          "data": {
            "text/plain": [
              "(0, 15)"
            ]
          },
          "metadata": {},
          "execution_count": 38
        }
      ],
      "source": [
        "df_train_dup=df_train[df_train.duplicated()]\n",
        "df_train_dup.shape"
      ]
    },
    {
      "cell_type": "markdown",
      "metadata": {
        "id": "LCivfy5eCFd-"
      },
      "source": [
        "There are no duplicate records."
      ]
    },
    {
      "cell_type": "markdown",
      "metadata": {
        "id": "Kum_yW8rCFd-"
      },
      "source": [
        "Now we will fill the missing values for the columns name,host_name,last_review,reviews_per_month.\n",
        "object dtype columns i.e name and host_name will replace the missing values with mode and the other 2 with mean."
      ]
    },
    {
      "cell_type": "code",
      "execution_count": 39,
      "metadata": {
        "colab": {
          "base_uri": "https://localhost:8080/"
        },
        "id": "yDEznV95CFd-",
        "outputId": "718838c8-00f9-4107-f379-72acdd9950c3"
      },
      "outputs": [
        {
          "output_type": "execute_result",
          "data": {
            "text/plain": [
              "0    08-03-2020\n",
              "Name: last_review, dtype: object"
            ]
          },
          "metadata": {},
          "execution_count": 39
        }
      ],
      "source": [
        "df_train['last_review'].mode()"
      ]
    },
    {
      "cell_type": "code",
      "execution_count": 40,
      "metadata": {
        "colab": {
          "base_uri": "https://localhost:8080/"
        },
        "id": "fn-08_LkCFd-",
        "outputId": "1ab40a18-89f8-40d7-9707-38d894020a30"
      },
      "outputs": [
        {
          "output_type": "execute_result",
          "data": {
            "text/plain": [
              "count          11305\n",
              "unique          1495\n",
              "top       08-03-2020\n",
              "freq             269\n",
              "Name: last_review, dtype: object"
            ]
          },
          "metadata": {},
          "execution_count": 40
        }
      ],
      "source": [
        "df_train['last_review'].describe()"
      ]
    },
    {
      "cell_type": "code",
      "execution_count": 41,
      "metadata": {
        "colab": {
          "base_uri": "https://localhost:8080/"
        },
        "id": "AszyCofKCFd-",
        "outputId": "c18536bf-285a-4b66-f284-98f89bd7efb3"
      },
      "outputs": [
        {
          "output_type": "execute_result",
          "data": {
            "text/plain": [
              "count    11305.000000\n",
              "mean         0.748501\n",
              "std          1.260791\n",
              "min          0.010000\n",
              "25%          0.180000\n",
              "50%          0.380000\n",
              "75%          0.770000\n",
              "max         50.000000\n",
              "Name: reviews_per_month, dtype: float64"
            ]
          },
          "metadata": {},
          "execution_count": 41
        }
      ],
      "source": [
        "df_train['reviews_per_month'].describe()"
      ]
    },
    {
      "cell_type": "markdown",
      "metadata": {
        "id": "JYoNVF-5CFd-"
      },
      "source": [
        "As the reviews column is in float we will apply the ceilling function."
      ]
    },
    {
      "cell_type": "code",
      "execution_count": 42,
      "metadata": {
        "id": "oGXkg64zCFd-"
      },
      "outputs": [],
      "source": [
        "#df_train['reviews_per_month']=df_train['reviews_per_month'].apply(np.round)"
      ]
    },
    {
      "cell_type": "code",
      "execution_count": 43,
      "metadata": {
        "colab": {
          "base_uri": "https://localhost:8080/"
        },
        "id": "O2bpZr6ACFd-",
        "outputId": "8fbaebbe-89c0-4e7f-acc0-27fb43547994"
      },
      "outputs": [
        {
          "output_type": "execute_result",
          "data": {
            "text/plain": [
              "count    11305.000000\n",
              "mean         0.748501\n",
              "std          1.260791\n",
              "min          0.010000\n",
              "25%          0.180000\n",
              "50%          0.380000\n",
              "75%          0.770000\n",
              "max         50.000000\n",
              "Name: reviews_per_month, dtype: float64"
            ]
          },
          "metadata": {},
          "execution_count": 43
        }
      ],
      "source": [
        "df_train['reviews_per_month'].describe()"
      ]
    },
    {
      "cell_type": "code",
      "execution_count": 44,
      "metadata": {
        "colab": {
          "base_uri": "https://localhost:8080/"
        },
        "id": "XY1Ww_4JCFd-",
        "outputId": "2e4b2a1e-b525-4561-9024-93aa70668f78"
      },
      "outputs": [
        {
          "output_type": "stream",
          "name": "stderr",
          "text": [
            "<ipython-input-44-db40ab2080e0>:1: UserWarning:\n",
            "\n",
            "Parsing dates in DD/MM/YYYY format when dayfirst=False (the default) was specified. This may lead to inconsistently parsed dates! Specify a format to ensure consistent parsing.\n",
            "\n"
          ]
        }
      ],
      "source": [
        "df_train['last_review']=pd.to_datetime(df_train['last_review'])"
      ]
    },
    {
      "cell_type": "code",
      "execution_count": 45,
      "metadata": {
        "id": "ErkJrHT_CFd-"
      },
      "outputs": [],
      "source": [
        "df_train['name'].fillna(df_train['name'].mode()[0], inplace=True)\n",
        "df_train['host_name'].fillna(df_train['host_name'].mode()[0],inplace=True)\n",
        "df_train['last_review'].fillna(df_train['last_review'].mean(),inplace=True)\n",
        "df_train['reviews_per_month'].fillna(df_train['reviews_per_month'].mean(),inplace=True)"
      ]
    },
    {
      "cell_type": "markdown",
      "metadata": {
        "id": "P-GwNJ1TCFd_"
      },
      "source": [
        "Dealing with the last_review datatime columns.split it into year,month,day"
      ]
    },
    {
      "cell_type": "code",
      "execution_count": 46,
      "metadata": {
        "id": "bAxNA8J5CFd_"
      },
      "outputs": [],
      "source": [
        "df_train[\"day\"] = df_train['last_review'].map(lambda x: x.day)\n",
        "df_train[\"month\"] = df_train['last_review'].map(lambda x: x.month)\n",
        "df_train[\"year\"] = df_train['last_review'].map(lambda x: x.year)\n"
      ]
    },
    {
      "cell_type": "code",
      "execution_count": 47,
      "metadata": {
        "colab": {
          "base_uri": "https://localhost:8080/",
          "height": 675
        },
        "id": "XXm8BlC6CFd_",
        "outputId": "8058e1af-16e8-42de-f8c3-29820aba1381"
      },
      "outputs": [
        {
          "output_type": "execute_result",
          "data": {
            "text/plain": [
              "                                      datatype  unique_values  have_null?  \\\n",
              "id                                       int64          12901       False   \n",
              "name                                    object          12653       False   \n",
              "host_id                                  int64          11601       False   \n",
              "host_name                               object           4536       False   \n",
              "neighbourhood                           object             22       False   \n",
              "latitude                               float64           5227       False   \n",
              "longitude                              float64           7887       False   \n",
              "room_type                               object              4       False   \n",
              "minimum_nights                           int64             56       False   \n",
              "number_of_reviews                        int64            362       False   \n",
              "last_review                     datetime64[ns]           1496       False   \n",
              "reviews_per_month                      float64            611       False   \n",
              "calculated_host_listings_count           int64             26       False   \n",
              "availability_365                         int64            366       False   \n",
              "price                                    int64            400       False   \n",
              "day                                      int64             31       False   \n",
              "month                                    int64             12       False   \n",
              "year                                     int64              9       False   \n",
              "\n",
              "                                Number of null values  \\\n",
              "id                                                  0   \n",
              "name                                                0   \n",
              "host_id                                             0   \n",
              "host_name                                           0   \n",
              "neighbourhood                                       0   \n",
              "latitude                                            0   \n",
              "longitude                                           0   \n",
              "room_type                                           0   \n",
              "minimum_nights                                      0   \n",
              "number_of_reviews                                   0   \n",
              "last_review                                         0   \n",
              "reviews_per_month                                   0   \n",
              "calculated_host_listings_count                      0   \n",
              "availability_365                                    0   \n",
              "price                                               0   \n",
              "day                                                 0   \n",
              "month                                               0   \n",
              "year                                                0   \n",
              "\n",
              "                                percentage of null values  \n",
              "id                                                    0.0  \n",
              "name                                                  0.0  \n",
              "host_id                                               0.0  \n",
              "host_name                                             0.0  \n",
              "neighbourhood                                         0.0  \n",
              "latitude                                              0.0  \n",
              "longitude                                             0.0  \n",
              "room_type                                             0.0  \n",
              "minimum_nights                                        0.0  \n",
              "number_of_reviews                                     0.0  \n",
              "last_review                                           0.0  \n",
              "reviews_per_month                                     0.0  \n",
              "calculated_host_listings_count                        0.0  \n",
              "availability_365                                      0.0  \n",
              "price                                                 0.0  \n",
              "day                                                   0.0  \n",
              "month                                                 0.0  \n",
              "year                                                  0.0  "
            ],
            "text/html": [
              "\n",
              "\n",
              "  <div id=\"df-baabb535-f184-4caa-9a64-567c8dab1a4f\">\n",
              "    <div class=\"colab-df-container\">\n",
              "      <div>\n",
              "<style scoped>\n",
              "    .dataframe tbody tr th:only-of-type {\n",
              "        vertical-align: middle;\n",
              "    }\n",
              "\n",
              "    .dataframe tbody tr th {\n",
              "        vertical-align: top;\n",
              "    }\n",
              "\n",
              "    .dataframe thead th {\n",
              "        text-align: right;\n",
              "    }\n",
              "</style>\n",
              "<table border=\"1\" class=\"dataframe\">\n",
              "  <thead>\n",
              "    <tr style=\"text-align: right;\">\n",
              "      <th></th>\n",
              "      <th>datatype</th>\n",
              "      <th>unique_values</th>\n",
              "      <th>have_null?</th>\n",
              "      <th>Number of null values</th>\n",
              "      <th>percentage of null values</th>\n",
              "    </tr>\n",
              "  </thead>\n",
              "  <tbody>\n",
              "    <tr>\n",
              "      <th>id</th>\n",
              "      <td>int64</td>\n",
              "      <td>12901</td>\n",
              "      <td>False</td>\n",
              "      <td>0</td>\n",
              "      <td>0.0</td>\n",
              "    </tr>\n",
              "    <tr>\n",
              "      <th>name</th>\n",
              "      <td>object</td>\n",
              "      <td>12653</td>\n",
              "      <td>False</td>\n",
              "      <td>0</td>\n",
              "      <td>0.0</td>\n",
              "    </tr>\n",
              "    <tr>\n",
              "      <th>host_id</th>\n",
              "      <td>int64</td>\n",
              "      <td>11601</td>\n",
              "      <td>False</td>\n",
              "      <td>0</td>\n",
              "      <td>0.0</td>\n",
              "    </tr>\n",
              "    <tr>\n",
              "      <th>host_name</th>\n",
              "      <td>object</td>\n",
              "      <td>4536</td>\n",
              "      <td>False</td>\n",
              "      <td>0</td>\n",
              "      <td>0.0</td>\n",
              "    </tr>\n",
              "    <tr>\n",
              "      <th>neighbourhood</th>\n",
              "      <td>object</td>\n",
              "      <td>22</td>\n",
              "      <td>False</td>\n",
              "      <td>0</td>\n",
              "      <td>0.0</td>\n",
              "    </tr>\n",
              "    <tr>\n",
              "      <th>latitude</th>\n",
              "      <td>float64</td>\n",
              "      <td>5227</td>\n",
              "      <td>False</td>\n",
              "      <td>0</td>\n",
              "      <td>0.0</td>\n",
              "    </tr>\n",
              "    <tr>\n",
              "      <th>longitude</th>\n",
              "      <td>float64</td>\n",
              "      <td>7887</td>\n",
              "      <td>False</td>\n",
              "      <td>0</td>\n",
              "      <td>0.0</td>\n",
              "    </tr>\n",
              "    <tr>\n",
              "      <th>room_type</th>\n",
              "      <td>object</td>\n",
              "      <td>4</td>\n",
              "      <td>False</td>\n",
              "      <td>0</td>\n",
              "      <td>0.0</td>\n",
              "    </tr>\n",
              "    <tr>\n",
              "      <th>minimum_nights</th>\n",
              "      <td>int64</td>\n",
              "      <td>56</td>\n",
              "      <td>False</td>\n",
              "      <td>0</td>\n",
              "      <td>0.0</td>\n",
              "    </tr>\n",
              "    <tr>\n",
              "      <th>number_of_reviews</th>\n",
              "      <td>int64</td>\n",
              "      <td>362</td>\n",
              "      <td>False</td>\n",
              "      <td>0</td>\n",
              "      <td>0.0</td>\n",
              "    </tr>\n",
              "    <tr>\n",
              "      <th>last_review</th>\n",
              "      <td>datetime64[ns]</td>\n",
              "      <td>1496</td>\n",
              "      <td>False</td>\n",
              "      <td>0</td>\n",
              "      <td>0.0</td>\n",
              "    </tr>\n",
              "    <tr>\n",
              "      <th>reviews_per_month</th>\n",
              "      <td>float64</td>\n",
              "      <td>611</td>\n",
              "      <td>False</td>\n",
              "      <td>0</td>\n",
              "      <td>0.0</td>\n",
              "    </tr>\n",
              "    <tr>\n",
              "      <th>calculated_host_listings_count</th>\n",
              "      <td>int64</td>\n",
              "      <td>26</td>\n",
              "      <td>False</td>\n",
              "      <td>0</td>\n",
              "      <td>0.0</td>\n",
              "    </tr>\n",
              "    <tr>\n",
              "      <th>availability_365</th>\n",
              "      <td>int64</td>\n",
              "      <td>366</td>\n",
              "      <td>False</td>\n",
              "      <td>0</td>\n",
              "      <td>0.0</td>\n",
              "    </tr>\n",
              "    <tr>\n",
              "      <th>price</th>\n",
              "      <td>int64</td>\n",
              "      <td>400</td>\n",
              "      <td>False</td>\n",
              "      <td>0</td>\n",
              "      <td>0.0</td>\n",
              "    </tr>\n",
              "    <tr>\n",
              "      <th>day</th>\n",
              "      <td>int64</td>\n",
              "      <td>31</td>\n",
              "      <td>False</td>\n",
              "      <td>0</td>\n",
              "      <td>0.0</td>\n",
              "    </tr>\n",
              "    <tr>\n",
              "      <th>month</th>\n",
              "      <td>int64</td>\n",
              "      <td>12</td>\n",
              "      <td>False</td>\n",
              "      <td>0</td>\n",
              "      <td>0.0</td>\n",
              "    </tr>\n",
              "    <tr>\n",
              "      <th>year</th>\n",
              "      <td>int64</td>\n",
              "      <td>9</td>\n",
              "      <td>False</td>\n",
              "      <td>0</td>\n",
              "      <td>0.0</td>\n",
              "    </tr>\n",
              "  </tbody>\n",
              "</table>\n",
              "</div>\n",
              "      <button class=\"colab-df-convert\" onclick=\"convertToInteractive('df-baabb535-f184-4caa-9a64-567c8dab1a4f')\"\n",
              "              title=\"Convert this dataframe to an interactive table.\"\n",
              "              style=\"display:none;\">\n",
              "\n",
              "  <svg xmlns=\"http://www.w3.org/2000/svg\" height=\"24px\"viewBox=\"0 0 24 24\"\n",
              "       width=\"24px\">\n",
              "    <path d=\"M0 0h24v24H0V0z\" fill=\"none\"/>\n",
              "    <path d=\"M18.56 5.44l.94 2.06.94-2.06 2.06-.94-2.06-.94-.94-2.06-.94 2.06-2.06.94zm-11 1L8.5 8.5l.94-2.06 2.06-.94-2.06-.94L8.5 2.5l-.94 2.06-2.06.94zm10 10l.94 2.06.94-2.06 2.06-.94-2.06-.94-.94-2.06-.94 2.06-2.06.94z\"/><path d=\"M17.41 7.96l-1.37-1.37c-.4-.4-.92-.59-1.43-.59-.52 0-1.04.2-1.43.59L10.3 9.45l-7.72 7.72c-.78.78-.78 2.05 0 2.83L4 21.41c.39.39.9.59 1.41.59.51 0 1.02-.2 1.41-.59l7.78-7.78 2.81-2.81c.8-.78.8-2.07 0-2.86zM5.41 20L4 18.59l7.72-7.72 1.47 1.35L5.41 20z\"/>\n",
              "  </svg>\n",
              "      </button>\n",
              "\n",
              "\n",
              "\n",
              "    <div id=\"df-2740800e-b83c-4b2f-bb55-0f8642a66461\">\n",
              "      <button class=\"colab-df-quickchart\" onclick=\"quickchart('df-2740800e-b83c-4b2f-bb55-0f8642a66461')\"\n",
              "              title=\"Suggest charts.\"\n",
              "              style=\"display:none;\">\n",
              "\n",
              "<svg xmlns=\"http://www.w3.org/2000/svg\" height=\"24px\"viewBox=\"0 0 24 24\"\n",
              "     width=\"24px\">\n",
              "    <g>\n",
              "        <path d=\"M19 3H5c-1.1 0-2 .9-2 2v14c0 1.1.9 2 2 2h14c1.1 0 2-.9 2-2V5c0-1.1-.9-2-2-2zM9 17H7v-7h2v7zm4 0h-2V7h2v10zm4 0h-2v-4h2v4z\"/>\n",
              "    </g>\n",
              "</svg>\n",
              "      </button>\n",
              "    </div>\n",
              "\n",
              "<style>\n",
              "  .colab-df-quickchart {\n",
              "    background-color: #E8F0FE;\n",
              "    border: none;\n",
              "    border-radius: 50%;\n",
              "    cursor: pointer;\n",
              "    display: none;\n",
              "    fill: #1967D2;\n",
              "    height: 32px;\n",
              "    padding: 0 0 0 0;\n",
              "    width: 32px;\n",
              "  }\n",
              "\n",
              "  .colab-df-quickchart:hover {\n",
              "    background-color: #E2EBFA;\n",
              "    box-shadow: 0px 1px 2px rgba(60, 64, 67, 0.3), 0px 1px 3px 1px rgba(60, 64, 67, 0.15);\n",
              "    fill: #174EA6;\n",
              "  }\n",
              "\n",
              "  [theme=dark] .colab-df-quickchart {\n",
              "    background-color: #3B4455;\n",
              "    fill: #D2E3FC;\n",
              "  }\n",
              "\n",
              "  [theme=dark] .colab-df-quickchart:hover {\n",
              "    background-color: #434B5C;\n",
              "    box-shadow: 0px 1px 3px 1px rgba(0, 0, 0, 0.15);\n",
              "    filter: drop-shadow(0px 1px 2px rgba(0, 0, 0, 0.3));\n",
              "    fill: #FFFFFF;\n",
              "  }\n",
              "</style>\n",
              "\n",
              "    <script>\n",
              "      async function quickchart(key) {\n",
              "        const containerElement = document.querySelector('#' + key);\n",
              "        const charts = await google.colab.kernel.invokeFunction(\n",
              "            'suggestCharts', [key], {});\n",
              "      }\n",
              "    </script>\n",
              "\n",
              "\n",
              "      <script>\n",
              "\n",
              "function displayQuickchartButton(domScope) {\n",
              "  let quickchartButtonEl =\n",
              "    domScope.querySelector('#df-2740800e-b83c-4b2f-bb55-0f8642a66461 button.colab-df-quickchart');\n",
              "  quickchartButtonEl.style.display =\n",
              "    google.colab.kernel.accessAllowed ? 'block' : 'none';\n",
              "}\n",
              "\n",
              "        displayQuickchartButton(document);\n",
              "      </script>\n",
              "      <style>\n",
              "    .colab-df-container {\n",
              "      display:flex;\n",
              "      flex-wrap:wrap;\n",
              "      gap: 12px;\n",
              "    }\n",
              "\n",
              "    .colab-df-convert {\n",
              "      background-color: #E8F0FE;\n",
              "      border: none;\n",
              "      border-radius: 50%;\n",
              "      cursor: pointer;\n",
              "      display: none;\n",
              "      fill: #1967D2;\n",
              "      height: 32px;\n",
              "      padding: 0 0 0 0;\n",
              "      width: 32px;\n",
              "    }\n",
              "\n",
              "    .colab-df-convert:hover {\n",
              "      background-color: #E2EBFA;\n",
              "      box-shadow: 0px 1px 2px rgba(60, 64, 67, 0.3), 0px 1px 3px 1px rgba(60, 64, 67, 0.15);\n",
              "      fill: #174EA6;\n",
              "    }\n",
              "\n",
              "    [theme=dark] .colab-df-convert {\n",
              "      background-color: #3B4455;\n",
              "      fill: #D2E3FC;\n",
              "    }\n",
              "\n",
              "    [theme=dark] .colab-df-convert:hover {\n",
              "      background-color: #434B5C;\n",
              "      box-shadow: 0px 1px 3px 1px rgba(0, 0, 0, 0.15);\n",
              "      filter: drop-shadow(0px 1px 2px rgba(0, 0, 0, 0.3));\n",
              "      fill: #FFFFFF;\n",
              "    }\n",
              "  </style>\n",
              "\n",
              "      <script>\n",
              "        const buttonEl =\n",
              "          document.querySelector('#df-baabb535-f184-4caa-9a64-567c8dab1a4f button.colab-df-convert');\n",
              "        buttonEl.style.display =\n",
              "          google.colab.kernel.accessAllowed ? 'block' : 'none';\n",
              "\n",
              "        async function convertToInteractive(key) {\n",
              "          const element = document.querySelector('#df-baabb535-f184-4caa-9a64-567c8dab1a4f');\n",
              "          const dataTable =\n",
              "            await google.colab.kernel.invokeFunction('convertToInteractive',\n",
              "                                                     [key], {});\n",
              "          if (!dataTable) return;\n",
              "\n",
              "          const docLinkHtml = 'Like what you see? Visit the ' +\n",
              "            '<a target=\"_blank\" href=https://colab.research.google.com/notebooks/data_table.ipynb>data table notebook</a>'\n",
              "            + ' to learn more about interactive tables.';\n",
              "          element.innerHTML = '';\n",
              "          dataTable['output_type'] = 'display_data';\n",
              "          await google.colab.output.renderOutput(dataTable, element);\n",
              "          const docLink = document.createElement('div');\n",
              "          docLink.innerHTML = docLinkHtml;\n",
              "          element.appendChild(docLink);\n",
              "        }\n",
              "      </script>\n",
              "    </div>\n",
              "  </div>\n"
            ]
          },
          "metadata": {},
          "execution_count": 47
        }
      ],
      "source": [
        "aboutdf(df_train)"
      ]
    },
    {
      "cell_type": "markdown",
      "metadata": {
        "id": "X6bjdyHWCFd_"
      },
      "source": [
        "Now that we have replaces the missing values next step is to encode the object data types ...."
      ]
    },
    {
      "cell_type": "markdown",
      "metadata": {
        "id": "6iKOVEmeCFd_"
      },
      "source": [
        "encoding for the object columns name,host_name,neighbourhood"
      ]
    },
    {
      "cell_type": "code",
      "execution_count": 48,
      "metadata": {
        "id": "vhaEythGCFd_"
      },
      "outputs": [],
      "source": [
        "le = LabelEncoder()"
      ]
    },
    {
      "cell_type": "code",
      "execution_count": 49,
      "metadata": {
        "id": "dtD5_yf5CFd_"
      },
      "outputs": [],
      "source": [
        "df_train['name']=LabelEncoder().fit_transform(df_train['name'])\n",
        "df_train['host_name']=LabelEncoder().fit_transform(df_train['host_name'])\n",
        "df_train['neighbourhood']=LabelEncoder().fit_transform(df_train['neighbourhood'])\n",
        "df_train['room_type']=LabelEncoder().fit_transform(df_train['room_type'])"
      ]
    },
    {
      "cell_type": "markdown",
      "metadata": {
        "id": "huRhoOC-CFd_"
      },
      "source": [
        "check this code later"
      ]
    },
    {
      "cell_type": "code",
      "execution_count": 50,
      "metadata": {
        "colab": {
          "base_uri": "https://localhost:8080/",
          "height": 468
        },
        "id": "UIIFAU6KCFeA",
        "outputId": "6c1e07b9-4e0d-4ab9-fb14-15f2f2dbb9fc"
      },
      "outputs": [
        {
          "output_type": "execute_result",
          "data": {
            "text/plain": [
              "<Axes: xlabel='minimum_nights', ylabel='price'>"
            ]
          },
          "metadata": {},
          "execution_count": 50
        },
        {
          "output_type": "display_data",
          "data": {
            "text/plain": [
              "<Figure size 640x480 with 1 Axes>"
            ],
            "image/png": "[encoded data removed]"
          },
          "metadata": {}
        }
      ],
      "source": [
        "sns.regplot(x='minimum_nights',y='price',data=df_train,\n",
        "            scatter_kws={'alpha':0.3},line_kws={'color':'orange'})"
      ]
    },
    {
      "cell_type": "markdown",
      "metadata": {
        "id": "zyz8mc0FCFeA"
      },
      "source": [
        "Now this has linear relation"
      ]
    },
    {
      "cell_type": "markdown",
      "metadata": {
        "id": "onFpum2KCFeB"
      },
      "source": [
        "now we wil normailize the data using the standard scalar ,before that we will split the target variable"
      ]
    },
    {
      "cell_type": "code",
      "execution_count": 51,
      "metadata": {
        "id": "RiDyavcLCFeB"
      },
      "outputs": [],
      "source": [
        "#X=df_train.drop(columns=['price','last_review','id','host_id'],axis=1)\n",
        "X=df_train.drop(columns=['price','last_review'],axis=1)# just check feature selection\n",
        "y=df_train['price']"
      ]
    },
    {
      "cell_type": "code",
      "execution_count": 58,
      "metadata": {
        "id": "RklKL6k9CFeB"
      },
      "outputs": [],
      "source": [
        "X_train,X_test,y_train,y_test=train_test_split(X,y,test_size=0.3,random_state=2)"
      ]
    },
    {
      "cell_type": "markdown",
      "metadata": {
        "id": "Q9hL3qFcCFeB"
      },
      "source": [
        "Feature Selection"
      ]
    },
    {
      "cell_type": "code",
      "execution_count": 65,
      "metadata": {
        "id": "57iVH5A8CFeC"
      },
      "outputs": [],
      "source": [
        "lgbm =LGBMRegressor()"
      ]
    },
    {
      "cell_type": "code",
      "execution_count": 66,
      "metadata": {
        "colab": {
          "base_uri": "https://localhost:8080/"
        },
        "id": "W-kYPQFgCFeC",
        "outputId": "25110e18-c6d8-40cd-9d5d-fffb13ea4838"
      },
      "outputs": [
        {
          "output_type": "stream",
          "name": "stdout",
          "text": [
            "[LightGBM] [Warning] Auto-choosing row-wise multi-threading, the overhead of testing was 0.001319 seconds.\n",
            "You can set `force_row_wise=true` to remove the overhead.\n",
            "And if memory is not enough, you can set `force_col_wise=true`.\n",
            "[LightGBM] [Info] Total Bins 2401\n",
            "[LightGBM] [Info] Number of data points in the train set: 9030, number of used features: 16\n",
            "[LightGBM] [Info] Start training from score 165.987708\n"
          ]
        }
      ],
      "source": [
        "lgbm =LGBMRegressor(random_state=4)\n",
        "lgbm.fit(X_train,y_train)\n",
        "bpred_train=lgbm.predict(X_train)\n",
        "bpred=lgbm.predict(X_test)"
      ]
    },
    {
      "cell_type": "code",
      "execution_count": 67,
      "metadata": {
        "colab": {
          "base_uri": "https://localhost:8080/"
        },
        "id": "Mufpd-UTCFeC",
        "outputId": "ed083492-2d3a-4460-e2e9-301b2994e80d"
      },
      "outputs": [
        {
          "output_type": "stream",
          "name": "stdout",
          "text": [
            "114.65801828043752\n"
          ]
        }
      ],
      "source": [
        "bmse_train=mean_squared_error(y_train,bpred_train)\n",
        "brmse_train=math.sqrt(bmse_train)\n",
        "print(brmse_train)\n"
      ]
    },
    {
      "cell_type": "code",
      "execution_count": 68,
      "metadata": {
        "colab": {
          "base_uri": "https://localhost:8080/"
        },
        "id": "4DXyZWH4CFeC",
        "outputId": "442b2efd-2450-4f64-9d9a-aa502b8edd2f"
      },
      "outputs": [
        {
          "output_type": "stream",
          "name": "stdout",
          "text": [
            "220.28635168900416\n"
          ]
        }
      ],
      "source": [
        "bmse_test=mean_squared_error(y_test,bpred)\n",
        "brmse_test=math.sqrt(bmse_test)\n",
        "print(brmse_test)\n"
      ]
    }
  ],
  "metadata": {
    "kernelspec": {
      "display_name": "Python 3",
      "language": "python",
      "name": "python3"
    },
    "language_info": {
      "codemirror_mode": {
        "name": "ipython",
        "version": 3
      },
      "file_extension": ".py",
      "mimetype": "text/x-python",
      "name": "python",
      "nbconvert_exporter": "python",
      "pygments_lexer": "ipython3",
      "version": "3.7.6"
    },
    "colab": {
      "provenance": []
    }
  },
  "nbformat": 4,
  "nbformat_minor": 0
}