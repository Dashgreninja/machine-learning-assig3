{
  "cells": [
    {
      "cell_type": "code",
      "execution_count": 5,
      "id": "ff9249c6",
      "metadata": {
        "execution": {
          "iopub.execute_input": "2023-06-02T01:56:09.462950Z",
          "iopub.status.busy": "2023-06-02T01:56:09.462490Z",
          "iopub.status.idle": "2023-06-02T01:56:09.475038Z",
          "shell.execute_reply": "2023-06-02T01:56:09.473993Z"
        },
        "papermill": {
          "duration": 0.04496,
          "end_time": "2023-06-02T01:56:09.477703",
          "exception": false,
          "start_time": "2023-06-02T01:56:09.432743",
          "status": "completed"
        },
        "tags": [],
        "id": "ff9249c6"
      },
      "outputs": [],
      "source": [
        "import pandas as pd\n",
        "import re"
      ]
    },
    {
      "cell_type": "code",
      "execution_count": 6,
      "id": "fc72cca7",
      "metadata": {
        "execution": {
          "iopub.execute_input": "2023-06-02T01:56:09.535494Z",
          "iopub.status.busy": "2023-06-02T01:56:09.535118Z",
          "iopub.status.idle": "2023-06-02T01:56:09.609472Z",
          "shell.execute_reply": "2023-06-02T01:56:09.608313Z"
        },
        "papermill": {
          "duration": 0.106795,
          "end_time": "2023-06-02T01:56:09.612737",
          "exception": false,
          "start_time": "2023-06-02T01:56:09.505942",
          "status": "completed"
        },
        "tags": [],
        "colab": {
          "base_uri": "https://localhost:8080/",
          "height": 531
        },
        "id": "fc72cca7",
        "outputId": "2d0e776c-70fe-42ad-8aa4-f218a5d94095"
      },
      "outputs": [
        {
          "output_type": "execute_result",
          "data": {
            "text/plain": [
              "                            mobile_name mobile_price mobile_color  dual_sim  \\\n",
              "0    Realme Narzo 10A (So White, 32 GB)       ₹8,999     So White  Dual Sim   \n",
              "1     Realme Narzo 10A (So Blue, 32 GB)       ₹8,999      So Blue  Dual Sim   \n",
              "2     Realme Narzo 10A (So Blue, 64 GB)       ₹9,999      So Blue  Dual Sim   \n",
              "3    Realme Narzo 10A (So White, 64 GB)       ₹9,999     So White  Dual Sim   \n",
              "4  Realme Narzo 10 (That Green, 128 GB)      ₹11,999   That Green  Dual Sim   \n",
              "\n",
              "              disp_size         resolution          os  num_cores mp_speed  \\\n",
              "0  16.56 cm (6.52 inch)  1600 x 720 Pixels  Android 10  Octa Core    2 GHz   \n",
              "1  16.56 cm (6.52 inch)  1600 x 720 Pixels  Android 10  Octa Core    2 GHz   \n",
              "2  16.56 cm (6.52 inch)  1600 x 720 Pixels  Android 10  Octa Core    2 GHz   \n",
              "3  16.56 cm (6.52 inch)  1600 x 720 Pixels  Android 10  Octa Core    2 GHz   \n",
              "4   16.51 cm (6.5 inch)  1600 x 720 Pixels  Android 10  Octa Core    2 GHz   \n",
              "\n",
              "  int_memory   ram                   p_cam              f_cam  \\\n",
              "0      32 GB  3 GB        12MP + 2MP + 2MP   5MP Front Camera   \n",
              "1      32 GB  3 GB        12MP + 2MP + 2MP   5MP Front Camera   \n",
              "2      64 GB  4 GB        12MP + 2MP + 2MP   5MP Front Camera   \n",
              "3      64 GB  4 GB        12MP + 2MP + 2MP   5MP Front Camera   \n",
              "4     128 GB  4 GB  48MP + 8MP + 2MP + 2MP  16MP Front Camera   \n",
              "\n",
              "                network bluetooth battery_power mob_width mob_height  \\\n",
              "0  4G VOLTE, 4G, 3G, 2G       Yes      5000 mAh     75 mm   164.4 mm   \n",
              "1  4G VOLTE, 4G, 3G, 2G       Yes      5000 mAh     75 mm   164.4 mm   \n",
              "2  4G VOLTE, 4G, 3G, 2G       Yes      5000 mAh     75 mm   164.4 mm   \n",
              "3  4G VOLTE, 4G, 3G, 2G       Yes      5000 mAh     75 mm   164.4 mm   \n",
              "4  4G VOLTE, 4G, 3G, 2G       Yes      5000 mAh   75.4 mm   164.4 mm   \n",
              "\n",
              "  mob_depth mob_weight  \n",
              "0   8.95 mm      195 g  \n",
              "1   8.95 mm      195 g  \n",
              "2   8.95 mm      195 g  \n",
              "3   8.95 mm      195 g  \n",
              "4      9 mm      199 g  "
            ],
            "text/html": [
              "\n",
              "\n",
              "  <div id=\"df-504eea2f-135c-43f2-a462-c362305e0bf4\">\n",
              "    <div class=\"colab-df-container\">\n",
              "      <div>\n",
              "<style scoped>\n",
              "    .dataframe tbody tr th:only-of-type {\n",
              "        vertical-align: middle;\n",
              "    }\n",
              "\n",
              "    .dataframe tbody tr th {\n",
              "        vertical-align: top;\n",
              "    }\n",
              "\n",
              "    .dataframe thead th {\n",
              "        text-align: right;\n",
              "    }\n",
              "</style>\n",
              "<table border=\"1\" class=\"dataframe\">\n",
              "  <thead>\n",
              "    <tr style=\"text-align: right;\">\n",
              "      <th></th>\n",
              "      <th>mobile_name</th>\n",
              "      <th>mobile_price</th>\n",
              "      <th>mobile_color</th>\n",
              "      <th>dual_sim</th>\n",
              "      <th>disp_size</th>\n",
              "      <th>resolution</th>\n",
              "      <th>os</th>\n",
              "      <th>num_cores</th>\n",
              "      <th>mp_speed</th>\n",
              "      <th>int_memory</th>\n",
              "      <th>ram</th>\n",
              "      <th>p_cam</th>\n",
              "      <th>f_cam</th>\n",
              "      <th>network</th>\n",
              "      <th>bluetooth</th>\n",
              "      <th>battery_power</th>\n",
              "      <th>mob_width</th>\n",
              "      <th>mob_height</th>\n",
              "      <th>mob_depth</th>\n",
              "      <th>mob_weight</th>\n",
              "    </tr>\n",
              "  </thead>\n",
              "  <tbody>\n",
              "    <tr>\n",
              "      <th>0</th>\n",
              "      <td>Realme Narzo 10A (So White, 32 GB)</td>\n",
              "      <td>₹8,999</td>\n",
              "      <td>So White</td>\n",
              "      <td>Dual Sim</td>\n",
              "      <td>16.56 cm (6.52 inch)</td>\n",
              "      <td>1600 x 720 Pixels</td>\n",
              "      <td>Android 10</td>\n",
              "      <td>Octa Core</td>\n",
              "      <td>2 GHz</td>\n",
              "      <td>32 GB</td>\n",
              "      <td>3 GB</td>\n",
              "      <td>12MP + 2MP + 2MP</td>\n",
              "      <td>5MP Front Camera</td>\n",
              "      <td>4G VOLTE, 4G, 3G, 2G</td>\n",
              "      <td>Yes</td>\n",
              "      <td>5000 mAh</td>\n",
              "      <td>75 mm</td>\n",
              "      <td>164.4 mm</td>\n",
              "      <td>8.95 mm</td>\n",
              "      <td>195 g</td>\n",
              "    </tr>\n",
              "    <tr>\n",
              "      <th>1</th>\n",
              "      <td>Realme Narzo 10A (So Blue, 32 GB)</td>\n",
              "      <td>₹8,999</td>\n",
              "      <td>So Blue</td>\n",
              "      <td>Dual Sim</td>\n",
              "      <td>16.56 cm (6.52 inch)</td>\n",
              "      <td>1600 x 720 Pixels</td>\n",
              "      <td>Android 10</td>\n",
              "      <td>Octa Core</td>\n",
              "      <td>2 GHz</td>\n",
              "      <td>32 GB</td>\n",
              "      <td>3 GB</td>\n",
              "      <td>12MP + 2MP + 2MP</td>\n",
              "      <td>5MP Front Camera</td>\n",
              "      <td>4G VOLTE, 4G, 3G, 2G</td>\n",
              "      <td>Yes</td>\n",
              "      <td>5000 mAh</td>\n",
              "      <td>75 mm</td>\n",
              "      <td>164.4 mm</td>\n",
              "      <td>8.95 mm</td>\n",
              "      <td>195 g</td>\n",
              "    </tr>\n",
              "    <tr>\n",
              "      <th>2</th>\n",
              "      <td>Realme Narzo 10A (So Blue, 64 GB)</td>\n",
              "      <td>₹9,999</td>\n",
              "      <td>So Blue</td>\n",
              "      <td>Dual Sim</td>\n",
              "      <td>16.56 cm (6.52 inch)</td>\n",
              "      <td>1600 x 720 Pixels</td>\n",
              "      <td>Android 10</td>\n",
              "      <td>Octa Core</td>\n",
              "      <td>2 GHz</td>\n",
              "      <td>64 GB</td>\n",
              "      <td>4 GB</td>\n",
              "      <td>12MP + 2MP + 2MP</td>\n",
              "      <td>5MP Front Camera</td>\n",
              "      <td>4G VOLTE, 4G, 3G, 2G</td>\n",
              "      <td>Yes</td>\n",
              "      <td>5000 mAh</td>\n",
              "      <td>75 mm</td>\n",
              "      <td>164.4 mm</td>\n",
              "      <td>8.95 mm</td>\n",
              "      <td>195 g</td>\n",
              "    </tr>\n",
              "    <tr>\n",
              "      <th>3</th>\n",
              "      <td>Realme Narzo 10A (So White, 64 GB)</td>\n",
              "      <td>₹9,999</td>\n",
              "      <td>So White</td>\n",
              "      <td>Dual Sim</td>\n",
              "      <td>16.56 cm (6.52 inch)</td>\n",
              "      <td>1600 x 720 Pixels</td>\n",
              "      <td>Android 10</td>\n",
              "      <td>Octa Core</td>\n",
              "      <td>2 GHz</td>\n",
              "      <td>64 GB</td>\n",
              "      <td>4 GB</td>\n",
              "      <td>12MP + 2MP + 2MP</td>\n",
              "      <td>5MP Front Camera</td>\n",
              "      <td>4G VOLTE, 4G, 3G, 2G</td>\n",
              "      <td>Yes</td>\n",
              "      <td>5000 mAh</td>\n",
              "      <td>75 mm</td>\n",
              "      <td>164.4 mm</td>\n",
              "      <td>8.95 mm</td>\n",
              "      <td>195 g</td>\n",
              "    </tr>\n",
              "    <tr>\n",
              "      <th>4</th>\n",
              "      <td>Realme Narzo 10 (That Green, 128 GB)</td>\n",
              "      <td>₹11,999</td>\n",
              "      <td>That Green</td>\n",
              "      <td>Dual Sim</td>\n",
              "      <td>16.51 cm (6.5 inch)</td>\n",
              "      <td>1600 x 720 Pixels</td>\n",
              "      <td>Android 10</td>\n",
              "      <td>Octa Core</td>\n",
              "      <td>2 GHz</td>\n",
              "      <td>128 GB</td>\n",
              "      <td>4 GB</td>\n",
              "      <td>48MP + 8MP + 2MP + 2MP</td>\n",
              "      <td>16MP Front Camera</td>\n",
              "      <td>4G VOLTE, 4G, 3G, 2G</td>\n",
              "      <td>Yes</td>\n",
              "      <td>5000 mAh</td>\n",
              "      <td>75.4 mm</td>\n",
              "      <td>164.4 mm</td>\n",
              "      <td>9 mm</td>\n",
              "      <td>199 g</td>\n",
              "    </tr>\n",
              "  </tbody>\n",
              "</table>\n",
              "</div>\n",
              "      <button class=\"colab-df-convert\" onclick=\"convertToInteractive('df-504eea2f-135c-43f2-a462-c362305e0bf4')\"\n",
              "              title=\"Convert this dataframe to an interactive table.\"\n",
              "              style=\"display:none;\">\n",
              "\n",
              "  <svg xmlns=\"http://www.w3.org/2000/svg\" height=\"24px\"viewBox=\"0 0 24 24\"\n",
              "       width=\"24px\">\n",
              "    <path d=\"M0 0h24v24H0V0z\" fill=\"none\"/>\n",
              "    <path d=\"M18.56 5.44l.94 2.06.94-2.06 2.06-.94-2.06-.94-.94-2.06-.94 2.06-2.06.94zm-11 1L8.5 8.5l.94-2.06 2.06-.94-2.06-.94L8.5 2.5l-.94 2.06-2.06.94zm10 10l.94 2.06.94-2.06 2.06-.94-2.06-.94-.94-2.06-.94 2.06-2.06.94z\"/><path d=\"M17.41 7.96l-1.37-1.37c-.4-.4-.92-.59-1.43-.59-.52 0-1.04.2-1.43.59L10.3 9.45l-7.72 7.72c-.78.78-.78 2.05 0 2.83L4 21.41c.39.39.9.59 1.41.59.51 0 1.02-.2 1.41-.59l7.78-7.78 2.81-2.81c.8-.78.8-2.07 0-2.86zM5.41 20L4 18.59l7.72-7.72 1.47 1.35L5.41 20z\"/>\n",
              "  </svg>\n",
              "      </button>\n",
              "\n",
              "\n",
              "\n",
              "    <div id=\"df-dc20e397-0238-4048-9b6e-3a78d906746b\">\n",
              "      <button class=\"colab-df-quickchart\" onclick=\"quickchart('df-dc20e397-0238-4048-9b6e-3a78d906746b')\"\n",
              "              title=\"Suggest charts.\"\n",
              "              style=\"display:none;\">\n",
              "\n",
              "<svg xmlns=\"http://www.w3.org/2000/svg\" height=\"24px\"viewBox=\"0 0 24 24\"\n",
              "     width=\"24px\">\n",
              "    <g>\n",
              "        <path d=\"M19 3H5c-1.1 0-2 .9-2 2v14c0 1.1.9 2 2 2h14c1.1 0 2-.9 2-2V5c0-1.1-.9-2-2-2zM9 17H7v-7h2v7zm4 0h-2V7h2v10zm4 0h-2v-4h2v4z\"/>\n",
              "    </g>\n",
              "</svg>\n",
              "      </button>\n",
              "    </div>\n",
              "\n",
              "<style>\n",
              "  .colab-df-quickchart {\n",
              "    background-color: #E8F0FE;\n",
              "    border: none;\n",
              "    border-radius: 50%;\n",
              "    cursor: pointer;\n",
              "    display: none;\n",
              "    fill: #1967D2;\n",
              "    height: 32px;\n",
              "    padding: 0 0 0 0;\n",
              "    width: 32px;\n",
              "  }\n",
              "\n",
              "  .colab-df-quickchart:hover {\n",
              "    background-color: #E2EBFA;\n",
              "    box-shadow: 0px 1px 2px rgba(60, 64, 67, 0.3), 0px 1px 3px 1px rgba(60, 64, 67, 0.15);\n",
              "    fill: #174EA6;\n",
              "  }\n",
              "\n",
              "  [theme=dark] .colab-df-quickchart {\n",
              "    background-color: #3B4455;\n",
              "    fill: #D2E3FC;\n",
              "  }\n",
              "\n",
              "  [theme=dark] .colab-df-quickchart:hover {\n",
              "    background-color: #434B5C;\n",
              "    box-shadow: 0px 1px 3px 1px rgba(0, 0, 0, 0.15);\n",
              "    filter: drop-shadow(0px 1px 2px rgba(0, 0, 0, 0.3));\n",
              "    fill: #FFFFFF;\n",
              "  }\n",
              "</style>\n",
              "\n",
              "    <script>\n",
              "      async function quickchart(key) {\n",
              "        const containerElement = document.querySelector('#' + key);\n",
              "        const charts = await google.colab.kernel.invokeFunction(\n",
              "            'suggestCharts', [key], {});\n",
              "      }\n",
              "    </script>\n",
              "\n",
              "\n",
              "      <script>\n",
              "\n",
              "function displayQuickchartButton(domScope) {\n",
              "  let quickchartButtonEl =\n",
              "    domScope.querySelector('#df-dc20e397-0238-4048-9b6e-3a78d906746b button.colab-df-quickchart');\n",
              "  quickchartButtonEl.style.display =\n",
              "    google.colab.kernel.accessAllowed ? 'block' : 'none';\n",
              "}\n",
              "\n",
              "        displayQuickchartButton(document);\n",
              "      </script>\n",
              "      <style>\n",
              "    .colab-df-container {\n",
              "      display:flex;\n",
              "      flex-wrap:wrap;\n",
              "      gap: 12px;\n",
              "    }\n",
              "\n",
              "    .colab-df-convert {\n",
              "      background-color: #E8F0FE;\n",
              "      border: none;\n",
              "      border-radius: 50%;\n",
              "      cursor: pointer;\n",
              "      display: none;\n",
              "      fill: #1967D2;\n",
              "      height: 32px;\n",
              "      padding: 0 0 0 0;\n",
              "      width: 32px;\n",
              "    }\n",
              "\n",
              "    .colab-df-convert:hover {\n",
              "      background-color: #E2EBFA;\n",
              "      box-shadow: 0px 1px 2px rgba(60, 64, 67, 0.3), 0px 1px 3px 1px rgba(60, 64, 67, 0.15);\n",
              "      fill: #174EA6;\n",
              "    }\n",
              "\n",
              "    [theme=dark] .colab-df-convert {\n",
              "      background-color: #3B4455;\n",
              "      fill: #D2E3FC;\n",
              "    }\n",
              "\n",
              "    [theme=dark] .colab-df-convert:hover {\n",
              "      background-color: #434B5C;\n",
              "      box-shadow: 0px 1px 3px 1px rgba(0, 0, 0, 0.15);\n",
              "      filter: drop-shadow(0px 1px 2px rgba(0, 0, 0, 0.3));\n",
              "      fill: #FFFFFF;\n",
              "    }\n",
              "  </style>\n",
              "\n",
              "      <script>\n",
              "        const buttonEl =\n",
              "          document.querySelector('#df-504eea2f-135c-43f2-a462-c362305e0bf4 button.colab-df-convert');\n",
              "        buttonEl.style.display =\n",
              "          google.colab.kernel.accessAllowed ? 'block' : 'none';\n",
              "\n",
              "        async function convertToInteractive(key) {\n",
              "          const element = document.querySelector('#df-504eea2f-135c-43f2-a462-c362305e0bf4');\n",
              "          const dataTable =\n",
              "            await google.colab.kernel.invokeFunction('convertToInteractive',\n",
              "                                                     [key], {});\n",
              "          if (!dataTable) return;\n",
              "\n",
              "          const docLinkHtml = 'Like what you see? Visit the ' +\n",
              "            '<a target=\"_blank\" href=https://colab.research.google.com/notebooks/data_table.ipynb>data table notebook</a>'\n",
              "            + ' to learn more about interactive tables.';\n",
              "          element.innerHTML = '';\n",
              "          dataTable['output_type'] = 'display_data';\n",
              "          await google.colab.output.renderOutput(dataTable, element);\n",
              "          const docLink = document.createElement('div');\n",
              "          docLink.innerHTML = docLinkHtml;\n",
              "          element.appendChild(docLink);\n",
              "        }\n",
              "      </script>\n",
              "    </div>\n",
              "  </div>\n"
            ]
          },
          "metadata": {},
          "execution_count": 6
        }
      ],
      "source": [
        "df=pd.read_csv('mobile_price_data.csv')\n",
        "df.head()"
      ]
    },
    {
      "cell_type": "code",
      "execution_count": 7,
      "id": "b54bb13e",
      "metadata": {
        "execution": {
          "iopub.execute_input": "2023-06-02T01:56:09.672161Z",
          "iopub.status.busy": "2023-06-02T01:56:09.671731Z",
          "iopub.status.idle": "2023-06-02T01:56:09.678739Z",
          "shell.execute_reply": "2023-06-02T01:56:09.677596Z"
        },
        "papermill": {
          "duration": 0.039991,
          "end_time": "2023-06-02T01:56:09.681131",
          "exception": false,
          "start_time": "2023-06-02T01:56:09.641140",
          "status": "completed"
        },
        "tags": [],
        "colab": {
          "base_uri": "https://localhost:8080/"
        },
        "id": "b54bb13e",
        "outputId": "e51858e3-9a89-4544-ede4-c92718d0b048"
      },
      "outputs": [
        {
          "output_type": "execute_result",
          "data": {
            "text/plain": [
              "(459, 20)"
            ]
          },
          "metadata": {},
          "execution_count": 7
        }
      ],
      "source": [
        "df.shape"
      ]
    },
    {
      "cell_type": "code",
      "execution_count": 8,
      "id": "8ac094a5",
      "metadata": {
        "execution": {
          "iopub.execute_input": "2023-06-02T01:56:09.741238Z",
          "iopub.status.busy": "2023-06-02T01:56:09.740496Z",
          "iopub.status.idle": "2023-06-02T01:56:09.749424Z",
          "shell.execute_reply": "2023-06-02T01:56:09.748329Z"
        },
        "papermill": {
          "duration": 0.042339,
          "end_time": "2023-06-02T01:56:09.751707",
          "exception": false,
          "start_time": "2023-06-02T01:56:09.709368",
          "status": "completed"
        },
        "tags": [],
        "colab": {
          "base_uri": "https://localhost:8080/"
        },
        "id": "8ac094a5",
        "outputId": "2da33af2-5e7a-4943-a7a1-7277bed55646"
      },
      "outputs": [
        {
          "output_type": "execute_result",
          "data": {
            "text/plain": [
              "mobile_name      object\n",
              "mobile_price     object\n",
              "mobile_color     object\n",
              "dual_sim         object\n",
              "disp_size        object\n",
              "resolution       object\n",
              "os               object\n",
              "num_cores        object\n",
              "mp_speed         object\n",
              "int_memory       object\n",
              "ram              object\n",
              "p_cam            object\n",
              "f_cam            object\n",
              "network          object\n",
              "bluetooth        object\n",
              "battery_power    object\n",
              "mob_width        object\n",
              "mob_height       object\n",
              "mob_depth        object\n",
              "mob_weight       object\n",
              "dtype: object"
            ]
          },
          "metadata": {},
          "execution_count": 8
        }
      ],
      "source": [
        "df.dtypes"
      ]
    },
    {
      "cell_type": "code",
      "execution_count": 9,
      "id": "5a948dab",
      "metadata": {
        "execution": {
          "iopub.execute_input": "2023-06-02T01:56:09.812034Z",
          "iopub.status.busy": "2023-06-02T01:56:09.811600Z",
          "iopub.status.idle": "2023-06-02T01:56:09.826283Z",
          "shell.execute_reply": "2023-06-02T01:56:09.825148Z"
        },
        "papermill": {
          "duration": 0.047066,
          "end_time": "2023-06-02T01:56:09.828606",
          "exception": false,
          "start_time": "2023-06-02T01:56:09.781540",
          "status": "completed"
        },
        "tags": [],
        "colab": {
          "base_uri": "https://localhost:8080/"
        },
        "id": "5a948dab",
        "outputId": "fdd499e7-ad4a-45de-d9e3-e7b237d0b361"
      },
      "outputs": [
        {
          "output_type": "execute_result",
          "data": {
            "text/plain": [
              "mobile_name      0\n",
              "mobile_price     0\n",
              "mobile_color     0\n",
              "dual_sim         0\n",
              "disp_size        0\n",
              "resolution       0\n",
              "os               0\n",
              "num_cores        0\n",
              "mp_speed         0\n",
              "int_memory       0\n",
              "ram              0\n",
              "p_cam            0\n",
              "f_cam            0\n",
              "network          0\n",
              "bluetooth        0\n",
              "battery_power    0\n",
              "mob_width        0\n",
              "mob_height       0\n",
              "mob_depth        0\n",
              "mob_weight       0\n",
              "dtype: int64"
            ]
          },
          "metadata": {},
          "execution_count": 9
        }
      ],
      "source": [
        "df.isna().sum()"
      ]
    },
    {
      "cell_type": "markdown",
      "id": "3397aea7",
      "metadata": {
        "papermill": {
          "duration": 0.028223,
          "end_time": "2023-06-02T01:56:09.885656",
          "exception": false,
          "start_time": "2023-06-02T01:56:09.857433",
          "status": "completed"
        },
        "tags": [],
        "id": "3397aea7"
      },
      "source": [
        "all the columns are non -null and by checking the columns we can infer that every feature is important in price prediction"
      ]
    },
    {
      "cell_type": "markdown",
      "id": "4a566b49",
      "metadata": {
        "papermill": {
          "duration": 0.028337,
          "end_time": "2023-06-02T01:56:09.942578",
          "exception": false,
          "start_time": "2023-06-02T01:56:09.914241",
          "status": "completed"
        },
        "tags": [],
        "id": "4a566b49"
      },
      "source": [
        "now we begin cleaning each feature,for using it in ML model-- first mob_weight by removing g(gram)"
      ]
    },
    {
      "cell_type": "code",
      "execution_count": 10,
      "id": "3e189ffd",
      "metadata": {
        "execution": {
          "iopub.execute_input": "2023-06-02T01:56:10.002347Z",
          "iopub.status.busy": "2023-06-02T01:56:10.001685Z",
          "iopub.status.idle": "2023-06-02T01:56:10.008993Z",
          "shell.execute_reply": "2023-06-02T01:56:10.007744Z"
        },
        "papermill": {
          "duration": 0.040812,
          "end_time": "2023-06-02T01:56:10.011701",
          "exception": false,
          "start_time": "2023-06-02T01:56:09.970889",
          "status": "completed"
        },
        "tags": [],
        "id": "3e189ffd"
      },
      "outputs": [],
      "source": [
        "df['mob_weight']=df['mob_weight'].str.replace('g','')"
      ]
    },
    {
      "cell_type": "markdown",
      "id": "e00aec1b",
      "metadata": {
        "papermill": {
          "duration": 0.028326,
          "end_time": "2023-06-02T01:56:10.068748",
          "exception": false,
          "start_time": "2023-06-02T01:56:10.040422",
          "status": "completed"
        },
        "tags": [],
        "id": "e00aec1b"
      },
      "source": [
        "similarly removing suffixes of other features like mob_height,mob_depth, mob_width,battery power"
      ]
    },
    {
      "cell_type": "code",
      "execution_count": 11,
      "id": "1e04d718",
      "metadata": {
        "execution": {
          "iopub.execute_input": "2023-06-02T01:56:10.128039Z",
          "iopub.status.busy": "2023-06-02T01:56:10.127632Z",
          "iopub.status.idle": "2023-06-02T01:56:10.139836Z",
          "shell.execute_reply": "2023-06-02T01:56:10.138768Z"
        },
        "papermill": {
          "duration": 0.044907,
          "end_time": "2023-06-02T01:56:10.142538",
          "exception": false,
          "start_time": "2023-06-02T01:56:10.097631",
          "status": "completed"
        },
        "tags": [],
        "id": "1e04d718"
      },
      "outputs": [],
      "source": [
        "df['mob_height']=df['mob_height'].str.replace('mm','')\n",
        "df['mob_depth']=df['mob_depth'].str.replace('mm','')\n",
        "df['mob_width']=df['mob_width'].str.replace('mm','')\n",
        "df['battery_power']=df['battery_power'].str.replace('mAh','')"
      ]
    },
    {
      "cell_type": "markdown",
      "id": "fc2187a8",
      "metadata": {
        "papermill": {
          "duration": 0.02836,
          "end_time": "2023-06-02T01:56:10.199480",
          "exception": false,
          "start_time": "2023-06-02T01:56:10.171120",
          "status": "completed"
        },
        "tags": [],
        "id": "fc2187a8"
      },
      "source": [
        "similar process for mp_power,int_memory,ram"
      ]
    },
    {
      "cell_type": "code",
      "execution_count": 12,
      "id": "bf3eac92",
      "metadata": {
        "execution": {
          "iopub.execute_input": "2023-06-02T01:56:10.258112Z",
          "iopub.status.busy": "2023-06-02T01:56:10.257710Z",
          "iopub.status.idle": "2023-06-02T01:56:10.268244Z",
          "shell.execute_reply": "2023-06-02T01:56:10.267072Z"
        },
        "papermill": {
          "duration": 0.042968,
          "end_time": "2023-06-02T01:56:10.270895",
          "exception": false,
          "start_time": "2023-06-02T01:56:10.227927",
          "status": "completed"
        },
        "tags": [],
        "id": "bf3eac92"
      },
      "outputs": [],
      "source": [
        "df['mp_speed']=df['mp_speed'].str.replace('GHz','')\n",
        "df['int_memory']=df['int_memory'].str.replace('GB','')\n",
        "df['ram']=df['ram'].str.replace('GB','')"
      ]
    },
    {
      "cell_type": "code",
      "execution_count": 13,
      "id": "0ac04912",
      "metadata": {
        "execution": {
          "iopub.execute_input": "2023-06-02T01:56:10.331216Z",
          "iopub.status.busy": "2023-06-02T01:56:10.330754Z",
          "iopub.status.idle": "2023-06-02T01:56:10.343655Z",
          "shell.execute_reply": "2023-06-02T01:56:10.342432Z"
        },
        "papermill": {
          "duration": 0.046088,
          "end_time": "2023-06-02T01:56:10.346170",
          "exception": false,
          "start_time": "2023-06-02T01:56:10.300082",
          "status": "completed"
        },
        "tags": [],
        "colab": {
          "base_uri": "https://localhost:8080/"
        },
        "id": "0ac04912",
        "outputId": "163faff7-367a-4630-ed4f-59de3714bdb2"
      },
      "outputs": [
        {
          "output_type": "execute_result",
          "data": {
            "text/plain": [
              "Yes    459\n",
              "Name: bluetooth, dtype: int64"
            ]
          },
          "metadata": {},
          "execution_count": 13
        }
      ],
      "source": [
        "df['bluetooth'].value_counts()"
      ]
    },
    {
      "cell_type": "markdown",
      "id": "cb6dab3d",
      "metadata": {
        "papermill": {
          "duration": 0.028527,
          "end_time": "2023-06-02T01:56:10.404107",
          "exception": false,
          "start_time": "2023-06-02T01:56:10.375580",
          "status": "completed"
        },
        "tags": [],
        "id": "cb6dab3d"
      },
      "source": [
        "feature 'bluetooth' has constant value 'Yes', hence it can be dropped"
      ]
    },
    {
      "cell_type": "code",
      "execution_count": 14,
      "id": "7c1cf8a3",
      "metadata": {
        "execution": {
          "iopub.execute_input": "2023-06-02T01:56:10.465382Z",
          "iopub.status.busy": "2023-06-02T01:56:10.464168Z",
          "iopub.status.idle": "2023-06-02T01:56:10.474638Z",
          "shell.execute_reply": "2023-06-02T01:56:10.473465Z"
        },
        "papermill": {
          "duration": 0.043983,
          "end_time": "2023-06-02T01:56:10.477544",
          "exception": false,
          "start_time": "2023-06-02T01:56:10.433561",
          "status": "completed"
        },
        "tags": [],
        "id": "7c1cf8a3"
      },
      "outputs": [],
      "source": [
        "df.drop('bluetooth',axis=1,inplace=True)"
      ]
    },
    {
      "cell_type": "code",
      "execution_count": 15,
      "id": "04d1e9cb",
      "metadata": {
        "execution": {
          "iopub.execute_input": "2023-06-02T01:56:10.538877Z",
          "iopub.status.busy": "2023-06-02T01:56:10.538417Z",
          "iopub.status.idle": "2023-06-02T01:56:10.560778Z",
          "shell.execute_reply": "2023-06-02T01:56:10.559647Z"
        },
        "papermill": {
          "duration": 0.056297,
          "end_time": "2023-06-02T01:56:10.563476",
          "exception": false,
          "start_time": "2023-06-02T01:56:10.507179",
          "status": "completed"
        },
        "tags": [],
        "colab": {
          "base_uri": "https://localhost:8080/",
          "height": 531
        },
        "id": "04d1e9cb",
        "outputId": "39d8e791-c2bd-4825-8c12-659ba9b6e791"
      },
      "outputs": [
        {
          "output_type": "execute_result",
          "data": {
            "text/plain": [
              "                            mobile_name mobile_price mobile_color  dual_sim  \\\n",
              "0    Realme Narzo 10A (So White, 32 GB)       ₹8,999     So White  Dual Sim   \n",
              "1     Realme Narzo 10A (So Blue, 32 GB)       ₹8,999      So Blue  Dual Sim   \n",
              "2     Realme Narzo 10A (So Blue, 64 GB)       ₹9,999      So Blue  Dual Sim   \n",
              "3    Realme Narzo 10A (So White, 64 GB)       ₹9,999     So White  Dual Sim   \n",
              "4  Realme Narzo 10 (That Green, 128 GB)      ₹11,999   That Green  Dual Sim   \n",
              "\n",
              "              disp_size         resolution          os  num_cores mp_speed  \\\n",
              "0  16.56 cm (6.52 inch)  1600 x 720 Pixels  Android 10  Octa Core       2    \n",
              "1  16.56 cm (6.52 inch)  1600 x 720 Pixels  Android 10  Octa Core       2    \n",
              "2  16.56 cm (6.52 inch)  1600 x 720 Pixels  Android 10  Octa Core       2    \n",
              "3  16.56 cm (6.52 inch)  1600 x 720 Pixels  Android 10  Octa Core       2    \n",
              "4   16.51 cm (6.5 inch)  1600 x 720 Pixels  Android 10  Octa Core       2    \n",
              "\n",
              "  int_memory ram                   p_cam              f_cam  \\\n",
              "0        32   3         12MP + 2MP + 2MP   5MP Front Camera   \n",
              "1        32   3         12MP + 2MP + 2MP   5MP Front Camera   \n",
              "2        64   4         12MP + 2MP + 2MP   5MP Front Camera   \n",
              "3        64   4         12MP + 2MP + 2MP   5MP Front Camera   \n",
              "4       128   4   48MP + 8MP + 2MP + 2MP  16MP Front Camera   \n",
              "\n",
              "                network battery_power mob_width mob_height mob_depth  \\\n",
              "0  4G VOLTE, 4G, 3G, 2G         5000        75      164.4      8.95    \n",
              "1  4G VOLTE, 4G, 3G, 2G         5000        75      164.4      8.95    \n",
              "2  4G VOLTE, 4G, 3G, 2G         5000        75      164.4      8.95    \n",
              "3  4G VOLTE, 4G, 3G, 2G         5000        75      164.4      8.95    \n",
              "4  4G VOLTE, 4G, 3G, 2G         5000      75.4      164.4         9    \n",
              "\n",
              "  mob_weight  \n",
              "0       195   \n",
              "1       195   \n",
              "2       195   \n",
              "3       195   \n",
              "4       199   "
            ],
            "text/html": [
              "\n",
              "\n",
              "  <div id=\"df-5d23ad0d-24eb-40ba-9412-1322f497b595\">\n",
              "    <div class=\"colab-df-container\">\n",
              "      <div>\n",
              "<style scoped>\n",
              "    .dataframe tbody tr th:only-of-type {\n",
              "        vertical-align: middle;\n",
              "    }\n",
              "\n",
              "    .dataframe tbody tr th {\n",
              "        vertical-align: top;\n",
              "    }\n",
              "\n",
              "    .dataframe thead th {\n",
              "        text-align: right;\n",
              "    }\n",
              "</style>\n",
              "<table border=\"1\" class=\"dataframe\">\n",
              "  <thead>\n",
              "    <tr style=\"text-align: right;\">\n",
              "      <th></th>\n",
              "      <th>mobile_name</th>\n",
              "      <th>mobile_price</th>\n",
              "      <th>mobile_color</th>\n",
              "      <th>dual_sim</th>\n",
              "      <th>disp_size</th>\n",
              "      <th>resolution</th>\n",
              "      <th>os</th>\n",
              "      <th>num_cores</th>\n",
              "      <th>mp_speed</th>\n",
              "      <th>int_memory</th>\n",
              "      <th>ram</th>\n",
              "      <th>p_cam</th>\n",
              "      <th>f_cam</th>\n",
              "      <th>network</th>\n",
              "      <th>battery_power</th>\n",
              "      <th>mob_width</th>\n",
              "      <th>mob_height</th>\n",
              "      <th>mob_depth</th>\n",
              "      <th>mob_weight</th>\n",
              "    </tr>\n",
              "  </thead>\n",
              "  <tbody>\n",
              "    <tr>\n",
              "      <th>0</th>\n",
              "      <td>Realme Narzo 10A (So White, 32 GB)</td>\n",
              "      <td>₹8,999</td>\n",
              "      <td>So White</td>\n",
              "      <td>Dual Sim</td>\n",
              "      <td>16.56 cm (6.52 inch)</td>\n",
              "      <td>1600 x 720 Pixels</td>\n",
              "      <td>Android 10</td>\n",
              "      <td>Octa Core</td>\n",
              "      <td>2</td>\n",
              "      <td>32</td>\n",
              "      <td>3</td>\n",
              "      <td>12MP + 2MP + 2MP</td>\n",
              "      <td>5MP Front Camera</td>\n",
              "      <td>4G VOLTE, 4G, 3G, 2G</td>\n",
              "      <td>5000</td>\n",
              "      <td>75</td>\n",
              "      <td>164.4</td>\n",
              "      <td>8.95</td>\n",
              "      <td>195</td>\n",
              "    </tr>\n",
              "    <tr>\n",
              "      <th>1</th>\n",
              "      <td>Realme Narzo 10A (So Blue, 32 GB)</td>\n",
              "      <td>₹8,999</td>\n",
              "      <td>So Blue</td>\n",
              "      <td>Dual Sim</td>\n",
              "      <td>16.56 cm (6.52 inch)</td>\n",
              "      <td>1600 x 720 Pixels</td>\n",
              "      <td>Android 10</td>\n",
              "      <td>Octa Core</td>\n",
              "      <td>2</td>\n",
              "      <td>32</td>\n",
              "      <td>3</td>\n",
              "      <td>12MP + 2MP + 2MP</td>\n",
              "      <td>5MP Front Camera</td>\n",
              "      <td>4G VOLTE, 4G, 3G, 2G</td>\n",
              "      <td>5000</td>\n",
              "      <td>75</td>\n",
              "      <td>164.4</td>\n",
              "      <td>8.95</td>\n",
              "      <td>195</td>\n",
              "    </tr>\n",
              "    <tr>\n",
              "      <th>2</th>\n",
              "      <td>Realme Narzo 10A (So Blue, 64 GB)</td>\n",
              "      <td>₹9,999</td>\n",
              "      <td>So Blue</td>\n",
              "      <td>Dual Sim</td>\n",
              "      <td>16.56 cm (6.52 inch)</td>\n",
              "      <td>1600 x 720 Pixels</td>\n",
              "      <td>Android 10</td>\n",
              "      <td>Octa Core</td>\n",
              "      <td>2</td>\n",
              "      <td>64</td>\n",
              "      <td>4</td>\n",
              "      <td>12MP + 2MP + 2MP</td>\n",
              "      <td>5MP Front Camera</td>\n",
              "      <td>4G VOLTE, 4G, 3G, 2G</td>\n",
              "      <td>5000</td>\n",
              "      <td>75</td>\n",
              "      <td>164.4</td>\n",
              "      <td>8.95</td>\n",
              "      <td>195</td>\n",
              "    </tr>\n",
              "    <tr>\n",
              "      <th>3</th>\n",
              "      <td>Realme Narzo 10A (So White, 64 GB)</td>\n",
              "      <td>₹9,999</td>\n",
              "      <td>So White</td>\n",
              "      <td>Dual Sim</td>\n",
              "      <td>16.56 cm (6.52 inch)</td>\n",
              "      <td>1600 x 720 Pixels</td>\n",
              "      <td>Android 10</td>\n",
              "      <td>Octa Core</td>\n",
              "      <td>2</td>\n",
              "      <td>64</td>\n",
              "      <td>4</td>\n",
              "      <td>12MP + 2MP + 2MP</td>\n",
              "      <td>5MP Front Camera</td>\n",
              "      <td>4G VOLTE, 4G, 3G, 2G</td>\n",
              "      <td>5000</td>\n",
              "      <td>75</td>\n",
              "      <td>164.4</td>\n",
              "      <td>8.95</td>\n",
              "      <td>195</td>\n",
              "    </tr>\n",
              "    <tr>\n",
              "      <th>4</th>\n",
              "      <td>Realme Narzo 10 (That Green, 128 GB)</td>\n",
              "      <td>₹11,999</td>\n",
              "      <td>That Green</td>\n",
              "      <td>Dual Sim</td>\n",
              "      <td>16.51 cm (6.5 inch)</td>\n",
              "      <td>1600 x 720 Pixels</td>\n",
              "      <td>Android 10</td>\n",
              "      <td>Octa Core</td>\n",
              "      <td>2</td>\n",
              "      <td>128</td>\n",
              "      <td>4</td>\n",
              "      <td>48MP + 8MP + 2MP + 2MP</td>\n",
              "      <td>16MP Front Camera</td>\n",
              "      <td>4G VOLTE, 4G, 3G, 2G</td>\n",
              "      <td>5000</td>\n",
              "      <td>75.4</td>\n",
              "      <td>164.4</td>\n",
              "      <td>9</td>\n",
              "      <td>199</td>\n",
              "    </tr>\n",
              "  </tbody>\n",
              "</table>\n",
              "</div>\n",
              "      <button class=\"colab-df-convert\" onclick=\"convertToInteractive('df-5d23ad0d-24eb-40ba-9412-1322f497b595')\"\n",
              "              title=\"Convert this dataframe to an interactive table.\"\n",
              "              style=\"display:none;\">\n",
              "\n",
              "  <svg xmlns=\"http://www.w3.org/2000/svg\" height=\"24px\"viewBox=\"0 0 24 24\"\n",
              "       width=\"24px\">\n",
              "    <path d=\"M0 0h24v24H0V0z\" fill=\"none\"/>\n",
              "    <path d=\"M18.56 5.44l.94 2.06.94-2.06 2.06-.94-2.06-.94-.94-2.06-.94 2.06-2.06.94zm-11 1L8.5 8.5l.94-2.06 2.06-.94-2.06-.94L8.5 2.5l-.94 2.06-2.06.94zm10 10l.94 2.06.94-2.06 2.06-.94-2.06-.94-.94-2.06-.94 2.06-2.06.94z\"/><path d=\"M17.41 7.96l-1.37-1.37c-.4-.4-.92-.59-1.43-.59-.52 0-1.04.2-1.43.59L10.3 9.45l-7.72 7.72c-.78.78-.78 2.05 0 2.83L4 21.41c.39.39.9.59 1.41.59.51 0 1.02-.2 1.41-.59l7.78-7.78 2.81-2.81c.8-.78.8-2.07 0-2.86zM5.41 20L4 18.59l7.72-7.72 1.47 1.35L5.41 20z\"/>\n",
              "  </svg>\n",
              "      </button>\n",
              "\n",
              "\n",
              "\n",
              "    <div id=\"df-3608e7c6-20f0-48b4-b455-bc747dbd587a\">\n",
              "      <button class=\"colab-df-quickchart\" onclick=\"quickchart('df-3608e7c6-20f0-48b4-b455-bc747dbd587a')\"\n",
              "              title=\"Suggest charts.\"\n",
              "              style=\"display:none;\">\n",
              "\n",
              "<svg xmlns=\"http://www.w3.org/2000/svg\" height=\"24px\"viewBox=\"0 0 24 24\"\n",
              "     width=\"24px\">\n",
              "    <g>\n",
              "        <path d=\"M19 3H5c-1.1 0-2 .9-2 2v14c0 1.1.9 2 2 2h14c1.1 0 2-.9 2-2V5c0-1.1-.9-2-2-2zM9 17H7v-7h2v7zm4 0h-2V7h2v10zm4 0h-2v-4h2v4z\"/>\n",
              "    </g>\n",
              "</svg>\n",
              "      </button>\n",
              "    </div>\n",
              "\n",
              "<style>\n",
              "  .colab-df-quickchart {\n",
              "    background-color: #E8F0FE;\n",
              "    border: none;\n",
              "    border-radius: 50%;\n",
              "    cursor: pointer;\n",
              "    display: none;\n",
              "    fill: #1967D2;\n",
              "    height: 32px;\n",
              "    padding: 0 0 0 0;\n",
              "    width: 32px;\n",
              "  }\n",
              "\n",
              "  .colab-df-quickchart:hover {\n",
              "    background-color: #E2EBFA;\n",
              "    box-shadow: 0px 1px 2px rgba(60, 64, 67, 0.3), 0px 1px 3px 1px rgba(60, 64, 67, 0.15);\n",
              "    fill: #174EA6;\n",
              "  }\n",
              "\n",
              "  [theme=dark] .colab-df-quickchart {\n",
              "    background-color: #3B4455;\n",
              "    fill: #D2E3FC;\n",
              "  }\n",
              "\n",
              "  [theme=dark] .colab-df-quickchart:hover {\n",
              "    background-color: #434B5C;\n",
              "    box-shadow: 0px 1px 3px 1px rgba(0, 0, 0, 0.15);\n",
              "    filter: drop-shadow(0px 1px 2px rgba(0, 0, 0, 0.3));\n",
              "    fill: #FFFFFF;\n",
              "  }\n",
              "</style>\n",
              "\n",
              "    <script>\n",
              "      async function quickchart(key) {\n",
              "        const containerElement = document.querySelector('#' + key);\n",
              "        const charts = await google.colab.kernel.invokeFunction(\n",
              "            'suggestCharts', [key], {});\n",
              "      }\n",
              "    </script>\n",
              "\n",
              "\n",
              "      <script>\n",
              "\n",
              "function displayQuickchartButton(domScope) {\n",
              "  let quickchartButtonEl =\n",
              "    domScope.querySelector('#df-3608e7c6-20f0-48b4-b455-bc747dbd587a button.colab-df-quickchart');\n",
              "  quickchartButtonEl.style.display =\n",
              "    google.colab.kernel.accessAllowed ? 'block' : 'none';\n",
              "}\n",
              "\n",
              "        displayQuickchartButton(document);\n",
              "      </script>\n",
              "      <style>\n",
              "    .colab-df-container {\n",
              "      display:flex;\n",
              "      flex-wrap:wrap;\n",
              "      gap: 12px;\n",
              "    }\n",
              "\n",
              "    .colab-df-convert {\n",
              "      background-color: #E8F0FE;\n",
              "      border: none;\n",
              "      border-radius: 50%;\n",
              "      cursor: pointer;\n",
              "      display: none;\n",
              "      fill: #1967D2;\n",
              "      height: 32px;\n",
              "      padding: 0 0 0 0;\n",
              "      width: 32px;\n",
              "    }\n",
              "\n",
              "    .colab-df-convert:hover {\n",
              "      background-color: #E2EBFA;\n",
              "      box-shadow: 0px 1px 2px rgba(60, 64, 67, 0.3), 0px 1px 3px 1px rgba(60, 64, 67, 0.15);\n",
              "      fill: #174EA6;\n",
              "    }\n",
              "\n",
              "    [theme=dark] .colab-df-convert {\n",
              "      background-color: #3B4455;\n",
              "      fill: #D2E3FC;\n",
              "    }\n",
              "\n",
              "    [theme=dark] .colab-df-convert:hover {\n",
              "      background-color: #434B5C;\n",
              "      box-shadow: 0px 1px 3px 1px rgba(0, 0, 0, 0.15);\n",
              "      filter: drop-shadow(0px 1px 2px rgba(0, 0, 0, 0.3));\n",
              "      fill: #FFFFFF;\n",
              "    }\n",
              "  </style>\n",
              "\n",
              "      <script>\n",
              "        const buttonEl =\n",
              "          document.querySelector('#df-5d23ad0d-24eb-40ba-9412-1322f497b595 button.colab-df-convert');\n",
              "        buttonEl.style.display =\n",
              "          google.colab.kernel.accessAllowed ? 'block' : 'none';\n",
              "\n",
              "        async function convertToInteractive(key) {\n",
              "          const element = document.querySelector('#df-5d23ad0d-24eb-40ba-9412-1322f497b595');\n",
              "          const dataTable =\n",
              "            await google.colab.kernel.invokeFunction('convertToInteractive',\n",
              "                                                     [key], {});\n",
              "          if (!dataTable) return;\n",
              "\n",
              "          const docLinkHtml = 'Like what you see? Visit the ' +\n",
              "            '<a target=\"_blank\" href=https://colab.research.google.com/notebooks/data_table.ipynb>data table notebook</a>'\n",
              "            + ' to learn more about interactive tables.';\n",
              "          element.innerHTML = '';\n",
              "          dataTable['output_type'] = 'display_data';\n",
              "          await google.colab.output.renderOutput(dataTable, element);\n",
              "          const docLink = document.createElement('div');\n",
              "          docLink.innerHTML = docLinkHtml;\n",
              "          element.appendChild(docLink);\n",
              "        }\n",
              "      </script>\n",
              "    </div>\n",
              "  </div>\n"
            ]
          },
          "metadata": {},
          "execution_count": 15
        }
      ],
      "source": [
        "df.head()"
      ]
    },
    {
      "cell_type": "code",
      "execution_count": 16,
      "id": "29019de5",
      "metadata": {
        "execution": {
          "iopub.execute_input": "2023-06-02T01:56:10.624311Z",
          "iopub.status.busy": "2023-06-02T01:56:10.623868Z",
          "iopub.status.idle": "2023-06-02T01:56:10.632619Z",
          "shell.execute_reply": "2023-06-02T01:56:10.631697Z"
        },
        "papermill": {
          "duration": 0.041624,
          "end_time": "2023-06-02T01:56:10.634689",
          "exception": false,
          "start_time": "2023-06-02T01:56:10.593065",
          "status": "completed"
        },
        "tags": [],
        "colab": {
          "base_uri": "https://localhost:8080/"
        },
        "id": "29019de5",
        "outputId": "d526d30c-4c9f-4bf5-979f-60fc22755804"
      },
      "outputs": [
        {
          "output_type": "execute_result",
          "data": {
            "text/plain": [
              "Octa Core      444\n",
              "Quad Core       14\n",
              "Single Core      1\n",
              "Name: num_cores, dtype: int64"
            ]
          },
          "metadata": {},
          "execution_count": 16
        }
      ],
      "source": [
        "df['num_cores'].value_counts()"
      ]
    },
    {
      "cell_type": "markdown",
      "id": "2e63b38c",
      "metadata": {
        "papermill": {
          "duration": 0.033184,
          "end_time": "2023-06-02T01:56:10.702832",
          "exception": false,
          "start_time": "2023-06-02T01:56:10.669648",
          "status": "completed"
        },
        "tags": [],
        "id": "2e63b38c"
      },
      "source": [
        "now remapping values of 'num_cores' using dict"
      ]
    },
    {
      "cell_type": "code",
      "execution_count": 17,
      "id": "a644dc70",
      "metadata": {
        "execution": {
          "iopub.execute_input": "2023-06-02T01:56:10.770190Z",
          "iopub.status.busy": "2023-06-02T01:56:10.768659Z",
          "iopub.status.idle": "2023-06-02T01:56:10.779104Z",
          "shell.execute_reply": "2023-06-02T01:56:10.777881Z"
        },
        "papermill": {
          "duration": 0.045761,
          "end_time": "2023-06-02T01:56:10.781775",
          "exception": false,
          "start_time": "2023-06-02T01:56:10.736014",
          "status": "completed"
        },
        "tags": [],
        "id": "a644dc70"
      },
      "outputs": [],
      "source": [
        "df['num_cores']=df['num_cores'].map({'Octa Core':8,'Quad Core':4,'Single Core':1})"
      ]
    },
    {
      "cell_type": "code",
      "execution_count": 18,
      "id": "60f7d17e",
      "metadata": {
        "execution": {
          "iopub.execute_input": "2023-06-02T01:56:10.850446Z",
          "iopub.status.busy": "2023-06-02T01:56:10.849615Z",
          "iopub.status.idle": "2023-06-02T01:56:10.858244Z",
          "shell.execute_reply": "2023-06-02T01:56:10.857315Z"
        },
        "papermill": {
          "duration": 0.048605,
          "end_time": "2023-06-02T01:56:10.860517",
          "exception": false,
          "start_time": "2023-06-02T01:56:10.811912",
          "status": "completed"
        },
        "tags": [],
        "colab": {
          "base_uri": "https://localhost:8080/"
        },
        "id": "60f7d17e",
        "outputId": "aae0d766-4be3-4700-d756-a069b1cd1cbc"
      },
      "outputs": [
        {
          "output_type": "execute_result",
          "data": {
            "text/plain": [
              "Dual Sim      458\n",
              "Single Sim      1\n",
              "Name: dual_sim, dtype: int64"
            ]
          },
          "metadata": {},
          "execution_count": 18
        }
      ],
      "source": [
        "df['dual_sim'].value_counts()"
      ]
    },
    {
      "cell_type": "markdown",
      "id": "730ed92e",
      "metadata": {
        "papermill": {
          "duration": 0.029745,
          "end_time": "2023-06-02T01:56:10.920069",
          "exception": false,
          "start_time": "2023-06-02T01:56:10.890324",
          "status": "completed"
        },
        "tags": [],
        "id": "730ed92e"
      },
      "source": [
        "since in 'dual_sim' column all values are same, except one; we can proceed with dropping it"
      ]
    },
    {
      "cell_type": "code",
      "execution_count": 19,
      "id": "8d79c118",
      "metadata": {
        "execution": {
          "iopub.execute_input": "2023-06-02T01:56:10.982772Z",
          "iopub.status.busy": "2023-06-02T01:56:10.982291Z",
          "iopub.status.idle": "2023-06-02T01:56:10.992273Z",
          "shell.execute_reply": "2023-06-02T01:56:10.991139Z"
        },
        "papermill": {
          "duration": 0.045135,
          "end_time": "2023-06-02T01:56:10.995166",
          "exception": false,
          "start_time": "2023-06-02T01:56:10.950031",
          "status": "completed"
        },
        "tags": [],
        "id": "8d79c118"
      },
      "outputs": [],
      "source": [
        "df.drop('dual_sim',axis=1,inplace=True)"
      ]
    },
    {
      "cell_type": "markdown",
      "id": "2490f8e8",
      "metadata": {
        "papermill": {
          "duration": 0.032323,
          "end_time": "2023-06-02T01:56:11.061738",
          "exception": false,
          "start_time": "2023-06-02T01:56:11.029415",
          "status": "completed"
        },
        "tags": [],
        "id": "2490f8e8"
      },
      "source": [
        "Now we will proceed with 'os' column"
      ]
    },
    {
      "cell_type": "code",
      "execution_count": 20,
      "id": "1555d787",
      "metadata": {
        "execution": {
          "iopub.execute_input": "2023-06-02T01:56:11.128584Z",
          "iopub.status.busy": "2023-06-02T01:56:11.128211Z",
          "iopub.status.idle": "2023-06-02T01:56:11.138056Z",
          "shell.execute_reply": "2023-06-02T01:56:11.136876Z"
        },
        "papermill": {
          "duration": 0.044966,
          "end_time": "2023-06-02T01:56:11.140713",
          "exception": false,
          "start_time": "2023-06-02T01:56:11.095747",
          "status": "completed"
        },
        "tags": [],
        "colab": {
          "base_uri": "https://localhost:8080/"
        },
        "id": "1555d787",
        "outputId": "5eb5f8fb-7287-4a1a-8bef-6dc08929ef2a"
      },
      "outputs": [
        {
          "output_type": "execute_result",
          "data": {
            "text/plain": [
              "array(['Android 10', 'Android Pie 9.0', 'Android Pie 9',\n",
              "       'Android Oreo 8.1', 'Android Pie 10', 'Android Nougat 7.1.1',\n",
              "       'Android Oreo 8.0', 'Android Nougat 7.1.2', 'Android KitKat 4.4.2',\n",
              "       'Android Marshmallow 6.0.1', 'Android Nougat 7.1',\n",
              "       'Android Marshmallow 6', 'Android Nougat 7',\n",
              "       'Android Lollipop 5.4.1', 'Android Oreo 8.1.0', 'Android Oreo 8',\n",
              "       'Android Lollipop 5.1', 'Android Lollipop 5.1.1'], dtype=object)"
            ]
          },
          "metadata": {},
          "execution_count": 20
        }
      ],
      "source": [
        "df['os'].unique()"
      ]
    },
    {
      "cell_type": "markdown",
      "id": "9ed37c97",
      "metadata": {
        "papermill": {
          "duration": 0.029801,
          "end_time": "2023-06-02T01:56:11.201161",
          "exception": false,
          "start_time": "2023-06-02T01:56:11.171360",
          "status": "completed"
        },
        "tags": [],
        "id": "9ed37c97"
      },
      "source": [
        "For analysis , we need to extract just the version i.e from Android 7.1.1 we should get only 7 and same way for others"
      ]
    },
    {
      "cell_type": "code",
      "execution_count": 21,
      "id": "e889387f",
      "metadata": {
        "execution": {
          "iopub.execute_input": "2023-06-02T01:56:11.264137Z",
          "iopub.status.busy": "2023-06-02T01:56:11.263701Z",
          "iopub.status.idle": "2023-06-02T01:56:11.271682Z",
          "shell.execute_reply": "2023-06-02T01:56:11.270825Z"
        },
        "papermill": {
          "duration": 0.042697,
          "end_time": "2023-06-02T01:56:11.274113",
          "exception": false,
          "start_time": "2023-06-02T01:56:11.231416",
          "status": "completed"
        },
        "tags": [],
        "id": "e889387f"
      },
      "outputs": [],
      "source": [
        "df['os']=df['os'].str.replace(r'^Android\\s[a-zA-Z]*\\s?',r'',regex=True)"
      ]
    },
    {
      "cell_type": "code",
      "execution_count": 22,
      "id": "1043225d",
      "metadata": {
        "execution": {
          "iopub.execute_input": "2023-06-02T01:56:11.336489Z",
          "iopub.status.busy": "2023-06-02T01:56:11.335706Z",
          "iopub.status.idle": "2023-06-02T01:56:11.342858Z",
          "shell.execute_reply": "2023-06-02T01:56:11.341903Z"
        },
        "papermill": {
          "duration": 0.040585,
          "end_time": "2023-06-02T01:56:11.344985",
          "exception": false,
          "start_time": "2023-06-02T01:56:11.304400",
          "status": "completed"
        },
        "tags": [],
        "colab": {
          "base_uri": "https://localhost:8080/"
        },
        "id": "1043225d",
        "outputId": "199b165a-c0f2-4b07-faff-8846e54ffd16"
      },
      "outputs": [
        {
          "output_type": "execute_result",
          "data": {
            "text/plain": [
              "array(['10', '9.0', '9', '8.1', '7.1.1', '8.0', '7.1.2', '4.4.2', '6.0.1',\n",
              "       '7.1', '6', '7', '5.4.1', '8.1.0', '8', '5.1', '5.1.1'],\n",
              "      dtype=object)"
            ]
          },
          "metadata": {},
          "execution_count": 22
        }
      ],
      "source": [
        "df['os'].unique()"
      ]
    },
    {
      "cell_type": "markdown",
      "id": "a9f51c2f",
      "metadata": {
        "papermill": {
          "duration": 0.029671,
          "end_time": "2023-06-02T01:56:11.405088",
          "exception": false,
          "start_time": "2023-06-02T01:56:11.375417",
          "status": "completed"
        },
        "tags": [],
        "id": "a9f51c2f"
      },
      "source": [
        "with above code , we replaced 'Android' and word adjoining it(if any) with nothing '',i.e. we removed it.This is how the feature looks now."
      ]
    },
    {
      "cell_type": "code",
      "execution_count": 23,
      "id": "d1019b10",
      "metadata": {
        "execution": {
          "iopub.execute_input": "2023-06-02T01:56:11.467901Z",
          "iopub.status.busy": "2023-06-02T01:56:11.467063Z",
          "iopub.status.idle": "2023-06-02T01:56:11.475122Z",
          "shell.execute_reply": "2023-06-02T01:56:11.473902Z"
        },
        "papermill": {
          "duration": 0.042481,
          "end_time": "2023-06-02T01:56:11.477573",
          "exception": false,
          "start_time": "2023-06-02T01:56:11.435092",
          "status": "completed"
        },
        "tags": [],
        "colab": {
          "base_uri": "https://localhost:8080/"
        },
        "id": "d1019b10",
        "outputId": "618e0c2b-3fcd-4c19-8516-2a8bb31e9244"
      },
      "outputs": [
        {
          "output_type": "execute_result",
          "data": {
            "text/plain": [
              "array(['10', '9.0', '9', '8.1', '7.1.1', '8.0', '7.1.2', '4.4.2', '6.0.1',\n",
              "       '7.1', '6', '7', '5.4.1', '8.1.0', '8', '5.1', '5.1.1'],\n",
              "      dtype=object)"
            ]
          },
          "metadata": {},
          "execution_count": 23
        }
      ],
      "source": [
        "df['os'].unique()"
      ]
    },
    {
      "cell_type": "markdown",
      "id": "5b5b40d9",
      "metadata": {
        "papermill": {
          "duration": 0.029747,
          "end_time": "2023-06-02T01:56:11.537521",
          "exception": false,
          "start_time": "2023-06-02T01:56:11.507774",
          "status": "completed"
        },
        "tags": [],
        "id": "5b5b40d9"
      },
      "source": [
        "now we need to remove the suffixing part from our expected element i.e to get just 5 from 5.1.1"
      ]
    },
    {
      "cell_type": "code",
      "execution_count": 24,
      "id": "5ca913eb",
      "metadata": {
        "execution": {
          "iopub.execute_input": "2023-06-02T01:56:11.600905Z",
          "iopub.status.busy": "2023-06-02T01:56:11.600120Z",
          "iopub.status.idle": "2023-06-02T01:56:11.608702Z",
          "shell.execute_reply": "2023-06-02T01:56:11.607870Z"
        },
        "papermill": {
          "duration": 0.042927,
          "end_time": "2023-06-02T01:56:11.611193",
          "exception": false,
          "start_time": "2023-06-02T01:56:11.568266",
          "status": "completed"
        },
        "tags": [],
        "id": "5ca913eb"
      },
      "outputs": [],
      "source": [
        "df[['os','hoax1','hoax2']]=df['os'].str.partition('.')"
      ]
    },
    {
      "cell_type": "markdown",
      "id": "01010e91",
      "metadata": {
        "papermill": {
          "duration": 0.032094,
          "end_time": "2023-06-02T01:56:11.673580",
          "exception": false,
          "start_time": "2023-06-02T01:56:11.641486",
          "status": "completed"
        },
        "tags": [],
        "id": "01010e91"
      },
      "source": [
        "above we creatd two more hoax/dummy columns to store the seperator and suffixing part ;now we will drop them"
      ]
    },
    {
      "cell_type": "code",
      "execution_count": 25,
      "id": "08c19841",
      "metadata": {
        "execution": {
          "iopub.execute_input": "2023-06-02T01:56:11.736599Z",
          "iopub.status.busy": "2023-06-02T01:56:11.735794Z",
          "iopub.status.idle": "2023-06-02T01:56:11.742680Z",
          "shell.execute_reply": "2023-06-02T01:56:11.741830Z"
        },
        "papermill": {
          "duration": 0.040887,
          "end_time": "2023-06-02T01:56:11.745108",
          "exception": false,
          "start_time": "2023-06-02T01:56:11.704221",
          "status": "completed"
        },
        "tags": [],
        "id": "08c19841"
      },
      "outputs": [],
      "source": [
        "df.drop(['hoax1','hoax2'],axis=1,inplace=True)"
      ]
    },
    {
      "cell_type": "code",
      "execution_count": 26,
      "id": "42d4c204",
      "metadata": {
        "execution": {
          "iopub.execute_input": "2023-06-02T01:56:11.807978Z",
          "iopub.status.busy": "2023-06-02T01:56:11.807156Z",
          "iopub.status.idle": "2023-06-02T01:56:11.816447Z",
          "shell.execute_reply": "2023-06-02T01:56:11.815380Z"
        },
        "papermill": {
          "duration": 0.043386,
          "end_time": "2023-06-02T01:56:11.818853",
          "exception": false,
          "start_time": "2023-06-02T01:56:11.775467",
          "status": "completed"
        },
        "tags": [],
        "colab": {
          "base_uri": "https://localhost:8080/"
        },
        "id": "42d4c204",
        "outputId": "9c6fcd02-dd6f-4775-d0cb-17aa9168fc2e"
      },
      "outputs": [
        {
          "output_type": "execute_result",
          "data": {
            "text/plain": [
              "9     208\n",
              "8     122\n",
              "10     84\n",
              "7      34\n",
              "6       5\n",
              "5       5\n",
              "4       1\n",
              "Name: os, dtype: int64"
            ]
          },
          "metadata": {},
          "execution_count": 26
        }
      ],
      "source": [
        "df['os'].value_counts()"
      ]
    },
    {
      "cell_type": "markdown",
      "id": "67691d2f",
      "metadata": {
        "papermill": {
          "duration": 0.02983,
          "end_time": "2023-06-02T01:56:11.878499",
          "exception": false,
          "start_time": "2023-06-02T01:56:11.848669",
          "status": "completed"
        },
        "tags": [],
        "id": "67691d2f"
      },
      "source": [
        "Now we will clean 'mobile_price' column by simple replace"
      ]
    },
    {
      "cell_type": "code",
      "execution_count": 27,
      "id": "8669d77b",
      "metadata": {
        "execution": {
          "iopub.execute_input": "2023-06-02T01:56:11.941068Z",
          "iopub.status.busy": "2023-06-02T01:56:11.940424Z",
          "iopub.status.idle": "2023-06-02T01:56:11.951712Z",
          "shell.execute_reply": "2023-06-02T01:56:11.950786Z"
        },
        "papermill": {
          "duration": 0.045269,
          "end_time": "2023-06-02T01:56:11.954310",
          "exception": false,
          "start_time": "2023-06-02T01:56:11.909041",
          "status": "completed"
        },
        "tags": [],
        "id": "8669d77b"
      },
      "outputs": [],
      "source": [
        "df['mobile_price']=df['mobile_price'].replace(['₹',','],'',regex=True)"
      ]
    },
    {
      "cell_type": "code",
      "execution_count": 28,
      "id": "8234f5de",
      "metadata": {
        "execution": {
          "iopub.execute_input": "2023-06-02T01:56:12.018052Z",
          "iopub.status.busy": "2023-06-02T01:56:12.017223Z",
          "iopub.status.idle": "2023-06-02T01:56:12.038926Z",
          "shell.execute_reply": "2023-06-02T01:56:12.037712Z"
        },
        "papermill": {
          "duration": 0.056128,
          "end_time": "2023-06-02T01:56:12.041464",
          "exception": false,
          "start_time": "2023-06-02T01:56:11.985336",
          "status": "completed"
        },
        "tags": [],
        "colab": {
          "base_uri": "https://localhost:8080/",
          "height": 531
        },
        "id": "8234f5de",
        "outputId": "dec1c8d6-b8c7-44a4-ec5b-39557cb5b72b"
      },
      "outputs": [
        {
          "output_type": "execute_result",
          "data": {
            "text/plain": [
              "                            mobile_name mobile_price mobile_color  \\\n",
              "0    Realme Narzo 10A (So White, 32 GB)         8999     So White   \n",
              "1     Realme Narzo 10A (So Blue, 32 GB)         8999      So Blue   \n",
              "2     Realme Narzo 10A (So Blue, 64 GB)         9999      So Blue   \n",
              "3    Realme Narzo 10A (So White, 64 GB)         9999     So White   \n",
              "4  Realme Narzo 10 (That Green, 128 GB)        11999   That Green   \n",
              "\n",
              "              disp_size         resolution  os  num_cores mp_speed int_memory  \\\n",
              "0  16.56 cm (6.52 inch)  1600 x 720 Pixels  10          8       2         32    \n",
              "1  16.56 cm (6.52 inch)  1600 x 720 Pixels  10          8       2         32    \n",
              "2  16.56 cm (6.52 inch)  1600 x 720 Pixels  10          8       2         64    \n",
              "3  16.56 cm (6.52 inch)  1600 x 720 Pixels  10          8       2         64    \n",
              "4   16.51 cm (6.5 inch)  1600 x 720 Pixels  10          8       2        128    \n",
              "\n",
              "  ram                   p_cam              f_cam               network  \\\n",
              "0  3         12MP + 2MP + 2MP   5MP Front Camera  4G VOLTE, 4G, 3G, 2G   \n",
              "1  3         12MP + 2MP + 2MP   5MP Front Camera  4G VOLTE, 4G, 3G, 2G   \n",
              "2  4         12MP + 2MP + 2MP   5MP Front Camera  4G VOLTE, 4G, 3G, 2G   \n",
              "3  4         12MP + 2MP + 2MP   5MP Front Camera  4G VOLTE, 4G, 3G, 2G   \n",
              "4  4   48MP + 8MP + 2MP + 2MP  16MP Front Camera  4G VOLTE, 4G, 3G, 2G   \n",
              "\n",
              "  battery_power mob_width mob_height mob_depth mob_weight  \n",
              "0         5000        75      164.4      8.95        195   \n",
              "1         5000        75      164.4      8.95        195   \n",
              "2         5000        75      164.4      8.95        195   \n",
              "3         5000        75      164.4      8.95        195   \n",
              "4         5000      75.4      164.4         9        199   "
            ],
            "text/html": [
              "\n",
              "\n",
              "  <div id=\"df-d18099ba-7730-4c35-8408-0352d921d6e8\">\n",
              "    <div class=\"colab-df-container\">\n",
              "      <div>\n",
              "<style scoped>\n",
              "    .dataframe tbody tr th:only-of-type {\n",
              "        vertical-align: middle;\n",
              "    }\n",
              "\n",
              "    .dataframe tbody tr th {\n",
              "        vertical-align: top;\n",
              "    }\n",
              "\n",
              "    .dataframe thead th {\n",
              "        text-align: right;\n",
              "    }\n",
              "</style>\n",
              "<table border=\"1\" class=\"dataframe\">\n",
              "  <thead>\n",
              "    <tr style=\"text-align: right;\">\n",
              "      <th></th>\n",
              "      <th>mobile_name</th>\n",
              "      <th>mobile_price</th>\n",
              "      <th>mobile_color</th>\n",
              "      <th>disp_size</th>\n",
              "      <th>resolution</th>\n",
              "      <th>os</th>\n",
              "      <th>num_cores</th>\n",
              "      <th>mp_speed</th>\n",
              "      <th>int_memory</th>\n",
              "      <th>ram</th>\n",
              "      <th>p_cam</th>\n",
              "      <th>f_cam</th>\n",
              "      <th>network</th>\n",
              "      <th>battery_power</th>\n",
              "      <th>mob_width</th>\n",
              "      <th>mob_height</th>\n",
              "      <th>mob_depth</th>\n",
              "      <th>mob_weight</th>\n",
              "    </tr>\n",
              "  </thead>\n",
              "  <tbody>\n",
              "    <tr>\n",
              "      <th>0</th>\n",
              "      <td>Realme Narzo 10A (So White, 32 GB)</td>\n",
              "      <td>8999</td>\n",
              "      <td>So White</td>\n",
              "      <td>16.56 cm (6.52 inch)</td>\n",
              "      <td>1600 x 720 Pixels</td>\n",
              "      <td>10</td>\n",
              "      <td>8</td>\n",
              "      <td>2</td>\n",
              "      <td>32</td>\n",
              "      <td>3</td>\n",
              "      <td>12MP + 2MP + 2MP</td>\n",
              "      <td>5MP Front Camera</td>\n",
              "      <td>4G VOLTE, 4G, 3G, 2G</td>\n",
              "      <td>5000</td>\n",
              "      <td>75</td>\n",
              "      <td>164.4</td>\n",
              "      <td>8.95</td>\n",
              "      <td>195</td>\n",
              "    </tr>\n",
              "    <tr>\n",
              "      <th>1</th>\n",
              "      <td>Realme Narzo 10A (So Blue, 32 GB)</td>\n",
              "      <td>8999</td>\n",
              "      <td>So Blue</td>\n",
              "      <td>16.56 cm (6.52 inch)</td>\n",
              "      <td>1600 x 720 Pixels</td>\n",
              "      <td>10</td>\n",
              "      <td>8</td>\n",
              "      <td>2</td>\n",
              "      <td>32</td>\n",
              "      <td>3</td>\n",
              "      <td>12MP + 2MP + 2MP</td>\n",
              "      <td>5MP Front Camera</td>\n",
              "      <td>4G VOLTE, 4G, 3G, 2G</td>\n",
              "      <td>5000</td>\n",
              "      <td>75</td>\n",
              "      <td>164.4</td>\n",
              "      <td>8.95</td>\n",
              "      <td>195</td>\n",
              "    </tr>\n",
              "    <tr>\n",
              "      <th>2</th>\n",
              "      <td>Realme Narzo 10A (So Blue, 64 GB)</td>\n",
              "      <td>9999</td>\n",
              "      <td>So Blue</td>\n",
              "      <td>16.56 cm (6.52 inch)</td>\n",
              "      <td>1600 x 720 Pixels</td>\n",
              "      <td>10</td>\n",
              "      <td>8</td>\n",
              "      <td>2</td>\n",
              "      <td>64</td>\n",
              "      <td>4</td>\n",
              "      <td>12MP + 2MP + 2MP</td>\n",
              "      <td>5MP Front Camera</td>\n",
              "      <td>4G VOLTE, 4G, 3G, 2G</td>\n",
              "      <td>5000</td>\n",
              "      <td>75</td>\n",
              "      <td>164.4</td>\n",
              "      <td>8.95</td>\n",
              "      <td>195</td>\n",
              "    </tr>\n",
              "    <tr>\n",
              "      <th>3</th>\n",
              "      <td>Realme Narzo 10A (So White, 64 GB)</td>\n",
              "      <td>9999</td>\n",
              "      <td>So White</td>\n",
              "      <td>16.56 cm (6.52 inch)</td>\n",
              "      <td>1600 x 720 Pixels</td>\n",
              "      <td>10</td>\n",
              "      <td>8</td>\n",
              "      <td>2</td>\n",
              "      <td>64</td>\n",
              "      <td>4</td>\n",
              "      <td>12MP + 2MP + 2MP</td>\n",
              "      <td>5MP Front Camera</td>\n",
              "      <td>4G VOLTE, 4G, 3G, 2G</td>\n",
              "      <td>5000</td>\n",
              "      <td>75</td>\n",
              "      <td>164.4</td>\n",
              "      <td>8.95</td>\n",
              "      <td>195</td>\n",
              "    </tr>\n",
              "    <tr>\n",
              "      <th>4</th>\n",
              "      <td>Realme Narzo 10 (That Green, 128 GB)</td>\n",
              "      <td>11999</td>\n",
              "      <td>That Green</td>\n",
              "      <td>16.51 cm (6.5 inch)</td>\n",
              "      <td>1600 x 720 Pixels</td>\n",
              "      <td>10</td>\n",
              "      <td>8</td>\n",
              "      <td>2</td>\n",
              "      <td>128</td>\n",
              "      <td>4</td>\n",
              "      <td>48MP + 8MP + 2MP + 2MP</td>\n",
              "      <td>16MP Front Camera</td>\n",
              "      <td>4G VOLTE, 4G, 3G, 2G</td>\n",
              "      <td>5000</td>\n",
              "      <td>75.4</td>\n",
              "      <td>164.4</td>\n",
              "      <td>9</td>\n",
              "      <td>199</td>\n",
              "    </tr>\n",
              "  </tbody>\n",
              "</table>\n",
              "</div>\n",
              "      <button class=\"colab-df-convert\" onclick=\"convertToInteractive('df-d18099ba-7730-4c35-8408-0352d921d6e8')\"\n",
              "              title=\"Convert this dataframe to an interactive table.\"\n",
              "              style=\"display:none;\">\n",
              "\n",
              "  <svg xmlns=\"http://www.w3.org/2000/svg\" height=\"24px\"viewBox=\"0 0 24 24\"\n",
              "       width=\"24px\">\n",
              "    <path d=\"M0 0h24v24H0V0z\" fill=\"none\"/>\n",
              "    <path d=\"M18.56 5.44l.94 2.06.94-2.06 2.06-.94-2.06-.94-.94-2.06-.94 2.06-2.06.94zm-11 1L8.5 8.5l.94-2.06 2.06-.94-2.06-.94L8.5 2.5l-.94 2.06-2.06.94zm10 10l.94 2.06.94-2.06 2.06-.94-2.06-.94-.94-2.06-.94 2.06-2.06.94z\"/><path d=\"M17.41 7.96l-1.37-1.37c-.4-.4-.92-.59-1.43-.59-.52 0-1.04.2-1.43.59L10.3 9.45l-7.72 7.72c-.78.78-.78 2.05 0 2.83L4 21.41c.39.39.9.59 1.41.59.51 0 1.02-.2 1.41-.59l7.78-7.78 2.81-2.81c.8-.78.8-2.07 0-2.86zM5.41 20L4 18.59l7.72-7.72 1.47 1.35L5.41 20z\"/>\n",
              "  </svg>\n",
              "      </button>\n",
              "\n",
              "\n",
              "\n",
              "    <div id=\"df-03840a42-234f-4d4c-9c3a-0691044a11d7\">\n",
              "      <button class=\"colab-df-quickchart\" onclick=\"quickchart('df-03840a42-234f-4d4c-9c3a-0691044a11d7')\"\n",
              "              title=\"Suggest charts.\"\n",
              "              style=\"display:none;\">\n",
              "\n",
              "<svg xmlns=\"http://www.w3.org/2000/svg\" height=\"24px\"viewBox=\"0 0 24 24\"\n",
              "     width=\"24px\">\n",
              "    <g>\n",
              "        <path d=\"M19 3H5c-1.1 0-2 .9-2 2v14c0 1.1.9 2 2 2h14c1.1 0 2-.9 2-2V5c0-1.1-.9-2-2-2zM9 17H7v-7h2v7zm4 0h-2V7h2v10zm4 0h-2v-4h2v4z\"/>\n",
              "    </g>\n",
              "</svg>\n",
              "      </button>\n",
              "    </div>\n",
              "\n",
              "<style>\n",
              "  .colab-df-quickchart {\n",
              "    background-color: #E8F0FE;\n",
              "    border: none;\n",
              "    border-radius: 50%;\n",
              "    cursor: pointer;\n",
              "    display: none;\n",
              "    fill: #1967D2;\n",
              "    height: 32px;\n",
              "    padding: 0 0 0 0;\n",
              "    width: 32px;\n",
              "  }\n",
              "\n",
              "  .colab-df-quickchart:hover {\n",
              "    background-color: #E2EBFA;\n",
              "    box-shadow: 0px 1px 2px rgba(60, 64, 67, 0.3), 0px 1px 3px 1px rgba(60, 64, 67, 0.15);\n",
              "    fill: #174EA6;\n",
              "  }\n",
              "\n",
              "  [theme=dark] .colab-df-quickchart {\n",
              "    background-color: #3B4455;\n",
              "    fill: #D2E3FC;\n",
              "  }\n",
              "\n",
              "  [theme=dark] .colab-df-quickchart:hover {\n",
              "    background-color: #434B5C;\n",
              "    box-shadow: 0px 1px 3px 1px rgba(0, 0, 0, 0.15);\n",
              "    filter: drop-shadow(0px 1px 2px rgba(0, 0, 0, 0.3));\n",
              "    fill: #FFFFFF;\n",
              "  }\n",
              "</style>\n",
              "\n",
              "    <script>\n",
              "      async function quickchart(key) {\n",
              "        const containerElement = document.querySelector('#' + key);\n",
              "        const charts = await google.colab.kernel.invokeFunction(\n",
              "            'suggestCharts', [key], {});\n",
              "      }\n",
              "    </script>\n",
              "\n",
              "\n",
              "      <script>\n",
              "\n",
              "function displayQuickchartButton(domScope) {\n",
              "  let quickchartButtonEl =\n",
              "    domScope.querySelector('#df-03840a42-234f-4d4c-9c3a-0691044a11d7 button.colab-df-quickchart');\n",
              "  quickchartButtonEl.style.display =\n",
              "    google.colab.kernel.accessAllowed ? 'block' : 'none';\n",
              "}\n",
              "\n",
              "        displayQuickchartButton(document);\n",
              "      </script>\n",
              "      <style>\n",
              "    .colab-df-container {\n",
              "      display:flex;\n",
              "      flex-wrap:wrap;\n",
              "      gap: 12px;\n",
              "    }\n",
              "\n",
              "    .colab-df-convert {\n",
              "      background-color: #E8F0FE;\n",
              "      border: none;\n",
              "      border-radius: 50%;\n",
              "      cursor: pointer;\n",
              "      display: none;\n",
              "      fill: #1967D2;\n",
              "      height: 32px;\n",
              "      padding: 0 0 0 0;\n",
              "      width: 32px;\n",
              "    }\n",
              "\n",
              "    .colab-df-convert:hover {\n",
              "      background-color: #E2EBFA;\n",
              "      box-shadow: 0px 1px 2px rgba(60, 64, 67, 0.3), 0px 1px 3px 1px rgba(60, 64, 67, 0.15);\n",
              "      fill: #174EA6;\n",
              "    }\n",
              "\n",
              "    [theme=dark] .colab-df-convert {\n",
              "      background-color: #3B4455;\n",
              "      fill: #D2E3FC;\n",
              "    }\n",
              "\n",
              "    [theme=dark] .colab-df-convert:hover {\n",
              "      background-color: #434B5C;\n",
              "      box-shadow: 0px 1px 3px 1px rgba(0, 0, 0, 0.15);\n",
              "      filter: drop-shadow(0px 1px 2px rgba(0, 0, 0, 0.3));\n",
              "      fill: #FFFFFF;\n",
              "    }\n",
              "  </style>\n",
              "\n",
              "      <script>\n",
              "        const buttonEl =\n",
              "          document.querySelector('#df-d18099ba-7730-4c35-8408-0352d921d6e8 button.colab-df-convert');\n",
              "        buttonEl.style.display =\n",
              "          google.colab.kernel.accessAllowed ? 'block' : 'none';\n",
              "\n",
              "        async function convertToInteractive(key) {\n",
              "          const element = document.querySelector('#df-d18099ba-7730-4c35-8408-0352d921d6e8');\n",
              "          const dataTable =\n",
              "            await google.colab.kernel.invokeFunction('convertToInteractive',\n",
              "                                                     [key], {});\n",
              "          if (!dataTable) return;\n",
              "\n",
              "          const docLinkHtml = 'Like what you see? Visit the ' +\n",
              "            '<a target=\"_blank\" href=https://colab.research.google.com/notebooks/data_table.ipynb>data table notebook</a>'\n",
              "            + ' to learn more about interactive tables.';\n",
              "          element.innerHTML = '';\n",
              "          dataTable['output_type'] = 'display_data';\n",
              "          await google.colab.output.renderOutput(dataTable, element);\n",
              "          const docLink = document.createElement('div');\n",
              "          docLink.innerHTML = docLinkHtml;\n",
              "          element.appendChild(docLink);\n",
              "        }\n",
              "      </script>\n",
              "    </div>\n",
              "  </div>\n"
            ]
          },
          "metadata": {},
          "execution_count": 28
        }
      ],
      "source": [
        "df.head()"
      ]
    },
    {
      "cell_type": "code",
      "execution_count": 29,
      "id": "32c51f88",
      "metadata": {
        "execution": {
          "iopub.execute_input": "2023-06-02T01:56:12.105971Z",
          "iopub.status.busy": "2023-06-02T01:56:12.105557Z",
          "iopub.status.idle": "2023-06-02T01:56:12.114350Z",
          "shell.execute_reply": "2023-06-02T01:56:12.113216Z"
        },
        "papermill": {
          "duration": 0.044162,
          "end_time": "2023-06-02T01:56:12.116726",
          "exception": false,
          "start_time": "2023-06-02T01:56:12.072564",
          "status": "completed"
        },
        "tags": [],
        "colab": {
          "base_uri": "https://localhost:8080/"
        },
        "id": "32c51f88",
        "outputId": "a1b3a2d5-954c-482d-be4f-061aa72bac68"
      },
      "outputs": [
        {
          "output_type": "execute_result",
          "data": {
            "text/plain": [
              "array(['So White', 'So Blue', 'That Green', 'That White', 'Crystal Green',\n",
              "       'Sparkling Blue', 'Lunar White', 'Neptune Blue', 'Black Sea',\n",
              "       'Pearl Blue', 'Pearl White', 'Rust Red', 'Moss Green',\n",
              "       'Frozen Blue', 'Comet White', 'Lightning Orange', 'Lightning Blue',\n",
              "       'Diamond Black', 'Diamond Blue', 'Diamond Ruby', 'Comet Blue',\n",
              "       'Diamond Sapphire', 'Crystal Red', 'Crystal Blue',\n",
              "       'Crystal Purple', 'Red Brick', 'Concrete', 'Pearl Green',\n",
              "       'That Blue', 'Glacier Blue', 'Arctic White', 'Dynamic Black',\n",
              "       'Diamond Red', 'Radiant Blue', 'Black', 'Sapphire Blue',\n",
              "       'Onyx Black', 'Flame Red', 'Aurora Blue', 'Carbon Black',\n",
              "       'More Than White', 'Space Black', 'Not just Blue', 'Kind of Grey',\n",
              "       'Nebula Red', 'Gold', 'Rose Gold', 'Red', 'Twilight Grey',\n",
              "       'Coral Green', 'Lake Blue', 'Metallic Grey', 'Emerald Green',\n",
              "       'Ruby Red', 'Interstellar Black', 'Sea Blue', 'Midnight Grey',\n",
              "       'Moonlight White', 'Sky White', 'Glacier White',\n",
              "       'Astro Moonlight White', 'Sunset Red', 'Blue/Lake Blue', 'Blue',\n",
              "       'Matte Black', 'Matte Gold', 'Elegant Blue', 'Prime Black', 'Grey',\n",
              "       'Dark Grey', 'Burgundy Red', 'Thunder Black', 'Mineral Blue',\n",
              "       'Fusion Blue', 'Phantom Purple', 'Agate Red', 'Mystic Black',\n",
              "       'Jazzy Blue', 'Dreamy White', 'Fusion Black', 'Ocean Blue',\n",
              "       'Iris Blue', 'Sonic Black', 'Sonic Blue', 'Magnetic Black',\n",
              "       'Mystic Silver', 'Piano Black', 'Glacier ice white',\n",
              "       'Midnight Ocean Black', 'Electric Blue', 'Skyline Blue',\n",
              "       'Topaz Blue', 'Mystic Purple', 'Glacier Ice White',\n",
              "       'Starry Night Black', 'Frozen Black', 'Starry Black',\n",
              "       'Energetic Blue', 'Nebula Purple', 'White', 'Midnight Blue',\n",
              "       'Raven Black', 'Prism Blue', 'Prism Black', 'Metallic gold',\n",
              "       'Violet', 'Ocean Wave', 'Charcoal Blue', 'Forest Green',\n",
              "       'Bordeaux Red', 'Tradew Gray', 'Milan Black', 'Ice Blue',\n",
              "       'Berlin Gray', 'Midnight Black', 'Mocha Brown', 'Aqua Blue',\n",
              "       'Sandstone Black', 'Blush Gold', 'Quetzal Cyan',\n",
              "       'Bronze Gold Black', 'Nebula Blue', 'Twilight Purple',\n",
              "       'Space Gray', 'Steel Blue', 'Graphite Black', 'Armoured Edition',\n",
              "       'Rosso Red', 'Matrix Purple', 'Atlantis Blue', 'Phoenix Red',\n",
              "       'Green and Greener', 'Out of the Blue', 'Two Shades of Black',\n",
              "       'Fantasy White', 'Mystery Black', 'Marine Green', 'Unicorn White',\n",
              "       'Blazing Blue', 'Twilight Black', 'Stream White', 'Deep Blue',\n",
              "       'Flowing Silver', 'Green', 'Space Purple', 'Lightening Black',\n",
              "       'Auroral Blue', 'Ocean Green', 'Luminous Black', 'Champagne',\n",
              "       'Vanilla Mint', 'Sunrise Red', 'Astral Blue', 'Marble Green',\n",
              "       'Glaring Gold', 'Twilight Blue', 'Starry Purple', 'Glaze Blue',\n",
              "       'Purple', 'Waterfall Grey', 'Radiant Mist', 'Fluorite Purple',\n",
              "       'Jewelry White', 'Stellar Purple', 'Jet Black'], dtype=object)"
            ]
          },
          "metadata": {},
          "execution_count": 29
        }
      ],
      "source": [
        "df['mobile_color'].unique()"
      ]
    },
    {
      "cell_type": "markdown",
      "id": "9e3457ea",
      "metadata": {
        "papermill": {
          "duration": 0.030448,
          "end_time": "2023-06-02T01:56:12.178639",
          "exception": false,
          "start_time": "2023-06-02T01:56:12.148191",
          "status": "completed"
        },
        "tags": [],
        "id": "9e3457ea"
      },
      "source": [
        "we need to prefixing shades of the colour, using rparttition"
      ]
    },
    {
      "cell_type": "code",
      "execution_count": 30,
      "id": "9b455567",
      "metadata": {
        "execution": {
          "iopub.execute_input": "2023-06-02T01:56:12.241842Z",
          "iopub.status.busy": "2023-06-02T01:56:12.241418Z",
          "iopub.status.idle": "2023-06-02T01:56:12.250231Z",
          "shell.execute_reply": "2023-06-02T01:56:12.249416Z"
        },
        "papermill": {
          "duration": 0.043051,
          "end_time": "2023-06-02T01:56:12.252510",
          "exception": false,
          "start_time": "2023-06-02T01:56:12.209459",
          "status": "completed"
        },
        "tags": [],
        "id": "9b455567"
      },
      "outputs": [],
      "source": [
        "df[['dummy1','dummy2','mobile_color']]=df['mobile_color'].str.rpartition(' ')"
      ]
    },
    {
      "cell_type": "code",
      "execution_count": 31,
      "id": "4652b039",
      "metadata": {
        "execution": {
          "iopub.execute_input": "2023-06-02T01:56:12.315803Z",
          "iopub.status.busy": "2023-06-02T01:56:12.315170Z",
          "iopub.status.idle": "2023-06-02T01:56:12.322327Z",
          "shell.execute_reply": "2023-06-02T01:56:12.321228Z"
        },
        "papermill": {
          "duration": 0.04206,
          "end_time": "2023-06-02T01:56:12.325256",
          "exception": false,
          "start_time": "2023-06-02T01:56:12.283196",
          "status": "completed"
        },
        "tags": [],
        "id": "4652b039"
      },
      "outputs": [],
      "source": [
        "df.drop(['dummy1','dummy2'],axis=1,inplace=True)"
      ]
    },
    {
      "cell_type": "code",
      "execution_count": 32,
      "id": "95ef6c40",
      "metadata": {
        "execution": {
          "iopub.execute_input": "2023-06-02T01:56:12.390171Z",
          "iopub.status.busy": "2023-06-02T01:56:12.389752Z",
          "iopub.status.idle": "2023-06-02T01:56:12.398738Z",
          "shell.execute_reply": "2023-06-02T01:56:12.397360Z"
        },
        "papermill": {
          "duration": 0.043603,
          "end_time": "2023-06-02T01:56:12.401016",
          "exception": false,
          "start_time": "2023-06-02T01:56:12.357413",
          "status": "completed"
        },
        "tags": [],
        "colab": {
          "base_uri": "https://localhost:8080/"
        },
        "id": "95ef6c40",
        "outputId": "51f3f785-dc60-4bbd-f154-d63de8cf9a1f"
      },
      "outputs": [
        {
          "output_type": "execute_result",
          "data": {
            "text/plain": [
              "Blue         119\n",
              "Black        115\n",
              "Red           53\n",
              "White         40\n",
              "Gold          34\n",
              "Purple        24\n",
              "Green         21\n",
              "Grey          14\n",
              "Violet         5\n",
              "Gray           4\n",
              "Mint           3\n",
              "Silver         3\n",
              "Greener        3\n",
              "Mist           2\n",
              "Cyan           2\n",
              "Sapphire       2\n",
              "Brick          2\n",
              "Concrete       2\n",
              "Wave           2\n",
              "Edition        2\n",
              "Champagne      1\n",
              "Orange         1\n",
              "Brown          1\n",
              "Sea            1\n",
              "white          1\n",
              "Ruby           1\n",
              "gold           1\n",
              "Name: mobile_color, dtype: int64"
            ]
          },
          "metadata": {},
          "execution_count": 32
        }
      ],
      "source": [
        "df['mobile_color'].value_counts()"
      ]
    },
    {
      "cell_type": "markdown",
      "id": "d7e7887c",
      "metadata": {
        "papermill": {
          "duration": 0.030473,
          "end_time": "2023-06-02T01:56:12.462439",
          "exception": false,
          "start_time": "2023-06-02T01:56:12.431966",
          "status": "completed"
        },
        "tags": [],
        "id": "d7e7887c"
      },
      "source": [
        "sice a few values have either spelling mistakes/case problem, we will correct them"
      ]
    },
    {
      "cell_type": "code",
      "execution_count": 33,
      "id": "98133125",
      "metadata": {
        "execution": {
          "iopub.execute_input": "2023-06-02T01:56:12.528017Z",
          "iopub.status.busy": "2023-06-02T01:56:12.527595Z",
          "iopub.status.idle": "2023-06-02T01:56:12.534074Z",
          "shell.execute_reply": "2023-06-02T01:56:12.533003Z"
        },
        "papermill": {
          "duration": 0.041792,
          "end_time": "2023-06-02T01:56:12.536316",
          "exception": false,
          "start_time": "2023-06-02T01:56:12.494524",
          "status": "completed"
        },
        "tags": [],
        "id": "98133125"
      },
      "outputs": [],
      "source": [
        "df['mobile_color']=df['mobile_color'].replace({'Greener':'Green','white':'White','gold':'Gold','Gray':'Grey'})"
      ]
    },
    {
      "cell_type": "code",
      "execution_count": 34,
      "id": "ede1c9ff",
      "metadata": {
        "execution": {
          "iopub.execute_input": "2023-06-02T01:56:12.600463Z",
          "iopub.status.busy": "2023-06-02T01:56:12.600065Z",
          "iopub.status.idle": "2023-06-02T01:56:12.609395Z",
          "shell.execute_reply": "2023-06-02T01:56:12.608258Z"
        },
        "papermill": {
          "duration": 0.044312,
          "end_time": "2023-06-02T01:56:12.611787",
          "exception": false,
          "start_time": "2023-06-02T01:56:12.567475",
          "status": "completed"
        },
        "tags": [],
        "colab": {
          "base_uri": "https://localhost:8080/"
        },
        "id": "ede1c9ff",
        "outputId": "e670ae00-209b-40c0-face-03de6d87e3fd"
      },
      "outputs": [
        {
          "output_type": "execute_result",
          "data": {
            "text/plain": [
              "Blue         119\n",
              "Black        115\n",
              "Red           53\n",
              "White         41\n",
              "Gold          35\n",
              "Green         24\n",
              "Purple        24\n",
              "Grey          18\n",
              "Violet         5\n",
              "Silver         3\n",
              "Mint           3\n",
              "Edition        2\n",
              "Cyan           2\n",
              "Wave           2\n",
              "Concrete       2\n",
              "Brick          2\n",
              "Sapphire       2\n",
              "Mist           2\n",
              "Brown          1\n",
              "Ruby           1\n",
              "Orange         1\n",
              "Champagne      1\n",
              "Sea            1\n",
              "Name: mobile_color, dtype: int64"
            ]
          },
          "metadata": {},
          "execution_count": 34
        }
      ],
      "source": [
        "df['mobile_color'].value_counts()"
      ]
    },
    {
      "cell_type": "markdown",
      "id": "cdf5098b",
      "metadata": {
        "papermill": {
          "duration": 0.030898,
          "end_time": "2023-06-02T01:56:12.673834",
          "exception": false,
          "start_time": "2023-06-02T01:56:12.642936",
          "status": "completed"
        },
        "tags": [],
        "id": "cdf5098b"
      },
      "source": [
        "in 'mobile_name' column, only brand name should be kept, because it does have a role in pricing, while remaining data is already present in other features"
      ]
    },
    {
      "cell_type": "code",
      "execution_count": 35,
      "id": "39814de0",
      "metadata": {
        "execution": {
          "iopub.execute_input": "2023-06-02T01:56:12.737489Z",
          "iopub.status.busy": "2023-06-02T01:56:12.737076Z",
          "iopub.status.idle": "2023-06-02T01:56:12.746537Z",
          "shell.execute_reply": "2023-06-02T01:56:12.745334Z"
        },
        "papermill": {
          "duration": 0.044255,
          "end_time": "2023-06-02T01:56:12.749108",
          "exception": false,
          "start_time": "2023-06-02T01:56:12.704853",
          "status": "completed"
        },
        "tags": [],
        "id": "39814de0"
      },
      "outputs": [],
      "source": [
        "df[['mobile_name','dummy1','dummy2']]=df['mobile_name'].str.partition(' ')"
      ]
    },
    {
      "cell_type": "code",
      "execution_count": 36,
      "id": "8c58781f",
      "metadata": {
        "execution": {
          "iopub.execute_input": "2023-06-02T01:56:12.814691Z",
          "iopub.status.busy": "2023-06-02T01:56:12.814264Z",
          "iopub.status.idle": "2023-06-02T01:56:12.821537Z",
          "shell.execute_reply": "2023-06-02T01:56:12.820330Z"
        },
        "papermill": {
          "duration": 0.042709,
          "end_time": "2023-06-02T01:56:12.824273",
          "exception": false,
          "start_time": "2023-06-02T01:56:12.781564",
          "status": "completed"
        },
        "tags": [],
        "id": "8c58781f"
      },
      "outputs": [],
      "source": [
        "df.drop(['dummy1','dummy2'],axis=1,inplace=True)"
      ]
    },
    {
      "cell_type": "code",
      "execution_count": 37,
      "id": "0e15bf19",
      "metadata": {
        "execution": {
          "iopub.execute_input": "2023-06-02T01:56:12.888919Z",
          "iopub.status.busy": "2023-06-02T01:56:12.888490Z",
          "iopub.status.idle": "2023-06-02T01:56:12.897969Z",
          "shell.execute_reply": "2023-06-02T01:56:12.896869Z"
        },
        "papermill": {
          "duration": 0.044341,
          "end_time": "2023-06-02T01:56:12.900251",
          "exception": false,
          "start_time": "2023-06-02T01:56:12.855910",
          "status": "completed"
        },
        "tags": [],
        "colab": {
          "base_uri": "https://localhost:8080/"
        },
        "id": "0e15bf19",
        "outputId": "f976fee4-2f74-4b02-a6c7-9a13b5ae0bb7"
      },
      "outputs": [
        {
          "output_type": "execute_result",
          "data": {
            "text/plain": [
              "Vivo       96\n",
              "Redmi      93\n",
              "OPPO       86\n",
              "Realme     79\n",
              "Infinix    36\n",
              "POCO       31\n",
              "Mi         20\n",
              "Samsung    17\n",
              "MI3         1\n",
              "Name: mobile_name, dtype: int64"
            ]
          },
          "metadata": {},
          "execution_count": 37
        }
      ],
      "source": [
        "df['mobile_name'].value_counts()"
      ]
    },
    {
      "cell_type": "code",
      "execution_count": 38,
      "id": "16ebdb86",
      "metadata": {
        "execution": {
          "iopub.execute_input": "2023-06-02T01:56:12.964561Z",
          "iopub.status.busy": "2023-06-02T01:56:12.964160Z",
          "iopub.status.idle": "2023-06-02T01:56:12.972536Z",
          "shell.execute_reply": "2023-06-02T01:56:12.971372Z"
        },
        "papermill": {
          "duration": 0.043442,
          "end_time": "2023-06-02T01:56:12.975116",
          "exception": false,
          "start_time": "2023-06-02T01:56:12.931674",
          "status": "completed"
        },
        "tags": [],
        "colab": {
          "base_uri": "https://localhost:8080/"
        },
        "id": "16ebdb86",
        "outputId": "43ba7407-cbd9-4f5c-e85c-c9d489f2f4e8"
      },
      "outputs": [
        {
          "output_type": "execute_result",
          "data": {
            "text/plain": [
              "0    4G VOLTE, 4G, 3G, 2G\n",
              "1    4G VOLTE, 4G, 3G, 2G\n",
              "2    4G VOLTE, 4G, 3G, 2G\n",
              "3    4G VOLTE, 4G, 3G, 2G\n",
              "4    4G VOLTE, 4G, 3G, 2G\n",
              "Name: network, dtype: object"
            ]
          },
          "metadata": {},
          "execution_count": 38
        }
      ],
      "source": [
        "df['network'].head()"
      ]
    },
    {
      "cell_type": "markdown",
      "id": "4c1343b2",
      "metadata": {
        "papermill": {
          "duration": 0.031942,
          "end_time": "2023-06-02T01:56:13.039289",
          "exception": false,
          "start_time": "2023-06-02T01:56:13.007347",
          "status": "completed"
        },
        "tags": [],
        "id": "4c1343b2"
      },
      "source": [
        "in 'network' feature, the network bandwidth a mobile works on is also cost determining factor.Hence , we will try to One Hot Code them\n",
        "1. first we are removing extra spaces ' ',if not removed might create duplicate columns ahead"
      ]
    },
    {
      "cell_type": "code",
      "execution_count": 39,
      "id": "367e8e19",
      "metadata": {
        "execution": {
          "iopub.execute_input": "2023-06-02T01:56:13.105115Z",
          "iopub.status.busy": "2023-06-02T01:56:13.104685Z",
          "iopub.status.idle": "2023-06-02T01:56:13.111796Z",
          "shell.execute_reply": "2023-06-02T01:56:13.110834Z"
        },
        "papermill": {
          "duration": 0.043416,
          "end_time": "2023-06-02T01:56:13.114110",
          "exception": false,
          "start_time": "2023-06-02T01:56:13.070694",
          "status": "completed"
        },
        "tags": [],
        "id": "367e8e19"
      },
      "outputs": [],
      "source": [
        "df['network']=df['network'].str.replace(' ','')"
      ]
    },
    {
      "cell_type": "markdown",
      "id": "fe85498a",
      "metadata": {
        "papermill": {
          "duration": 0.031545,
          "end_time": "2023-06-02T01:56:13.177477",
          "exception": false,
          "start_time": "2023-06-02T01:56:13.145932",
          "status": "completed"
        },
        "tags": [],
        "id": "fe85498a"
      },
      "source": [
        "2. since they values in the str format are jumbled, we will convert them into a list by splitting and then sorting them"
      ]
    },
    {
      "cell_type": "code",
      "execution_count": 40,
      "id": "f7e9c641",
      "metadata": {
        "execution": {
          "iopub.execute_input": "2023-06-02T01:56:13.242669Z",
          "iopub.status.busy": "2023-06-02T01:56:13.242286Z",
          "iopub.status.idle": "2023-06-02T01:56:13.249338Z",
          "shell.execute_reply": "2023-06-02T01:56:13.248068Z"
        },
        "papermill": {
          "duration": 0.042167,
          "end_time": "2023-06-02T01:56:13.251746",
          "exception": false,
          "start_time": "2023-06-02T01:56:13.209579",
          "status": "completed"
        },
        "tags": [],
        "id": "f7e9c641"
      },
      "outputs": [],
      "source": [
        "df['network']=df['network'].apply(lambda x: sorted(x.split(',')))"
      ]
    },
    {
      "cell_type": "code",
      "execution_count": 41,
      "id": "b71768eb",
      "metadata": {
        "execution": {
          "iopub.execute_input": "2023-06-02T01:56:13.317206Z",
          "iopub.status.busy": "2023-06-02T01:56:13.316775Z",
          "iopub.status.idle": "2023-06-02T01:56:13.330080Z",
          "shell.execute_reply": "2023-06-02T01:56:13.329300Z"
        },
        "papermill": {
          "duration": 0.048953,
          "end_time": "2023-06-02T01:56:13.332231",
          "exception": false,
          "start_time": "2023-06-02T01:56:13.283278",
          "status": "completed"
        },
        "tags": [],
        "colab": {
          "base_uri": "https://localhost:8080/"
        },
        "id": "b71768eb",
        "outputId": "2025c4c0-b8cb-47c3-dcd3-40efbea5c961"
      },
      "outputs": [
        {
          "output_type": "execute_result",
          "data": {
            "text/plain": [
              "[2G, 3G, 4G, 4GVOLTE]        238\n",
              "[2G, 3G, 4GVOLTE]             99\n",
              "[2G, 3G, 4G]                  68\n",
              "[3G, 4GVOLTE]                 18\n",
              "[3G, 4G, 4GVOLTE]             13\n",
              "[4GVOLTE]                      8\n",
              "[4GVOLTE, 5G]                  4\n",
              "[2G, 3G, 4G, 4GVOLTE, 5G]      3\n",
              "[4G, 4GVOLTE]                  3\n",
              "[2G]                           2\n",
              "[3G, 4G]                       2\n",
              "[3G]                           1\n",
              "Name: network, dtype: int64"
            ]
          },
          "metadata": {},
          "execution_count": 41
        }
      ],
      "source": [
        "df['network'].value_counts()"
      ]
    },
    {
      "cell_type": "markdown",
      "id": "4dc0baea",
      "metadata": {
        "papermill": {
          "duration": 0.031466,
          "end_time": "2023-06-02T01:56:13.395482",
          "exception": false,
          "start_time": "2023-06-02T01:56:13.364016",
          "status": "completed"
        },
        "tags": [],
        "id": "4dc0baea"
      },
      "source": [
        "3. lastly we use this MultiLabelBinarizer to split the values in list same as when we use pd.get_dummies"
      ]
    },
    {
      "cell_type": "code",
      "execution_count": 42,
      "id": "4e036c39",
      "metadata": {
        "execution": {
          "iopub.execute_input": "2023-06-02T01:56:13.462465Z",
          "iopub.status.busy": "2023-06-02T01:56:13.461369Z",
          "iopub.status.idle": "2023-06-02T01:56:14.928906Z",
          "shell.execute_reply": "2023-06-02T01:56:14.927592Z"
        },
        "papermill": {
          "duration": 1.503849,
          "end_time": "2023-06-02T01:56:14.931585",
          "exception": false,
          "start_time": "2023-06-02T01:56:13.427736",
          "status": "completed"
        },
        "tags": [],
        "id": "4e036c39"
      },
      "outputs": [],
      "source": [
        "from sklearn.preprocessing import MultiLabelBinarizer\n",
        "\n",
        "mlb=MultiLabelBinarizer()\n",
        "dg=pd.DataFrame(mlb.fit_transform(df['network']),columns=mlb.classes_,index=df.index)"
      ]
    },
    {
      "cell_type": "code",
      "execution_count": 43,
      "id": "5f4289d3",
      "metadata": {
        "execution": {
          "iopub.execute_input": "2023-06-02T01:56:14.998107Z",
          "iopub.status.busy": "2023-06-02T01:56:14.997373Z",
          "iopub.status.idle": "2023-06-02T01:56:15.010797Z",
          "shell.execute_reply": "2023-06-02T01:56:15.009995Z"
        },
        "papermill": {
          "duration": 0.049146,
          "end_time": "2023-06-02T01:56:15.013086",
          "exception": false,
          "start_time": "2023-06-02T01:56:14.963940",
          "status": "completed"
        },
        "tags": [],
        "colab": {
          "base_uri": "https://localhost:8080/",
          "height": 424
        },
        "id": "5f4289d3",
        "outputId": "5e87af45-98e5-418f-a0c8-ccd9a96aabd4"
      },
      "outputs": [
        {
          "output_type": "execute_result",
          "data": {
            "text/plain": [
              "     2G  3G  4G  4GVOLTE  5G\n",
              "0     1   1   1        1   0\n",
              "1     1   1   1        1   0\n",
              "2     1   1   1        1   0\n",
              "3     1   1   1        1   0\n",
              "4     1   1   1        1   0\n",
              "..   ..  ..  ..      ...  ..\n",
              "454   1   1   0        1   0\n",
              "455   1   1   1        1   0\n",
              "456   1   1   1        0   0\n",
              "457   1   1   1        1   0\n",
              "458   1   1   1        1   0\n",
              "\n",
              "[459 rows x 5 columns]"
            ],
            "text/html": [
              "\n",
              "\n",
              "  <div id=\"df-796017b5-a2a2-412b-bf2f-44394cb95ab7\">\n",
              "    <div class=\"colab-df-container\">\n",
              "      <div>\n",
              "<style scoped>\n",
              "    .dataframe tbody tr th:only-of-type {\n",
              "        vertical-align: middle;\n",
              "    }\n",
              "\n",
              "    .dataframe tbody tr th {\n",
              "        vertical-align: top;\n",
              "    }\n",
              "\n",
              "    .dataframe thead th {\n",
              "        text-align: right;\n",
              "    }\n",
              "</style>\n",
              "<table border=\"1\" class=\"dataframe\">\n",
              "  <thead>\n",
              "    <tr style=\"text-align: right;\">\n",
              "      <th></th>\n",
              "      <th>2G</th>\n",
              "      <th>3G</th>\n",
              "      <th>4G</th>\n",
              "      <th>4GVOLTE</th>\n",
              "      <th>5G</th>\n",
              "    </tr>\n",
              "  </thead>\n",
              "  <tbody>\n",
              "    <tr>\n",
              "      <th>0</th>\n",
              "      <td>1</td>\n",
              "      <td>1</td>\n",
              "      <td>1</td>\n",
              "      <td>1</td>\n",
              "      <td>0</td>\n",
              "    </tr>\n",
              "    <tr>\n",
              "      <th>1</th>\n",
              "      <td>1</td>\n",
              "      <td>1</td>\n",
              "      <td>1</td>\n",
              "      <td>1</td>\n",
              "      <td>0</td>\n",
              "    </tr>\n",
              "    <tr>\n",
              "      <th>2</th>\n",
              "      <td>1</td>\n",
              "      <td>1</td>\n",
              "      <td>1</td>\n",
              "      <td>1</td>\n",
              "      <td>0</td>\n",
              "    </tr>\n",
              "    <tr>\n",
              "      <th>3</th>\n",
              "      <td>1</td>\n",
              "      <td>1</td>\n",
              "      <td>1</td>\n",
              "      <td>1</td>\n",
              "      <td>0</td>\n",
              "    </tr>\n",
              "    <tr>\n",
              "      <th>4</th>\n",
              "      <td>1</td>\n",
              "      <td>1</td>\n",
              "      <td>1</td>\n",
              "      <td>1</td>\n",
              "      <td>0</td>\n",
              "    </tr>\n",
              "    <tr>\n",
              "      <th>...</th>\n",
              "      <td>...</td>\n",
              "      <td>...</td>\n",
              "      <td>...</td>\n",
              "      <td>...</td>\n",
              "      <td>...</td>\n",
              "    </tr>\n",
              "    <tr>\n",
              "      <th>454</th>\n",
              "      <td>1</td>\n",
              "      <td>1</td>\n",
              "      <td>0</td>\n",
              "      <td>1</td>\n",
              "      <td>0</td>\n",
              "    </tr>\n",
              "    <tr>\n",
              "      <th>455</th>\n",
              "      <td>1</td>\n",
              "      <td>1</td>\n",
              "      <td>1</td>\n",
              "      <td>1</td>\n",
              "      <td>0</td>\n",
              "    </tr>\n",
              "    <tr>\n",
              "      <th>456</th>\n",
              "      <td>1</td>\n",
              "      <td>1</td>\n",
              "      <td>1</td>\n",
              "      <td>0</td>\n",
              "      <td>0</td>\n",
              "    </tr>\n",
              "    <tr>\n",
              "      <th>457</th>\n",
              "      <td>1</td>\n",
              "      <td>1</td>\n",
              "      <td>1</td>\n",
              "      <td>1</td>\n",
              "      <td>0</td>\n",
              "    </tr>\n",
              "    <tr>\n",
              "      <th>458</th>\n",
              "      <td>1</td>\n",
              "      <td>1</td>\n",
              "      <td>1</td>\n",
              "      <td>1</td>\n",
              "      <td>0</td>\n",
              "    </tr>\n",
              "  </tbody>\n",
              "</table>\n",
              "<p>459 rows × 5 columns</p>\n",
              "</div>\n",
              "      <button class=\"colab-df-convert\" onclick=\"convertToInteractive('df-796017b5-a2a2-412b-bf2f-44394cb95ab7')\"\n",
              "              title=\"Convert this dataframe to an interactive table.\"\n",
              "              style=\"display:none;\">\n",
              "\n",
              "  <svg xmlns=\"http://www.w3.org/2000/svg\" height=\"24px\"viewBox=\"0 0 24 24\"\n",
              "       width=\"24px\">\n",
              "    <path d=\"M0 0h24v24H0V0z\" fill=\"none\"/>\n",
              "    <path d=\"M18.56 5.44l.94 2.06.94-2.06 2.06-.94-2.06-.94-.94-2.06-.94 2.06-2.06.94zm-11 1L8.5 8.5l.94-2.06 2.06-.94-2.06-.94L8.5 2.5l-.94 2.06-2.06.94zm10 10l.94 2.06.94-2.06 2.06-.94-2.06-.94-.94-2.06-.94 2.06-2.06.94z\"/><path d=\"M17.41 7.96l-1.37-1.37c-.4-.4-.92-.59-1.43-.59-.52 0-1.04.2-1.43.59L10.3 9.45l-7.72 7.72c-.78.78-.78 2.05 0 2.83L4 21.41c.39.39.9.59 1.41.59.51 0 1.02-.2 1.41-.59l7.78-7.78 2.81-2.81c.8-.78.8-2.07 0-2.86zM5.41 20L4 18.59l7.72-7.72 1.47 1.35L5.41 20z\"/>\n",
              "  </svg>\n",
              "      </button>\n",
              "\n",
              "\n",
              "\n",
              "    <div id=\"df-62a40422-1e71-4a37-82fa-717d1055ea70\">\n",
              "      <button class=\"colab-df-quickchart\" onclick=\"quickchart('df-62a40422-1e71-4a37-82fa-717d1055ea70')\"\n",
              "              title=\"Suggest charts.\"\n",
              "              style=\"display:none;\">\n",
              "\n",
              "<svg xmlns=\"http://www.w3.org/2000/svg\" height=\"24px\"viewBox=\"0 0 24 24\"\n",
              "     width=\"24px\">\n",
              "    <g>\n",
              "        <path d=\"M19 3H5c-1.1 0-2 .9-2 2v14c0 1.1.9 2 2 2h14c1.1 0 2-.9 2-2V5c0-1.1-.9-2-2-2zM9 17H7v-7h2v7zm4 0h-2V7h2v10zm4 0h-2v-4h2v4z\"/>\n",
              "    </g>\n",
              "</svg>\n",
              "      </button>\n",
              "    </div>\n",
              "\n",
              "<style>\n",
              "  .colab-df-quickchart {\n",
              "    background-color: #E8F0FE;\n",
              "    border: none;\n",
              "    border-radius: 50%;\n",
              "    cursor: pointer;\n",
              "    display: none;\n",
              "    fill: #1967D2;\n",
              "    height: 32px;\n",
              "    padding: 0 0 0 0;\n",
              "    width: 32px;\n",
              "  }\n",
              "\n",
              "  .colab-df-quickchart:hover {\n",
              "    background-color: #E2EBFA;\n",
              "    box-shadow: 0px 1px 2px rgba(60, 64, 67, 0.3), 0px 1px 3px 1px rgba(60, 64, 67, 0.15);\n",
              "    fill: #174EA6;\n",
              "  }\n",
              "\n",
              "  [theme=dark] .colab-df-quickchart {\n",
              "    background-color: #3B4455;\n",
              "    fill: #D2E3FC;\n",
              "  }\n",
              "\n",
              "  [theme=dark] .colab-df-quickchart:hover {\n",
              "    background-color: #434B5C;\n",
              "    box-shadow: 0px 1px 3px 1px rgba(0, 0, 0, 0.15);\n",
              "    filter: drop-shadow(0px 1px 2px rgba(0, 0, 0, 0.3));\n",
              "    fill: #FFFFFF;\n",
              "  }\n",
              "</style>\n",
              "\n",
              "    <script>\n",
              "      async function quickchart(key) {\n",
              "        const containerElement = document.querySelector('#' + key);\n",
              "        const charts = await google.colab.kernel.invokeFunction(\n",
              "            'suggestCharts', [key], {});\n",
              "      }\n",
              "    </script>\n",
              "\n",
              "\n",
              "      <script>\n",
              "\n",
              "function displayQuickchartButton(domScope) {\n",
              "  let quickchartButtonEl =\n",
              "    domScope.querySelector('#df-62a40422-1e71-4a37-82fa-717d1055ea70 button.colab-df-quickchart');\n",
              "  quickchartButtonEl.style.display =\n",
              "    google.colab.kernel.accessAllowed ? 'block' : 'none';\n",
              "}\n",
              "\n",
              "        displayQuickchartButton(document);\n",
              "      </script>\n",
              "      <style>\n",
              "    .colab-df-container {\n",
              "      display:flex;\n",
              "      flex-wrap:wrap;\n",
              "      gap: 12px;\n",
              "    }\n",
              "\n",
              "    .colab-df-convert {\n",
              "      background-color: #E8F0FE;\n",
              "      border: none;\n",
              "      border-radius: 50%;\n",
              "      cursor: pointer;\n",
              "      display: none;\n",
              "      fill: #1967D2;\n",
              "      height: 32px;\n",
              "      padding: 0 0 0 0;\n",
              "      width: 32px;\n",
              "    }\n",
              "\n",
              "    .colab-df-convert:hover {\n",
              "      background-color: #E2EBFA;\n",
              "      box-shadow: 0px 1px 2px rgba(60, 64, 67, 0.3), 0px 1px 3px 1px rgba(60, 64, 67, 0.15);\n",
              "      fill: #174EA6;\n",
              "    }\n",
              "\n",
              "    [theme=dark] .colab-df-convert {\n",
              "      background-color: #3B4455;\n",
              "      fill: #D2E3FC;\n",
              "    }\n",
              "\n",
              "    [theme=dark] .colab-df-convert:hover {\n",
              "      background-color: #434B5C;\n",
              "      box-shadow: 0px 1px 3px 1px rgba(0, 0, 0, 0.15);\n",
              "      filter: drop-shadow(0px 1px 2px rgba(0, 0, 0, 0.3));\n",
              "      fill: #FFFFFF;\n",
              "    }\n",
              "  </style>\n",
              "\n",
              "      <script>\n",
              "        const buttonEl =\n",
              "          document.querySelector('#df-796017b5-a2a2-412b-bf2f-44394cb95ab7 button.colab-df-convert');\n",
              "        buttonEl.style.display =\n",
              "          google.colab.kernel.accessAllowed ? 'block' : 'none';\n",
              "\n",
              "        async function convertToInteractive(key) {\n",
              "          const element = document.querySelector('#df-796017b5-a2a2-412b-bf2f-44394cb95ab7');\n",
              "          const dataTable =\n",
              "            await google.colab.kernel.invokeFunction('convertToInteractive',\n",
              "                                                     [key], {});\n",
              "          if (!dataTable) return;\n",
              "\n",
              "          const docLinkHtml = 'Like what you see? Visit the ' +\n",
              "            '<a target=\"_blank\" href=https://colab.research.google.com/notebooks/data_table.ipynb>data table notebook</a>'\n",
              "            + ' to learn more about interactive tables.';\n",
              "          element.innerHTML = '';\n",
              "          dataTable['output_type'] = 'display_data';\n",
              "          await google.colab.output.renderOutput(dataTable, element);\n",
              "          const docLink = document.createElement('div');\n",
              "          docLink.innerHTML = docLinkHtml;\n",
              "          element.appendChild(docLink);\n",
              "        }\n",
              "      </script>\n",
              "    </div>\n",
              "  </div>\n"
            ]
          },
          "metadata": {},
          "execution_count": 43
        }
      ],
      "source": [
        "dg"
      ]
    },
    {
      "cell_type": "markdown",
      "id": "f451c563",
      "metadata": {
        "papermill": {
          "duration": 0.031934,
          "end_time": "2023-06-02T01:56:15.077116",
          "exception": false,
          "start_time": "2023-06-02T01:56:15.045182",
          "status": "completed"
        },
        "tags": [],
        "id": "f451c563"
      },
      "source": [
        "merging newly formed dg with existing df, and dropping df['network]"
      ]
    },
    {
      "cell_type": "code",
      "execution_count": 44,
      "id": "3fc6cb39",
      "metadata": {
        "execution": {
          "iopub.execute_input": "2023-06-02T01:56:15.143723Z",
          "iopub.status.busy": "2023-06-02T01:56:15.143007Z",
          "iopub.status.idle": "2023-06-02T01:56:15.151117Z",
          "shell.execute_reply": "2023-06-02T01:56:15.150191Z"
        },
        "papermill": {
          "duration": 0.044217,
          "end_time": "2023-06-02T01:56:15.153425",
          "exception": false,
          "start_time": "2023-06-02T01:56:15.109208",
          "status": "completed"
        },
        "tags": [],
        "id": "3fc6cb39"
      },
      "outputs": [],
      "source": [
        "df=pd.merge(df,dg,left_index=True,right_index=True)"
      ]
    },
    {
      "cell_type": "code",
      "execution_count": 45,
      "id": "8e126283",
      "metadata": {
        "execution": {
          "iopub.execute_input": "2023-06-02T01:56:15.219606Z",
          "iopub.status.busy": "2023-06-02T01:56:15.218871Z",
          "iopub.status.idle": "2023-06-02T01:56:15.225407Z",
          "shell.execute_reply": "2023-06-02T01:56:15.224484Z"
        },
        "papermill": {
          "duration": 0.042099,
          "end_time": "2023-06-02T01:56:15.227544",
          "exception": false,
          "start_time": "2023-06-02T01:56:15.185445",
          "status": "completed"
        },
        "tags": [],
        "id": "8e126283"
      },
      "outputs": [],
      "source": [
        "df.drop('network',axis=1,inplace=True)"
      ]
    },
    {
      "cell_type": "code",
      "execution_count": 46,
      "id": "1a1ee93b",
      "metadata": {
        "execution": {
          "iopub.execute_input": "2023-06-02T01:56:15.293553Z",
          "iopub.status.busy": "2023-06-02T01:56:15.292829Z",
          "iopub.status.idle": "2023-06-02T01:56:15.316401Z",
          "shell.execute_reply": "2023-06-02T01:56:15.315315Z"
        },
        "papermill": {
          "duration": 0.059455,
          "end_time": "2023-06-02T01:56:15.318911",
          "exception": false,
          "start_time": "2023-06-02T01:56:15.259456",
          "status": "completed"
        },
        "tags": [],
        "colab": {
          "base_uri": "https://localhost:8080/",
          "height": 386
        },
        "id": "1a1ee93b",
        "outputId": "0955d852-ed84-4654-e676-3a4c2c6320e4"
      },
      "outputs": [
        {
          "output_type": "execute_result",
          "data": {
            "text/plain": [
              "  mobile_name mobile_price mobile_color             disp_size  \\\n",
              "0      Realme         8999        White  16.56 cm (6.52 inch)   \n",
              "1      Realme         8999         Blue  16.56 cm (6.52 inch)   \n",
              "2      Realme         9999         Blue  16.56 cm (6.52 inch)   \n",
              "3      Realme         9999        White  16.56 cm (6.52 inch)   \n",
              "4      Realme        11999        Green   16.51 cm (6.5 inch)   \n",
              "\n",
              "          resolution  os  num_cores mp_speed int_memory ram  ...  \\\n",
              "0  1600 x 720 Pixels  10          8       2         32   3   ...   \n",
              "1  1600 x 720 Pixels  10          8       2         32   3   ...   \n",
              "2  1600 x 720 Pixels  10          8       2         64   4   ...   \n",
              "3  1600 x 720 Pixels  10          8       2         64   4   ...   \n",
              "4  1600 x 720 Pixels  10          8       2        128   4   ...   \n",
              "\n",
              "  battery_power mob_width mob_height mob_depth mob_weight 2G 3G  4G  4GVOLTE  \\\n",
              "0         5000        75      164.4      8.95        195   1  1   1        1   \n",
              "1         5000        75      164.4      8.95        195   1  1   1        1   \n",
              "2         5000        75      164.4      8.95        195   1  1   1        1   \n",
              "3         5000        75      164.4      8.95        195   1  1   1        1   \n",
              "4         5000      75.4      164.4         9        199   1  1   1        1   \n",
              "\n",
              "   5G  \n",
              "0   0  \n",
              "1   0  \n",
              "2   0  \n",
              "3   0  \n",
              "4   0  \n",
              "\n",
              "[5 rows x 22 columns]"
            ],
            "text/html": [
              "\n",
              "\n",
              "  <div id=\"df-a40826f4-5729-4c9f-bb34-590d82a90291\">\n",
              "    <div class=\"colab-df-container\">\n",
              "      <div>\n",
              "<style scoped>\n",
              "    .dataframe tbody tr th:only-of-type {\n",
              "        vertical-align: middle;\n",
              "    }\n",
              "\n",
              "    .dataframe tbody tr th {\n",
              "        vertical-align: top;\n",
              "    }\n",
              "\n",
              "    .dataframe thead th {\n",
              "        text-align: right;\n",
              "    }\n",
              "</style>\n",
              "<table border=\"1\" class=\"dataframe\">\n",
              "  <thead>\n",
              "    <tr style=\"text-align: right;\">\n",
              "      <th></th>\n",
              "      <th>mobile_name</th>\n",
              "      <th>mobile_price</th>\n",
              "      <th>mobile_color</th>\n",
              "      <th>disp_size</th>\n",
              "      <th>resolution</th>\n",
              "      <th>os</th>\n",
              "      <th>num_cores</th>\n",
              "      <th>mp_speed</th>\n",
              "      <th>int_memory</th>\n",
              "      <th>ram</th>\n",
              "      <th>...</th>\n",
              "      <th>battery_power</th>\n",
              "      <th>mob_width</th>\n",
              "      <th>mob_height</th>\n",
              "      <th>mob_depth</th>\n",
              "      <th>mob_weight</th>\n",
              "      <th>2G</th>\n",
              "      <th>3G</th>\n",
              "      <th>4G</th>\n",
              "      <th>4GVOLTE</th>\n",
              "      <th>5G</th>\n",
              "    </tr>\n",
              "  </thead>\n",
              "  <tbody>\n",
              "    <tr>\n",
              "      <th>0</th>\n",
              "      <td>Realme</td>\n",
              "      <td>8999</td>\n",
              "      <td>White</td>\n",
              "      <td>16.56 cm (6.52 inch)</td>\n",
              "      <td>1600 x 720 Pixels</td>\n",
              "      <td>10</td>\n",
              "      <td>8</td>\n",
              "      <td>2</td>\n",
              "      <td>32</td>\n",
              "      <td>3</td>\n",
              "      <td>...</td>\n",
              "      <td>5000</td>\n",
              "      <td>75</td>\n",
              "      <td>164.4</td>\n",
              "      <td>8.95</td>\n",
              "      <td>195</td>\n",
              "      <td>1</td>\n",
              "      <td>1</td>\n",
              "      <td>1</td>\n",
              "      <td>1</td>\n",
              "      <td>0</td>\n",
              "    </tr>\n",
              "    <tr>\n",
              "      <th>1</th>\n",
              "      <td>Realme</td>\n",
              "      <td>8999</td>\n",
              "      <td>Blue</td>\n",
              "      <td>16.56 cm (6.52 inch)</td>\n",
              "      <td>1600 x 720 Pixels</td>\n",
              "      <td>10</td>\n",
              "      <td>8</td>\n",
              "      <td>2</td>\n",
              "      <td>32</td>\n",
              "      <td>3</td>\n",
              "      <td>...</td>\n",
              "      <td>5000</td>\n",
              "      <td>75</td>\n",
              "      <td>164.4</td>\n",
              "      <td>8.95</td>\n",
              "      <td>195</td>\n",
              "      <td>1</td>\n",
              "      <td>1</td>\n",
              "      <td>1</td>\n",
              "      <td>1</td>\n",
              "      <td>0</td>\n",
              "    </tr>\n",
              "    <tr>\n",
              "      <th>2</th>\n",
              "      <td>Realme</td>\n",
              "      <td>9999</td>\n",
              "      <td>Blue</td>\n",
              "      <td>16.56 cm (6.52 inch)</td>\n",
              "      <td>1600 x 720 Pixels</td>\n",
              "      <td>10</td>\n",
              "      <td>8</td>\n",
              "      <td>2</td>\n",
              "      <td>64</td>\n",
              "      <td>4</td>\n",
              "      <td>...</td>\n",
              "      <td>5000</td>\n",
              "      <td>75</td>\n",
              "      <td>164.4</td>\n",
              "      <td>8.95</td>\n",
              "      <td>195</td>\n",
              "      <td>1</td>\n",
              "      <td>1</td>\n",
              "      <td>1</td>\n",
              "      <td>1</td>\n",
              "      <td>0</td>\n",
              "    </tr>\n",
              "    <tr>\n",
              "      <th>3</th>\n",
              "      <td>Realme</td>\n",
              "      <td>9999</td>\n",
              "      <td>White</td>\n",
              "      <td>16.56 cm (6.52 inch)</td>\n",
              "      <td>1600 x 720 Pixels</td>\n",
              "      <td>10</td>\n",
              "      <td>8</td>\n",
              "      <td>2</td>\n",
              "      <td>64</td>\n",
              "      <td>4</td>\n",
              "      <td>...</td>\n",
              "      <td>5000</td>\n",
              "      <td>75</td>\n",
              "      <td>164.4</td>\n",
              "      <td>8.95</td>\n",
              "      <td>195</td>\n",
              "      <td>1</td>\n",
              "      <td>1</td>\n",
              "      <td>1</td>\n",
              "      <td>1</td>\n",
              "      <td>0</td>\n",
              "    </tr>\n",
              "    <tr>\n",
              "      <th>4</th>\n",
              "      <td>Realme</td>\n",
              "      <td>11999</td>\n",
              "      <td>Green</td>\n",
              "      <td>16.51 cm (6.5 inch)</td>\n",
              "      <td>1600 x 720 Pixels</td>\n",
              "      <td>10</td>\n",
              "      <td>8</td>\n",
              "      <td>2</td>\n",
              "      <td>128</td>\n",
              "      <td>4</td>\n",
              "      <td>...</td>\n",
              "      <td>5000</td>\n",
              "      <td>75.4</td>\n",
              "      <td>164.4</td>\n",
              "      <td>9</td>\n",
              "      <td>199</td>\n",
              "      <td>1</td>\n",
              "      <td>1</td>\n",
              "      <td>1</td>\n",
              "      <td>1</td>\n",
              "      <td>0</td>\n",
              "    </tr>\n",
              "  </tbody>\n",
              "</table>\n",
              "<p>5 rows × 22 columns</p>\n",
              "</div>\n",
              "      <button class=\"colab-df-convert\" onclick=\"convertToInteractive('df-a40826f4-5729-4c9f-bb34-590d82a90291')\"\n",
              "              title=\"Convert this dataframe to an interactive table.\"\n",
              "              style=\"display:none;\">\n",
              "\n",
              "  <svg xmlns=\"http://www.w3.org/2000/svg\" height=\"24px\"viewBox=\"0 0 24 24\"\n",
              "       width=\"24px\">\n",
              "    <path d=\"M0 0h24v24H0V0z\" fill=\"none\"/>\n",
              "    <path d=\"M18.56 5.44l.94 2.06.94-2.06 2.06-.94-2.06-.94-.94-2.06-.94 2.06-2.06.94zm-11 1L8.5 8.5l.94-2.06 2.06-.94-2.06-.94L8.5 2.5l-.94 2.06-2.06.94zm10 10l.94 2.06.94-2.06 2.06-.94-2.06-.94-.94-2.06-.94 2.06-2.06.94z\"/><path d=\"M17.41 7.96l-1.37-1.37c-.4-.4-.92-.59-1.43-.59-.52 0-1.04.2-1.43.59L10.3 9.45l-7.72 7.72c-.78.78-.78 2.05 0 2.83L4 21.41c.39.39.9.59 1.41.59.51 0 1.02-.2 1.41-.59l7.78-7.78 2.81-2.81c.8-.78.8-2.07 0-2.86zM5.41 20L4 18.59l7.72-7.72 1.47 1.35L5.41 20z\"/>\n",
              "  </svg>\n",
              "      </button>\n",
              "\n",
              "\n",
              "\n",
              "    <div id=\"df-c078f02b-9dbe-4ce2-92c6-92775475cf5a\">\n",
              "      <button class=\"colab-df-quickchart\" onclick=\"quickchart('df-c078f02b-9dbe-4ce2-92c6-92775475cf5a')\"\n",
              "              title=\"Suggest charts.\"\n",
              "              style=\"display:none;\">\n",
              "\n",
              "<svg xmlns=\"http://www.w3.org/2000/svg\" height=\"24px\"viewBox=\"0 0 24 24\"\n",
              "     width=\"24px\">\n",
              "    <g>\n",
              "        <path d=\"M19 3H5c-1.1 0-2 .9-2 2v14c0 1.1.9 2 2 2h14c1.1 0 2-.9 2-2V5c0-1.1-.9-2-2-2zM9 17H7v-7h2v7zm4 0h-2V7h2v10zm4 0h-2v-4h2v4z\"/>\n",
              "    </g>\n",
              "</svg>\n",
              "      </button>\n",
              "    </div>\n",
              "\n",
              "<style>\n",
              "  .colab-df-quickchart {\n",
              "    background-color: #E8F0FE;\n",
              "    border: none;\n",
              "    border-radius: 50%;\n",
              "    cursor: pointer;\n",
              "    display: none;\n",
              "    fill: #1967D2;\n",
              "    height: 32px;\n",
              "    padding: 0 0 0 0;\n",
              "    width: 32px;\n",
              "  }\n",
              "\n",
              "  .colab-df-quickchart:hover {\n",
              "    background-color: #E2EBFA;\n",
              "    box-shadow: 0px 1px 2px rgba(60, 64, 67, 0.3), 0px 1px 3px 1px rgba(60, 64, 67, 0.15);\n",
              "    fill: #174EA6;\n",
              "  }\n",
              "\n",
              "  [theme=dark] .colab-df-quickchart {\n",
              "    background-color: #3B4455;\n",
              "    fill: #D2E3FC;\n",
              "  }\n",
              "\n",
              "  [theme=dark] .colab-df-quickchart:hover {\n",
              "    background-color: #434B5C;\n",
              "    box-shadow: 0px 1px 3px 1px rgba(0, 0, 0, 0.15);\n",
              "    filter: drop-shadow(0px 1px 2px rgba(0, 0, 0, 0.3));\n",
              "    fill: #FFFFFF;\n",
              "  }\n",
              "</style>\n",
              "\n",
              "    <script>\n",
              "      async function quickchart(key) {\n",
              "        const containerElement = document.querySelector('#' + key);\n",
              "        const charts = await google.colab.kernel.invokeFunction(\n",
              "            'suggestCharts', [key], {});\n",
              "      }\n",
              "    </script>\n",
              "\n",
              "\n",
              "      <script>\n",
              "\n",
              "function displayQuickchartButton(domScope) {\n",
              "  let quickchartButtonEl =\n",
              "    domScope.querySelector('#df-c078f02b-9dbe-4ce2-92c6-92775475cf5a button.colab-df-quickchart');\n",
              "  quickchartButtonEl.style.display =\n",
              "    google.colab.kernel.accessAllowed ? 'block' : 'none';\n",
              "}\n",
              "\n",
              "        displayQuickchartButton(document);\n",
              "      </script>\n",
              "      <style>\n",
              "    .colab-df-container {\n",
              "      display:flex;\n",
              "      flex-wrap:wrap;\n",
              "      gap: 12px;\n",
              "    }\n",
              "\n",
              "    .colab-df-convert {\n",
              "      background-color: #E8F0FE;\n",
              "      border: none;\n",
              "      border-radius: 50%;\n",
              "      cursor: pointer;\n",
              "      display: none;\n",
              "      fill: #1967D2;\n",
              "      height: 32px;\n",
              "      padding: 0 0 0 0;\n",
              "      width: 32px;\n",
              "    }\n",
              "\n",
              "    .colab-df-convert:hover {\n",
              "      background-color: #E2EBFA;\n",
              "      box-shadow: 0px 1px 2px rgba(60, 64, 67, 0.3), 0px 1px 3px 1px rgba(60, 64, 67, 0.15);\n",
              "      fill: #174EA6;\n",
              "    }\n",
              "\n",
              "    [theme=dark] .colab-df-convert {\n",
              "      background-color: #3B4455;\n",
              "      fill: #D2E3FC;\n",
              "    }\n",
              "\n",
              "    [theme=dark] .colab-df-convert:hover {\n",
              "      background-color: #434B5C;\n",
              "      box-shadow: 0px 1px 3px 1px rgba(0, 0, 0, 0.15);\n",
              "      filter: drop-shadow(0px 1px 2px rgba(0, 0, 0, 0.3));\n",
              "      fill: #FFFFFF;\n",
              "    }\n",
              "  </style>\n",
              "\n",
              "      <script>\n",
              "        const buttonEl =\n",
              "          document.querySelector('#df-a40826f4-5729-4c9f-bb34-590d82a90291 button.colab-df-convert');\n",
              "        buttonEl.style.display =\n",
              "          google.colab.kernel.accessAllowed ? 'block' : 'none';\n",
              "\n",
              "        async function convertToInteractive(key) {\n",
              "          const element = document.querySelector('#df-a40826f4-5729-4c9f-bb34-590d82a90291');\n",
              "          const dataTable =\n",
              "            await google.colab.kernel.invokeFunction('convertToInteractive',\n",
              "                                                     [key], {});\n",
              "          if (!dataTable) return;\n",
              "\n",
              "          const docLinkHtml = 'Like what you see? Visit the ' +\n",
              "            '<a target=\"_blank\" href=https://colab.research.google.com/notebooks/data_table.ipynb>data table notebook</a>'\n",
              "            + ' to learn more about interactive tables.';\n",
              "          element.innerHTML = '';\n",
              "          dataTable['output_type'] = 'display_data';\n",
              "          await google.colab.output.renderOutput(dataTable, element);\n",
              "          const docLink = document.createElement('div');\n",
              "          docLink.innerHTML = docLinkHtml;\n",
              "          element.appendChild(docLink);\n",
              "        }\n",
              "      </script>\n",
              "    </div>\n",
              "  </div>\n"
            ]
          },
          "metadata": {},
          "execution_count": 46
        }
      ],
      "source": [
        "df.head()"
      ]
    },
    {
      "cell_type": "markdown",
      "id": "f55a3dd7",
      "metadata": {
        "papermill": {
          "duration": 0.032286,
          "end_time": "2023-06-02T01:56:15.383315",
          "exception": false,
          "start_time": "2023-06-02T01:56:15.351029",
          "status": "completed"
        },
        "tags": [],
        "id": "f55a3dd7"
      },
      "source": [
        "feature 'disp_size' consist of size in inches & cm, we will discard inches as cm gives more precise value"
      ]
    },
    {
      "cell_type": "code",
      "execution_count": 47,
      "id": "b8827479",
      "metadata": {
        "execution": {
          "iopub.execute_input": "2023-06-02T01:56:15.454492Z",
          "iopub.status.busy": "2023-06-02T01:56:15.454036Z",
          "iopub.status.idle": "2023-06-02T01:56:15.461984Z",
          "shell.execute_reply": "2023-06-02T01:56:15.460877Z"
        },
        "papermill": {
          "duration": 0.048768,
          "end_time": "2023-06-02T01:56:15.464348",
          "exception": false,
          "start_time": "2023-06-02T01:56:15.415580",
          "status": "completed"
        },
        "tags": [],
        "id": "b8827479"
      },
      "outputs": [],
      "source": [
        "df['disp_size']=df['disp_size'].replace('\\scm\\s\\(.+\\)','',regex=True)"
      ]
    },
    {
      "cell_type": "code",
      "execution_count": 48,
      "id": "31851068",
      "metadata": {
        "execution": {
          "iopub.execute_input": "2023-06-02T01:56:15.532294Z",
          "iopub.status.busy": "2023-06-02T01:56:15.531842Z",
          "iopub.status.idle": "2023-06-02T01:56:15.539461Z",
          "shell.execute_reply": "2023-06-02T01:56:15.538394Z"
        },
        "papermill": {
          "duration": 0.04428,
          "end_time": "2023-06-02T01:56:15.541893",
          "exception": false,
          "start_time": "2023-06-02T01:56:15.497613",
          "status": "completed"
        },
        "tags": [],
        "colab": {
          "base_uri": "https://localhost:8080/"
        },
        "id": "31851068",
        "outputId": "4182d431-86a3-4ac4-bfa9-caaa3466b094"
      },
      "outputs": [
        {
          "output_type": "execute_result",
          "data": {
            "text/plain": [
              "array(['16.56', '16.51', '16.0', '16.26', '16.36', '16.76', '15.49',\n",
              "       '16.69', '15.8', '16.23', '16.94', '15.44', '15.21', '15.9',\n",
              "       '12.7', '15.46', '13.97', '13.84', '16.13', '16.21', '16.59',\n",
              "       '16.28', '16.74', '14.48', '15.24', '13.21', '17.02', '11.94',\n",
              "       '15.06', '15.75', '15.72', '14.35', '15.19', '15.77', '15.7',\n",
              "       '15.82'], dtype=object)"
            ]
          },
          "metadata": {},
          "execution_count": 48
        }
      ],
      "source": [
        "df['disp_size'].unique()"
      ]
    },
    {
      "cell_type": "code",
      "execution_count": 49,
      "id": "7ca1a84b",
      "metadata": {
        "execution": {
          "iopub.execute_input": "2023-06-02T01:56:15.609217Z",
          "iopub.status.busy": "2023-06-02T01:56:15.608792Z",
          "iopub.status.idle": "2023-06-02T01:56:15.617032Z",
          "shell.execute_reply": "2023-06-02T01:56:15.615892Z"
        },
        "papermill": {
          "duration": 0.045047,
          "end_time": "2023-06-02T01:56:15.619588",
          "exception": false,
          "start_time": "2023-06-02T01:56:15.574541",
          "status": "completed"
        },
        "tags": [],
        "colab": {
          "base_uri": "https://localhost:8080/"
        },
        "id": "7ca1a84b",
        "outputId": "66a082e8-6121-4efc-c7a5-7c7888652bf2"
      },
      "outputs": [
        {
          "output_type": "execute_result",
          "data": {
            "text/plain": [
              "array(['1600 x 720 Pixels', '2340 x 1080 pixels', '2400 x 1080 Pixels',\n",
              "       '1080 x 2340 Pixels', '1080 x 2400 Pixels', '720 x 1600 Pixels',\n",
              "       '1560 x 720 pixels', '2400 × 1080 Pixels', '1520 x 720 pixels',\n",
              "       '1520 x 720 Pixels', '2400 x 1080 pixel', '1560 x 720 Pixels',\n",
              "       '2160 x 1080 Pixels', '1440 x 720 pixels', '2280 x 1080 pixels',\n",
              "       '2160 x 1080 pixels', '2340 x 1080 Pixel', '1920 x 1080 Pixels',\n",
              "       '1520 x 720$$Pixels', '1520 x 720$$pixel', '2280 x 1080$$Pixels',\n",
              "       '1920 x 1080 pixels', '2400 x 1080 Pixel', '1280 x 720 pixels',\n",
              "       '2400 x 1080$$pixel', '1280 x 720 Pixels', '720 x 1544 pixels',\n",
              "       '720 x 1544 Pixels', '2340 x 1080 Pixels', '2316 x 1080 pixels',\n",
              "       '2280 x 1080 Pixels', '1440 x 720 Pixels', '1440 x 720 Pixel',\n",
              "       '1520 x 720$$ pixels', '1520 x 720$pixels', '2340 x 1080$$pixel',\n",
              "       '2340 x 1080$$Pixel', '960 x 540 Pixels', '540 x 960 Pixels',\n",
              "       '1080 x 2160 pixels', '1500 x 720 pixels', '720 x 1440 Pixels',\n",
              "       '720*1440 Pixels', '1080 x 1920 Pixels', '720 x 1520 pixels',\n",
              "       '1080 x 2340 pixels', '720 x 1560 pixels', '720 x 1280'],\n",
              "      dtype=object)"
            ]
          },
          "metadata": {},
          "execution_count": 49
        }
      ],
      "source": [
        "df['resolution'].unique()"
      ]
    },
    {
      "cell_type": "code",
      "execution_count": 50,
      "id": "d80ac984",
      "metadata": {
        "execution": {
          "iopub.execute_input": "2023-06-02T01:56:15.686683Z",
          "iopub.status.busy": "2023-06-02T01:56:15.686235Z",
          "iopub.status.idle": "2023-06-02T01:56:15.702209Z",
          "shell.execute_reply": "2023-06-02T01:56:15.700989Z"
        },
        "papermill": {
          "duration": 0.052468,
          "end_time": "2023-06-02T01:56:15.704649",
          "exception": false,
          "start_time": "2023-06-02T01:56:15.652181",
          "status": "completed"
        },
        "tags": [],
        "colab": {
          "base_uri": "https://localhost:8080/"
        },
        "id": "d80ac984",
        "outputId": "3e728bd2-a64d-4d7b-ee29-b27227ca36e9"
      },
      "outputs": [
        {
          "output_type": "execute_result",
          "data": {
            "text/plain": [
              "array(['1600X720', '2340X1080', '2400X1080', '1080X2340', '1080X2400',\n",
              "       '720X1600', '1560X720', '1520X720', '2160X1080', '1440X720',\n",
              "       '2280X1080', '1920X1080', '1280X720', '720X1544', '2316X1080',\n",
              "       '960X540', '540X960', '1080X2160', '1500X720', '720X1440',\n",
              "       '1080X1920', '720X1520', '720X1560', '720X1280'], dtype=object)"
            ]
          },
          "metadata": {},
          "execution_count": 50
        }
      ],
      "source": [
        "df['resolution']=df['resolution'].replace('\\s?[pP]ixel.*','',regex=True).replace('\\s?[x*×]\\s?','X',regex=True).replace('\\$','',regex=True)\n",
        "df['resolution'].unique()"
      ]
    },
    {
      "cell_type": "markdown",
      "id": "cc60e956",
      "metadata": {
        "papermill": {
          "duration": 0.033146,
          "end_time": "2023-06-02T01:56:15.770985",
          "exception": false,
          "start_time": "2023-06-02T01:56:15.737839",
          "status": "completed"
        },
        "tags": [],
        "id": "cc60e956"
      },
      "source": [
        "since we have removed redundant matter from df['resolution'],we will now proceed with seperating resolution dimension into two different columns inorder to get its product"
      ]
    },
    {
      "cell_type": "code",
      "execution_count": 51,
      "id": "9698abe1",
      "metadata": {
        "execution": {
          "iopub.execute_input": "2023-06-02T01:56:15.840084Z",
          "iopub.status.busy": "2023-06-02T01:56:15.839621Z",
          "iopub.status.idle": "2023-06-02T01:56:15.849014Z",
          "shell.execute_reply": "2023-06-02T01:56:15.847877Z"
        },
        "papermill": {
          "duration": 0.046669,
          "end_time": "2023-06-02T01:56:15.851387",
          "exception": false,
          "start_time": "2023-06-02T01:56:15.804718",
          "status": "completed"
        },
        "tags": [],
        "id": "9698abe1"
      },
      "outputs": [],
      "source": [
        "df[['res_dim_1','sep','res_dim_2']]=df['resolution'].str.partition('X')"
      ]
    },
    {
      "cell_type": "markdown",
      "id": "4267ebcd",
      "metadata": {
        "papermill": {
          "duration": 0.033076,
          "end_time": "2023-06-02T01:56:15.917326",
          "exception": false,
          "start_time": "2023-06-02T01:56:15.884250",
          "status": "completed"
        },
        "tags": [],
        "id": "4267ebcd"
      },
      "source": [
        "now drop the df['sep'] feature as it only contains the separator"
      ]
    },
    {
      "cell_type": "code",
      "execution_count": 52,
      "id": "38330973",
      "metadata": {
        "execution": {
          "iopub.execute_input": "2023-06-02T01:56:15.985696Z",
          "iopub.status.busy": "2023-06-02T01:56:15.985269Z",
          "iopub.status.idle": "2023-06-02T01:56:15.992915Z",
          "shell.execute_reply": "2023-06-02T01:56:15.992023Z"
        },
        "papermill": {
          "duration": 0.045265,
          "end_time": "2023-06-02T01:56:15.995220",
          "exception": false,
          "start_time": "2023-06-02T01:56:15.949955",
          "status": "completed"
        },
        "tags": [],
        "id": "38330973"
      },
      "outputs": [],
      "source": [
        "df.drop('sep',axis=1,inplace=True)"
      ]
    },
    {
      "cell_type": "code",
      "execution_count": 53,
      "id": "55e1fa18",
      "metadata": {
        "execution": {
          "iopub.execute_input": "2023-06-02T01:56:16.063268Z",
          "iopub.status.busy": "2023-06-02T01:56:16.062777Z",
          "iopub.status.idle": "2023-06-02T01:56:16.072286Z",
          "shell.execute_reply": "2023-06-02T01:56:16.071020Z"
        },
        "papermill": {
          "duration": 0.046776,
          "end_time": "2023-06-02T01:56:16.074687",
          "exception": false,
          "start_time": "2023-06-02T01:56:16.027911",
          "status": "completed"
        },
        "tags": [],
        "colab": {
          "base_uri": "https://localhost:8080/"
        },
        "id": "55e1fa18",
        "outputId": "67f57d1a-5ea4-495a-8015-05ef72669412"
      },
      "outputs": [
        {
          "output_type": "execute_result",
          "data": {
            "text/plain": [
              "(array(['1600', '2340', '2400', '1080', '720', '1560', '1520', '2160',\n",
              "        '1440', '2280', '1920', '1280', '2316', '960', '540', '1500'],\n",
              "       dtype=object),\n",
              " array(['720', '1080', '2340', '2400', '1600', '1544', '540', '960',\n",
              "        '2160', '1440', '1920', '1520', '1560', '1280'], dtype=object))"
            ]
          },
          "metadata": {},
          "execution_count": 53
        }
      ],
      "source": [
        "df['res_dim_1'].unique(),df['res_dim_2'].unique()"
      ]
    },
    {
      "cell_type": "markdown",
      "id": "2231f987",
      "metadata": {
        "papermill": {
          "duration": 0.032836,
          "end_time": "2023-06-02T01:56:16.141895",
          "exception": false,
          "start_time": "2023-06-02T01:56:16.109059",
          "status": "completed"
        },
        "tags": [],
        "id": "2231f987"
      },
      "source": [
        "as we can observe that both the columns have dtype as object, convert it to numerical"
      ]
    },
    {
      "cell_type": "code",
      "execution_count": 54,
      "id": "c11b6154",
      "metadata": {
        "execution": {
          "iopub.execute_input": "2023-06-02T01:56:16.210682Z",
          "iopub.status.busy": "2023-06-02T01:56:16.210293Z",
          "iopub.status.idle": "2023-06-02T01:56:16.216378Z",
          "shell.execute_reply": "2023-06-02T01:56:16.215306Z"
        },
        "papermill": {
          "duration": 0.043131,
          "end_time": "2023-06-02T01:56:16.218847",
          "exception": false,
          "start_time": "2023-06-02T01:56:16.175716",
          "status": "completed"
        },
        "tags": [],
        "id": "c11b6154"
      },
      "outputs": [],
      "source": [
        "df['res_dim_1']=df['res_dim_1'].astype(int)\n",
        "df['res_dim_2']=df['res_dim_2'].astype(int)"
      ]
    },
    {
      "cell_type": "code",
      "execution_count": 55,
      "id": "7cefbaa2",
      "metadata": {
        "execution": {
          "iopub.execute_input": "2023-06-02T01:56:16.287255Z",
          "iopub.status.busy": "2023-06-02T01:56:16.286840Z",
          "iopub.status.idle": "2023-06-02T01:56:16.294226Z",
          "shell.execute_reply": "2023-06-02T01:56:16.292862Z"
        },
        "papermill": {
          "duration": 0.044634,
          "end_time": "2023-06-02T01:56:16.296864",
          "exception": false,
          "start_time": "2023-06-02T01:56:16.252230",
          "status": "completed"
        },
        "tags": [],
        "colab": {
          "base_uri": "https://localhost:8080/"
        },
        "id": "7cefbaa2",
        "outputId": "8d93350b-7111-42b7-d67b-aeaa50721f80"
      },
      "outputs": [
        {
          "output_type": "execute_result",
          "data": {
            "text/plain": [
              "(dtype('int64'), dtype('int64'))"
            ]
          },
          "metadata": {},
          "execution_count": 55
        }
      ],
      "source": [
        "df['res_dim_1'].dtype,df['res_dim_2'].dtype"
      ]
    },
    {
      "cell_type": "markdown",
      "id": "07e50d96",
      "metadata": {
        "papermill": {
          "duration": 0.034885,
          "end_time": "2023-06-02T01:56:16.364944",
          "exception": false,
          "start_time": "2023-06-02T01:56:16.330059",
          "status": "completed"
        },
        "tags": [],
        "id": "07e50d96"
      },
      "source": [
        "now we will overwrite the 'resolution' feature with the product of 'res_dim_1' & 'res_dim_2'"
      ]
    },
    {
      "cell_type": "code",
      "execution_count": 56,
      "id": "860426b3",
      "metadata": {
        "execution": {
          "iopub.execute_input": "2023-06-02T01:56:16.433771Z",
          "iopub.status.busy": "2023-06-02T01:56:16.433350Z",
          "iopub.status.idle": "2023-06-02T01:56:16.439236Z",
          "shell.execute_reply": "2023-06-02T01:56:16.438039Z"
        },
        "papermill": {
          "duration": 0.04345,
          "end_time": "2023-06-02T01:56:16.442052",
          "exception": false,
          "start_time": "2023-06-02T01:56:16.398602",
          "status": "completed"
        },
        "tags": [],
        "id": "860426b3"
      },
      "outputs": [],
      "source": [
        "df['resolution']=df['res_dim_1']*df['res_dim_2']"
      ]
    },
    {
      "cell_type": "code",
      "execution_count": 57,
      "id": "ba937141",
      "metadata": {
        "execution": {
          "iopub.execute_input": "2023-06-02T01:56:16.511471Z",
          "iopub.status.busy": "2023-06-02T01:56:16.510653Z",
          "iopub.status.idle": "2023-06-02T01:56:16.519767Z",
          "shell.execute_reply": "2023-06-02T01:56:16.518620Z"
        },
        "papermill": {
          "duration": 0.046594,
          "end_time": "2023-06-02T01:56:16.522400",
          "exception": false,
          "start_time": "2023-06-02T01:56:16.475806",
          "status": "completed"
        },
        "tags": [],
        "colab": {
          "base_uri": "https://localhost:8080/"
        },
        "id": "ba937141",
        "outputId": "65b6a72b-f0b1-438f-c966-769f5744e989"
      },
      "outputs": [
        {
          "output_type": "execute_result",
          "data": {
            "text/plain": [
              "array([1152000, 2527200, 2592000, 1123200, 1094400, 2332800, 1036800,\n",
              "       2462400, 2073600,  921600, 1111680, 2501280,  518400, 1080000])"
            ]
          },
          "metadata": {},
          "execution_count": 57
        }
      ],
      "source": [
        "df['resolution'].unique()"
      ]
    },
    {
      "cell_type": "markdown",
      "id": "f1588b09",
      "metadata": {
        "papermill": {
          "duration": 0.033271,
          "end_time": "2023-06-02T01:56:16.588941",
          "exception": false,
          "start_time": "2023-06-02T01:56:16.555670",
          "status": "completed"
        },
        "tags": [],
        "id": "f1588b09"
      },
      "source": [
        "hereafter we shall drop 'res_dim_1' & 'res_dim_2'"
      ]
    },
    {
      "cell_type": "code",
      "execution_count": 58,
      "id": "10c7e72c",
      "metadata": {
        "execution": {
          "iopub.execute_input": "2023-06-02T01:56:16.658039Z",
          "iopub.status.busy": "2023-06-02T01:56:16.657581Z",
          "iopub.status.idle": "2023-06-02T01:56:16.666242Z",
          "shell.execute_reply": "2023-06-02T01:56:16.664912Z"
        },
        "papermill": {
          "duration": 0.046608,
          "end_time": "2023-06-02T01:56:16.668919",
          "exception": false,
          "start_time": "2023-06-02T01:56:16.622311",
          "status": "completed"
        },
        "tags": [],
        "id": "10c7e72c"
      },
      "outputs": [],
      "source": [
        "df.drop(['res_dim_1','res_dim_2'],axis=1,inplace=True)"
      ]
    },
    {
      "cell_type": "markdown",
      "id": "47b8418f",
      "metadata": {
        "papermill": {
          "duration": 0.033153,
          "end_time": "2023-06-02T01:56:16.735690",
          "exception": false,
          "start_time": "2023-06-02T01:56:16.702537",
          "status": "completed"
        },
        "tags": [],
        "id": "47b8418f"
      },
      "source": [
        "only two features are remaining to be cleaned,i.e. 'p_cam' & 'f_cam'. for each of them, we will store their max cam and no. of cam"
      ]
    },
    {
      "cell_type": "code",
      "execution_count": 59,
      "id": "4c108e60",
      "metadata": {
        "execution": {
          "iopub.execute_input": "2023-06-02T01:56:16.805730Z",
          "iopub.status.busy": "2023-06-02T01:56:16.805348Z",
          "iopub.status.idle": "2023-06-02T01:56:16.814789Z",
          "shell.execute_reply": "2023-06-02T01:56:16.813836Z"
        },
        "papermill": {
          "duration": 0.046838,
          "end_time": "2023-06-02T01:56:16.817022",
          "exception": false,
          "start_time": "2023-06-02T01:56:16.770184",
          "status": "completed"
        },
        "tags": [],
        "colab": {
          "base_uri": "https://localhost:8080/"
        },
        "id": "4c108e60",
        "outputId": "5573dfd7-565e-46ce-a82c-21a1adead9c3"
      },
      "outputs": [
        {
          "output_type": "execute_result",
          "data": {
            "text/plain": [
              "0            12MP + 2MP + 2MP\n",
              "1            12MP + 2MP + 2MP\n",
              "2            12MP + 2MP + 2MP\n",
              "3            12MP + 2MP + 2MP\n",
              "4      48MP + 8MP + 2MP + 2MP\n",
              "                ...          \n",
              "454          13MP Rear Camera\n",
              "455          13MP Rear Camera\n",
              "456          16MP Rear Camera\n",
              "457                48MP + 5MP\n",
              "458                48MP + 5MP\n",
              "Name: p_cam, Length: 459, dtype: object"
            ]
          },
          "metadata": {},
          "execution_count": 59
        }
      ],
      "source": [
        "df['p_cam']"
      ]
    },
    {
      "cell_type": "code",
      "execution_count": 60,
      "id": "ed2c37be",
      "metadata": {
        "execution": {
          "iopub.execute_input": "2023-06-02T01:56:16.886038Z",
          "iopub.status.busy": "2023-06-02T01:56:16.885272Z",
          "iopub.status.idle": "2023-06-02T01:56:16.893361Z",
          "shell.execute_reply": "2023-06-02T01:56:16.892142Z"
        },
        "papermill": {
          "duration": 0.045042,
          "end_time": "2023-06-02T01:56:16.895568",
          "exception": false,
          "start_time": "2023-06-02T01:56:16.850526",
          "status": "completed"
        },
        "tags": [],
        "id": "ed2c37be"
      },
      "outputs": [],
      "source": [
        "df['p_cam_max']=[x[0:2].replace('M','') for x in df['p_cam']]\n",
        "df['p_cam_count'] = [x.count('MP') for x in df['p_cam']]"
      ]
    },
    {
      "cell_type": "code",
      "execution_count": 61,
      "id": "9a78229f",
      "metadata": {
        "execution": {
          "iopub.execute_input": "2023-06-02T01:56:16.964179Z",
          "iopub.status.busy": "2023-06-02T01:56:16.963716Z",
          "iopub.status.idle": "2023-06-02T01:56:16.972779Z",
          "shell.execute_reply": "2023-06-02T01:56:16.971710Z"
        },
        "papermill": {
          "duration": 0.046352,
          "end_time": "2023-06-02T01:56:16.975353",
          "exception": false,
          "start_time": "2023-06-02T01:56:16.929001",
          "status": "completed"
        },
        "tags": [],
        "colab": {
          "base_uri": "https://localhost:8080/"
        },
        "id": "9a78229f",
        "outputId": "ed98ee31-1183-41ee-d2eb-56924170dcd3"
      },
      "outputs": [
        {
          "output_type": "execute_result",
          "data": {
            "text/plain": [
              "0       5MP Front Camera\n",
              "1       5MP Front Camera\n",
              "2       5MP Front Camera\n",
              "3       5MP Front Camera\n",
              "4      16MP Front Camera\n",
              "             ...        \n",
              "454     8MP Front Camera\n",
              "455     8MP Front Camera\n",
              "456    25MP Front Camera\n",
              "457    16MP Front Camera\n",
              "458    16MP Front Camera\n",
              "Name: f_cam, Length: 459, dtype: object"
            ]
          },
          "metadata": {},
          "execution_count": 61
        }
      ],
      "source": [
        "df['f_cam']"
      ]
    },
    {
      "cell_type": "code",
      "execution_count": 62,
      "id": "ba50c13d",
      "metadata": {
        "execution": {
          "iopub.execute_input": "2023-06-02T01:56:17.045340Z",
          "iopub.status.busy": "2023-06-02T01:56:17.044897Z",
          "iopub.status.idle": "2023-06-02T01:56:17.052863Z",
          "shell.execute_reply": "2023-06-02T01:56:17.051614Z"
        },
        "papermill": {
          "duration": 0.046042,
          "end_time": "2023-06-02T01:56:17.055336",
          "exception": false,
          "start_time": "2023-06-02T01:56:17.009294",
          "status": "completed"
        },
        "tags": [],
        "id": "ba50c13d"
      },
      "outputs": [],
      "source": [
        "df['f_cam_max']=[x[0:2].replace('M','') for x in df['f_cam']]\n",
        "df['f_cam_count'] = [x.count('MP') for x in df['f_cam']]"
      ]
    },
    {
      "cell_type": "markdown",
      "id": "7b6018b8",
      "metadata": {
        "papermill": {
          "duration": 0.034735,
          "end_time": "2023-06-02T01:56:17.124246",
          "exception": false,
          "start_time": "2023-06-02T01:56:17.089511",
          "status": "completed"
        },
        "tags": [],
        "id": "7b6018b8"
      },
      "source": [
        "dropping 'f_cam' & 'p_cam'"
      ]
    },
    {
      "cell_type": "code",
      "execution_count": 63,
      "id": "1c4896bc",
      "metadata": {
        "execution": {
          "iopub.execute_input": "2023-06-02T01:56:17.193451Z",
          "iopub.status.busy": "2023-06-02T01:56:17.193049Z",
          "iopub.status.idle": "2023-06-02T01:56:17.200889Z",
          "shell.execute_reply": "2023-06-02T01:56:17.199685Z"
        },
        "papermill": {
          "duration": 0.045334,
          "end_time": "2023-06-02T01:56:17.203233",
          "exception": false,
          "start_time": "2023-06-02T01:56:17.157899",
          "status": "completed"
        },
        "tags": [],
        "id": "1c4896bc"
      },
      "outputs": [],
      "source": [
        "df.drop(['f_cam','p_cam'],axis=1,inplace=True)"
      ]
    },
    {
      "cell_type": "markdown",
      "id": "9dc39ce9",
      "metadata": {
        "papermill": {
          "duration": 0.033305,
          "end_time": "2023-06-02T01:56:17.270678",
          "exception": false,
          "start_time": "2023-06-02T01:56:17.237373",
          "status": "completed"
        },
        "tags": [],
        "id": "9dc39ce9"
      },
      "source": [
        "Here , we are done with cleaning part. now the main thing to do is making sure that all feautures are numerical"
      ]
    },
    {
      "cell_type": "code",
      "execution_count": 64,
      "id": "bf6d809e",
      "metadata": {
        "execution": {
          "iopub.execute_input": "2023-06-02T01:56:17.339553Z",
          "iopub.status.busy": "2023-06-02T01:56:17.339132Z",
          "iopub.status.idle": "2023-06-02T01:56:17.363348Z",
          "shell.execute_reply": "2023-06-02T01:56:17.362223Z"
        },
        "papermill": {
          "duration": 0.061803,
          "end_time": "2023-06-02T01:56:17.365918",
          "exception": false,
          "start_time": "2023-06-02T01:56:17.304115",
          "status": "completed"
        },
        "tags": [],
        "colab": {
          "base_uri": "https://localhost:8080/",
          "height": 300
        },
        "id": "bf6d809e",
        "outputId": "454f3e99-30c0-456a-c345-0729b9b40998"
      },
      "outputs": [
        {
          "output_type": "execute_result",
          "data": {
            "text/plain": [
              "  mobile_name mobile_price mobile_color disp_size  resolution  os  num_cores  \\\n",
              "0      Realme         8999        White     16.56     1152000  10          8   \n",
              "1      Realme         8999         Blue     16.56     1152000  10          8   \n",
              "2      Realme         9999         Blue     16.56     1152000  10          8   \n",
              "3      Realme         9999        White     16.56     1152000  10          8   \n",
              "4      Realme        11999        Green     16.51     1152000  10          8   \n",
              "\n",
              "  mp_speed int_memory ram  ... mob_weight 2G 3G 4G 4GVOLTE  5G  p_cam_max  \\\n",
              "0       2         32   3   ...       195   1  1  1       1   0         12   \n",
              "1       2         32   3   ...       195   1  1  1       1   0         12   \n",
              "2       2         64   4   ...       195   1  1  1       1   0         12   \n",
              "3       2         64   4   ...       195   1  1  1       1   0         12   \n",
              "4       2        128   4   ...       199   1  1  1       1   0         48   \n",
              "\n",
              "   p_cam_count  f_cam_max  f_cam_count  \n",
              "0            3          5            1  \n",
              "1            3          5            1  \n",
              "2            3          5            1  \n",
              "3            3          5            1  \n",
              "4            4         16            1  \n",
              "\n",
              "[5 rows x 24 columns]"
            ],
            "text/html": [
              "\n",
              "\n",
              "  <div id=\"df-44c6f011-d53b-4d10-aa50-57061c46ff34\">\n",
              "    <div class=\"colab-df-container\">\n",
              "      <div>\n",
              "<style scoped>\n",
              "    .dataframe tbody tr th:only-of-type {\n",
              "        vertical-align: middle;\n",
              "    }\n",
              "\n",
              "    .dataframe tbody tr th {\n",
              "        vertical-align: top;\n",
              "    }\n",
              "\n",
              "    .dataframe thead th {\n",
              "        text-align: right;\n",
              "    }\n",
              "</style>\n",
              "<table border=\"1\" class=\"dataframe\">\n",
              "  <thead>\n",
              "    <tr style=\"text-align: right;\">\n",
              "      <th></th>\n",
              "      <th>mobile_name</th>\n",
              "      <th>mobile_price</th>\n",
              "      <th>mobile_color</th>\n",
              "      <th>disp_size</th>\n",
              "      <th>resolution</th>\n",
              "      <th>os</th>\n",
              "      <th>num_cores</th>\n",
              "      <th>mp_speed</th>\n",
              "      <th>int_memory</th>\n",
              "      <th>ram</th>\n",
              "      <th>...</th>\n",
              "      <th>mob_weight</th>\n",
              "      <th>2G</th>\n",
              "      <th>3G</th>\n",
              "      <th>4G</th>\n",
              "      <th>4GVOLTE</th>\n",
              "      <th>5G</th>\n",
              "      <th>p_cam_max</th>\n",
              "      <th>p_cam_count</th>\n",
              "      <th>f_cam_max</th>\n",
              "      <th>f_cam_count</th>\n",
              "    </tr>\n",
              "  </thead>\n",
              "  <tbody>\n",
              "    <tr>\n",
              "      <th>0</th>\n",
              "      <td>Realme</td>\n",
              "      <td>8999</td>\n",
              "      <td>White</td>\n",
              "      <td>16.56</td>\n",
              "      <td>1152000</td>\n",
              "      <td>10</td>\n",
              "      <td>8</td>\n",
              "      <td>2</td>\n",
              "      <td>32</td>\n",
              "      <td>3</td>\n",
              "      <td>...</td>\n",
              "      <td>195</td>\n",
              "      <td>1</td>\n",
              "      <td>1</td>\n",
              "      <td>1</td>\n",
              "      <td>1</td>\n",
              "      <td>0</td>\n",
              "      <td>12</td>\n",
              "      <td>3</td>\n",
              "      <td>5</td>\n",
              "      <td>1</td>\n",
              "    </tr>\n",
              "    <tr>\n",
              "      <th>1</th>\n",
              "      <td>Realme</td>\n",
              "      <td>8999</td>\n",
              "      <td>Blue</td>\n",
              "      <td>16.56</td>\n",
              "      <td>1152000</td>\n",
              "      <td>10</td>\n",
              "      <td>8</td>\n",
              "      <td>2</td>\n",
              "      <td>32</td>\n",
              "      <td>3</td>\n",
              "      <td>...</td>\n",
              "      <td>195</td>\n",
              "      <td>1</td>\n",
              "      <td>1</td>\n",
              "      <td>1</td>\n",
              "      <td>1</td>\n",
              "      <td>0</td>\n",
              "      <td>12</td>\n",
              "      <td>3</td>\n",
              "      <td>5</td>\n",
              "      <td>1</td>\n",
              "    </tr>\n",
              "    <tr>\n",
              "      <th>2</th>\n",
              "      <td>Realme</td>\n",
              "      <td>9999</td>\n",
              "      <td>Blue</td>\n",
              "      <td>16.56</td>\n",
              "      <td>1152000</td>\n",
              "      <td>10</td>\n",
              "      <td>8</td>\n",
              "      <td>2</td>\n",
              "      <td>64</td>\n",
              "      <td>4</td>\n",
              "      <td>...</td>\n",
              "      <td>195</td>\n",
              "      <td>1</td>\n",
              "      <td>1</td>\n",
              "      <td>1</td>\n",
              "      <td>1</td>\n",
              "      <td>0</td>\n",
              "      <td>12</td>\n",
              "      <td>3</td>\n",
              "      <td>5</td>\n",
              "      <td>1</td>\n",
              "    </tr>\n",
              "    <tr>\n",
              "      <th>3</th>\n",
              "      <td>Realme</td>\n",
              "      <td>9999</td>\n",
              "      <td>White</td>\n",
              "      <td>16.56</td>\n",
              "      <td>1152000</td>\n",
              "      <td>10</td>\n",
              "      <td>8</td>\n",
              "      <td>2</td>\n",
              "      <td>64</td>\n",
              "      <td>4</td>\n",
              "      <td>...</td>\n",
              "      <td>195</td>\n",
              "      <td>1</td>\n",
              "      <td>1</td>\n",
              "      <td>1</td>\n",
              "      <td>1</td>\n",
              "      <td>0</td>\n",
              "      <td>12</td>\n",
              "      <td>3</td>\n",
              "      <td>5</td>\n",
              "      <td>1</td>\n",
              "    </tr>\n",
              "    <tr>\n",
              "      <th>4</th>\n",
              "      <td>Realme</td>\n",
              "      <td>11999</td>\n",
              "      <td>Green</td>\n",
              "      <td>16.51</td>\n",
              "      <td>1152000</td>\n",
              "      <td>10</td>\n",
              "      <td>8</td>\n",
              "      <td>2</td>\n",
              "      <td>128</td>\n",
              "      <td>4</td>\n",
              "      <td>...</td>\n",
              "      <td>199</td>\n",
              "      <td>1</td>\n",
              "      <td>1</td>\n",
              "      <td>1</td>\n",
              "      <td>1</td>\n",
              "      <td>0</td>\n",
              "      <td>48</td>\n",
              "      <td>4</td>\n",
              "      <td>16</td>\n",
              "      <td>1</td>\n",
              "    </tr>\n",
              "  </tbody>\n",
              "</table>\n",
              "<p>5 rows × 24 columns</p>\n",
              "</div>\n",
              "      <button class=\"colab-df-convert\" onclick=\"convertToInteractive('df-44c6f011-d53b-4d10-aa50-57061c46ff34')\"\n",
              "              title=\"Convert this dataframe to an interactive table.\"\n",
              "              style=\"display:none;\">\n",
              "\n",
              "  <svg xmlns=\"http://www.w3.org/2000/svg\" height=\"24px\"viewBox=\"0 0 24 24\"\n",
              "       width=\"24px\">\n",
              "    <path d=\"M0 0h24v24H0V0z\" fill=\"none\"/>\n",
              "    <path d=\"M18.56 5.44l.94 2.06.94-2.06 2.06-.94-2.06-.94-.94-2.06-.94 2.06-2.06.94zm-11 1L8.5 8.5l.94-2.06 2.06-.94-2.06-.94L8.5 2.5l-.94 2.06-2.06.94zm10 10l.94 2.06.94-2.06 2.06-.94-2.06-.94-.94-2.06-.94 2.06-2.06.94z\"/><path d=\"M17.41 7.96l-1.37-1.37c-.4-.4-.92-.59-1.43-.59-.52 0-1.04.2-1.43.59L10.3 9.45l-7.72 7.72c-.78.78-.78 2.05 0 2.83L4 21.41c.39.39.9.59 1.41.59.51 0 1.02-.2 1.41-.59l7.78-7.78 2.81-2.81c.8-.78.8-2.07 0-2.86zM5.41 20L4 18.59l7.72-7.72 1.47 1.35L5.41 20z\"/>\n",
              "  </svg>\n",
              "      </button>\n",
              "\n",
              "\n",
              "\n",
              "    <div id=\"df-4410e738-20ee-4142-8139-e4649cc3bef0\">\n",
              "      <button class=\"colab-df-quickchart\" onclick=\"quickchart('df-4410e738-20ee-4142-8139-e4649cc3bef0')\"\n",
              "              title=\"Suggest charts.\"\n",
              "              style=\"display:none;\">\n",
              "\n",
              "<svg xmlns=\"http://www.w3.org/2000/svg\" height=\"24px\"viewBox=\"0 0 24 24\"\n",
              "     width=\"24px\">\n",
              "    <g>\n",
              "        <path d=\"M19 3H5c-1.1 0-2 .9-2 2v14c0 1.1.9 2 2 2h14c1.1 0 2-.9 2-2V5c0-1.1-.9-2-2-2zM9 17H7v-7h2v7zm4 0h-2V7h2v10zm4 0h-2v-4h2v4z\"/>\n",
              "    </g>\n",
              "</svg>\n",
              "      </button>\n",
              "    </div>\n",
              "\n",
              "<style>\n",
              "  .colab-df-quickchart {\n",
              "    background-color: #E8F0FE;\n",
              "    border: none;\n",
              "    border-radius: 50%;\n",
              "    cursor: pointer;\n",
              "    display: none;\n",
              "    fill: #1967D2;\n",
              "    height: 32px;\n",
              "    padding: 0 0 0 0;\n",
              "    width: 32px;\n",
              "  }\n",
              "\n",
              "  .colab-df-quickchart:hover {\n",
              "    background-color: #E2EBFA;\n",
              "    box-shadow: 0px 1px 2px rgba(60, 64, 67, 0.3), 0px 1px 3px 1px rgba(60, 64, 67, 0.15);\n",
              "    fill: #174EA6;\n",
              "  }\n",
              "\n",
              "  [theme=dark] .colab-df-quickchart {\n",
              "    background-color: #3B4455;\n",
              "    fill: #D2E3FC;\n",
              "  }\n",
              "\n",
              "  [theme=dark] .colab-df-quickchart:hover {\n",
              "    background-color: #434B5C;\n",
              "    box-shadow: 0px 1px 3px 1px rgba(0, 0, 0, 0.15);\n",
              "    filter: drop-shadow(0px 1px 2px rgba(0, 0, 0, 0.3));\n",
              "    fill: #FFFFFF;\n",
              "  }\n",
              "</style>\n",
              "\n",
              "    <script>\n",
              "      async function quickchart(key) {\n",
              "        const containerElement = document.querySelector('#' + key);\n",
              "        const charts = await google.colab.kernel.invokeFunction(\n",
              "            'suggestCharts', [key], {});\n",
              "      }\n",
              "    </script>\n",
              "\n",
              "\n",
              "      <script>\n",
              "\n",
              "function displayQuickchartButton(domScope) {\n",
              "  let quickchartButtonEl =\n",
              "    domScope.querySelector('#df-4410e738-20ee-4142-8139-e4649cc3bef0 button.colab-df-quickchart');\n",
              "  quickchartButtonEl.style.display =\n",
              "    google.colab.kernel.accessAllowed ? 'block' : 'none';\n",
              "}\n",
              "\n",
              "        displayQuickchartButton(document);\n",
              "      </script>\n",
              "      <style>\n",
              "    .colab-df-container {\n",
              "      display:flex;\n",
              "      flex-wrap:wrap;\n",
              "      gap: 12px;\n",
              "    }\n",
              "\n",
              "    .colab-df-convert {\n",
              "      background-color: #E8F0FE;\n",
              "      border: none;\n",
              "      border-radius: 50%;\n",
              "      cursor: pointer;\n",
              "      display: none;\n",
              "      fill: #1967D2;\n",
              "      height: 32px;\n",
              "      padding: 0 0 0 0;\n",
              "      width: 32px;\n",
              "    }\n",
              "\n",
              "    .colab-df-convert:hover {\n",
              "      background-color: #E2EBFA;\n",
              "      box-shadow: 0px 1px 2px rgba(60, 64, 67, 0.3), 0px 1px 3px 1px rgba(60, 64, 67, 0.15);\n",
              "      fill: #174EA6;\n",
              "    }\n",
              "\n",
              "    [theme=dark] .colab-df-convert {\n",
              "      background-color: #3B4455;\n",
              "      fill: #D2E3FC;\n",
              "    }\n",
              "\n",
              "    [theme=dark] .colab-df-convert:hover {\n",
              "      background-color: #434B5C;\n",
              "      box-shadow: 0px 1px 3px 1px rgba(0, 0, 0, 0.15);\n",
              "      filter: drop-shadow(0px 1px 2px rgba(0, 0, 0, 0.3));\n",
              "      fill: #FFFFFF;\n",
              "    }\n",
              "  </style>\n",
              "\n",
              "      <script>\n",
              "        const buttonEl =\n",
              "          document.querySelector('#df-44c6f011-d53b-4d10-aa50-57061c46ff34 button.colab-df-convert');\n",
              "        buttonEl.style.display =\n",
              "          google.colab.kernel.accessAllowed ? 'block' : 'none';\n",
              "\n",
              "        async function convertToInteractive(key) {\n",
              "          const element = document.querySelector('#df-44c6f011-d53b-4d10-aa50-57061c46ff34');\n",
              "          const dataTable =\n",
              "            await google.colab.kernel.invokeFunction('convertToInteractive',\n",
              "                                                     [key], {});\n",
              "          if (!dataTable) return;\n",
              "\n",
              "          const docLinkHtml = 'Like what you see? Visit the ' +\n",
              "            '<a target=\"_blank\" href=https://colab.research.google.com/notebooks/data_table.ipynb>data table notebook</a>'\n",
              "            + ' to learn more about interactive tables.';\n",
              "          element.innerHTML = '';\n",
              "          dataTable['output_type'] = 'display_data';\n",
              "          await google.colab.output.renderOutput(dataTable, element);\n",
              "          const docLink = document.createElement('div');\n",
              "          docLink.innerHTML = docLinkHtml;\n",
              "          element.appendChild(docLink);\n",
              "        }\n",
              "      </script>\n",
              "    </div>\n",
              "  </div>\n"
            ]
          },
          "metadata": {},
          "execution_count": 64
        }
      ],
      "source": [
        "df.head()"
      ]
    },
    {
      "cell_type": "markdown",
      "id": "3e9c6f65",
      "metadata": {
        "papermill": {
          "duration": 0.035583,
          "end_time": "2023-06-02T01:56:17.436043",
          "exception": false,
          "start_time": "2023-06-02T01:56:17.400460",
          "status": "completed"
        },
        "tags": [],
        "id": "3e9c6f65"
      },
      "source": [
        "two feautures 'mobile_name' and 'mobile_price' are categorical and also nominal in nature , hence we will proceed with One Hot Encoding"
      ]
    },
    {
      "cell_type": "code",
      "execution_count": 65,
      "id": "67072569",
      "metadata": {
        "execution": {
          "iopub.execute_input": "2023-06-02T01:56:17.507709Z",
          "iopub.status.busy": "2023-06-02T01:56:17.507296Z",
          "iopub.status.idle": "2023-06-02T01:56:17.516052Z",
          "shell.execute_reply": "2023-06-02T01:56:17.514908Z"
        },
        "papermill": {
          "duration": 0.047909,
          "end_time": "2023-06-02T01:56:17.518558",
          "exception": false,
          "start_time": "2023-06-02T01:56:17.470649",
          "status": "completed"
        },
        "tags": [],
        "id": "67072569"
      },
      "outputs": [],
      "source": [
        "df_mobile_name=pd.get_dummies(df['mobile_name'],dtype=int)"
      ]
    },
    {
      "cell_type": "code",
      "execution_count": 66,
      "id": "584c21be",
      "metadata": {
        "execution": {
          "iopub.execute_input": "2023-06-02T01:56:17.589679Z",
          "iopub.status.busy": "2023-06-02T01:56:17.588949Z",
          "iopub.status.idle": "2023-06-02T01:56:17.604342Z",
          "shell.execute_reply": "2023-06-02T01:56:17.603174Z"
        },
        "papermill": {
          "duration": 0.053753,
          "end_time": "2023-06-02T01:56:17.606702",
          "exception": false,
          "start_time": "2023-06-02T01:56:17.552949",
          "status": "completed"
        },
        "tags": [],
        "colab": {
          "base_uri": "https://localhost:8080/",
          "height": 424
        },
        "id": "584c21be",
        "outputId": "089c7277-d88c-46bf-ae42-b4f208d6d767"
      },
      "outputs": [
        {
          "output_type": "execute_result",
          "data": {
            "text/plain": [
              "     Infinix  MI3  Mi  OPPO  POCO  Realme  Redmi  Samsung  Vivo\n",
              "0          0    0   0     0     0       1      0        0     0\n",
              "1          0    0   0     0     0       1      0        0     0\n",
              "2          0    0   0     0     0       1      0        0     0\n",
              "3          0    0   0     0     0       1      0        0     0\n",
              "4          0    0   0     0     0       1      0        0     0\n",
              "..       ...  ...  ..   ...   ...     ...    ...      ...   ...\n",
              "454        0    0   0     1     0       0      0        0     0\n",
              "455        0    0   0     1     0       0      0        0     0\n",
              "456        0    0   0     1     0       0      0        0     0\n",
              "457        0    0   0     1     0       0      0        0     0\n",
              "458        0    0   0     1     0       0      0        0     0\n",
              "\n",
              "[459 rows x 9 columns]"
            ],
            "text/html": [
              "\n",
              "\n",
              "  <div id=\"df-f91d42ff-f48b-4be1-aa05-4d32ac2f8f90\">\n",
              "    <div class=\"colab-df-container\">\n",
              "      <div>\n",
              "<style scoped>\n",
              "    .dataframe tbody tr th:only-of-type {\n",
              "        vertical-align: middle;\n",
              "    }\n",
              "\n",
              "    .dataframe tbody tr th {\n",
              "        vertical-align: top;\n",
              "    }\n",
              "\n",
              "    .dataframe thead th {\n",
              "        text-align: right;\n",
              "    }\n",
              "</style>\n",
              "<table border=\"1\" class=\"dataframe\">\n",
              "  <thead>\n",
              "    <tr style=\"text-align: right;\">\n",
              "      <th></th>\n",
              "      <th>Infinix</th>\n",
              "      <th>MI3</th>\n",
              "      <th>Mi</th>\n",
              "      <th>OPPO</th>\n",
              "      <th>POCO</th>\n",
              "      <th>Realme</th>\n",
              "      <th>Redmi</th>\n",
              "      <th>Samsung</th>\n",
              "      <th>Vivo</th>\n",
              "    </tr>\n",
              "  </thead>\n",
              "  <tbody>\n",
              "    <tr>\n",
              "      <th>0</th>\n",
              "      <td>0</td>\n",
              "      <td>0</td>\n",
              "      <td>0</td>\n",
              "      <td>0</td>\n",
              "      <td>0</td>\n",
              "      <td>1</td>\n",
              "      <td>0</td>\n",
              "      <td>0</td>\n",
              "      <td>0</td>\n",
              "    </tr>\n",
              "    <tr>\n",
              "      <th>1</th>\n",
              "      <td>0</td>\n",
              "      <td>0</td>\n",
              "      <td>0</td>\n",
              "      <td>0</td>\n",
              "      <td>0</td>\n",
              "      <td>1</td>\n",
              "      <td>0</td>\n",
              "      <td>0</td>\n",
              "      <td>0</td>\n",
              "    </tr>\n",
              "    <tr>\n",
              "      <th>2</th>\n",
              "      <td>0</td>\n",
              "      <td>0</td>\n",
              "      <td>0</td>\n",
              "      <td>0</td>\n",
              "      <td>0</td>\n",
              "      <td>1</td>\n",
              "      <td>0</td>\n",
              "      <td>0</td>\n",
              "      <td>0</td>\n",
              "    </tr>\n",
              "    <tr>\n",
              "      <th>3</th>\n",
              "      <td>0</td>\n",
              "      <td>0</td>\n",
              "      <td>0</td>\n",
              "      <td>0</td>\n",
              "      <td>0</td>\n",
              "      <td>1</td>\n",
              "      <td>0</td>\n",
              "      <td>0</td>\n",
              "      <td>0</td>\n",
              "    </tr>\n",
              "    <tr>\n",
              "      <th>4</th>\n",
              "      <td>0</td>\n",
              "      <td>0</td>\n",
              "      <td>0</td>\n",
              "      <td>0</td>\n",
              "      <td>0</td>\n",
              "      <td>1</td>\n",
              "      <td>0</td>\n",
              "      <td>0</td>\n",
              "      <td>0</td>\n",
              "    </tr>\n",
              "    <tr>\n",
              "      <th>...</th>\n",
              "      <td>...</td>\n",
              "      <td>...</td>\n",
              "      <td>...</td>\n",
              "      <td>...</td>\n",
              "      <td>...</td>\n",
              "      <td>...</td>\n",
              "      <td>...</td>\n",
              "      <td>...</td>\n",
              "      <td>...</td>\n",
              "    </tr>\n",
              "    <tr>\n",
              "      <th>454</th>\n",
              "      <td>0</td>\n",
              "      <td>0</td>\n",
              "      <td>0</td>\n",
              "      <td>1</td>\n",
              "      <td>0</td>\n",
              "      <td>0</td>\n",
              "      <td>0</td>\n",
              "      <td>0</td>\n",
              "      <td>0</td>\n",
              "    </tr>\n",
              "    <tr>\n",
              "      <th>455</th>\n",
              "      <td>0</td>\n",
              "      <td>0</td>\n",
              "      <td>0</td>\n",
              "      <td>1</td>\n",
              "      <td>0</td>\n",
              "      <td>0</td>\n",
              "      <td>0</td>\n",
              "      <td>0</td>\n",
              "      <td>0</td>\n",
              "    </tr>\n",
              "    <tr>\n",
              "      <th>456</th>\n",
              "      <td>0</td>\n",
              "      <td>0</td>\n",
              "      <td>0</td>\n",
              "      <td>1</td>\n",
              "      <td>0</td>\n",
              "      <td>0</td>\n",
              "      <td>0</td>\n",
              "      <td>0</td>\n",
              "      <td>0</td>\n",
              "    </tr>\n",
              "    <tr>\n",
              "      <th>457</th>\n",
              "      <td>0</td>\n",
              "      <td>0</td>\n",
              "      <td>0</td>\n",
              "      <td>1</td>\n",
              "      <td>0</td>\n",
              "      <td>0</td>\n",
              "      <td>0</td>\n",
              "      <td>0</td>\n",
              "      <td>0</td>\n",
              "    </tr>\n",
              "    <tr>\n",
              "      <th>458</th>\n",
              "      <td>0</td>\n",
              "      <td>0</td>\n",
              "      <td>0</td>\n",
              "      <td>1</td>\n",
              "      <td>0</td>\n",
              "      <td>0</td>\n",
              "      <td>0</td>\n",
              "      <td>0</td>\n",
              "      <td>0</td>\n",
              "    </tr>\n",
              "  </tbody>\n",
              "</table>\n",
              "<p>459 rows × 9 columns</p>\n",
              "</div>\n",
              "      <button class=\"colab-df-convert\" onclick=\"convertToInteractive('df-f91d42ff-f48b-4be1-aa05-4d32ac2f8f90')\"\n",
              "              title=\"Convert this dataframe to an interactive table.\"\n",
              "              style=\"display:none;\">\n",
              "\n",
              "  <svg xmlns=\"http://www.w3.org/2000/svg\" height=\"24px\"viewBox=\"0 0 24 24\"\n",
              "       width=\"24px\">\n",
              "    <path d=\"M0 0h24v24H0V0z\" fill=\"none\"/>\n",
              "    <path d=\"M18.56 5.44l.94 2.06.94-2.06 2.06-.94-2.06-.94-.94-2.06-.94 2.06-2.06.94zm-11 1L8.5 8.5l.94-2.06 2.06-.94-2.06-.94L8.5 2.5l-.94 2.06-2.06.94zm10 10l.94 2.06.94-2.06 2.06-.94-2.06-.94-.94-2.06-.94 2.06-2.06.94z\"/><path d=\"M17.41 7.96l-1.37-1.37c-.4-.4-.92-.59-1.43-.59-.52 0-1.04.2-1.43.59L10.3 9.45l-7.72 7.72c-.78.78-.78 2.05 0 2.83L4 21.41c.39.39.9.59 1.41.59.51 0 1.02-.2 1.41-.59l7.78-7.78 2.81-2.81c.8-.78.8-2.07 0-2.86zM5.41 20L4 18.59l7.72-7.72 1.47 1.35L5.41 20z\"/>\n",
              "  </svg>\n",
              "      </button>\n",
              "\n",
              "\n",
              "\n",
              "    <div id=\"df-c50545ed-6923-4109-8b7a-3557e49ce2c1\">\n",
              "      <button class=\"colab-df-quickchart\" onclick=\"quickchart('df-c50545ed-6923-4109-8b7a-3557e49ce2c1')\"\n",
              "              title=\"Suggest charts.\"\n",
              "              style=\"display:none;\">\n",
              "\n",
              "<svg xmlns=\"http://www.w3.org/2000/svg\" height=\"24px\"viewBox=\"0 0 24 24\"\n",
              "     width=\"24px\">\n",
              "    <g>\n",
              "        <path d=\"M19 3H5c-1.1 0-2 .9-2 2v14c0 1.1.9 2 2 2h14c1.1 0 2-.9 2-2V5c0-1.1-.9-2-2-2zM9 17H7v-7h2v7zm4 0h-2V7h2v10zm4 0h-2v-4h2v4z\"/>\n",
              "    </g>\n",
              "</svg>\n",
              "      </button>\n",
              "    </div>\n",
              "\n",
              "<style>\n",
              "  .colab-df-quickchart {\n",
              "    background-color: #E8F0FE;\n",
              "    border: none;\n",
              "    border-radius: 50%;\n",
              "    cursor: pointer;\n",
              "    display: none;\n",
              "    fill: #1967D2;\n",
              "    height: 32px;\n",
              "    padding: 0 0 0 0;\n",
              "    width: 32px;\n",
              "  }\n",
              "\n",
              "  .colab-df-quickchart:hover {\n",
              "    background-color: #E2EBFA;\n",
              "    box-shadow: 0px 1px 2px rgba(60, 64, 67, 0.3), 0px 1px 3px 1px rgba(60, 64, 67, 0.15);\n",
              "    fill: #174EA6;\n",
              "  }\n",
              "\n",
              "  [theme=dark] .colab-df-quickchart {\n",
              "    background-color: #3B4455;\n",
              "    fill: #D2E3FC;\n",
              "  }\n",
              "\n",
              "  [theme=dark] .colab-df-quickchart:hover {\n",
              "    background-color: #434B5C;\n",
              "    box-shadow: 0px 1px 3px 1px rgba(0, 0, 0, 0.15);\n",
              "    filter: drop-shadow(0px 1px 2px rgba(0, 0, 0, 0.3));\n",
              "    fill: #FFFFFF;\n",
              "  }\n",
              "</style>\n",
              "\n",
              "    <script>\n",
              "      async function quickchart(key) {\n",
              "        const containerElement = document.querySelector('#' + key);\n",
              "        const charts = await google.colab.kernel.invokeFunction(\n",
              "            'suggestCharts', [key], {});\n",
              "      }\n",
              "    </script>\n",
              "\n",
              "\n",
              "      <script>\n",
              "\n",
              "function displayQuickchartButton(domScope) {\n",
              "  let quickchartButtonEl =\n",
              "    domScope.querySelector('#df-c50545ed-6923-4109-8b7a-3557e49ce2c1 button.colab-df-quickchart');\n",
              "  quickchartButtonEl.style.display =\n",
              "    google.colab.kernel.accessAllowed ? 'block' : 'none';\n",
              "}\n",
              "\n",
              "        displayQuickchartButton(document);\n",
              "      </script>\n",
              "      <style>\n",
              "    .colab-df-container {\n",
              "      display:flex;\n",
              "      flex-wrap:wrap;\n",
              "      gap: 12px;\n",
              "    }\n",
              "\n",
              "    .colab-df-convert {\n",
              "      background-color: #E8F0FE;\n",
              "      border: none;\n",
              "      border-radius: 50%;\n",
              "      cursor: pointer;\n",
              "      display: none;\n",
              "      fill: #1967D2;\n",
              "      height: 32px;\n",
              "      padding: 0 0 0 0;\n",
              "      width: 32px;\n",
              "    }\n",
              "\n",
              "    .colab-df-convert:hover {\n",
              "      background-color: #E2EBFA;\n",
              "      box-shadow: 0px 1px 2px rgba(60, 64, 67, 0.3), 0px 1px 3px 1px rgba(60, 64, 67, 0.15);\n",
              "      fill: #174EA6;\n",
              "    }\n",
              "\n",
              "    [theme=dark] .colab-df-convert {\n",
              "      background-color: #3B4455;\n",
              "      fill: #D2E3FC;\n",
              "    }\n",
              "\n",
              "    [theme=dark] .colab-df-convert:hover {\n",
              "      background-color: #434B5C;\n",
              "      box-shadow: 0px 1px 3px 1px rgba(0, 0, 0, 0.15);\n",
              "      filter: drop-shadow(0px 1px 2px rgba(0, 0, 0, 0.3));\n",
              "      fill: #FFFFFF;\n",
              "    }\n",
              "  </style>\n",
              "\n",
              "      <script>\n",
              "        const buttonEl =\n",
              "          document.querySelector('#df-f91d42ff-f48b-4be1-aa05-4d32ac2f8f90 button.colab-df-convert');\n",
              "        buttonEl.style.display =\n",
              "          google.colab.kernel.accessAllowed ? 'block' : 'none';\n",
              "\n",
              "        async function convertToInteractive(key) {\n",
              "          const element = document.querySelector('#df-f91d42ff-f48b-4be1-aa05-4d32ac2f8f90');\n",
              "          const dataTable =\n",
              "            await google.colab.kernel.invokeFunction('convertToInteractive',\n",
              "                                                     [key], {});\n",
              "          if (!dataTable) return;\n",
              "\n",
              "          const docLinkHtml = 'Like what you see? Visit the ' +\n",
              "            '<a target=\"_blank\" href=https://colab.research.google.com/notebooks/data_table.ipynb>data table notebook</a>'\n",
              "            + ' to learn more about interactive tables.';\n",
              "          element.innerHTML = '';\n",
              "          dataTable['output_type'] = 'display_data';\n",
              "          await google.colab.output.renderOutput(dataTable, element);\n",
              "          const docLink = document.createElement('div');\n",
              "          docLink.innerHTML = docLinkHtml;\n",
              "          element.appendChild(docLink);\n",
              "        }\n",
              "      </script>\n",
              "    </div>\n",
              "  </div>\n"
            ]
          },
          "metadata": {},
          "execution_count": 66
        }
      ],
      "source": [
        "df_mobile_name"
      ]
    },
    {
      "cell_type": "code",
      "execution_count": 67,
      "id": "edfa9662",
      "metadata": {
        "execution": {
          "iopub.execute_input": "2023-06-02T01:56:17.677594Z",
          "iopub.status.busy": "2023-06-02T01:56:17.676870Z",
          "iopub.status.idle": "2023-06-02T01:56:17.683434Z",
          "shell.execute_reply": "2023-06-02T01:56:17.682237Z"
        },
        "papermill": {
          "duration": 0.045253,
          "end_time": "2023-06-02T01:56:17.686223",
          "exception": false,
          "start_time": "2023-06-02T01:56:17.640970",
          "status": "completed"
        },
        "tags": [],
        "id": "edfa9662"
      },
      "outputs": [],
      "source": [
        "df_mobile_color=pd.get_dummies(df['mobile_color'],dtype=int)"
      ]
    },
    {
      "cell_type": "code",
      "execution_count": 68,
      "id": "d43886c7",
      "metadata": {
        "execution": {
          "iopub.execute_input": "2023-06-02T01:56:17.757526Z",
          "iopub.status.busy": "2023-06-02T01:56:17.757083Z",
          "iopub.status.idle": "2023-06-02T01:56:17.780831Z",
          "shell.execute_reply": "2023-06-02T01:56:17.779720Z"
        },
        "papermill": {
          "duration": 0.062837,
          "end_time": "2023-06-02T01:56:17.783459",
          "exception": false,
          "start_time": "2023-06-02T01:56:17.720622",
          "status": "completed"
        },
        "tags": [],
        "colab": {
          "base_uri": "https://localhost:8080/",
          "height": 488
        },
        "id": "d43886c7",
        "outputId": "997a5f45-2524-4a40-e6f3-c60729614fc1"
      },
      "outputs": [
        {
          "output_type": "execute_result",
          "data": {
            "text/plain": [
              "     Black  Blue  Brick  Brown  Champagne  Concrete  Cyan  Edition  Gold  \\\n",
              "0        0     0      0      0          0         0     0        0     0   \n",
              "1        0     1      0      0          0         0     0        0     0   \n",
              "2        0     1      0      0          0         0     0        0     0   \n",
              "3        0     0      0      0          0         0     0        0     0   \n",
              "4        0     0      0      0          0         0     0        0     0   \n",
              "..     ...   ...    ...    ...        ...       ...   ...      ...   ...   \n",
              "454      1     0      0      0          0         0     0        0     0   \n",
              "455      0     0      0      0          0         0     0        0     0   \n",
              "456      0     0      0      0          0         0     0        0     0   \n",
              "457      0     0      0      0          0         0     0        0     0   \n",
              "458      0     0      0      0          0         0     0        0     0   \n",
              "\n",
              "     Green  ...  Orange  Purple  Red  Ruby  Sapphire  Sea  Silver  Violet  \\\n",
              "0        0  ...       0       0    0     0         0    0       0       0   \n",
              "1        0  ...       0       0    0     0         0    0       0       0   \n",
              "2        0  ...       0       0    0     0         0    0       0       0   \n",
              "3        0  ...       0       0    0     0         0    0       0       0   \n",
              "4        1  ...       0       0    0     0         0    0       0       0   \n",
              "..     ...  ...     ...     ...  ...   ...       ...  ...     ...     ...   \n",
              "454      0  ...       0       0    0     0         0    0       0       0   \n",
              "455      0  ...       0       0    1     0         0    0       0       0   \n",
              "456      0  ...       0       0    1     0         0    0       0       0   \n",
              "457      1  ...       0       0    0     0         0    0       0       0   \n",
              "458      0  ...       0       1    0     0         0    0       0       0   \n",
              "\n",
              "     Wave  White  \n",
              "0       0      1  \n",
              "1       0      0  \n",
              "2       0      0  \n",
              "3       0      1  \n",
              "4       0      0  \n",
              "..    ...    ...  \n",
              "454     0      0  \n",
              "455     0      0  \n",
              "456     0      0  \n",
              "457     0      0  \n",
              "458     0      0  \n",
              "\n",
              "[459 rows x 23 columns]"
            ],
            "text/html": [
              "\n",
              "\n",
              "  <div id=\"df-06146091-475a-4c65-99d1-a2e8b2d843dc\">\n",
              "    <div class=\"colab-df-container\">\n",
              "      <div>\n",
              "<style scoped>\n",
              "    .dataframe tbody tr th:only-of-type {\n",
              "        vertical-align: middle;\n",
              "    }\n",
              "\n",
              "    .dataframe tbody tr th {\n",
              "        vertical-align: top;\n",
              "    }\n",
              "\n",
              "    .dataframe thead th {\n",
              "        text-align: right;\n",
              "    }\n",
              "</style>\n",
              "<table border=\"1\" class=\"dataframe\">\n",
              "  <thead>\n",
              "    <tr style=\"text-align: right;\">\n",
              "      <th></th>\n",
              "      <th>Black</th>\n",
              "      <th>Blue</th>\n",
              "      <th>Brick</th>\n",
              "      <th>Brown</th>\n",
              "      <th>Champagne</th>\n",
              "      <th>Concrete</th>\n",
              "      <th>Cyan</th>\n",
              "      <th>Edition</th>\n",
              "      <th>Gold</th>\n",
              "      <th>Green</th>\n",
              "      <th>...</th>\n",
              "      <th>Orange</th>\n",
              "      <th>Purple</th>\n",
              "      <th>Red</th>\n",
              "      <th>Ruby</th>\n",
              "      <th>Sapphire</th>\n",
              "      <th>Sea</th>\n",
              "      <th>Silver</th>\n",
              "      <th>Violet</th>\n",
              "      <th>Wave</th>\n",
              "      <th>White</th>\n",
              "    </tr>\n",
              "  </thead>\n",
              "  <tbody>\n",
              "    <tr>\n",
              "      <th>0</th>\n",
              "      <td>0</td>\n",
              "      <td>0</td>\n",
              "      <td>0</td>\n",
              "      <td>0</td>\n",
              "      <td>0</td>\n",
              "      <td>0</td>\n",
              "      <td>0</td>\n",
              "      <td>0</td>\n",
              "      <td>0</td>\n",
              "      <td>0</td>\n",
              "      <td>...</td>\n",
              "      <td>0</td>\n",
              "      <td>0</td>\n",
              "      <td>0</td>\n",
              "      <td>0</td>\n",
              "      <td>0</td>\n",
              "      <td>0</td>\n",
              "      <td>0</td>\n",
              "      <td>0</td>\n",
              "      <td>0</td>\n",
              "      <td>1</td>\n",
              "    </tr>\n",
              "    <tr>\n",
              "      <th>1</th>\n",
              "      <td>0</td>\n",
              "      <td>1</td>\n",
              "      <td>0</td>\n",
              "      <td>0</td>\n",
              "      <td>0</td>\n",
              "      <td>0</td>\n",
              "      <td>0</td>\n",
              "      <td>0</td>\n",
              "      <td>0</td>\n",
              "      <td>0</td>\n",
              "      <td>...</td>\n",
              "      <td>0</td>\n",
              "      <td>0</td>\n",
              "      <td>0</td>\n",
              "      <td>0</td>\n",
              "      <td>0</td>\n",
              "      <td>0</td>\n",
              "      <td>0</td>\n",
              "      <td>0</td>\n",
              "      <td>0</td>\n",
              "      <td>0</td>\n",
              "    </tr>\n",
              "    <tr>\n",
              "      <th>2</th>\n",
              "      <td>0</td>\n",
              "      <td>1</td>\n",
              "      <td>0</td>\n",
              "      <td>0</td>\n",
              "      <td>0</td>\n",
              "      <td>0</td>\n",
              "      <td>0</td>\n",
              "      <td>0</td>\n",
              "      <td>0</td>\n",
              "      <td>0</td>\n",
              "      <td>...</td>\n",
              "      <td>0</td>\n",
              "      <td>0</td>\n",
              "      <td>0</td>\n",
              "      <td>0</td>\n",
              "      <td>0</td>\n",
              "      <td>0</td>\n",
              "      <td>0</td>\n",
              "      <td>0</td>\n",
              "      <td>0</td>\n",
              "      <td>0</td>\n",
              "    </tr>\n",
              "    <tr>\n",
              "      <th>3</th>\n",
              "      <td>0</td>\n",
              "      <td>0</td>\n",
              "      <td>0</td>\n",
              "      <td>0</td>\n",
              "      <td>0</td>\n",
              "      <td>0</td>\n",
              "      <td>0</td>\n",
              "      <td>0</td>\n",
              "      <td>0</td>\n",
              "      <td>0</td>\n",
              "      <td>...</td>\n",
              "      <td>0</td>\n",
              "      <td>0</td>\n",
              "      <td>0</td>\n",
              "      <td>0</td>\n",
              "      <td>0</td>\n",
              "      <td>0</td>\n",
              "      <td>0</td>\n",
              "      <td>0</td>\n",
              "      <td>0</td>\n",
              "      <td>1</td>\n",
              "    </tr>\n",
              "    <tr>\n",
              "      <th>4</th>\n",
              "      <td>0</td>\n",
              "      <td>0</td>\n",
              "      <td>0</td>\n",
              "      <td>0</td>\n",
              "      <td>0</td>\n",
              "      <td>0</td>\n",
              "      <td>0</td>\n",
              "      <td>0</td>\n",
              "      <td>0</td>\n",
              "      <td>1</td>\n",
              "      <td>...</td>\n",
              "      <td>0</td>\n",
              "      <td>0</td>\n",
              "      <td>0</td>\n",
              "      <td>0</td>\n",
              "      <td>0</td>\n",
              "      <td>0</td>\n",
              "      <td>0</td>\n",
              "      <td>0</td>\n",
              "      <td>0</td>\n",
              "      <td>0</td>\n",
              "    </tr>\n",
              "    <tr>\n",
              "      <th>...</th>\n",
              "      <td>...</td>\n",
              "      <td>...</td>\n",
              "      <td>...</td>\n",
              "      <td>...</td>\n",
              "      <td>...</td>\n",
              "      <td>...</td>\n",
              "      <td>...</td>\n",
              "      <td>...</td>\n",
              "      <td>...</td>\n",
              "      <td>...</td>\n",
              "      <td>...</td>\n",
              "      <td>...</td>\n",
              "      <td>...</td>\n",
              "      <td>...</td>\n",
              "      <td>...</td>\n",
              "      <td>...</td>\n",
              "      <td>...</td>\n",
              "      <td>...</td>\n",
              "      <td>...</td>\n",
              "      <td>...</td>\n",
              "      <td>...</td>\n",
              "    </tr>\n",
              "    <tr>\n",
              "      <th>454</th>\n",
              "      <td>1</td>\n",
              "      <td>0</td>\n",
              "      <td>0</td>\n",
              "      <td>0</td>\n",
              "      <td>0</td>\n",
              "      <td>0</td>\n",
              "      <td>0</td>\n",
              "      <td>0</td>\n",
              "      <td>0</td>\n",
              "      <td>0</td>\n",
              "      <td>...</td>\n",
              "      <td>0</td>\n",
              "      <td>0</td>\n",
              "      <td>0</td>\n",
              "      <td>0</td>\n",
              "      <td>0</td>\n",
              "      <td>0</td>\n",
              "      <td>0</td>\n",
              "      <td>0</td>\n",
              "      <td>0</td>\n",
              "      <td>0</td>\n",
              "    </tr>\n",
              "    <tr>\n",
              "      <th>455</th>\n",
              "      <td>0</td>\n",
              "      <td>0</td>\n",
              "      <td>0</td>\n",
              "      <td>0</td>\n",
              "      <td>0</td>\n",
              "      <td>0</td>\n",
              "      <td>0</td>\n",
              "      <td>0</td>\n",
              "      <td>0</td>\n",
              "      <td>0</td>\n",
              "      <td>...</td>\n",
              "      <td>0</td>\n",
              "      <td>0</td>\n",
              "      <td>1</td>\n",
              "      <td>0</td>\n",
              "      <td>0</td>\n",
              "      <td>0</td>\n",
              "      <td>0</td>\n",
              "      <td>0</td>\n",
              "      <td>0</td>\n",
              "      <td>0</td>\n",
              "    </tr>\n",
              "    <tr>\n",
              "      <th>456</th>\n",
              "      <td>0</td>\n",
              "      <td>0</td>\n",
              "      <td>0</td>\n",
              "      <td>0</td>\n",
              "      <td>0</td>\n",
              "      <td>0</td>\n",
              "      <td>0</td>\n",
              "      <td>0</td>\n",
              "      <td>0</td>\n",
              "      <td>0</td>\n",
              "      <td>...</td>\n",
              "      <td>0</td>\n",
              "      <td>0</td>\n",
              "      <td>1</td>\n",
              "      <td>0</td>\n",
              "      <td>0</td>\n",
              "      <td>0</td>\n",
              "      <td>0</td>\n",
              "      <td>0</td>\n",
              "      <td>0</td>\n",
              "      <td>0</td>\n",
              "    </tr>\n",
              "    <tr>\n",
              "      <th>457</th>\n",
              "      <td>0</td>\n",
              "      <td>0</td>\n",
              "      <td>0</td>\n",
              "      <td>0</td>\n",
              "      <td>0</td>\n",
              "      <td>0</td>\n",
              "      <td>0</td>\n",
              "      <td>0</td>\n",
              "      <td>0</td>\n",
              "      <td>1</td>\n",
              "      <td>...</td>\n",
              "      <td>0</td>\n",
              "      <td>0</td>\n",
              "      <td>0</td>\n",
              "      <td>0</td>\n",
              "      <td>0</td>\n",
              "      <td>0</td>\n",
              "      <td>0</td>\n",
              "      <td>0</td>\n",
              "      <td>0</td>\n",
              "      <td>0</td>\n",
              "    </tr>\n",
              "    <tr>\n",
              "      <th>458</th>\n",
              "      <td>0</td>\n",
              "      <td>0</td>\n",
              "      <td>0</td>\n",
              "      <td>0</td>\n",
              "      <td>0</td>\n",
              "      <td>0</td>\n",
              "      <td>0</td>\n",
              "      <td>0</td>\n",
              "      <td>0</td>\n",
              "      <td>0</td>\n",
              "      <td>...</td>\n",
              "      <td>0</td>\n",
              "      <td>1</td>\n",
              "      <td>0</td>\n",
              "      <td>0</td>\n",
              "      <td>0</td>\n",
              "      <td>0</td>\n",
              "      <td>0</td>\n",
              "      <td>0</td>\n",
              "      <td>0</td>\n",
              "      <td>0</td>\n",
              "    </tr>\n",
              "  </tbody>\n",
              "</table>\n",
              "<p>459 rows × 23 columns</p>\n",
              "</div>\n",
              "      <button class=\"colab-df-convert\" onclick=\"convertToInteractive('df-06146091-475a-4c65-99d1-a2e8b2d843dc')\"\n",
              "              title=\"Convert this dataframe to an interactive table.\"\n",
              "              style=\"display:none;\">\n",
              "\n",
              "  <svg xmlns=\"http://www.w3.org/2000/svg\" height=\"24px\"viewBox=\"0 0 24 24\"\n",
              "       width=\"24px\">\n",
              "    <path d=\"M0 0h24v24H0V0z\" fill=\"none\"/>\n",
              "    <path d=\"M18.56 5.44l.94 2.06.94-2.06 2.06-.94-2.06-.94-.94-2.06-.94 2.06-2.06.94zm-11 1L8.5 8.5l.94-2.06 2.06-.94-2.06-.94L8.5 2.5l-.94 2.06-2.06.94zm10 10l.94 2.06.94-2.06 2.06-.94-2.06-.94-.94-2.06-.94 2.06-2.06.94z\"/><path d=\"M17.41 7.96l-1.37-1.37c-.4-.4-.92-.59-1.43-.59-.52 0-1.04.2-1.43.59L10.3 9.45l-7.72 7.72c-.78.78-.78 2.05 0 2.83L4 21.41c.39.39.9.59 1.41.59.51 0 1.02-.2 1.41-.59l7.78-7.78 2.81-2.81c.8-.78.8-2.07 0-2.86zM5.41 20L4 18.59l7.72-7.72 1.47 1.35L5.41 20z\"/>\n",
              "  </svg>\n",
              "      </button>\n",
              "\n",
              "\n",
              "\n",
              "    <div id=\"df-7f81c5ec-2e53-4963-bd5a-57c0be8f967c\">\n",
              "      <button class=\"colab-df-quickchart\" onclick=\"quickchart('df-7f81c5ec-2e53-4963-bd5a-57c0be8f967c')\"\n",
              "              title=\"Suggest charts.\"\n",
              "              style=\"display:none;\">\n",
              "\n",
              "<svg xmlns=\"http://www.w3.org/2000/svg\" height=\"24px\"viewBox=\"0 0 24 24\"\n",
              "     width=\"24px\">\n",
              "    <g>\n",
              "        <path d=\"M19 3H5c-1.1 0-2 .9-2 2v14c0 1.1.9 2 2 2h14c1.1 0 2-.9 2-2V5c0-1.1-.9-2-2-2zM9 17H7v-7h2v7zm4 0h-2V7h2v10zm4 0h-2v-4h2v4z\"/>\n",
              "    </g>\n",
              "</svg>\n",
              "      </button>\n",
              "    </div>\n",
              "\n",
              "<style>\n",
              "  .colab-df-quickchart {\n",
              "    background-color: #E8F0FE;\n",
              "    border: none;\n",
              "    border-radius: 50%;\n",
              "    cursor: pointer;\n",
              "    display: none;\n",
              "    fill: #1967D2;\n",
              "    height: 32px;\n",
              "    padding: 0 0 0 0;\n",
              "    width: 32px;\n",
              "  }\n",
              "\n",
              "  .colab-df-quickchart:hover {\n",
              "    background-color: #E2EBFA;\n",
              "    box-shadow: 0px 1px 2px rgba(60, 64, 67, 0.3), 0px 1px 3px 1px rgba(60, 64, 67, 0.15);\n",
              "    fill: #174EA6;\n",
              "  }\n",
              "\n",
              "  [theme=dark] .colab-df-quickchart {\n",
              "    background-color: #3B4455;\n",
              "    fill: #D2E3FC;\n",
              "  }\n",
              "\n",
              "  [theme=dark] .colab-df-quickchart:hover {\n",
              "    background-color: #434B5C;\n",
              "    box-shadow: 0px 1px 3px 1px rgba(0, 0, 0, 0.15);\n",
              "    filter: drop-shadow(0px 1px 2px rgba(0, 0, 0, 0.3));\n",
              "    fill: #FFFFFF;\n",
              "  }\n",
              "</style>\n",
              "\n",
              "    <script>\n",
              "      async function quickchart(key) {\n",
              "        const containerElement = document.querySelector('#' + key);\n",
              "        const charts = await google.colab.kernel.invokeFunction(\n",
              "            'suggestCharts', [key], {});\n",
              "      }\n",
              "    </script>\n",
              "\n",
              "\n",
              "      <script>\n",
              "\n",
              "function displayQuickchartButton(domScope) {\n",
              "  let quickchartButtonEl =\n",
              "    domScope.querySelector('#df-7f81c5ec-2e53-4963-bd5a-57c0be8f967c button.colab-df-quickchart');\n",
              "  quickchartButtonEl.style.display =\n",
              "    google.colab.kernel.accessAllowed ? 'block' : 'none';\n",
              "}\n",
              "\n",
              "        displayQuickchartButton(document);\n",
              "      </script>\n",
              "      <style>\n",
              "    .colab-df-container {\n",
              "      display:flex;\n",
              "      flex-wrap:wrap;\n",
              "      gap: 12px;\n",
              "    }\n",
              "\n",
              "    .colab-df-convert {\n",
              "      background-color: #E8F0FE;\n",
              "      border: none;\n",
              "      border-radius: 50%;\n",
              "      cursor: pointer;\n",
              "      display: none;\n",
              "      fill: #1967D2;\n",
              "      height: 32px;\n",
              "      padding: 0 0 0 0;\n",
              "      width: 32px;\n",
              "    }\n",
              "\n",
              "    .colab-df-convert:hover {\n",
              "      background-color: #E2EBFA;\n",
              "      box-shadow: 0px 1px 2px rgba(60, 64, 67, 0.3), 0px 1px 3px 1px rgba(60, 64, 67, 0.15);\n",
              "      fill: #174EA6;\n",
              "    }\n",
              "\n",
              "    [theme=dark] .colab-df-convert {\n",
              "      background-color: #3B4455;\n",
              "      fill: #D2E3FC;\n",
              "    }\n",
              "\n",
              "    [theme=dark] .colab-df-convert:hover {\n",
              "      background-color: #434B5C;\n",
              "      box-shadow: 0px 1px 3px 1px rgba(0, 0, 0, 0.15);\n",
              "      filter: drop-shadow(0px 1px 2px rgba(0, 0, 0, 0.3));\n",
              "      fill: #FFFFFF;\n",
              "    }\n",
              "  </style>\n",
              "\n",
              "      <script>\n",
              "        const buttonEl =\n",
              "          document.querySelector('#df-06146091-475a-4c65-99d1-a2e8b2d843dc button.colab-df-convert');\n",
              "        buttonEl.style.display =\n",
              "          google.colab.kernel.accessAllowed ? 'block' : 'none';\n",
              "\n",
              "        async function convertToInteractive(key) {\n",
              "          const element = document.querySelector('#df-06146091-475a-4c65-99d1-a2e8b2d843dc');\n",
              "          const dataTable =\n",
              "            await google.colab.kernel.invokeFunction('convertToInteractive',\n",
              "                                                     [key], {});\n",
              "          if (!dataTable) return;\n",
              "\n",
              "          const docLinkHtml = 'Like what you see? Visit the ' +\n",
              "            '<a target=\"_blank\" href=https://colab.research.google.com/notebooks/data_table.ipynb>data table notebook</a>'\n",
              "            + ' to learn more about interactive tables.';\n",
              "          element.innerHTML = '';\n",
              "          dataTable['output_type'] = 'display_data';\n",
              "          await google.colab.output.renderOutput(dataTable, element);\n",
              "          const docLink = document.createElement('div');\n",
              "          docLink.innerHTML = docLinkHtml;\n",
              "          element.appendChild(docLink);\n",
              "        }\n",
              "      </script>\n",
              "    </div>\n",
              "  </div>\n"
            ]
          },
          "metadata": {},
          "execution_count": 68
        }
      ],
      "source": [
        "df_mobile_color"
      ]
    },
    {
      "cell_type": "code",
      "execution_count": 69,
      "id": "79937ce1",
      "metadata": {
        "execution": {
          "iopub.execute_input": "2023-06-02T01:56:17.857345Z",
          "iopub.status.busy": "2023-06-02T01:56:17.856900Z",
          "iopub.status.idle": "2023-06-02T01:56:17.863101Z",
          "shell.execute_reply": "2023-06-02T01:56:17.862207Z"
        },
        "papermill": {
          "duration": 0.046004,
          "end_time": "2023-06-02T01:56:17.865354",
          "exception": false,
          "start_time": "2023-06-02T01:56:17.819350",
          "status": "completed"
        },
        "tags": [],
        "id": "79937ce1"
      },
      "outputs": [],
      "source": [
        "df=pd.concat([df,df_mobile_name,df_mobile_color],axis=1)"
      ]
    },
    {
      "cell_type": "code",
      "execution_count": 70,
      "id": "708f31a8",
      "metadata": {
        "execution": {
          "iopub.execute_input": "2023-06-02T01:56:17.938806Z",
          "iopub.status.busy": "2023-06-02T01:56:17.938037Z",
          "iopub.status.idle": "2023-06-02T01:56:17.967019Z",
          "shell.execute_reply": "2023-06-02T01:56:17.966067Z"
        },
        "papermill": {
          "duration": 0.068516,
          "end_time": "2023-06-02T01:56:17.969199",
          "exception": false,
          "start_time": "2023-06-02T01:56:17.900683",
          "status": "completed"
        },
        "tags": [],
        "colab": {
          "base_uri": "https://localhost:8080/",
          "height": 488
        },
        "id": "708f31a8",
        "outputId": "6d827da0-97a3-4bb4-b05d-0b2233519ddd"
      },
      "outputs": [
        {
          "output_type": "execute_result",
          "data": {
            "text/plain": [
              "    mobile_name mobile_price mobile_color disp_size  resolution  os  \\\n",
              "0        Realme         8999        White     16.56     1152000  10   \n",
              "1        Realme         8999         Blue     16.56     1152000  10   \n",
              "2        Realme         9999         Blue     16.56     1152000  10   \n",
              "3        Realme         9999        White     16.56     1152000  10   \n",
              "4        Realme        11999        Green     16.51     1152000  10   \n",
              "..          ...          ...          ...       ...         ...  ..   \n",
              "454        OPPO        13490        Black     14.48     1036800   7   \n",
              "455        OPPO         9490          Red     14.48     1036800   7   \n",
              "456        OPPO        22990          Red     15.82     2462400   8   \n",
              "457        OPPO        13990        Green     16.59     2527200   9   \n",
              "458        OPPO        13990       Purple     16.59     2527200   9   \n",
              "\n",
              "     num_cores mp_speed int_memory ram  ... Orange Purple Red Ruby Sapphire  \\\n",
              "0            8       2         32   3   ...      0      0   0    0        0   \n",
              "1            8       2         32   3   ...      0      0   0    0        0   \n",
              "2            8       2         64   4   ...      0      0   0    0        0   \n",
              "3            8       2         64   4   ...      0      0   0    0        0   \n",
              "4            8       2        128   4   ...      0      0   0    0        0   \n",
              "..         ...      ...        ...  ..  ...    ...    ...  ..  ...      ...   \n",
              "454          8     2.5         32   3   ...      0      0   0    0        0   \n",
              "455          8     2.5         16   2   ...      0      0   1    0        0   \n",
              "456          8       2         64   4   ...      0      0   1    0        0   \n",
              "457          8     2.1        128   4   ...      0      0   0    0        0   \n",
              "458          8     2.1        128   4   ...      0      1   0    0        0   \n",
              "\n",
              "     Sea  Silver  Violet  Wave  White  \n",
              "0      0       0       0     0      1  \n",
              "1      0       0       0     0      0  \n",
              "2      0       0       0     0      0  \n",
              "3      0       0       0     0      1  \n",
              "4      0       0       0     0      0  \n",
              "..   ...     ...     ...   ...    ...  \n",
              "454    0       0       0     0      0  \n",
              "455    0       0       0     0      0  \n",
              "456    0       0       0     0      0  \n",
              "457    0       0       0     0      0  \n",
              "458    0       0       0     0      0  \n",
              "\n",
              "[459 rows x 56 columns]"
            ],
            "text/html": [
              "\n",
              "\n",
              "  <div id=\"df-d7cc6e0b-c7e8-4a35-af61-5c1eb9873dca\">\n",
              "    <div class=\"colab-df-container\">\n",
              "      <div>\n",
              "<style scoped>\n",
              "    .dataframe tbody tr th:only-of-type {\n",
              "        vertical-align: middle;\n",
              "    }\n",
              "\n",
              "    .dataframe tbody tr th {\n",
              "        vertical-align: top;\n",
              "    }\n",
              "\n",
              "    .dataframe thead th {\n",
              "        text-align: right;\n",
              "    }\n",
              "</style>\n",
              "<table border=\"1\" class=\"dataframe\">\n",
              "  <thead>\n",
              "    <tr style=\"text-align: right;\">\n",
              "      <th></th>\n",
              "      <th>mobile_name</th>\n",
              "      <th>mobile_price</th>\n",
              "      <th>mobile_color</th>\n",
              "      <th>disp_size</th>\n",
              "      <th>resolution</th>\n",
              "      <th>os</th>\n",
              "      <th>num_cores</th>\n",
              "      <th>mp_speed</th>\n",
              "      <th>int_memory</th>\n",
              "      <th>ram</th>\n",
              "      <th>...</th>\n",
              "      <th>Orange</th>\n",
              "      <th>Purple</th>\n",
              "      <th>Red</th>\n",
              "      <th>Ruby</th>\n",
              "      <th>Sapphire</th>\n",
              "      <th>Sea</th>\n",
              "      <th>Silver</th>\n",
              "      <th>Violet</th>\n",
              "      <th>Wave</th>\n",
              "      <th>White</th>\n",
              "    </tr>\n",
              "  </thead>\n",
              "  <tbody>\n",
              "    <tr>\n",
              "      <th>0</th>\n",
              "      <td>Realme</td>\n",
              "      <td>8999</td>\n",
              "      <td>White</td>\n",
              "      <td>16.56</td>\n",
              "      <td>1152000</td>\n",
              "      <td>10</td>\n",
              "      <td>8</td>\n",
              "      <td>2</td>\n",
              "      <td>32</td>\n",
              "      <td>3</td>\n",
              "      <td>...</td>\n",
              "      <td>0</td>\n",
              "      <td>0</td>\n",
              "      <td>0</td>\n",
              "      <td>0</td>\n",
              "      <td>0</td>\n",
              "      <td>0</td>\n",
              "      <td>0</td>\n",
              "      <td>0</td>\n",
              "      <td>0</td>\n",
              "      <td>1</td>\n",
              "    </tr>\n",
              "    <tr>\n",
              "      <th>1</th>\n",
              "      <td>Realme</td>\n",
              "      <td>8999</td>\n",
              "      <td>Blue</td>\n",
              "      <td>16.56</td>\n",
              "      <td>1152000</td>\n",
              "      <td>10</td>\n",
              "      <td>8</td>\n",
              "      <td>2</td>\n",
              "      <td>32</td>\n",
              "      <td>3</td>\n",
              "      <td>...</td>\n",
              "      <td>0</td>\n",
              "      <td>0</td>\n",
              "      <td>0</td>\n",
              "      <td>0</td>\n",
              "      <td>0</td>\n",
              "      <td>0</td>\n",
              "      <td>0</td>\n",
              "      <td>0</td>\n",
              "      <td>0</td>\n",
              "      <td>0</td>\n",
              "    </tr>\n",
              "    <tr>\n",
              "      <th>2</th>\n",
              "      <td>Realme</td>\n",
              "      <td>9999</td>\n",
              "      <td>Blue</td>\n",
              "      <td>16.56</td>\n",
              "      <td>1152000</td>\n",
              "      <td>10</td>\n",
              "      <td>8</td>\n",
              "      <td>2</td>\n",
              "      <td>64</td>\n",
              "      <td>4</td>\n",
              "      <td>...</td>\n",
              "      <td>0</td>\n",
              "      <td>0</td>\n",
              "      <td>0</td>\n",
              "      <td>0</td>\n",
              "      <td>0</td>\n",
              "      <td>0</td>\n",
              "      <td>0</td>\n",
              "      <td>0</td>\n",
              "      <td>0</td>\n",
              "      <td>0</td>\n",
              "    </tr>\n",
              "    <tr>\n",
              "      <th>3</th>\n",
              "      <td>Realme</td>\n",
              "      <td>9999</td>\n",
              "      <td>White</td>\n",
              "      <td>16.56</td>\n",
              "      <td>1152000</td>\n",
              "      <td>10</td>\n",
              "      <td>8</td>\n",
              "      <td>2</td>\n",
              "      <td>64</td>\n",
              "      <td>4</td>\n",
              "      <td>...</td>\n",
              "      <td>0</td>\n",
              "      <td>0</td>\n",
              "      <td>0</td>\n",
              "      <td>0</td>\n",
              "      <td>0</td>\n",
              "      <td>0</td>\n",
              "      <td>0</td>\n",
              "      <td>0</td>\n",
              "      <td>0</td>\n",
              "      <td>1</td>\n",
              "    </tr>\n",
              "    <tr>\n",
              "      <th>4</th>\n",
              "      <td>Realme</td>\n",
              "      <td>11999</td>\n",
              "      <td>Green</td>\n",
              "      <td>16.51</td>\n",
              "      <td>1152000</td>\n",
              "      <td>10</td>\n",
              "      <td>8</td>\n",
              "      <td>2</td>\n",
              "      <td>128</td>\n",
              "      <td>4</td>\n",
              "      <td>...</td>\n",
              "      <td>0</td>\n",
              "      <td>0</td>\n",
              "      <td>0</td>\n",
              "      <td>0</td>\n",
              "      <td>0</td>\n",
              "      <td>0</td>\n",
              "      <td>0</td>\n",
              "      <td>0</td>\n",
              "      <td>0</td>\n",
              "      <td>0</td>\n",
              "    </tr>\n",
              "    <tr>\n",
              "      <th>...</th>\n",
              "      <td>...</td>\n",
              "      <td>...</td>\n",
              "      <td>...</td>\n",
              "      <td>...</td>\n",
              "      <td>...</td>\n",
              "      <td>...</td>\n",
              "      <td>...</td>\n",
              "      <td>...</td>\n",
              "      <td>...</td>\n",
              "      <td>...</td>\n",
              "      <td>...</td>\n",
              "      <td>...</td>\n",
              "      <td>...</td>\n",
              "      <td>...</td>\n",
              "      <td>...</td>\n",
              "      <td>...</td>\n",
              "      <td>...</td>\n",
              "      <td>...</td>\n",
              "      <td>...</td>\n",
              "      <td>...</td>\n",
              "      <td>...</td>\n",
              "    </tr>\n",
              "    <tr>\n",
              "      <th>454</th>\n",
              "      <td>OPPO</td>\n",
              "      <td>13490</td>\n",
              "      <td>Black</td>\n",
              "      <td>14.48</td>\n",
              "      <td>1036800</td>\n",
              "      <td>7</td>\n",
              "      <td>8</td>\n",
              "      <td>2.5</td>\n",
              "      <td>32</td>\n",
              "      <td>3</td>\n",
              "      <td>...</td>\n",
              "      <td>0</td>\n",
              "      <td>0</td>\n",
              "      <td>0</td>\n",
              "      <td>0</td>\n",
              "      <td>0</td>\n",
              "      <td>0</td>\n",
              "      <td>0</td>\n",
              "      <td>0</td>\n",
              "      <td>0</td>\n",
              "      <td>0</td>\n",
              "    </tr>\n",
              "    <tr>\n",
              "      <th>455</th>\n",
              "      <td>OPPO</td>\n",
              "      <td>9490</td>\n",
              "      <td>Red</td>\n",
              "      <td>14.48</td>\n",
              "      <td>1036800</td>\n",
              "      <td>7</td>\n",
              "      <td>8</td>\n",
              "      <td>2.5</td>\n",
              "      <td>16</td>\n",
              "      <td>2</td>\n",
              "      <td>...</td>\n",
              "      <td>0</td>\n",
              "      <td>0</td>\n",
              "      <td>1</td>\n",
              "      <td>0</td>\n",
              "      <td>0</td>\n",
              "      <td>0</td>\n",
              "      <td>0</td>\n",
              "      <td>0</td>\n",
              "      <td>0</td>\n",
              "      <td>0</td>\n",
              "    </tr>\n",
              "    <tr>\n",
              "      <th>456</th>\n",
              "      <td>OPPO</td>\n",
              "      <td>22990</td>\n",
              "      <td>Red</td>\n",
              "      <td>15.82</td>\n",
              "      <td>2462400</td>\n",
              "      <td>8</td>\n",
              "      <td>8</td>\n",
              "      <td>2</td>\n",
              "      <td>64</td>\n",
              "      <td>4</td>\n",
              "      <td>...</td>\n",
              "      <td>0</td>\n",
              "      <td>0</td>\n",
              "      <td>1</td>\n",
              "      <td>0</td>\n",
              "      <td>0</td>\n",
              "      <td>0</td>\n",
              "      <td>0</td>\n",
              "      <td>0</td>\n",
              "      <td>0</td>\n",
              "      <td>0</td>\n",
              "    </tr>\n",
              "    <tr>\n",
              "      <th>457</th>\n",
              "      <td>OPPO</td>\n",
              "      <td>13990</td>\n",
              "      <td>Green</td>\n",
              "      <td>16.59</td>\n",
              "      <td>2527200</td>\n",
              "      <td>9</td>\n",
              "      <td>8</td>\n",
              "      <td>2.1</td>\n",
              "      <td>128</td>\n",
              "      <td>4</td>\n",
              "      <td>...</td>\n",
              "      <td>0</td>\n",
              "      <td>0</td>\n",
              "      <td>0</td>\n",
              "      <td>0</td>\n",
              "      <td>0</td>\n",
              "      <td>0</td>\n",
              "      <td>0</td>\n",
              "      <td>0</td>\n",
              "      <td>0</td>\n",
              "      <td>0</td>\n",
              "    </tr>\n",
              "    <tr>\n",
              "      <th>458</th>\n",
              "      <td>OPPO</td>\n",
              "      <td>13990</td>\n",
              "      <td>Purple</td>\n",
              "      <td>16.59</td>\n",
              "      <td>2527200</td>\n",
              "      <td>9</td>\n",
              "      <td>8</td>\n",
              "      <td>2.1</td>\n",
              "      <td>128</td>\n",
              "      <td>4</td>\n",
              "      <td>...</td>\n",
              "      <td>0</td>\n",
              "      <td>1</td>\n",
              "      <td>0</td>\n",
              "      <td>0</td>\n",
              "      <td>0</td>\n",
              "      <td>0</td>\n",
              "      <td>0</td>\n",
              "      <td>0</td>\n",
              "      <td>0</td>\n",
              "      <td>0</td>\n",
              "    </tr>\n",
              "  </tbody>\n",
              "</table>\n",
              "<p>459 rows × 56 columns</p>\n",
              "</div>\n",
              "      <button class=\"colab-df-convert\" onclick=\"convertToInteractive('df-d7cc6e0b-c7e8-4a35-af61-5c1eb9873dca')\"\n",
              "              title=\"Convert this dataframe to an interactive table.\"\n",
              "              style=\"display:none;\">\n",
              "\n",
              "  <svg xmlns=\"http://www.w3.org/2000/svg\" height=\"24px\"viewBox=\"0 0 24 24\"\n",
              "       width=\"24px\">\n",
              "    <path d=\"M0 0h24v24H0V0z\" fill=\"none\"/>\n",
              "    <path d=\"M18.56 5.44l.94 2.06.94-2.06 2.06-.94-2.06-.94-.94-2.06-.94 2.06-2.06.94zm-11 1L8.5 8.5l.94-2.06 2.06-.94-2.06-.94L8.5 2.5l-.94 2.06-2.06.94zm10 10l.94 2.06.94-2.06 2.06-.94-2.06-.94-.94-2.06-.94 2.06-2.06.94z\"/><path d=\"M17.41 7.96l-1.37-1.37c-.4-.4-.92-.59-1.43-.59-.52 0-1.04.2-1.43.59L10.3 9.45l-7.72 7.72c-.78.78-.78 2.05 0 2.83L4 21.41c.39.39.9.59 1.41.59.51 0 1.02-.2 1.41-.59l7.78-7.78 2.81-2.81c.8-.78.8-2.07 0-2.86zM5.41 20L4 18.59l7.72-7.72 1.47 1.35L5.41 20z\"/>\n",
              "  </svg>\n",
              "      </button>\n",
              "\n",
              "\n",
              "\n",
              "    <div id=\"df-ef43c00b-bc66-4d09-9ced-37303785ccdc\">\n",
              "      <button class=\"colab-df-quickchart\" onclick=\"quickchart('df-ef43c00b-bc66-4d09-9ced-37303785ccdc')\"\n",
              "              title=\"Suggest charts.\"\n",
              "              style=\"display:none;\">\n",
              "\n",
              "<svg xmlns=\"http://www.w3.org/2000/svg\" height=\"24px\"viewBox=\"0 0 24 24\"\n",
              "     width=\"24px\">\n",
              "    <g>\n",
              "        <path d=\"M19 3H5c-1.1 0-2 .9-2 2v14c0 1.1.9 2 2 2h14c1.1 0 2-.9 2-2V5c0-1.1-.9-2-2-2zM9 17H7v-7h2v7zm4 0h-2V7h2v10zm4 0h-2v-4h2v4z\"/>\n",
              "    </g>\n",
              "</svg>\n",
              "      </button>\n",
              "    </div>\n",
              "\n",
              "<style>\n",
              "  .colab-df-quickchart {\n",
              "    background-color: #E8F0FE;\n",
              "    border: none;\n",
              "    border-radius: 50%;\n",
              "    cursor: pointer;\n",
              "    display: none;\n",
              "    fill: #1967D2;\n",
              "    height: 32px;\n",
              "    padding: 0 0 0 0;\n",
              "    width: 32px;\n",
              "  }\n",
              "\n",
              "  .colab-df-quickchart:hover {\n",
              "    background-color: #E2EBFA;\n",
              "    box-shadow: 0px 1px 2px rgba(60, 64, 67, 0.3), 0px 1px 3px 1px rgba(60, 64, 67, 0.15);\n",
              "    fill: #174EA6;\n",
              "  }\n",
              "\n",
              "  [theme=dark] .colab-df-quickchart {\n",
              "    background-color: #3B4455;\n",
              "    fill: #D2E3FC;\n",
              "  }\n",
              "\n",
              "  [theme=dark] .colab-df-quickchart:hover {\n",
              "    background-color: #434B5C;\n",
              "    box-shadow: 0px 1px 3px 1px rgba(0, 0, 0, 0.15);\n",
              "    filter: drop-shadow(0px 1px 2px rgba(0, 0, 0, 0.3));\n",
              "    fill: #FFFFFF;\n",
              "  }\n",
              "</style>\n",
              "\n",
              "    <script>\n",
              "      async function quickchart(key) {\n",
              "        const containerElement = document.querySelector('#' + key);\n",
              "        const charts = await google.colab.kernel.invokeFunction(\n",
              "            'suggestCharts', [key], {});\n",
              "      }\n",
              "    </script>\n",
              "\n",
              "\n",
              "      <script>\n",
              "\n",
              "function displayQuickchartButton(domScope) {\n",
              "  let quickchartButtonEl =\n",
              "    domScope.querySelector('#df-ef43c00b-bc66-4d09-9ced-37303785ccdc button.colab-df-quickchart');\n",
              "  quickchartButtonEl.style.display =\n",
              "    google.colab.kernel.accessAllowed ? 'block' : 'none';\n",
              "}\n",
              "\n",
              "        displayQuickchartButton(document);\n",
              "      </script>\n",
              "      <style>\n",
              "    .colab-df-container {\n",
              "      display:flex;\n",
              "      flex-wrap:wrap;\n",
              "      gap: 12px;\n",
              "    }\n",
              "\n",
              "    .colab-df-convert {\n",
              "      background-color: #E8F0FE;\n",
              "      border: none;\n",
              "      border-radius: 50%;\n",
              "      cursor: pointer;\n",
              "      display: none;\n",
              "      fill: #1967D2;\n",
              "      height: 32px;\n",
              "      padding: 0 0 0 0;\n",
              "      width: 32px;\n",
              "    }\n",
              "\n",
              "    .colab-df-convert:hover {\n",
              "      background-color: #E2EBFA;\n",
              "      box-shadow: 0px 1px 2px rgba(60, 64, 67, 0.3), 0px 1px 3px 1px rgba(60, 64, 67, 0.15);\n",
              "      fill: #174EA6;\n",
              "    }\n",
              "\n",
              "    [theme=dark] .colab-df-convert {\n",
              "      background-color: #3B4455;\n",
              "      fill: #D2E3FC;\n",
              "    }\n",
              "\n",
              "    [theme=dark] .colab-df-convert:hover {\n",
              "      background-color: #434B5C;\n",
              "      box-shadow: 0px 1px 3px 1px rgba(0, 0, 0, 0.15);\n",
              "      filter: drop-shadow(0px 1px 2px rgba(0, 0, 0, 0.3));\n",
              "      fill: #FFFFFF;\n",
              "    }\n",
              "  </style>\n",
              "\n",
              "      <script>\n",
              "        const buttonEl =\n",
              "          document.querySelector('#df-d7cc6e0b-c7e8-4a35-af61-5c1eb9873dca button.colab-df-convert');\n",
              "        buttonEl.style.display =\n",
              "          google.colab.kernel.accessAllowed ? 'block' : 'none';\n",
              "\n",
              "        async function convertToInteractive(key) {\n",
              "          const element = document.querySelector('#df-d7cc6e0b-c7e8-4a35-af61-5c1eb9873dca');\n",
              "          const dataTable =\n",
              "            await google.colab.kernel.invokeFunction('convertToInteractive',\n",
              "                                                     [key], {});\n",
              "          if (!dataTable) return;\n",
              "\n",
              "          const docLinkHtml = 'Like what you see? Visit the ' +\n",
              "            '<a target=\"_blank\" href=https://colab.research.google.com/notebooks/data_table.ipynb>data table notebook</a>'\n",
              "            + ' to learn more about interactive tables.';\n",
              "          element.innerHTML = '';\n",
              "          dataTable['output_type'] = 'display_data';\n",
              "          await google.colab.output.renderOutput(dataTable, element);\n",
              "          const docLink = document.createElement('div');\n",
              "          docLink.innerHTML = docLinkHtml;\n",
              "          element.appendChild(docLink);\n",
              "        }\n",
              "      </script>\n",
              "    </div>\n",
              "  </div>\n"
            ]
          },
          "metadata": {},
          "execution_count": 70
        }
      ],
      "source": [
        "df"
      ]
    },
    {
      "cell_type": "markdown",
      "id": "8fb9e052",
      "metadata": {
        "papermill": {
          "duration": 0.035532,
          "end_time": "2023-06-02T01:56:18.040440",
          "exception": false,
          "start_time": "2023-06-02T01:56:18.004908",
          "status": "completed"
        },
        "tags": [],
        "id": "8fb9e052"
      },
      "source": [
        "now we will remove mobile_name & mobile_color feature"
      ]
    },
    {
      "cell_type": "code",
      "execution_count": 71,
      "id": "be6efe48",
      "metadata": {
        "execution": {
          "iopub.execute_input": "2023-06-02T01:56:18.114466Z",
          "iopub.status.busy": "2023-06-02T01:56:18.114011Z",
          "iopub.status.idle": "2023-06-02T01:56:18.121847Z",
          "shell.execute_reply": "2023-06-02T01:56:18.120646Z"
        },
        "papermill": {
          "duration": 0.048247,
          "end_time": "2023-06-02T01:56:18.124333",
          "exception": false,
          "start_time": "2023-06-02T01:56:18.076086",
          "status": "completed"
        },
        "tags": [],
        "id": "be6efe48"
      },
      "outputs": [],
      "source": [
        "df.drop(['mobile_name','mobile_color'],axis=1,inplace=True)"
      ]
    },
    {
      "cell_type": "code",
      "execution_count": 72,
      "id": "34bd7e4b",
      "metadata": {
        "execution": {
          "iopub.execute_input": "2023-06-02T01:56:18.197325Z",
          "iopub.status.busy": "2023-06-02T01:56:18.196894Z",
          "iopub.status.idle": "2023-06-02T01:56:18.207666Z",
          "shell.execute_reply": "2023-06-02T01:56:18.206440Z"
        },
        "papermill": {
          "duration": 0.050383,
          "end_time": "2023-06-02T01:56:18.210290",
          "exception": false,
          "start_time": "2023-06-02T01:56:18.159907",
          "status": "completed"
        },
        "tags": [],
        "colab": {
          "base_uri": "https://localhost:8080/"
        },
        "id": "34bd7e4b",
        "outputId": "8372b36d-32ba-4281-ec58-eeda95d1a73b"
      },
      "outputs": [
        {
          "output_type": "execute_result",
          "data": {
            "text/plain": [
              "mobile_price     object\n",
              "disp_size        object\n",
              "resolution        int64\n",
              "os               object\n",
              "num_cores         int64\n",
              "mp_speed         object\n",
              "int_memory       object\n",
              "ram              object\n",
              "battery_power    object\n",
              "mob_width        object\n",
              "mob_height       object\n",
              "mob_depth        object\n",
              "mob_weight       object\n",
              "2G                int64\n",
              "3G                int64\n",
              "4G                int64\n",
              "4GVOLTE           int64\n",
              "5G                int64\n",
              "p_cam_max        object\n",
              "p_cam_count       int64\n",
              "f_cam_max        object\n",
              "f_cam_count       int64\n",
              "Infinix           int64\n",
              "MI3               int64\n",
              "Mi                int64\n",
              "OPPO              int64\n",
              "POCO              int64\n",
              "Realme            int64\n",
              "Redmi             int64\n",
              "Samsung           int64\n",
              "Vivo              int64\n",
              "Black             int64\n",
              "Blue              int64\n",
              "Brick             int64\n",
              "Brown             int64\n",
              "Champagne         int64\n",
              "Concrete          int64\n",
              "Cyan              int64\n",
              "Edition           int64\n",
              "Gold              int64\n",
              "Green             int64\n",
              "Grey              int64\n",
              "Mint              int64\n",
              "Mist              int64\n",
              "Orange            int64\n",
              "Purple            int64\n",
              "Red               int64\n",
              "Ruby              int64\n",
              "Sapphire          int64\n",
              "Sea               int64\n",
              "Silver            int64\n",
              "Violet            int64\n",
              "Wave              int64\n",
              "White             int64\n",
              "dtype: object"
            ]
          },
          "metadata": {},
          "execution_count": 72
        }
      ],
      "source": [
        "df.dtypes"
      ]
    },
    {
      "cell_type": "code",
      "execution_count": 73,
      "id": "0320d964",
      "metadata": {
        "execution": {
          "iopub.execute_input": "2023-06-02T01:56:18.283739Z",
          "iopub.status.busy": "2023-06-02T01:56:18.283308Z",
          "iopub.status.idle": "2023-06-02T01:56:18.291719Z",
          "shell.execute_reply": "2023-06-02T01:56:18.290890Z"
        },
        "papermill": {
          "duration": 0.048272,
          "end_time": "2023-06-02T01:56:18.294023",
          "exception": false,
          "start_time": "2023-06-02T01:56:18.245751",
          "status": "completed"
        },
        "tags": [],
        "colab": {
          "base_uri": "https://localhost:8080/"
        },
        "id": "0320d964",
        "outputId": "baadd982-eebb-41b3-842a-1f1cbe9bc759"
      },
      "outputs": [
        {
          "output_type": "execute_result",
          "data": {
            "text/plain": [
              "Index(['resolution', 'num_cores', '2G', '3G', '4G', '4GVOLTE', '5G',\n",
              "       'p_cam_count', 'f_cam_count', 'Infinix', 'MI3', 'Mi', 'OPPO', 'POCO',\n",
              "       'Realme', 'Redmi', 'Samsung', 'Vivo', 'Black', 'Blue', 'Brick', 'Brown',\n",
              "       'Champagne', 'Concrete', 'Cyan', 'Edition', 'Gold', 'Green', 'Grey',\n",
              "       'Mint', 'Mist', 'Orange', 'Purple', 'Red', 'Ruby', 'Sapphire', 'Sea',\n",
              "       'Silver', 'Violet', 'Wave', 'White'],\n",
              "      dtype='object')"
            ]
          },
          "metadata": {},
          "execution_count": 73
        }
      ],
      "source": [
        "df.select_dtypes(include='number').columns"
      ]
    },
    {
      "cell_type": "code",
      "execution_count": 74,
      "id": "24c76ca8",
      "metadata": {
        "execution": {
          "iopub.execute_input": "2023-06-02T01:56:18.369321Z",
          "iopub.status.busy": "2023-06-02T01:56:18.368539Z",
          "iopub.status.idle": "2023-06-02T01:56:18.378345Z",
          "shell.execute_reply": "2023-06-02T01:56:18.377238Z"
        },
        "papermill": {
          "duration": 0.050412,
          "end_time": "2023-06-02T01:56:18.380711",
          "exception": false,
          "start_time": "2023-06-02T01:56:18.330299",
          "status": "completed"
        },
        "tags": [],
        "colab": {
          "base_uri": "https://localhost:8080/"
        },
        "id": "24c76ca8",
        "outputId": "e2b268ee-5c15-46ee-c363-7b879ce70196"
      },
      "outputs": [
        {
          "output_type": "execute_result",
          "data": {
            "text/plain": [
              "Index(['mobile_price', 'disp_size', 'os', 'mp_speed', 'int_memory', 'ram',\n",
              "       'battery_power', 'mob_width', 'mob_height', 'mob_depth', 'mob_weight',\n",
              "       'p_cam_max', 'f_cam_max'],\n",
              "      dtype='object')"
            ]
          },
          "metadata": {},
          "execution_count": 74
        }
      ],
      "source": [
        "df.select_dtypes(include='object').columns"
      ]
    },
    {
      "cell_type": "markdown",
      "id": "006559c8",
      "metadata": {
        "papermill": {
          "duration": 0.04101,
          "end_time": "2023-06-02T01:56:18.457784",
          "exception": false,
          "start_time": "2023-06-02T01:56:18.416774",
          "status": "completed"
        },
        "tags": [],
        "id": "006559c8"
      },
      "source": [
        "columns with int type values"
      ]
    },
    {
      "cell_type": "code",
      "execution_count": 75,
      "id": "b762d294",
      "metadata": {
        "execution": {
          "iopub.execute_input": "2023-06-02T01:56:18.551775Z",
          "iopub.status.busy": "2023-06-02T01:56:18.551358Z",
          "iopub.status.idle": "2023-06-02T01:56:18.556509Z",
          "shell.execute_reply": "2023-06-02T01:56:18.555460Z"
        },
        "papermill": {
          "duration": 0.050616,
          "end_time": "2023-06-02T01:56:18.558634",
          "exception": false,
          "start_time": "2023-06-02T01:56:18.508018",
          "status": "completed"
        },
        "tags": [],
        "id": "b762d294"
      },
      "outputs": [],
      "source": [
        "int_col_list=['mobile_price', 'os',  'int_memory', 'ram',\n",
        "       'battery_power',\n",
        "       'p_cam_max', 'f_cam_max']"
      ]
    },
    {
      "cell_type": "markdown",
      "id": "b5f30ee1",
      "metadata": {
        "papermill": {
          "duration": 0.03666,
          "end_time": "2023-06-02T01:56:18.631434",
          "exception": false,
          "start_time": "2023-06-02T01:56:18.594774",
          "status": "completed"
        },
        "tags": [],
        "id": "b5f30ee1"
      },
      "source": [
        "columns with float type value"
      ]
    },
    {
      "cell_type": "code",
      "execution_count": 76,
      "id": "975e41d3",
      "metadata": {
        "execution": {
          "iopub.execute_input": "2023-06-02T01:56:18.705449Z",
          "iopub.status.busy": "2023-06-02T01:56:18.705017Z",
          "iopub.status.idle": "2023-06-02T01:56:18.710086Z",
          "shell.execute_reply": "2023-06-02T01:56:18.708902Z"
        },
        "papermill": {
          "duration": 0.045104,
          "end_time": "2023-06-02T01:56:18.712429",
          "exception": false,
          "start_time": "2023-06-02T01:56:18.667325",
          "status": "completed"
        },
        "tags": [],
        "id": "975e41d3"
      },
      "outputs": [],
      "source": [
        "float_col_list=['disp_size','mp_speed', 'mob_height', 'mob_width', 'mob_depth', 'mob_weight']"
      ]
    },
    {
      "cell_type": "code",
      "execution_count": 77,
      "id": "2360ce5c",
      "metadata": {
        "execution": {
          "iopub.execute_input": "2023-06-02T01:56:18.787005Z",
          "iopub.status.busy": "2023-06-02T01:56:18.786561Z",
          "iopub.status.idle": "2023-06-02T01:56:18.801477Z",
          "shell.execute_reply": "2023-06-02T01:56:18.800655Z"
        },
        "papermill": {
          "duration": 0.055609,
          "end_time": "2023-06-02T01:56:18.804001",
          "exception": false,
          "start_time": "2023-06-02T01:56:18.748392",
          "status": "completed"
        },
        "tags": [],
        "id": "2360ce5c"
      },
      "outputs": [],
      "source": [
        "df[int_col_list]=df[int_col_list].astype(int)\n",
        "df[float_col_list]=df[float_col_list].astype(float)"
      ]
    },
    {
      "cell_type": "code",
      "execution_count": 78,
      "id": "e9855058",
      "metadata": {
        "execution": {
          "iopub.execute_input": "2023-06-02T01:56:18.878982Z",
          "iopub.status.busy": "2023-06-02T01:56:18.878175Z",
          "iopub.status.idle": "2023-06-02T01:56:18.887936Z",
          "shell.execute_reply": "2023-06-02T01:56:18.886787Z"
        },
        "papermill": {
          "duration": 0.049386,
          "end_time": "2023-06-02T01:56:18.890280",
          "exception": false,
          "start_time": "2023-06-02T01:56:18.840894",
          "status": "completed"
        },
        "tags": [],
        "colab": {
          "base_uri": "https://localhost:8080/"
        },
        "id": "e9855058",
        "outputId": "9ec9cbda-f331-4353-8430-1bfca4a1339e"
      },
      "outputs": [
        {
          "output_type": "execute_result",
          "data": {
            "text/plain": [
              "int64      48\n",
              "float64     6\n",
              "dtype: int64"
            ]
          },
          "metadata": {},
          "execution_count": 78
        }
      ],
      "source": [
        "df.dtypes.value_counts()"
      ]
    },
    {
      "cell_type": "code",
      "source": [
        "df"
      ],
      "metadata": {
        "colab": {
          "base_uri": "https://localhost:8080/",
          "height": 488
        },
        "id": "vsqUjqlr8Kn4",
        "outputId": "d3e50f0c-fcf1-4045-d53c-9eb517f002ac"
      },
      "id": "vsqUjqlr8Kn4",
      "execution_count": 81,
      "outputs": [
        {
          "output_type": "execute_result",
          "data": {
            "text/plain": [
              "     mobile_price  disp_size  resolution  os  num_cores  mp_speed  int_memory  \\\n",
              "0            8999      16.56     1152000  10          8       2.0          32   \n",
              "1            8999      16.56     1152000  10          8       2.0          32   \n",
              "2            9999      16.56     1152000  10          8       2.0          64   \n",
              "3            9999      16.56     1152000  10          8       2.0          64   \n",
              "4           11999      16.51     1152000  10          8       2.0         128   \n",
              "..            ...        ...         ...  ..        ...       ...         ...   \n",
              "454         13490      14.48     1036800   7          8       2.5          32   \n",
              "455          9490      14.48     1036800   7          8       2.5          16   \n",
              "456         22990      15.82     2462400   8          8       2.0          64   \n",
              "457         13990      16.59     2527200   9          8       2.1         128   \n",
              "458         13990      16.59     2527200   9          8       2.1         128   \n",
              "\n",
              "     ram  battery_power  mob_width  ...  Orange  Purple  Red  Ruby  Sapphire  \\\n",
              "0      3           5000       75.0  ...       0       0    0     0         0   \n",
              "1      3           5000       75.0  ...       0       0    0     0         0   \n",
              "2      4           5000       75.0  ...       0       0    0     0         0   \n",
              "3      4           5000       75.0  ...       0       0    0     0         0   \n",
              "4      4           5000       75.4  ...       0       0    0     0         0   \n",
              "..   ...            ...        ...  ...     ...     ...  ...   ...       ...   \n",
              "454    3           3180       73.1  ...       0       0    0     0         0   \n",
              "455    2           3180       73.1  ...       0       0    1     0         0   \n",
              "456    4           3400       75.3  ...       0       0    1     0         0   \n",
              "457    4           4020       76.1  ...       0       0    0     0         0   \n",
              "458    4           4020       76.1  ...       0       1    0     0         0   \n",
              "\n",
              "     Sea  Silver  Violet  Wave  White  \n",
              "0      0       0       0     0      1  \n",
              "1      0       0       0     0      0  \n",
              "2      0       0       0     0      0  \n",
              "3      0       0       0     0      1  \n",
              "4      0       0       0     0      0  \n",
              "..   ...     ...     ...   ...    ...  \n",
              "454    0       0       0     0      0  \n",
              "455    0       0       0     0      0  \n",
              "456    0       0       0     0      0  \n",
              "457    0       0       0     0      0  \n",
              "458    0       0       0     0      0  \n",
              "\n",
              "[459 rows x 54 columns]"
            ],
            "text/html": [
              "\n",
              "\n",
              "  <div id=\"df-9157328b-8acf-434e-80ff-ed660ce6cc61\">\n",
              "    <div class=\"colab-df-container\">\n",
              "      <div>\n",
              "<style scoped>\n",
              "    .dataframe tbody tr th:only-of-type {\n",
              "        vertical-align: middle;\n",
              "    }\n",
              "\n",
              "    .dataframe tbody tr th {\n",
              "        vertical-align: top;\n",
              "    }\n",
              "\n",
              "    .dataframe thead th {\n",
              "        text-align: right;\n",
              "    }\n",
              "</style>\n",
              "<table border=\"1\" class=\"dataframe\">\n",
              "  <thead>\n",
              "    <tr style=\"text-align: right;\">\n",
              "      <th></th>\n",
              "      <th>mobile_price</th>\n",
              "      <th>disp_size</th>\n",
              "      <th>resolution</th>\n",
              "      <th>os</th>\n",
              "      <th>num_cores</th>\n",
              "      <th>mp_speed</th>\n",
              "      <th>int_memory</th>\n",
              "      <th>ram</th>\n",
              "      <th>battery_power</th>\n",
              "      <th>mob_width</th>\n",
              "      <th>...</th>\n",
              "      <th>Orange</th>\n",
              "      <th>Purple</th>\n",
              "      <th>Red</th>\n",
              "      <th>Ruby</th>\n",
              "      <th>Sapphire</th>\n",
              "      <th>Sea</th>\n",
              "      <th>Silver</th>\n",
              "      <th>Violet</th>\n",
              "      <th>Wave</th>\n",
              "      <th>White</th>\n",
              "    </tr>\n",
              "  </thead>\n",
              "  <tbody>\n",
              "    <tr>\n",
              "      <th>0</th>\n",
              "      <td>8999</td>\n",
              "      <td>16.56</td>\n",
              "      <td>1152000</td>\n",
              "      <td>10</td>\n",
              "      <td>8</td>\n",
              "      <td>2.0</td>\n",
              "      <td>32</td>\n",
              "      <td>3</td>\n",
              "      <td>5000</td>\n",
              "      <td>75.0</td>\n",
              "      <td>...</td>\n",
              "      <td>0</td>\n",
              "      <td>0</td>\n",
              "      <td>0</td>\n",
              "      <td>0</td>\n",
              "      <td>0</td>\n",
              "      <td>0</td>\n",
              "      <td>0</td>\n",
              "      <td>0</td>\n",
              "      <td>0</td>\n",
              "      <td>1</td>\n",
              "    </tr>\n",
              "    <tr>\n",
              "      <th>1</th>\n",
              "      <td>8999</td>\n",
              "      <td>16.56</td>\n",
              "      <td>1152000</td>\n",
              "      <td>10</td>\n",
              "      <td>8</td>\n",
              "      <td>2.0</td>\n",
              "      <td>32</td>\n",
              "      <td>3</td>\n",
              "      <td>5000</td>\n",
              "      <td>75.0</td>\n",
              "      <td>...</td>\n",
              "      <td>0</td>\n",
              "      <td>0</td>\n",
              "      <td>0</td>\n",
              "      <td>0</td>\n",
              "      <td>0</td>\n",
              "      <td>0</td>\n",
              "      <td>0</td>\n",
              "      <td>0</td>\n",
              "      <td>0</td>\n",
              "      <td>0</td>\n",
              "    </tr>\n",
              "    <tr>\n",
              "      <th>2</th>\n",
              "      <td>9999</td>\n",
              "      <td>16.56</td>\n",
              "      <td>1152000</td>\n",
              "      <td>10</td>\n",
              "      <td>8</td>\n",
              "      <td>2.0</td>\n",
              "      <td>64</td>\n",
              "      <td>4</td>\n",
              "      <td>5000</td>\n",
              "      <td>75.0</td>\n",
              "      <td>...</td>\n",
              "      <td>0</td>\n",
              "      <td>0</td>\n",
              "      <td>0</td>\n",
              "      <td>0</td>\n",
              "      <td>0</td>\n",
              "      <td>0</td>\n",
              "      <td>0</td>\n",
              "      <td>0</td>\n",
              "      <td>0</td>\n",
              "      <td>0</td>\n",
              "    </tr>\n",
              "    <tr>\n",
              "      <th>3</th>\n",
              "      <td>9999</td>\n",
              "      <td>16.56</td>\n",
              "      <td>1152000</td>\n",
              "      <td>10</td>\n",
              "      <td>8</td>\n",
              "      <td>2.0</td>\n",
              "      <td>64</td>\n",
              "      <td>4</td>\n",
              "      <td>5000</td>\n",
              "      <td>75.0</td>\n",
              "      <td>...</td>\n",
              "      <td>0</td>\n",
              "      <td>0</td>\n",
              "      <td>0</td>\n",
              "      <td>0</td>\n",
              "      <td>0</td>\n",
              "      <td>0</td>\n",
              "      <td>0</td>\n",
              "      <td>0</td>\n",
              "      <td>0</td>\n",
              "      <td>1</td>\n",
              "    </tr>\n",
              "    <tr>\n",
              "      <th>4</th>\n",
              "      <td>11999</td>\n",
              "      <td>16.51</td>\n",
              "      <td>1152000</td>\n",
              "      <td>10</td>\n",
              "      <td>8</td>\n",
              "      <td>2.0</td>\n",
              "      <td>128</td>\n",
              "      <td>4</td>\n",
              "      <td>5000</td>\n",
              "      <td>75.4</td>\n",
              "      <td>...</td>\n",
              "      <td>0</td>\n",
              "      <td>0</td>\n",
              "      <td>0</td>\n",
              "      <td>0</td>\n",
              "      <td>0</td>\n",
              "      <td>0</td>\n",
              "      <td>0</td>\n",
              "      <td>0</td>\n",
              "      <td>0</td>\n",
              "      <td>0</td>\n",
              "    </tr>\n",
              "    <tr>\n",
              "      <th>...</th>\n",
              "      <td>...</td>\n",
              "      <td>...</td>\n",
              "      <td>...</td>\n",
              "      <td>...</td>\n",
              "      <td>...</td>\n",
              "      <td>...</td>\n",
              "      <td>...</td>\n",
              "      <td>...</td>\n",
              "      <td>...</td>\n",
              "      <td>...</td>\n",
              "      <td>...</td>\n",
              "      <td>...</td>\n",
              "      <td>...</td>\n",
              "      <td>...</td>\n",
              "      <td>...</td>\n",
              "      <td>...</td>\n",
              "      <td>...</td>\n",
              "      <td>...</td>\n",
              "      <td>...</td>\n",
              "      <td>...</td>\n",
              "      <td>...</td>\n",
              "    </tr>\n",
              "    <tr>\n",
              "      <th>454</th>\n",
              "      <td>13490</td>\n",
              "      <td>14.48</td>\n",
              "      <td>1036800</td>\n",
              "      <td>7</td>\n",
              "      <td>8</td>\n",
              "      <td>2.5</td>\n",
              "      <td>32</td>\n",
              "      <td>3</td>\n",
              "      <td>3180</td>\n",
              "      <td>73.1</td>\n",
              "      <td>...</td>\n",
              "      <td>0</td>\n",
              "      <td>0</td>\n",
              "      <td>0</td>\n",
              "      <td>0</td>\n",
              "      <td>0</td>\n",
              "      <td>0</td>\n",
              "      <td>0</td>\n",
              "      <td>0</td>\n",
              "      <td>0</td>\n",
              "      <td>0</td>\n",
              "    </tr>\n",
              "    <tr>\n",
              "      <th>455</th>\n",
              "      <td>9490</td>\n",
              "      <td>14.48</td>\n",
              "      <td>1036800</td>\n",
              "      <td>7</td>\n",
              "      <td>8</td>\n",
              "      <td>2.5</td>\n",
              "      <td>16</td>\n",
              "      <td>2</td>\n",
              "      <td>3180</td>\n",
              "      <td>73.1</td>\n",
              "      <td>...</td>\n",
              "      <td>0</td>\n",
              "      <td>0</td>\n",
              "      <td>1</td>\n",
              "      <td>0</td>\n",
              "      <td>0</td>\n",
              "      <td>0</td>\n",
              "      <td>0</td>\n",
              "      <td>0</td>\n",
              "      <td>0</td>\n",
              "      <td>0</td>\n",
              "    </tr>\n",
              "    <tr>\n",
              "      <th>456</th>\n",
              "      <td>22990</td>\n",
              "      <td>15.82</td>\n",
              "      <td>2462400</td>\n",
              "      <td>8</td>\n",
              "      <td>8</td>\n",
              "      <td>2.0</td>\n",
              "      <td>64</td>\n",
              "      <td>4</td>\n",
              "      <td>3400</td>\n",
              "      <td>75.3</td>\n",
              "      <td>...</td>\n",
              "      <td>0</td>\n",
              "      <td>0</td>\n",
              "      <td>1</td>\n",
              "      <td>0</td>\n",
              "      <td>0</td>\n",
              "      <td>0</td>\n",
              "      <td>0</td>\n",
              "      <td>0</td>\n",
              "      <td>0</td>\n",
              "      <td>0</td>\n",
              "    </tr>\n",
              "    <tr>\n",
              "      <th>457</th>\n",
              "      <td>13990</td>\n",
              "      <td>16.59</td>\n",
              "      <td>2527200</td>\n",
              "      <td>9</td>\n",
              "      <td>8</td>\n",
              "      <td>2.1</td>\n",
              "      <td>128</td>\n",
              "      <td>4</td>\n",
              "      <td>4020</td>\n",
              "      <td>76.1</td>\n",
              "      <td>...</td>\n",
              "      <td>0</td>\n",
              "      <td>0</td>\n",
              "      <td>0</td>\n",
              "      <td>0</td>\n",
              "      <td>0</td>\n",
              "      <td>0</td>\n",
              "      <td>0</td>\n",
              "      <td>0</td>\n",
              "      <td>0</td>\n",
              "      <td>0</td>\n",
              "    </tr>\n",
              "    <tr>\n",
              "      <th>458</th>\n",
              "      <td>13990</td>\n",
              "      <td>16.59</td>\n",
              "      <td>2527200</td>\n",
              "      <td>9</td>\n",
              "      <td>8</td>\n",
              "      <td>2.1</td>\n",
              "      <td>128</td>\n",
              "      <td>4</td>\n",
              "      <td>4020</td>\n",
              "      <td>76.1</td>\n",
              "      <td>...</td>\n",
              "      <td>0</td>\n",
              "      <td>1</td>\n",
              "      <td>0</td>\n",
              "      <td>0</td>\n",
              "      <td>0</td>\n",
              "      <td>0</td>\n",
              "      <td>0</td>\n",
              "      <td>0</td>\n",
              "      <td>0</td>\n",
              "      <td>0</td>\n",
              "    </tr>\n",
              "  </tbody>\n",
              "</table>\n",
              "<p>459 rows × 54 columns</p>\n",
              "</div>\n",
              "      <button class=\"colab-df-convert\" onclick=\"convertToInteractive('df-9157328b-8acf-434e-80ff-ed660ce6cc61')\"\n",
              "              title=\"Convert this dataframe to an interactive table.\"\n",
              "              style=\"display:none;\">\n",
              "\n",
              "  <svg xmlns=\"http://www.w3.org/2000/svg\" height=\"24px\"viewBox=\"0 0 24 24\"\n",
              "       width=\"24px\">\n",
              "    <path d=\"M0 0h24v24H0V0z\" fill=\"none\"/>\n",
              "    <path d=\"M18.56 5.44l.94 2.06.94-2.06 2.06-.94-2.06-.94-.94-2.06-.94 2.06-2.06.94zm-11 1L8.5 8.5l.94-2.06 2.06-.94-2.06-.94L8.5 2.5l-.94 2.06-2.06.94zm10 10l.94 2.06.94-2.06 2.06-.94-2.06-.94-.94-2.06-.94 2.06-2.06.94z\"/><path d=\"M17.41 7.96l-1.37-1.37c-.4-.4-.92-.59-1.43-.59-.52 0-1.04.2-1.43.59L10.3 9.45l-7.72 7.72c-.78.78-.78 2.05 0 2.83L4 21.41c.39.39.9.59 1.41.59.51 0 1.02-.2 1.41-.59l7.78-7.78 2.81-2.81c.8-.78.8-2.07 0-2.86zM5.41 20L4 18.59l7.72-7.72 1.47 1.35L5.41 20z\"/>\n",
              "  </svg>\n",
              "      </button>\n",
              "\n",
              "\n",
              "\n",
              "    <div id=\"df-534ba091-ebbc-4aae-aeed-451ef6193d75\">\n",
              "      <button class=\"colab-df-quickchart\" onclick=\"quickchart('df-534ba091-ebbc-4aae-aeed-451ef6193d75')\"\n",
              "              title=\"Suggest charts.\"\n",
              "              style=\"display:none;\">\n",
              "\n",
              "<svg xmlns=\"http://www.w3.org/2000/svg\" height=\"24px\"viewBox=\"0 0 24 24\"\n",
              "     width=\"24px\">\n",
              "    <g>\n",
              "        <path d=\"M19 3H5c-1.1 0-2 .9-2 2v14c0 1.1.9 2 2 2h14c1.1 0 2-.9 2-2V5c0-1.1-.9-2-2-2zM9 17H7v-7h2v7zm4 0h-2V7h2v10zm4 0h-2v-4h2v4z\"/>\n",
              "    </g>\n",
              "</svg>\n",
              "      </button>\n",
              "    </div>\n",
              "\n",
              "<style>\n",
              "  .colab-df-quickchart {\n",
              "    background-color: #E8F0FE;\n",
              "    border: none;\n",
              "    border-radius: 50%;\n",
              "    cursor: pointer;\n",
              "    display: none;\n",
              "    fill: #1967D2;\n",
              "    height: 32px;\n",
              "    padding: 0 0 0 0;\n",
              "    width: 32px;\n",
              "  }\n",
              "\n",
              "  .colab-df-quickchart:hover {\n",
              "    background-color: #E2EBFA;\n",
              "    box-shadow: 0px 1px 2px rgba(60, 64, 67, 0.3), 0px 1px 3px 1px rgba(60, 64, 67, 0.15);\n",
              "    fill: #174EA6;\n",
              "  }\n",
              "\n",
              "  [theme=dark] .colab-df-quickchart {\n",
              "    background-color: #3B4455;\n",
              "    fill: #D2E3FC;\n",
              "  }\n",
              "\n",
              "  [theme=dark] .colab-df-quickchart:hover {\n",
              "    background-color: #434B5C;\n",
              "    box-shadow: 0px 1px 3px 1px rgba(0, 0, 0, 0.15);\n",
              "    filter: drop-shadow(0px 1px 2px rgba(0, 0, 0, 0.3));\n",
              "    fill: #FFFFFF;\n",
              "  }\n",
              "</style>\n",
              "\n",
              "    <script>\n",
              "      async function quickchart(key) {\n",
              "        const containerElement = document.querySelector('#' + key);\n",
              "        const charts = await google.colab.kernel.invokeFunction(\n",
              "            'suggestCharts', [key], {});\n",
              "      }\n",
              "    </script>\n",
              "\n",
              "\n",
              "      <script>\n",
              "\n",
              "function displayQuickchartButton(domScope) {\n",
              "  let quickchartButtonEl =\n",
              "    domScope.querySelector('#df-534ba091-ebbc-4aae-aeed-451ef6193d75 button.colab-df-quickchart');\n",
              "  quickchartButtonEl.style.display =\n",
              "    google.colab.kernel.accessAllowed ? 'block' : 'none';\n",
              "}\n",
              "\n",
              "        displayQuickchartButton(document);\n",
              "      </script>\n",
              "      <style>\n",
              "    .colab-df-container {\n",
              "      display:flex;\n",
              "      flex-wrap:wrap;\n",
              "      gap: 12px;\n",
              "    }\n",
              "\n",
              "    .colab-df-convert {\n",
              "      background-color: #E8F0FE;\n",
              "      border: none;\n",
              "      border-radius: 50%;\n",
              "      cursor: pointer;\n",
              "      display: none;\n",
              "      fill: #1967D2;\n",
              "      height: 32px;\n",
              "      padding: 0 0 0 0;\n",
              "      width: 32px;\n",
              "    }\n",
              "\n",
              "    .colab-df-convert:hover {\n",
              "      background-color: #E2EBFA;\n",
              "      box-shadow: 0px 1px 2px rgba(60, 64, 67, 0.3), 0px 1px 3px 1px rgba(60, 64, 67, 0.15);\n",
              "      fill: #174EA6;\n",
              "    }\n",
              "\n",
              "    [theme=dark] .colab-df-convert {\n",
              "      background-color: #3B4455;\n",
              "      fill: #D2E3FC;\n",
              "    }\n",
              "\n",
              "    [theme=dark] .colab-df-convert:hover {\n",
              "      background-color: #434B5C;\n",
              "      box-shadow: 0px 1px 3px 1px rgba(0, 0, 0, 0.15);\n",
              "      filter: drop-shadow(0px 1px 2px rgba(0, 0, 0, 0.3));\n",
              "      fill: #FFFFFF;\n",
              "    }\n",
              "  </style>\n",
              "\n",
              "      <script>\n",
              "        const buttonEl =\n",
              "          document.querySelector('#df-9157328b-8acf-434e-80ff-ed660ce6cc61 button.colab-df-convert');\n",
              "        buttonEl.style.display =\n",
              "          google.colab.kernel.accessAllowed ? 'block' : 'none';\n",
              "\n",
              "        async function convertToInteractive(key) {\n",
              "          const element = document.querySelector('#df-9157328b-8acf-434e-80ff-ed660ce6cc61');\n",
              "          const dataTable =\n",
              "            await google.colab.kernel.invokeFunction('convertToInteractive',\n",
              "                                                     [key], {});\n",
              "          if (!dataTable) return;\n",
              "\n",
              "          const docLinkHtml = 'Like what you see? Visit the ' +\n",
              "            '<a target=\"_blank\" href=https://colab.research.google.com/notebooks/data_table.ipynb>data table notebook</a>'\n",
              "            + ' to learn more about interactive tables.';\n",
              "          element.innerHTML = '';\n",
              "          dataTable['output_type'] = 'display_data';\n",
              "          await google.colab.output.renderOutput(dataTable, element);\n",
              "          const docLink = document.createElement('div');\n",
              "          docLink.innerHTML = docLinkHtml;\n",
              "          element.appendChild(docLink);\n",
              "        }\n",
              "      </script>\n",
              "    </div>\n",
              "  </div>\n"
            ]
          },
          "metadata": {},
          "execution_count": 81
        }
      ]
    },
    {
      "cell_type": "code",
      "source": [
        "X=df.drop(\"mobile_price\",axis=1)\n",
        "y=df[\"mobile_price\"]"
      ],
      "metadata": {
        "id": "RzUD1hq28YgI"
      },
      "id": "RzUD1hq28YgI",
      "execution_count": 84,
      "outputs": []
    },
    {
      "cell_type": "code",
      "source": [
        "from sklearn.model_selection import train_test_split"
      ],
      "metadata": {
        "id": "UZoXvJDf8PYv"
      },
      "id": "UZoXvJDf8PYv",
      "execution_count": 82,
      "outputs": []
    },
    {
      "cell_type": "code",
      "source": [
        "X_train, X_test, y_train, y_test = train_test_split(X,y,test_size=0.2,random_state=42)"
      ],
      "metadata": {
        "id": "9EclCFH_8Wyf"
      },
      "id": "9EclCFH_8Wyf",
      "execution_count": 86,
      "outputs": []
    },
    {
      "cell_type": "code",
      "source": [
        "from sklearn.linear_model import LogisticRegression"
      ],
      "metadata": {
        "id": "4aLbz4WO79a8"
      },
      "id": "4aLbz4WO79a8",
      "execution_count": 99,
      "outputs": []
    },
    {
      "cell_type": "code",
      "source": [
        "model = LogisticRegression()\n",
        "model.fit(X_train,y_train)\n"
      ],
      "metadata": {
        "colab": {
          "base_uri": "https://localhost:8080/",
          "height": 238
        },
        "id": "BlFaBN1k8Ezv",
        "outputId": "ae916603-02f9-4c11-8184-bd20b9958e9d"
      },
      "id": "BlFaBN1k8Ezv",
      "execution_count": 100,
      "outputs": [
        {
          "output_type": "stream",
          "name": "stderr",
          "text": [
            "/usr/local/lib/python3.10/dist-packages/sklearn/linear_model/_logistic.py:458: ConvergenceWarning: lbfgs failed to converge (status=1):\n",
            "STOP: TOTAL NO. of ITERATIONS REACHED LIMIT.\n",
            "\n",
            "Increase the number of iterations (max_iter) or scale the data as shown in:\n",
            "    https://scikit-learn.org/stable/modules/preprocessing.html\n",
            "Please also refer to the documentation for alternative solver options:\n",
            "    https://scikit-learn.org/stable/modules/linear_model.html#logistic-regression\n",
            "  n_iter_i = _check_optimize_result(\n"
          ]
        },
        {
          "output_type": "execute_result",
          "data": {
            "text/plain": [
              "LogisticRegression()"
            ],
            "text/html": [
              "<style>#sk-container-id-5 {color: black;background-color: white;}#sk-container-id-5 pre{padding: 0;}#sk-container-id-5 div.sk-toggleable {background-color: white;}#sk-container-id-5 label.sk-toggleable__label {cursor: pointer;display: block;width: 100%;margin-bottom: 0;padding: 0.3em;box-sizing: border-box;text-align: center;}#sk-container-id-5 label.sk-toggleable__label-arrow:before {content: \"▸\";float: left;margin-right: 0.25em;color: #696969;}#sk-container-id-5 label.sk-toggleable__label-arrow:hover:before {color: black;}#sk-container-id-5 div.sk-estimator:hover label.sk-toggleable__label-arrow:before {color: black;}#sk-container-id-5 div.sk-toggleable__content {max-height: 0;max-width: 0;overflow: hidden;text-align: left;background-color: #f0f8ff;}#sk-container-id-5 div.sk-toggleable__content pre {margin: 0.2em;color: black;border-radius: 0.25em;background-color: #f0f8ff;}#sk-container-id-5 input.sk-toggleable__control:checked~div.sk-toggleable__content {max-height: 200px;max-width: 100%;overflow: auto;}#sk-container-id-5 input.sk-toggleable__control:checked~label.sk-toggleable__label-arrow:before {content: \"▾\";}#sk-container-id-5 div.sk-estimator input.sk-toggleable__control:checked~label.sk-toggleable__label {background-color: #d4ebff;}#sk-container-id-5 div.sk-label input.sk-toggleable__control:checked~label.sk-toggleable__label {background-color: #d4ebff;}#sk-container-id-5 input.sk-hidden--visually {border: 0;clip: rect(1px 1px 1px 1px);clip: rect(1px, 1px, 1px, 1px);height: 1px;margin: -1px;overflow: hidden;padding: 0;position: absolute;width: 1px;}#sk-container-id-5 div.sk-estimator {font-family: monospace;background-color: #f0f8ff;border: 1px dotted black;border-radius: 0.25em;box-sizing: border-box;margin-bottom: 0.5em;}#sk-container-id-5 div.sk-estimator:hover {background-color: #d4ebff;}#sk-container-id-5 div.sk-parallel-item::after {content: \"\";width: 100%;border-bottom: 1px solid gray;flex-grow: 1;}#sk-container-id-5 div.sk-label:hover label.sk-toggleable__label {background-color: #d4ebff;}#sk-container-id-5 div.sk-serial::before {content: \"\";position: absolute;border-left: 1px solid gray;box-sizing: border-box;top: 0;bottom: 0;left: 50%;z-index: 0;}#sk-container-id-5 div.sk-serial {display: flex;flex-direction: column;align-items: center;background-color: white;padding-right: 0.2em;padding-left: 0.2em;position: relative;}#sk-container-id-5 div.sk-item {position: relative;z-index: 1;}#sk-container-id-5 div.sk-parallel {display: flex;align-items: stretch;justify-content: center;background-color: white;position: relative;}#sk-container-id-5 div.sk-item::before, #sk-container-id-5 div.sk-parallel-item::before {content: \"\";position: absolute;border-left: 1px solid gray;box-sizing: border-box;top: 0;bottom: 0;left: 50%;z-index: -1;}#sk-container-id-5 div.sk-parallel-item {display: flex;flex-direction: column;z-index: 1;position: relative;background-color: white;}#sk-container-id-5 div.sk-parallel-item:first-child::after {align-self: flex-end;width: 50%;}#sk-container-id-5 div.sk-parallel-item:last-child::after {align-self: flex-start;width: 50%;}#sk-container-id-5 div.sk-parallel-item:only-child::after {width: 0;}#sk-container-id-5 div.sk-dashed-wrapped {border: 1px dashed gray;margin: 0 0.4em 0.5em 0.4em;box-sizing: border-box;padding-bottom: 0.4em;background-color: white;}#sk-container-id-5 div.sk-label label {font-family: monospace;font-weight: bold;display: inline-block;line-height: 1.2em;}#sk-container-id-5 div.sk-label-container {text-align: center;}#sk-container-id-5 div.sk-container {/* jupyter's `normalize.less` sets `[hidden] { display: none; }` but bootstrap.min.css set `[hidden] { display: none !important; }` so we also need the `!important` here to be able to override the default hidden behavior on the sphinx rendered scikit-learn.org. See: https://github.com/scikit-learn/scikit-learn/issues/21755 */display: inline-block !important;position: relative;}#sk-container-id-5 div.sk-text-repr-fallback {display: none;}</style><div id=\"sk-container-id-5\" class=\"sk-top-container\"><div class=\"sk-text-repr-fallback\"><pre>LogisticRegression()</pre><b>In a Jupyter environment, please rerun this cell to show the HTML representation or trust the notebook. <br />On GitHub, the HTML representation is unable to render, please try loading this page with nbviewer.org.</b></div><div class=\"sk-container\" hidden><div class=\"sk-item\"><div class=\"sk-estimator sk-toggleable\"><input class=\"sk-toggleable__control sk-hidden--visually\" id=\"sk-estimator-id-5\" type=\"checkbox\" checked><label for=\"sk-estimator-id-5\" class=\"sk-toggleable__label sk-toggleable__label-arrow\">LogisticRegression</label><div class=\"sk-toggleable__content\"><pre>LogisticRegression()</pre></div></div></div></div></div>"
            ]
          },
          "metadata": {},
          "execution_count": 100
        }
      ]
    },
    {
      "cell_type": "code",
      "source": [
        "model.score(X_test,y_test)"
      ],
      "metadata": {
        "colab": {
          "base_uri": "https://localhost:8080/"
        },
        "id": "Gr5MJg8c9QKn",
        "outputId": "1466952e-cdca-4162-e24a-83f85868ac53"
      },
      "id": "Gr5MJg8c9QKn",
      "execution_count": 101,
      "outputs": [
        {
          "output_type": "execute_result",
          "data": {
            "text/plain": [
              "0.043478260869565216"
            ]
          },
          "metadata": {},
          "execution_count": 101
        }
      ]
    },
    {
      "cell_type": "code",
      "source": [
        "from sklearn.neighbors import KNeighborsRegressor"
      ],
      "metadata": {
        "id": "nWB16M9M-dFd"
      },
      "id": "nWB16M9M-dFd",
      "execution_count": 128,
      "outputs": []
    },
    {
      "cell_type": "code",
      "source": [
        "model3 = KNeighborsRegressor(n_neighbors=3)\n",
        "model3.fit(X_train,y_train)"
      ],
      "metadata": {
        "colab": {
          "base_uri": "https://localhost:8080/",
          "height": 75
        },
        "id": "DMIRqeEA-yhE",
        "outputId": "db84aeab-9e52-4c63-e8bc-c3a21d695029"
      },
      "id": "DMIRqeEA-yhE",
      "execution_count": 129,
      "outputs": [
        {
          "output_type": "execute_result",
          "data": {
            "text/plain": [
              "KNeighborsRegressor(n_neighbors=3)"
            ],
            "text/html": [
              "<style>#sk-container-id-17 {color: black;background-color: white;}#sk-container-id-17 pre{padding: 0;}#sk-container-id-17 div.sk-toggleable {background-color: white;}#sk-container-id-17 label.sk-toggleable__label {cursor: pointer;display: block;width: 100%;margin-bottom: 0;padding: 0.3em;box-sizing: border-box;text-align: center;}#sk-container-id-17 label.sk-toggleable__label-arrow:before {content: \"▸\";float: left;margin-right: 0.25em;color: #696969;}#sk-container-id-17 label.sk-toggleable__label-arrow:hover:before {color: black;}#sk-container-id-17 div.sk-estimator:hover label.sk-toggleable__label-arrow:before {color: black;}#sk-container-id-17 div.sk-toggleable__content {max-height: 0;max-width: 0;overflow: hidden;text-align: left;background-color: #f0f8ff;}#sk-container-id-17 div.sk-toggleable__content pre {margin: 0.2em;color: black;border-radius: 0.25em;background-color: #f0f8ff;}#sk-container-id-17 input.sk-toggleable__control:checked~div.sk-toggleable__content {max-height: 200px;max-width: 100%;overflow: auto;}#sk-container-id-17 input.sk-toggleable__control:checked~label.sk-toggleable__label-arrow:before {content: \"▾\";}#sk-container-id-17 div.sk-estimator input.sk-toggleable__control:checked~label.sk-toggleable__label {background-color: #d4ebff;}#sk-container-id-17 div.sk-label input.sk-toggleable__control:checked~label.sk-toggleable__label {background-color: #d4ebff;}#sk-container-id-17 input.sk-hidden--visually {border: 0;clip: rect(1px 1px 1px 1px);clip: rect(1px, 1px, 1px, 1px);height: 1px;margin: -1px;overflow: hidden;padding: 0;position: absolute;width: 1px;}#sk-container-id-17 div.sk-estimator {font-family: monospace;background-color: #f0f8ff;border: 1px dotted black;border-radius: 0.25em;box-sizing: border-box;margin-bottom: 0.5em;}#sk-container-id-17 div.sk-estimator:hover {background-color: #d4ebff;}#sk-container-id-17 div.sk-parallel-item::after {content: \"\";width: 100%;border-bottom: 1px solid gray;flex-grow: 1;}#sk-container-id-17 div.sk-label:hover label.sk-toggleable__label {background-color: #d4ebff;}#sk-container-id-17 div.sk-serial::before {content: \"\";position: absolute;border-left: 1px solid gray;box-sizing: border-box;top: 0;bottom: 0;left: 50%;z-index: 0;}#sk-container-id-17 div.sk-serial {display: flex;flex-direction: column;align-items: center;background-color: white;padding-right: 0.2em;padding-left: 0.2em;position: relative;}#sk-container-id-17 div.sk-item {position: relative;z-index: 1;}#sk-container-id-17 div.sk-parallel {display: flex;align-items: stretch;justify-content: center;background-color: white;position: relative;}#sk-container-id-17 div.sk-item::before, #sk-container-id-17 div.sk-parallel-item::before {content: \"\";position: absolute;border-left: 1px solid gray;box-sizing: border-box;top: 0;bottom: 0;left: 50%;z-index: -1;}#sk-container-id-17 div.sk-parallel-item {display: flex;flex-direction: column;z-index: 1;position: relative;background-color: white;}#sk-container-id-17 div.sk-parallel-item:first-child::after {align-self: flex-end;width: 50%;}#sk-container-id-17 div.sk-parallel-item:last-child::after {align-self: flex-start;width: 50%;}#sk-container-id-17 div.sk-parallel-item:only-child::after {width: 0;}#sk-container-id-17 div.sk-dashed-wrapped {border: 1px dashed gray;margin: 0 0.4em 0.5em 0.4em;box-sizing: border-box;padding-bottom: 0.4em;background-color: white;}#sk-container-id-17 div.sk-label label {font-family: monospace;font-weight: bold;display: inline-block;line-height: 1.2em;}#sk-container-id-17 div.sk-label-container {text-align: center;}#sk-container-id-17 div.sk-container {/* jupyter's `normalize.less` sets `[hidden] { display: none; }` but bootstrap.min.css set `[hidden] { display: none !important; }` so we also need the `!important` here to be able to override the default hidden behavior on the sphinx rendered scikit-learn.org. See: https://github.com/scikit-learn/scikit-learn/issues/21755 */display: inline-block !important;position: relative;}#sk-container-id-17 div.sk-text-repr-fallback {display: none;}</style><div id=\"sk-container-id-17\" class=\"sk-top-container\"><div class=\"sk-text-repr-fallback\"><pre>KNeighborsRegressor(n_neighbors=3)</pre><b>In a Jupyter environment, please rerun this cell to show the HTML representation or trust the notebook. <br />On GitHub, the HTML representation is unable to render, please try loading this page with nbviewer.org.</b></div><div class=\"sk-container\" hidden><div class=\"sk-item\"><div class=\"sk-estimator sk-toggleable\"><input class=\"sk-toggleable__control sk-hidden--visually\" id=\"sk-estimator-id-17\" type=\"checkbox\" checked><label for=\"sk-estimator-id-17\" class=\"sk-toggleable__label sk-toggleable__label-arrow\">KNeighborsRegressor</label><div class=\"sk-toggleable__content\"><pre>KNeighborsRegressor(n_neighbors=3)</pre></div></div></div></div></div>"
            ]
          },
          "metadata": {},
          "execution_count": 129
        }
      ]
    },
    {
      "cell_type": "code",
      "source": [
        "model3.score(X_test,y_test)"
      ],
      "metadata": {
        "colab": {
          "base_uri": "https://localhost:8080/"
        },
        "id": "FFZ46scb-3Ou",
        "outputId": "658ebc0b-d8eb-4cff-b687-91e5d0413763"
      },
      "id": "FFZ46scb-3Ou",
      "execution_count": 130,
      "outputs": [
        {
          "output_type": "execute_result",
          "data": {
            "text/plain": [
              "0.8555876849221474"
            ]
          },
          "metadata": {},
          "execution_count": 130
        }
      ]
    }
  ],
  "metadata": {
    "kernelspec": {
      "display_name": "Python 3",
      "language": "python",
      "name": "python3"
    },
    "language_info": {
      "codemirror_mode": {
        "name": "ipython",
        "version": 3
      },
      "file_extension": ".py",
      "mimetype": "text/x-python",
      "name": "python",
      "nbconvert_exporter": "python",
      "pygments_lexer": "ipython3",
      "version": "3.10.10"
    },
    "papermill": {
      "default_parameters": {},
      "duration": 24.019873,
      "end_time": "2023-06-02T01:56:19.949581",
      "environment_variables": {},
      "exception": null,
      "input_path": "__notebook__.ipynb",
      "output_path": "__notebook__.ipynb",
      "parameters": {},
      "start_time": "2023-06-02T01:55:55.929708",
      "version": "2.4.0"
    },
    "colab": {
      "provenance": []
    }
  },
  "nbformat": 4,
  "nbformat_minor": 5
}